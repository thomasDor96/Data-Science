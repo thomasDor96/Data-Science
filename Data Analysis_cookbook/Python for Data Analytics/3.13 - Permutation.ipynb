{
 "cells": [
  {
   "cell_type": "code",
   "execution_count": null,
   "metadata": {
    "collapsed": true
   },
   "outputs": [],
   "source": [
    "import numpy as np\n",
    "import pandas as pd\n",
    "from pandas import Series, DataFrame"
   ]
  },
  {
   "cell_type": "code",
   "execution_count": null,
   "metadata": {},
   "outputs": [],
   "source": [
    "# WE can randomly reorder (permutate) a Series, or the rows in a DataFrame\n",
    "\n",
    "#Let's take a look\n",
    "dframe = DataFrame(np.arange(4 * 4).reshape((4, 4)))\n",
    "\n",
    "#Create an array with a random perumation of 0,1,2,3\n",
    "blender = np.random.permutation(4)\n",
    "\n",
    "blender"
   ]
  },
  {
   "cell_type": "code",
   "execution_count": null,
   "metadata": {},
   "outputs": [],
   "source": [
    "dframe"
   ]
  },
  {
   "cell_type": "code",
   "execution_count": null,
   "metadata": {},
   "outputs": [],
   "source": [
    "# Now permutate the dframe based on the blender\n",
    "dframe.take(blender)"
   ]
  },
  {
   "cell_type": "code",
   "execution_count": null,
   "metadata": {
    "collapsed": true
   },
   "outputs": [],
   "source": [
    "# Now what if we want permuations WITH replacement"
   ]
  },
  {
   "cell_type": "code",
   "execution_count": null,
   "metadata": {
    "collapsed": true
   },
   "outputs": [],
   "source": [
    "# Let imagine a box with 3 marbles in it: labeled 1, 2, and 3\n",
    "box = np.array([1,2,3])\n",
    "\n",
    "# Now lets create a random permuation WITH replacement using randint\n",
    "shaker = np.random.randint(0, len(box), size=10)"
   ]
  },
  {
   "cell_type": "code",
   "execution_count": null,
   "metadata": {},
   "outputs": [],
   "source": [
    "# Let's check teh box \"shaker\"\n",
    "shaker"
   ]
  },
  {
   "cell_type": "code",
   "execution_count": null,
   "metadata": {},
   "outputs": [],
   "source": [
    "#Now lets grab form the box\n",
    "hand_grabs = box.take(shaker)\n",
    "\n",
    "#show\n",
    "hand_grabs"
   ]
  },
  {
   "cell_type": "markdown",
   "metadata": {},
   "source": [
    "\n",
    "Up next: Working with Group By"
   ]
  },
  {
   "cell_type": "code",
   "execution_count": null,
   "metadata": {
    "collapsed": true
   },
   "outputs": [],
   "source": []
  }
 ],
 "metadata": {
  "kernelspec": {
   "display_name": "Python 3",
   "language": "python",
   "name": "python3"
  },
  "language_info": {
   "codemirror_mode": {
    "name": "ipython",
    "version": 3
   },
   "file_extension": ".py",
   "mimetype": "text/x-python",
   "name": "python",
   "nbconvert_exporter": "python",
   "pygments_lexer": "ipython3",
   "version": "3.6.2"
  }
 },
 "nbformat": 4,
 "nbformat_minor": 1
}
