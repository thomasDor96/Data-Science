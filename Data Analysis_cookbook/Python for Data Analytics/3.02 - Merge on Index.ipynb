{
 "cells": [
  {
   "cell_type": "code",
   "execution_count": null,
   "metadata": {
    "collapsed": true
   },
   "outputs": [],
   "source": [
    "import pandas as pd\n",
    "from pandas import Series, DataFrame\n",
    "import numpy as np\n",
    "#Now we'll learn how to merge on an index"
   ]
  },
  {
   "cell_type": "code",
   "execution_count": null,
   "metadata": {
    "collapsed": true
   },
   "outputs": [],
   "source": [
    "# Lets get two dframes\n",
    "\n",
    "df_left = DataFrame({'key': ['X','Y','Z','X','Y'],\n",
    "                  'data': range(5)})\n",
    "df_right = DataFrame({'group_data': [10, 20]}, index=['X', 'Y'])"
   ]
  },
  {
   "cell_type": "code",
   "execution_count": null,
   "metadata": {},
   "outputs": [],
   "source": [
    "#Show\n",
    "df_left"
   ]
  },
  {
   "cell_type": "code",
   "execution_count": null,
   "metadata": {},
   "outputs": [],
   "source": [
    "#Show\n",
    "df_right"
   ]
  },
  {
   "cell_type": "code",
   "execution_count": null,
   "metadata": {},
   "outputs": [],
   "source": [
    "#Now merge, we'll use the key for the left Dframe, and the index for the right\n",
    "pd.merge(df_left,df_right,left_on='key',right_index=True)"
   ]
  },
  {
   "cell_type": "code",
   "execution_count": null,
   "metadata": {},
   "outputs": [],
   "source": [
    "# We can also get a union by using outer\n",
    "pd.merge(df_left,df_right,left_on='key',right_index=True,how='outer')"
   ]
  },
  {
   "cell_type": "code",
   "execution_count": null,
   "metadata": {
    "collapsed": true
   },
   "outputs": [],
   "source": [
    "#Now let's try something a little more complicated, remember hierarchal index?\n",
    "df_left_hr = DataFrame({'key1': ['SF','SF','SF','LA','LA'],\n",
    "                   'key2': [10, 20, 30, 20, 30],\n",
    "                   'data_set': np.arange(5.)})\n",
    "df_right_hr = DataFrame(np.arange(10).reshape((5, 2)),\n",
    "                   index=[['LA','LA','SF','SF','SF'],\n",
    "                          [20, 10, 10, 10, 20]],\n",
    "                   columns=['col_1', 'col_2'])\n"
   ]
  },
  {
   "cell_type": "code",
   "execution_count": null,
   "metadata": {},
   "outputs": [],
   "source": [
    "#SHOW\n",
    "df_left_hr"
   ]
  },
  {
   "cell_type": "code",
   "execution_count": null,
   "metadata": {},
   "outputs": [],
   "source": [
    "#Show, this has a index hierarchy\n",
    "df_right_hr"
   ]
  },
  {
   "cell_type": "code",
   "execution_count": null,
   "metadata": {},
   "outputs": [],
   "source": [
    "# Now we can merge the left by using keys and the right by its index\n",
    "pd.merge(df_left_hr,df_right_hr,left_on=['key1','key2'],right_index=True)"
   ]
  },
  {
   "cell_type": "code",
   "execution_count": null,
   "metadata": {},
   "outputs": [],
   "source": [
    "# We can alo keep a union by choosing 'outer' method\n",
    "pd.merge(df_left_hr,df_right_hr,left_on=['key1','key2'],right_index=True,how='outer')"
   ]
  },
  {
   "cell_type": "code",
   "execution_count": null,
   "metadata": {},
   "outputs": [],
   "source": [
    "# WE can also you .join()\n",
    "\n",
    "# Shown on our first two DataFrames\n",
    "df_left.join(df_right)"
   ]
  },
  {
   "cell_type": "markdown",
   "metadata": {},
   "source": [
    "Next we'll learn about the concatenate function!"
   ]
  },
  {
   "cell_type": "code",
   "execution_count": null,
   "metadata": {
    "collapsed": true
   },
   "outputs": [],
   "source": []
  }
 ],
 "metadata": {
  "kernelspec": {
   "display_name": "Python 3",
   "language": "python",
   "name": "python3"
  },
  "language_info": {
   "codemirror_mode": {
    "name": "ipython",
    "version": 3
   },
   "file_extension": ".py",
   "mimetype": "text/x-python",
   "name": "python",
   "nbconvert_exporter": "python",
   "pygments_lexer": "ipython3",
   "version": "3.6.2"
  }
 },
 "nbformat": 4,
 "nbformat_minor": 1
}
