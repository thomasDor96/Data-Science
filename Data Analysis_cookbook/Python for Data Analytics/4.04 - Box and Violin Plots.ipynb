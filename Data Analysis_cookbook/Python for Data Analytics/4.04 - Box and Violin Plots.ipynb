{
 "cells": [
  {
   "cell_type": "code",
   "execution_count": null,
   "metadata": {
    "collapsed": true
   },
   "outputs": [],
   "source": [
    "# The normal imports\n",
    "import numpy as np\n",
    "from numpy.random import randn\n",
    "import pandas as pd\n",
    "\n",
    "# Import the stats library from numpy\n",
    "from scipy import stats\n",
    "\n",
    "# These are the plotting modules adn libraries we'll use:\n",
    "import matplotlib as mpl\n",
    "import matplotlib.pyplot as plt\n",
    "import seaborn as sns\n",
    "\n",
    "# Command so that plots appear in the iPython Notebook\n",
    "%matplotlib inline"
   ]
  },
  {
   "cell_type": "code",
   "execution_count": null,
   "metadata": {
    "collapsed": true
   },
   "outputs": [],
   "source": [
    "# Now we'll learn about box and violin plots\n",
    "url = 'http://en.wikipedia.org/wiki/Box_plot#mediaviewer/File:Boxplot_vs_PDF.svg'\n",
    "\n",
    "# Let's create two distributions\n",
    "data1 = randn(100)\n",
    "data2 = randn(100) + 2 # Off set the mean"
   ]
  },
  {
   "cell_type": "code",
   "execution_count": null,
   "metadata": {},
   "outputs": [],
   "source": [
    "# Now we can create a box plot\n",
    "sns.boxplot([data1,data2])"
   ]
  },
  {
   "cell_type": "code",
   "execution_count": null,
   "metadata": {},
   "outputs": [],
   "source": [
    "# Notice how the previous plot had outlier points, we can include those with the \"whiskers\"\n",
    "sns.boxplot([data1,data2],whis=np.inf)"
   ]
  },
  {
   "cell_type": "code",
   "execution_count": null,
   "metadata": {},
   "outputs": [],
   "source": [
    "# WE can also set horizontal by setting vertical to false\n",
    "sns.boxplot([data1,data2],whis=np.inf,orient= \"v\")"
   ]
  },
  {
   "cell_type": "code",
   "execution_count": null,
   "metadata": {
    "collapsed": true
   },
   "outputs": [],
   "source": [
    "# While box plots are great, they can sometimes not give the full picture\n",
    "\n",
    "# Violin/Viola plots can combine the simplicity of a box plot with the information of a kde plot"
   ]
  },
  {
   "cell_type": "code",
   "execution_count": null,
   "metadata": {},
   "outputs": [],
   "source": [
    "# Let's create an example where a box plot doesn't give the whole picture\n",
    "\n",
    "# Normal Distribution\n",
    "data1 = stats.norm(0,5).rvs(100)\n",
    "\n",
    "# Two gamma distributions concatenated together (Second one is inverted)\n",
    "data2 = np.concatenate([stats.gamma(5).rvs(50)-1,\n",
    "                        -1*stats.gamma(5).rvs(50)])\n",
    "\n",
    "# Box plot them\n",
    "sns.boxplot([data1,data2],whis=np.inf)"
   ]
  },
  {
   "cell_type": "code",
   "execution_count": null,
   "metadata": {},
   "outputs": [],
   "source": [
    "# From the above plots, you may think that the distributions are fairly similar\n",
    "# But lets check out what a violin plot reveals\n",
    "sns.violinplot([data1,data2])"
   ]
  },
  {
   "cell_type": "code",
   "execution_count": null,
   "metadata": {
    "collapsed": true
   },
   "outputs": [],
   "source": [
    "# Wow, quite revealing!"
   ]
  },
  {
   "cell_type": "code",
   "execution_count": null,
   "metadata": {},
   "outputs": [],
   "source": [
    "# We can also change the bandwidth of the kernel used for the density fit of the violin plots if desired\n",
    "sns.violinplot(data2,bw=0.01)\n"
   ]
  },
  {
   "cell_type": "code",
   "execution_count": null,
   "metadata": {},
   "outputs": [],
   "source": [
    "# Much like a rug plot, we can also include the individual points, or sticks\n",
    "sns.violinplot(data1,inner=\"stick\")"
   ]
  },
  {
   "cell_type": "markdown",
   "metadata": {},
   "source": [
    "Next up: Multiple Regression Plots!"
   ]
  },
  {
   "cell_type": "code",
   "execution_count": null,
   "metadata": {
    "collapsed": true
   },
   "outputs": [],
   "source": []
  }
 ],
 "metadata": {
  "kernelspec": {
   "display_name": "Python 3",
   "language": "python",
   "name": "python3"
  },
  "language_info": {
   "codemirror_mode": {
    "name": "ipython",
    "version": 3
   },
   "file_extension": ".py",
   "mimetype": "text/x-python",
   "name": "python",
   "nbconvert_exporter": "python",
   "pygments_lexer": "ipython3",
   "version": "3.6.2"
  }
 },
 "nbformat": 4,
 "nbformat_minor": 1
}
