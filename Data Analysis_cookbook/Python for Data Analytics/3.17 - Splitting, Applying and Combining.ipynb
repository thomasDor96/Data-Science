{
 "cells": [
  {
   "cell_type": "code",
   "execution_count": null,
   "metadata": {
    "collapsed": true
   },
   "outputs": [],
   "source": [
    "import numpy as np\n",
    "import pandas as pd\n",
    "from pandas import Series, DataFrame"
   ]
  },
  {
   "cell_type": "code",
   "execution_count": null,
   "metadata": {},
   "outputs": [],
   "source": [
    "# Let's grab the wine data again\n",
    "dframe_wine = pd.read_csv('data/winequality_red.csv',sep=';')\n",
    "\n",
    "#Preview\n",
    "dframe_wine.head()"
   ]
  },
  {
   "cell_type": "markdown",
   "metadata": {},
   "source": [
    " What if we wanted to know the highest alcohol content for each quality range?\n",
    " \n",
    " We can use groupby mechanics to split-apply-combine"
   ]
  },
  {
   "cell_type": "code",
   "execution_count": null,
   "metadata": {
    "collapsed": true
   },
   "outputs": [],
   "source": [
    "# Create a function that assigns a rank to each wine based on alcohol content, with 1 being the highest alcohol content\n",
    "def ranker(df):\n",
    "    df['alc_content_rank'] = np.arange(len(df)) + 1\n",
    "    return df"
   ]
  },
  {
   "cell_type": "code",
   "execution_count": null,
   "metadata": {
    "collapsed": true
   },
   "outputs": [],
   "source": [
    "# Now sort the dframe by alcohol in ascending order\n",
    "dframe_wine.sort_values('alcohol',ascending=False,inplace=True)\n",
    "\n",
    "# Now we'll group by quality and apply our ranking function\n",
    "dframe_wine = dframe_wine.groupby('quality').apply(ranker)"
   ]
  },
  {
   "cell_type": "code",
   "execution_count": null,
   "metadata": {},
   "outputs": [],
   "source": [
    "#Preview\n",
    "dframe_wine.head()"
   ]
  },
  {
   "cell_type": "code",
   "execution_count": null,
   "metadata": {},
   "outputs": [],
   "source": [
    "# Now finally we can just call for the dframe where the alc_content_rank == 1\n",
    "\n",
    "# Get the numebr of quality counts\n",
    "num_of_qual = dframe_wine['quality'].value_counts()\n",
    "\n",
    "#Show\n",
    "num_of_qual"
   ]
  },
  {
   "cell_type": "code",
   "execution_count": null,
   "metadata": {},
   "outputs": [],
   "source": [
    "# Now we'll show the combined info for teh wines that had the highest alcohol content for their respective rank!\n",
    "dframe_wine[dframe_wine.alc_content_rank == 1].head(len(num_of_qual))"
   ]
  },
  {
   "cell_type": "markdown",
   "metadata": {},
   "source": [
    "Awesome! Ask yourself if there are any trends you would like to find in this data?\n",
    "\n",
    "Is there a relationship between wine ranking and alcohol content?"
   ]
  },
  {
   "cell_type": "code",
   "execution_count": null,
   "metadata": {
    "collapsed": true
   },
   "outputs": [],
   "source": []
  }
 ],
 "metadata": {
  "kernelspec": {
   "display_name": "Python 3",
   "language": "python",
   "name": "python3"
  },
  "language_info": {
   "codemirror_mode": {
    "name": "ipython",
    "version": 3
   },
   "file_extension": ".py",
   "mimetype": "text/x-python",
   "name": "python",
   "nbconvert_exporter": "python",
   "pygments_lexer": "ipython3",
   "version": "3.6.2"
  }
 },
 "nbformat": 4,
 "nbformat_minor": 1
}
