{
 "cells": [
  {
   "cell_type": "code",
   "execution_count": null,
   "metadata": {
    "collapsed": true
   },
   "outputs": [],
   "source": [
    "# The normal imports\n",
    "import numpy as np\n",
    "from numpy.random import randn\n",
    "import pandas as pd\n",
    "\n",
    "# Import the stats library from numpy\n",
    "from scipy import stats\n",
    "\n",
    "# These are the plotting modules adn libraries we'll use:\n",
    "import matplotlib as mpl\n",
    "import matplotlib.pyplot as plt\n",
    "import seaborn as sns\n",
    "\n",
    "# Command so that plots appear in the iPython Notebook\n",
    "%matplotlib inline"
   ]
  },
  {
   "cell_type": "code",
   "execution_count": null,
   "metadata": {
    "collapsed": true
   },
   "outputs": [],
   "source": [
    "# Now we'll learn how ot visualize multiple regression with lmplot()\n",
    "\n",
    "# Luckily, Seaborn comes with an example dataset to use as a pandas DataFrame\n",
    "tips = sns.load_dataset(\"tips\")"
   ]
  },
  {
   "cell_type": "code",
   "execution_count": null,
   "metadata": {},
   "outputs": [],
   "source": [
    "# Preview\n",
    "tips.head()"
   ]
  },
  {
   "cell_type": "code",
   "execution_count": null,
   "metadata": {},
   "outputs": [],
   "source": [
    "# Let's use lmplot() to plot the total bill versus tips\n",
    "sns.lmplot(\"total_bill\",\"tip\",tips)"
   ]
  },
  {
   "cell_type": "code",
   "execution_count": null,
   "metadata": {
    "collapsed": true
   },
   "outputs": [],
   "source": [
    "# First we can see a scatter plot of all the points, tip vs total_bill\n",
    "# Then we see a linear regression line, which is an estimateed linear fit model to the data"
   ]
  },
  {
   "cell_type": "code",
   "execution_count": null,
   "metadata": {},
   "outputs": [],
   "source": [
    "# WE can also specify teh confidence interval to use for the linear fit\n",
    "\n",
    "sns.lmplot(\"total_bill\",\"tip\",tips,ci=75) # 68% ci "
   ]
  },
  {
   "cell_type": "code",
   "execution_count": null,
   "metadata": {},
   "outputs": [],
   "source": [
    "# Just like before, we can use dictionaries to edit individual parts of the plot\n",
    "\n",
    "sns.lmplot(\"total_bill\", \"tip\", tips,\n",
    "           scatter_kws={\"marker\": \"o\", \"color\": \"indianred\"},\n",
    "           line_kws={\"linewidth\": 1, \"color\": \"blue\"});"
   ]
  },
  {
   "cell_type": "code",
   "execution_count": null,
   "metadata": {},
   "outputs": [],
   "source": [
    "# WE can also check out higher-order trends\n",
    "sns.lmplot(\"total_bill\", \"tip\", tips,order=4,\n",
    "           scatter_kws={\"marker\": \"o\", \"color\": \"indianred\"},\n",
    "           line_kws={\"linewidth\": 1, \"color\": \"blue\"})"
   ]
  },
  {
   "cell_type": "code",
   "execution_count": null,
   "metadata": {},
   "outputs": [],
   "source": [
    "# We can also not fit a regression if desired\n",
    "sns.lmplot(\"total_bill\", \"tip\", tips,fit_reg=False)"
   ]
  },
  {
   "cell_type": "code",
   "execution_count": null,
   "metadata": {},
   "outputs": [],
   "source": [
    "# lmplot() also works on discrete variables, such as the percentage of the tip\n",
    "\n",
    "# Create a new column for tip percentage\n",
    "tips[\"tip_pect\"]=100*(tips['tip']/tips['total_bill'])\n",
    "\n",
    "#plot\n",
    "sns.lmplot(\"size\", \"tip_pect\", tips);"
   ]
  },
  {
   "cell_type": "code",
   "execution_count": null,
   "metadata": {},
   "outputs": [],
   "source": [
    "# We can also add jitter to this\n",
    "\n",
    "#Info link\n",
    "url = \"http://en.wikipedia.org/wiki/Jitter\"\n",
    "\n",
    "#plot\n",
    "sns.lmplot(\"size\", \"tip_pect\", tips,x_jitter=.1);"
   ]
  },
  {
   "cell_type": "code",
   "execution_count": null,
   "metadata": {},
   "outputs": [],
   "source": [
    "# We can also estimate the tendency of each bin (size of party in this case)\n",
    "sns.lmplot(\"size\", \"tip_pect\", tips, x_estimator=np.mean);"
   ]
  },
  {
   "cell_type": "code",
   "execution_count": null,
   "metadata": {
    "collapsed": true
   },
   "outputs": [],
   "source": [
    "# Interesting, looks like there is more variance for party sizes of 1 then 2-4"
   ]
  },
  {
   "cell_type": "code",
   "execution_count": null,
   "metadata": {},
   "outputs": [],
   "source": [
    "# We can use the hue facet to automatically define subsets along a column\n",
    "\n",
    "# Plot, note the markers argument\n",
    "sns.lmplot(\"total_bill\", \"tip_pect\", tips, hue=\"sex\",markers=[\"x\",\"o\"])"
   ]
  },
  {
   "cell_type": "code",
   "execution_count": null,
   "metadata": {},
   "outputs": [],
   "source": [
    "# Does day make a difference?\n",
    "sns.lmplot(\"total_bill\", \"tip_pect\", tips, hue=\"day\")"
   ]
  },
  {
   "cell_type": "code",
   "execution_count": null,
   "metadata": {},
   "outputs": [],
   "source": [
    "# Finally it should be noted that Seabron supports LOESS model fitting\n",
    "url = 'http://en.wikipedia.org/wiki/Local_regression'\n",
    "\n",
    "sns.lmplot(\"total_bill\", \"tip_pect\", tips, lowess=True, line_kws={\"color\": 'black'});"
   ]
  },
  {
   "cell_type": "code",
   "execution_count": null,
   "metadata": {},
   "outputs": [],
   "source": [
    "# The lmplot() we've been using is actually using a lower-level function, regplot()\n",
    "\n",
    "sns.regplot(\"total_bill\",\"tip_pect\",tips)"
   ]
  },
  {
   "cell_type": "code",
   "execution_count": null,
   "metadata": {},
   "outputs": [],
   "source": [
    "# reg_plot can be added to existing axes without modifying anything in the figure\n",
    "\n",
    "# Create figure with 2 subplots\n",
    "fig, (axis1,axis2) = plt.subplots(1,2,sharey =True)\n",
    "\n",
    "sns.regplot(\"total_bill\",\"tip_pect\",tips,ax=axis1)\n",
    "sns.violinplot(tips['size'],tips['tip_pect'],palette='Reds_r',ax=axis2)"
   ]
  },
  {
   "cell_type": "markdown",
   "metadata": {},
   "source": [
    "Next up: We'll learn about"
   ]
  },
  {
   "cell_type": "code",
   "execution_count": null,
   "metadata": {
    "collapsed": true
   },
   "outputs": [],
   "source": []
  }
 ],
 "metadata": {
  "kernelspec": {
   "display_name": "Python 3",
   "language": "python",
   "name": "python3"
  },
  "language_info": {
   "codemirror_mode": {
    "name": "ipython",
    "version": 3
   },
   "file_extension": ".py",
   "mimetype": "text/x-python",
   "name": "python",
   "nbconvert_exporter": "python",
   "pygments_lexer": "ipython3",
   "version": "3.6.2"
  }
 },
 "nbformat": 4,
 "nbformat_minor": 1
}
