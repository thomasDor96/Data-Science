{
 "cells": [
  {
   "cell_type": "code",
   "execution_count": null,
   "metadata": {
    "collapsed": true
   },
   "outputs": [],
   "source": [
    "# The normal imports\n",
    "import numpy as np\n",
    "from numpy.random import randn\n",
    "import pandas as pd\n",
    "\n",
    "# Import the stats library from numpy\n",
    "from scipy import stats\n",
    "\n",
    "# These are the plotting modules adn libraries we'll use:\n",
    "import matplotlib as mpl\n",
    "import matplotlib.pyplot as plt\n",
    "import seaborn as sns\n",
    "\n",
    "# Command so that plots appear in the iPython Notebook\n",
    "%matplotlib inline"
   ]
  },
  {
   "cell_type": "markdown",
   "metadata": {},
   "source": [
    "First we'll learn how to understand and make a KDE plot manually, and then we'll see how to do it quickly with seaborn!"
   ]
  },
  {
   "cell_type": "code",
   "execution_count": null,
   "metadata": {},
   "outputs": [],
   "source": [
    "# Let's start off with a carpet/rug plot\n",
    "# A rug plot simpot puts ticks wherever a value occured\n",
    "\n",
    "#Create dataset\n",
    "dataset = randn(25)\n",
    "#Create rugplot\n",
    "sns.rugplot(dataset)\n",
    "#Set y-axis limit\n",
    "plt.ylim(0,1)"
   ]
  },
  {
   "cell_type": "code",
   "execution_count": null,
   "metadata": {},
   "outputs": [],
   "source": [
    "# Plot a histogram on top of \n",
    "plt.hist(dataset,alpha=0.3)\n",
    "sns.rugplot(dataset)"
   ]
  },
  {
   "cell_type": "markdown",
   "metadata": {},
   "source": [
    "The histogram sets up 10 bins and then just count how many ticks appeared in each bin, setting the height of each bar"
   ]
  },
  {
   "cell_type": "markdown",
   "metadata": {},
   "source": [
    "The kernel density plot will represent each tick mark with a gaussian basis function.\n",
    "Let's see how we would do this manually"
   ]
  },
  {
   "cell_type": "code",
   "execution_count": null,
   "metadata": {},
   "outputs": [],
   "source": [
    "# Create another rugplot\n",
    "sns.rugplot(dataset);\n",
    "\n",
    "# Set up the x-axis for the plot\n",
    "x_min = dataset.min() - 2\n",
    "x_max = dataset.max() + 2\n",
    "\n",
    "# 100 equally spaced points from x_min to x_max\n",
    "x_axis = np.linspace(x_min,x_max,100)\n",
    "\n",
    "# Set up the bandwidth, for info on this:\n",
    "url = 'http://en.wikipedia.org/wiki/Kernel_density_estimation#Practical_estimation_of_the_bandwidth'\n",
    "\n",
    "bandwidth = ((4*dataset.std()**5)/(3*len(dataset)))**.2\n",
    "\n",
    "\n",
    "# Create an empty kernel list\n",
    "kernel_list = []\n",
    "\n",
    "# Plot each basis function\n",
    "for data_point in dataset:\n",
    "    \n",
    "    # Create a kernel for each point and append to list\n",
    "    kernel = stats.norm(data_point,bandwidth).pdf(x_axis)\n",
    "    kernel_list.append(kernel)\n",
    "    \n",
    "    #Scale for plotting\n",
    "    kernel = kernel / kernel.max()\n",
    "    kernel = kernel * .4\n",
    "    plt.plot(x_axis,kernel,color = 'grey',alpha=0.5)\n",
    "\n",
    "plt.ylim(0,1)"
   ]
  },
  {
   "cell_type": "code",
   "execution_count": null,
   "metadata": {},
   "outputs": [],
   "source": [
    "# To get the kde plot we can sum these basis functions.\n",
    "\n",
    "\n",
    "\n",
    "# Plot the sum of the basis function\n",
    "sum_of_kde = np.sum(kernel_list,axis=0)\n",
    "\n",
    "# Plot figure\n",
    "fig = plt.plot(x_axis,sum_of_kde,color='indianred')\n",
    "\n",
    "# Add the initial rugplot\n",
    "sns.rugplot(dataset,c = 'indianred')\n",
    "\n",
    "# Get rid of y-tick marks\n",
    "plt.yticks([])\n",
    "\n",
    "# Set title\n",
    "plt.suptitle(\"Sum of the Basis Functions\")"
   ]
  },
  {
   "cell_type": "code",
   "execution_count": null,
   "metadata": {},
   "outputs": [],
   "source": [
    "# Now we can see how to do it in one step with seaborn! Awesome!\n",
    "sns.kdeplot(dataset)"
   ]
  },
  {
   "cell_type": "code",
   "execution_count": null,
   "metadata": {},
   "outputs": [],
   "source": [
    "# We can adjust the bandwidth of the sns kde to make the kde plot more or less sensitive to high frequency\n",
    "\n",
    "# Rugplot\n",
    "sns.rugplot(dataset,color='black')\n",
    "\n",
    "# Plot various bandwidths\n",
    "for bw in np.arange(0.5,2,0.25):\n",
    "    sns.kdeplot(dataset,bw=bw,lw=1.8,label=bw)"
   ]
  },
  {
   "cell_type": "code",
   "execution_count": null,
   "metadata": {},
   "outputs": [],
   "source": [
    "# We can also choose different kernels\n",
    "\n",
    "kernel_options = [\"biw\", \"cos\", \"epa\", \"gau\", \"tri\", \"triw\"]\n",
    "\n",
    "# More info on types\n",
    "url = 'http://en.wikipedia.org/wiki/Kernel_(statistics)'\n",
    "\n",
    "# Use label to set legend\n",
    "for kern in kernel_options:\n",
    "    sns.kdeplot(dataset,kernel=kern,label=kern)"
   ]
  },
  {
   "cell_type": "code",
   "execution_count": null,
   "metadata": {},
   "outputs": [],
   "source": [
    "# We can also shade if desired\n",
    "for kern in kernel_options:\n",
    "    sns.kdeplot(dataset,kernel=kern,label=kern,shade=True,alpha=0.5)"
   ]
  },
  {
   "cell_type": "code",
   "execution_count": null,
   "metadata": {},
   "outputs": [],
   "source": [
    "# For vertical axis, use the vertical keyword\n",
    "sns.kdeplot(dataset,vertical=True)"
   ]
  },
  {
   "cell_type": "code",
   "execution_count": null,
   "metadata": {},
   "outputs": [],
   "source": [
    "# Finally we can also use kde plot to create a cumulative distribution function (CDF) of the data\n",
    "\n",
    "# URL for info on CDF\n",
    "url = 'http://en.wikipedia.org/wiki/Cumulative_distribution_function'\n",
    "\n",
    "sns.kdeplot(dataset,cumulative=True)"
   ]
  },
  {
   "cell_type": "markdown",
   "metadata": {},
   "source": [
    "### Multivariate Density Estimation using kdeplot"
   ]
  },
  {
   "cell_type": "markdown",
   "metadata": {},
   "source": [
    "We can also use kdeplot for multidimensional data. Lets see how it works!"
   ]
  },
  {
   "cell_type": "code",
   "execution_count": null,
   "metadata": {},
   "outputs": [],
   "source": [
    "# Let's create a new dataset\n",
    "\n",
    "# Mean center of data\n",
    "mean = [0,0]\n",
    "\n",
    "# Diagonal covariance\n",
    "cov = [[1,0],[0,100]]\n",
    "\n",
    "# Create dataset using numpy\n",
    "dataset2 = np.random.multivariate_normal(mean,cov,1000)\n",
    "\n",
    "# Bring back our old friend pandas\n",
    "dframe = pd.DataFrame(dataset2,columns=['X','Y'])\n",
    "\n",
    "# Plot our dataframe\n",
    "sns.kdeplot(dframe)"
   ]
  },
  {
   "cell_type": "code",
   "execution_count": null,
   "metadata": {},
   "outputs": [],
   "source": [
    "# We could have also passed two vectors seperately, and shade\n",
    "sns.kdeplot(dframe.X,dframe.Y,shade=True)"
   ]
  },
  {
   "cell_type": "code",
   "execution_count": null,
   "metadata": {},
   "outputs": [],
   "source": [
    "# Can specify a particualr bandwidth\n",
    "sns.kdeplot(dframe,bw=1)"
   ]
  },
  {
   "cell_type": "code",
   "execution_count": null,
   "metadata": {},
   "outputs": [],
   "source": [
    "# Or just use silverman again\n",
    "sns.kdeplot(dframe,bw='silverman')"
   ]
  },
  {
   "cell_type": "code",
   "execution_count": null,
   "metadata": {},
   "outputs": [],
   "source": [
    "# We can also create a kde joint plot, simliar to the hexbin plots we saw before\n",
    "\n",
    "sns.jointplot('X','Y',dframe,kind='kde')"
   ]
  },
  {
   "cell_type": "markdown",
   "metadata": {},
   "source": [
    "Next up: Combingign plot styles using distplot!"
   ]
  },
  {
   "cell_type": "code",
   "execution_count": null,
   "metadata": {
    "collapsed": true
   },
   "outputs": [],
   "source": []
  }
 ],
 "metadata": {
  "kernelspec": {
   "display_name": "Python 3",
   "language": "python",
   "name": "python3"
  },
  "language_info": {
   "codemirror_mode": {
    "name": "ipython",
    "version": 3
   },
   "file_extension": ".py",
   "mimetype": "text/x-python",
   "name": "python",
   "nbconvert_exporter": "python",
   "pygments_lexer": "ipython3",
   "version": "3.6.2"
  }
 },
 "nbformat": 4,
 "nbformat_minor": 1
}
