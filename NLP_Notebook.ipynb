{
 "cells": [
  {
   "cell_type": "markdown",
   "metadata": {},
   "source": [
    "# text mining (nlp) with python"
   ]
  },
  {
   "cell_type": "markdown",
   "metadata": {},
   "source": [
    "**Author:** Ties de Kok ([Personal Website](http://www.tiesdekok.com))  \n",
    "**Last updated:** 18 May 2018  \n",
    "**Python version:** Python 3.6  \n",
    "**License:** MIT License  "
   ]
  },
  {
   "cell_type": "markdown",
   "metadata": {},
   "source": [
    "**Note:** Some features (like the ToC) will only work if you run the notebook or if you use nbviewer by clicking this link:  \n",
    "https://nbviewer.jupyter.org/github/TiesdeKok/Python_NLP_Tutorial/blob/master/NLP_Notebook.ipynb"
   ]
  },
  {
   "cell_type": "markdown",
   "metadata": {},
   "source": [
    "# *Introduction*"
   ]
  },
  {
   "cell_type": "markdown",
   "metadata": {},
   "source": [
    "This notebook contains code examples to get you started with Natural Language Processing (NLP) / Text Mining for Research and Data Science purposes.  \n",
    "\n",
    "In the large scheme of things there are roughly 4 steps:  \n",
    "\n",
    "1. Identify a data source  \n",
    "2. Gather the data  \n",
    "3. Process the data  \n",
    "4. Analyze the data  \n",
    "\n",
    "This notebook only discusses step 3 and 4. If you want to learn more about step 2 see my [Python tutorial](https://github.com/TiesdeKok/LearnPythonforResearch). "
   ]
  },
  {
   "cell_type": "markdown",
   "metadata": {},
   "source": [
    "## Note: companion slides"
   ]
  },
  {
   "cell_type": "markdown",
   "metadata": {},
   "source": [
    "This notebook was designed to accompany a PhD course session on NLP techniques in Accounting Research.  \n",
    "The slides of this session are publically availabe here: [Slides](http://www.tiesdekok.com/AccountingNLP_Slides/)"
   ]
  },
  {
   "cell_type": "markdown",
   "metadata": {},
   "source": [
    "# *Elements / topics that are discussed in this notebook: *\n",
    "\n",
    "\n",
    "<img style=\"float: left\" src=\"https://i.imgur.com/c3aCZLA.png\" width=\"50%\" /> "
   ]
  },
  {
   "cell_type": "markdown",
   "metadata": {},
   "source": [
    "# *Table of Contents*  <a id='toc'></a>"
   ]
  },
  {
   "cell_type": "markdown",
   "metadata": {},
   "source": [
    "* [Primer on NLP tools](#tool_primer)     \n",
    "* [Process + Clean text](#proc_clean)   \n",
    "    * [Normalization](#normalization)\n",
    "        * [Deal with unwanted characters](#unwanted_char)\n",
    "        * [Sentence segmentation](#sentence_seg)   \n",
    "        * [Word tokenization](#word_token)\n",
    "        * [Lemmatization & Stemming](#lem_and_stem) \n",
    "    * [Language modeling](#lang_model) \n",
    "        * [Part-of-Speech tagging](#pos_tagging) \n",
    "        * [Uni-Gram & N-Grams](#n_grams) \n",
    "        * [Stop words](#stop_words) \n",
    "* [Direct feature extraction](#feature_extract) \n",
    "    * [Feature search](#feature_search) \n",
    "        * [Entity recognition](#entity_recognition) \n",
    "        * [Pattern search](#pattern_search) \n",
    "    * [Text evaluation](#text_eval) \n",
    "        * [Language](#language) \n",
    "        * [Dictionary counting](#dict_counting) \n",
    "        * [Readability](#readability) \n",
    "* [Represent text numerically](#text_numerical) \n",
    "    * [Bag of Words](#bows) \n",
    "        * [TF-IDF](#tfidf) \n",
    "    * [Word Embeddings](#word_embed) \n",
    "        * [Word2Vec](#Word2Vec) \n",
    "* [Statistical models](#stat_models) \n",
    "    * [\"Traditional\" machine learning](#trad_ml) \n",
    "        * [Supervised](#trad_ml_supervised) \n",
    "            * [Naïve Bayes](#trad_ml_supervised_nb) \n",
    "            * [Support Vector Machines (SVM)](#trad_ml_supervised_svm) \n",
    "        * [Unsupervised](#trad_ml_unsupervised) \n",
    "            * [Latent Dirichilet Allocation (LDA)](#trad_ml_unsupervised_lda) \n",
    "            * [pyLDAvis](#trad_ml_unsupervised_pyLDAvis) \n",
    "* [Model Selection and Evaluation](#trad_ml_eval) \n",
    "* [Neural Networks](#nn_ml)"
   ]
  },
  {
   "cell_type": "markdown",
   "metadata": {
    "collapsed": true
   },
   "source": [
    "# <span style=\"text-decoration: underline;\">Primer on NLP tools</span><a id='tool_primer'></a> [(to top)](#toc)"
   ]
  },
  {
   "cell_type": "markdown",
   "metadata": {},
   "source": [
    "There are many tools available for NLP purposes.  \n",
    "The code examples below are based on what I personally like to use, it is not intended to be a comprehsnive overview.  \n",
    "\n",
    "Besides build-in Python functionality I will use / demonstrate the following packages:\n",
    "\n",
    "**Standard NLP libraries**:\n",
    "1. `Spacy` and the higher-level wrapper `Textacy` \n",
    "2. `NLTK` and the higher-level wrapper `TextBlob`\n",
    "\n",
    "*Note: besides installing the above packages you also often have to download (model) data . Make sure to check the documentation!*\n",
    "\n",
    "**Standard machine learning library**:\n",
    "\n",
    "1. `scikit learn`\n",
    "\n",
    "**Specific task libraries**:\n",
    "\n",
    "There are many, just a couple of examples:\n",
    "\n",
    "1. `pyLDAvis` for visualizing LDA)\n",
    "2. `langdetect` for detecting languages\n",
    "3. `fuzzywuzzy` for fuzzy text matching\n",
    "4. `textstat` to calculate readability statistics\n",
    "5. `Gensim` for topic modelling"
   ]
  },
  {
   "cell_type": "markdown",
   "metadata": {
    "collapsed": true
   },
   "source": [
    "# <span style=\"text-decoration: underline;\">Get some example data</span><a id='example_data'></a> [(to top)](#toc)"
   ]
  },
  {
   "cell_type": "markdown",
   "metadata": {},
   "source": [
    "There are many example datasets available to play around with, see for example this great repository:  \n",
    "https://archive.ics.uci.edu/ml/datasets.html?format=&task=&att=&area=&numAtt=&numIns=&type=text&sort=nameUp&view=table"
   ]
  },
  {
   "cell_type": "markdown",
   "metadata": {},
   "source": [
    "The data that I will use for most of the examples is the \"Reuter_50_50 Data Set\" that is used for author identification experiments. \n",
    "\n",
    "See the details here: https://archive.ics.uci.edu/ml/datasets/Reuter_50_50  "
   ]
  },
  {
   "cell_type": "markdown",
   "metadata": {},
   "source": [
    "### Download and load the data"
   ]
  },
  {
   "cell_type": "markdown",
   "metadata": {},
   "source": [
    "Can't follow what I am doing here? Please see my [Python tutorial](https://github.com/TiesdeKok/LearnPythonforResearch) (although the `zipfile` and `io` operations are not very relevant)."
   ]
  },
  {
   "cell_type": "code",
   "execution_count": 2,
   "metadata": {},
   "outputs": [],
   "source": [
    "import requests, zipfile, io, os"
   ]
  },
  {
   "cell_type": "markdown",
   "metadata": {},
   "source": [
    "*Download and extract the zip file with the data *"
   ]
  },
  {
   "cell_type": "code",
   "execution_count": 3,
   "metadata": {},
   "outputs": [],
   "source": [
    "if not os.path.exists('C50test'):\n",
    "    r = requests.get(\"https://archive.ics.uci.edu/ml/machine-learning-databases/00217/C50.zip\")\n",
    "    z = zipfile.ZipFile(io.BytesIO(r.content))\n",
    "    z.extractall()"
   ]
  },
  {
   "cell_type": "markdown",
   "metadata": {},
   "source": [
    "*Load the data into memory*"
   ]
  },
  {
   "cell_type": "code",
   "execution_count": 4,
   "metadata": {},
   "outputs": [],
   "source": [
    "folder_dict = {'test' : 'C50test'}\n",
    "text_dict = {'test' : {}}"
   ]
  },
  {
   "cell_type": "code",
   "execution_count": 5,
   "metadata": {},
   "outputs": [],
   "source": [
    "for label, folder in folder_dict.items():\n",
    "    authors = os.listdir(folder)\n",
    "    for author in authors:\n",
    "        text_files = os.listdir(os.path.join(folder, author))\n",
    "        for file in text_files:\n",
    "            with open(os.path.join(folder, author, file), 'r') as text_file:\n",
    "                text_dict[label].setdefault(author, []).append(' '.join(text_file.readlines()))"
   ]
  },
  {
   "cell_type": "markdown",
   "metadata": {},
   "source": [
    "*Note: the text comes pre-split per sentence, for the sake of example I undo this through `' '.join(text_file.readlines()`*"
   ]
  },
  {
   "cell_type": "code",
   "execution_count": 6,
   "metadata": {},
   "outputs": [
    {
     "data": {
      "text/plain": [
       "'Shares in brewing-to-leisure group Bass Plc are likely to be held back until Britain\\'s Trade and Industry secretary Ian Lang decides whether to allow its proposed merge with brewer Carlsberg-Tetley, said analysts.\\n Earlier Lang announced the Bass deal would be referred to the Monoplies and Mergers Commission which is due to report before March 24, 1997. The shares fell 6p to 781p on the news.\\n \"The stock is probably dead in the water until March,\" said John Wakley, analyst at Lehman Brothers.  \\n Dermott Carr, an analyst at Nikko said, \"the market is going to hang onto them for the moment but until we get a decision they will be held back.\"\\n Whatever the MMC decides many analysts expect Lang to defer a decision until after the next general election which will be called by May 22.\\n \"They will probably try to defer the decision until after the election. I don\\'t think they want the negative PR of having a large number of people fired,\" said Wakley.  \\n If the deal does not go through, analysts calculate the maximum loss to Bass of 60 million, with most sums centred on the 30-40 million range.\\n \"It\\'s a maxiumum loss of 60 million for Bass if they fail and, unlike Allied, you would have to compare it to the perceived upside of doing the deal,\" said Wakley.\\n Bass said at the time of the deal it would take a one-off charge of 75 million stg for restructuring the combined business, resulting in expected annual cost savings of 90 million stg within three years.  \\n Under the terms of the complex deal, if Bass cannot combine C-T with its own brewing business within 16 months, it has the option to put its whole shareholding to Carlsberg for 110 million stg and Carlsberg has an option to put 15 percent of C-T to Allied Domecq, which would reimburse Bass 30 million stg.\\n Bass is also entitled to receive 50 percent of all profits earnied by C-T until the merger is complete, which should give it some 30-35 million stg in a full year. Carlsberg has agreed to contribute its interests and 20 million stg in exchange for a 20 percent share in the combined Bass Breweries and Carlsberg-Tetley business.\\n C-T was a joint venture between Allied Domecq and Carlsberg formed in 1992 by the merger of their UK brewing and wholesaleing businesses.\\n -- London Newsroom +44 171 542 6437\\n'"
      ]
     },
     "execution_count": 6,
     "metadata": {},
     "output_type": "execute_result"
    }
   ],
   "source": [
    "text_dict['test']['TimFarrand'][0]"
   ]
  },
  {
   "cell_type": "markdown",
   "metadata": {
    "collapsed": true
   },
   "source": [
    "# <span style=\"text-decoration: underline;\">Process + Clean text</span><a id='proc_clean'></a> [(to top)](#toc)"
   ]
  },
  {
   "cell_type": "markdown",
   "metadata": {},
   "source": [
    "## Convert the text into a NLP representation"
   ]
  },
  {
   "cell_type": "markdown",
   "metadata": {},
   "source": [
    "We can use the text directly, but if want to use packages like `spacy` and `textblob` we first have to convert the text into a corresponding object.  "
   ]
  },
  {
   "cell_type": "markdown",
   "metadata": {},
   "source": [
    "### Spacy"
   ]
  },
  {
   "cell_type": "markdown",
   "metadata": {},
   "source": [
    "**Note:** depending on the way that you installed the language models you will need to import it differently:"
   ]
  },
  {
   "cell_type": "markdown",
   "metadata": {},
   "source": [
    "```\n",
    "from spacy.en import English\n",
    "parser = English()\n",
    "```\n",
    "OR\n",
    "```\n",
    "import en_core_web_sm\n",
    "parser = en_core_web_sm.load()\n",
    "```"
   ]
  },
  {
   "cell_type": "code",
   "execution_count": 8,
   "metadata": {},
   "outputs": [],
   "source": [
    "import en_core_web_sm\n",
    "parser = en_core_web_sm.load()"
   ]
  },
  {
   "cell_type": "markdown",
   "metadata": {},
   "source": [
    "Convert all text in the \"test\" sample to a `spacy` `doc` object using `parser()`:"
   ]
  },
  {
   "cell_type": "code",
   "execution_count": 9,
   "metadata": {},
   "outputs": [],
   "source": [
    "spacy_text = {}\n",
    "for author, text_list in text_dict['test'].items():\n",
    "    spacy_text[author] = [parser(text) for text in text_list]"
   ]
  },
  {
   "cell_type": "code",
   "execution_count": 10,
   "metadata": {},
   "outputs": [
    {
     "data": {
      "text/plain": [
       "spacy.tokens.doc.Doc"
      ]
     },
     "execution_count": 10,
     "metadata": {},
     "output_type": "execute_result"
    }
   ],
   "source": [
    "type(spacy_text['TimFarrand'][0])"
   ]
  },
  {
   "cell_type": "markdown",
   "metadata": {},
   "source": [
    "### NLTK"
   ]
  },
  {
   "cell_type": "code",
   "execution_count": 11,
   "metadata": {},
   "outputs": [],
   "source": [
    "import nltk"
   ]
  },
  {
   "cell_type": "markdown",
   "metadata": {},
   "source": [
    "We can apply basic `nltk` operations directly to the text so we don't need to convert first. "
   ]
  },
  {
   "cell_type": "markdown",
   "metadata": {},
   "source": [
    "### TextBlob"
   ]
  },
  {
   "cell_type": "code",
   "execution_count": 13,
   "metadata": {},
   "outputs": [],
   "source": [
    "from textblob import TextBlob"
   ]
  },
  {
   "cell_type": "markdown",
   "metadata": {},
   "source": [
    "Convert all text in the \"test\" sample to a `TextBlob` object using `TextBlob()`:"
   ]
  },
  {
   "cell_type": "code",
   "execution_count": 14,
   "metadata": {},
   "outputs": [],
   "source": [
    "textblob_text = {}\n",
    "for author, text_list in text_dict['test'].items():\n",
    "    textblob_text[author] = [TextBlob(text) for text in text_list]"
   ]
  },
  {
   "cell_type": "code",
   "execution_count": 15,
   "metadata": {},
   "outputs": [
    {
     "data": {
      "text/plain": [
       "textblob.blob.TextBlob"
      ]
     },
     "execution_count": 15,
     "metadata": {},
     "output_type": "execute_result"
    }
   ],
   "source": [
    "type(textblob_text['TimFarrand'][0])"
   ]
  },
  {
   "cell_type": "markdown",
   "metadata": {
    "collapsed": true
   },
   "source": [
    "## <span style=\"text-decoration: underline;\">Normalization</span><a id='normalization'></a> [(to top)](#toc)"
   ]
  },
  {
   "cell_type": "markdown",
   "metadata": {},
   "source": [
    "**Text normalization** describes the task of transforming the text into a different (more comparable) form.  \n",
    "\n",
    "This can imply many things, I will show a couple of things below:"
   ]
  },
  {
   "cell_type": "markdown",
   "metadata": {
    "collapsed": true
   },
   "source": [
    "### <span style=\"text-decoration: underline;\">Deal with unwanted characters</span><a id='unwanted_char'></a> [(to top)](#toc)"
   ]
  },
  {
   "cell_type": "markdown",
   "metadata": {},
   "source": [
    "You will often notice that there are characters that you don't want in your text.  \n",
    "\n",
    "Let's look at this sentence for example:\n",
    "\n",
    "> \"Shares in brewing-to-leisure group Bass Plc are likely to be held back until Britain\\'s Trade and Industry secretary Ian Lang decides whether to allow its proposed merge with brewer Carlsberg-Tetley, said analysts.\\n Earlier Lang announced the Bass deal would be referred to the Monoplies and Mergers\"\n",
    "\n",
    "You notice that there are some `\\` and `\\n` in there. These are used to define how a string should be displayed, if we print this text we get:  "
   ]
  },
  {
   "cell_type": "code",
   "execution_count": 16,
   "metadata": {},
   "outputs": [
    {
     "data": {
      "text/plain": [
       "\"Shares in brewing-to-leisure group Bass Plc are likely to be held back until Britain's Trade and Industry secretary Ian Lang decides whether to allow its proposed merge with brewer Carlsberg-Tetley, said analysts.\\n Earlier Lang announced the Bass deal would be referred to the Monoplies and Mergers\""
      ]
     },
     "execution_count": 16,
     "metadata": {},
     "output_type": "execute_result"
    }
   ],
   "source": [
    "text_dict['test']['TimFarrand'][0][:298]"
   ]
  },
  {
   "cell_type": "code",
   "execution_count": 17,
   "metadata": {
    "scrolled": true
   },
   "outputs": [
    {
     "name": "stdout",
     "output_type": "stream",
     "text": [
      "Shares in brewing-to-leisure group Bass Plc are likely to be held back until Britain's Trade and Industry secretary Ian Lang decides whether to allow its proposed merge with brewer Carlsberg-Tetley, said analysts.\n",
      " Earlier Lang announced the Bass deal would be referred to the Monoplies and Mergers\n"
     ]
    }
   ],
   "source": [
    "print(text_dict['test']['TimFarrand'][0][:298])"
   ]
  },
  {
   "cell_type": "markdown",
   "metadata": {},
   "source": [
    "If we want to analyze text we often don't care about the visual representation. They might actually cause problems!  \n",
    "\n",
    "** So how do we remove them? **"
   ]
  },
  {
   "cell_type": "markdown",
   "metadata": {},
   "source": [
    "In many cases it is sufficient to simply use the `.replace()` function:"
   ]
  },
  {
   "cell_type": "code",
   "execution_count": 18,
   "metadata": {},
   "outputs": [
    {
     "data": {
      "text/plain": [
       "\"Shares in brewing-to-leisure group Bass Plc are likely to be held back until Britain's Trade and Industry secretary Ian Lang decides whether to allow its proposed merge with brewer Carlsberg-Tetley, said analysts. Earlier Lang announced the Bass deal would be referred to the Monoplies and Mergers\""
      ]
     },
     "execution_count": 18,
     "metadata": {},
     "output_type": "execute_result"
    }
   ],
   "source": [
    "text_dict['test']['TimFarrand'][0][:298].replace('\\n', '').replace('\\\\', '')"
   ]
  },
  {
   "cell_type": "markdown",
   "metadata": {},
   "source": [
    "Sometimes, however, the problem arrises because of encoding / decoding problems.  \n",
    "\n",
    "In those cases you can usually do something like:  "
   ]
  },
  {
   "cell_type": "code",
   "execution_count": 19,
   "metadata": {},
   "outputs": [
    {
     "name": "stdout",
     "output_type": "stream",
     "text": [
      "b\"This is some  text that has to be cleaned! it's annoying!\"\n"
     ]
    }
   ],
   "source": [
    "problem_sentence = 'This is some \\\\u03c0 text that has to be cleaned\\\\u2026! it\\\\u0027s annoying!'\n",
    "print(problem_sentence.encode().decode('unicode_escape').encode('ascii','ignore'))"
   ]
  },
  {
   "cell_type": "markdown",
   "metadata": {
    "collapsed": true
   },
   "source": [
    "### <span style=\"text-decoration: underline;\">Sentence segmentation</span><a id='sentence_seg'></a> [(to top)](#toc)"
   ]
  },
  {
   "cell_type": "markdown",
   "metadata": {},
   "source": [
    "Sentence segmentation means the task of splitting up the piece of text by sentence.  \n",
    "\n",
    "You could do this by splitting on the `.` symbol, but dots are used in many other cases as well so it is not very robust:"
   ]
  },
  {
   "cell_type": "code",
   "execution_count": 20,
   "metadata": {},
   "outputs": [
    {
     "data": {
      "text/plain": [
       "[\"Shares in brewing-to-leisure group Bass Plc are likely to be held back until Britain's Trade and Industry secretary Ian Lang decides whether to allow its proposed merge with brewer Carlsberg-Tetley, said analysts\",\n",
       " '\\n Earlier Lang announced the Bass deal would be referred to the Monoplies and Mergers Commission which is due to report before March 24, 1997',\n",
       " ' The shares fell 6p to 781p on the news',\n",
       " '\\n \"The stock is probably dead in the water until March,\" said John Wakley, analyst at Lehman Brothers',\n",
       " '  \\n Dermott Carr, an analyst at Nikko said, \"the mark']"
      ]
     },
     "execution_count": 20,
     "metadata": {},
     "output_type": "execute_result"
    }
   ],
   "source": [
    "text_dict['test']['TimFarrand'][0][:550].split('.')"
   ]
  },
  {
   "cell_type": "markdown",
   "metadata": {},
   "source": [
    "It is better to use a more sophisticated implementation such as the one by `Spacy`:"
   ]
  },
  {
   "cell_type": "code",
   "execution_count": 21,
   "metadata": {},
   "outputs": [],
   "source": [
    "example_paragraph = spacy_text['TimFarrand'][0]"
   ]
  },
  {
   "cell_type": "code",
   "execution_count": 22,
   "metadata": {},
   "outputs": [
    {
     "data": {
      "text/plain": [
       "[Shares in brewing-to-leisure group Bass Plc are likely to be held back until Britain's Trade and Industry secretary Ian Lang decides whether to allow its proposed merge with brewer Carlsberg-Tetley, said analysts.\n",
       "  ,\n",
       " Earlier Lang announced the Bass deal would be referred to the Monoplies and Mergers Commission which is due to report before March 24, 1997.,\n",
       " The shares fell 6p to 781p on the news.\n",
       "  ,\n",
       " \"The stock is probably dead in the water until March,\" said John Wakley, analyst at Lehman Brothers.  \n",
       "  ,\n",
       " Dermott Carr, an analyst at Nikko said, \"the market is going to hang onto them for the moment but until we get a decision they will be held back.\"\n",
       "  ]"
      ]
     },
     "execution_count": 22,
     "metadata": {},
     "output_type": "execute_result"
    }
   ],
   "source": [
    "sentence_list = [s for s in example_paragraph.sents]\n",
    "sentence_list[:5]"
   ]
  },
  {
   "cell_type": "markdown",
   "metadata": {},
   "source": [
    "Notice that the returned object is still a `spacy` object:"
   ]
  },
  {
   "cell_type": "code",
   "execution_count": 23,
   "metadata": {},
   "outputs": [
    {
     "data": {
      "text/plain": [
       "spacy.tokens.span.Span"
      ]
     },
     "execution_count": 23,
     "metadata": {},
     "output_type": "execute_result"
    }
   ],
   "source": [
    "type(sentence_list[0])"
   ]
  },
  {
   "cell_type": "markdown",
   "metadata": {},
   "source": [
    "Apply to all texts (for use later on):"
   ]
  },
  {
   "cell_type": "code",
   "execution_count": 24,
   "metadata": {},
   "outputs": [],
   "source": [
    "spacy_sentences = {}\n",
    "for author, text_list in spacy_text.items():\n",
    "    spacy_sentences[author] = [list(text.sents) for text in text_list]"
   ]
  },
  {
   "cell_type": "code",
   "execution_count": 25,
   "metadata": {},
   "outputs": [
    {
     "data": {
      "text/plain": [
       "[Shares in brewing-to-leisure group Bass Plc are likely to be held back until Britain's Trade and Industry secretary Ian Lang decides whether to allow its proposed merge with brewer Carlsberg-Tetley, said analysts.\n",
       "  ,\n",
       " Earlier Lang announced the Bass deal would be referred to the Monoplies and Mergers Commission which is due to report before March 24, 1997.,\n",
       " The shares fell 6p to 781p on the news.\n",
       "  ]"
      ]
     },
     "execution_count": 25,
     "metadata": {},
     "output_type": "execute_result"
    }
   ],
   "source": [
    "spacy_sentences['TimFarrand'][0][:3]"
   ]
  },
  {
   "cell_type": "markdown",
   "metadata": {
    "collapsed": true
   },
   "source": [
    "### <span style=\"text-decoration: underline;\">Word tokenization</span><a id='word_token'></a> [(to top)](#toc)"
   ]
  },
  {
   "cell_type": "markdown",
   "metadata": {},
   "source": [
    "Word tokenization means to split the sentence (or text) up into words."
   ]
  },
  {
   "cell_type": "code",
   "execution_count": 26,
   "metadata": {},
   "outputs": [
    {
     "data": {
      "text/plain": [
       "Shares in brewing-to-leisure group Bass Plc are likely to be held back until Britain's Trade and Industry secretary Ian Lang decides whether to allow its proposed merge with brewer Carlsberg-Tetley, said analysts.\n",
       " "
      ]
     },
     "execution_count": 26,
     "metadata": {},
     "output_type": "execute_result"
    }
   ],
   "source": [
    "example_sentence = spacy_sentences['TimFarrand'][0][0]\n",
    "example_sentence"
   ]
  },
  {
   "cell_type": "markdown",
   "metadata": {},
   "source": [
    "A word is called a `token` in this context (hence `tokenization`), using `spacy`:"
   ]
  },
  {
   "cell_type": "code",
   "execution_count": 27,
   "metadata": {},
   "outputs": [
    {
     "data": {
      "text/plain": [
       "[Shares,\n",
       " in,\n",
       " brewing,\n",
       " -,\n",
       " to,\n",
       " -,\n",
       " leisure,\n",
       " group,\n",
       " Bass,\n",
       " Plc,\n",
       " are,\n",
       " likely,\n",
       " to,\n",
       " be,\n",
       " held]"
      ]
     },
     "execution_count": 27,
     "metadata": {},
     "output_type": "execute_result"
    }
   ],
   "source": [
    "token_list = [token for token in example_sentence]\n",
    "token_list[0:15]"
   ]
  },
  {
   "cell_type": "markdown",
   "metadata": {
    "collapsed": true
   },
   "source": [
    "### <span style=\"text-decoration: underline;\">Lemmatization & Stemming</span><a id='lem_and_stem'></a> [(to top)](#toc)"
   ]
  },
  {
   "cell_type": "markdown",
   "metadata": {},
   "source": [
    "In some cases you want to convert a word (i.e. token) into a more general representation.  \n",
    "\n",
    "For example: convert \"car\", \"cars\", \"car's\", \"cars'\" all into the word `car`.\n",
    "\n",
    "This is generally done through lemmatization / stemming (different approaches trying to achieve a similar goal).  "
   ]
  },
  {
   "cell_type": "markdown",
   "metadata": {},
   "source": [
    "**Spacy**"
   ]
  },
  {
   "cell_type": "markdown",
   "metadata": {},
   "source": [
    "Space offers build-in functionality for lemmatization:"
   ]
  },
  {
   "cell_type": "code",
   "execution_count": 28,
   "metadata": {},
   "outputs": [
    {
     "data": {
      "text/plain": [
       "['share',\n",
       " 'in',\n",
       " 'brewing',\n",
       " '-',\n",
       " 'to',\n",
       " '-',\n",
       " 'leisure',\n",
       " 'group',\n",
       " 'bass',\n",
       " 'plc',\n",
       " 'be',\n",
       " 'likely',\n",
       " 'to',\n",
       " 'be',\n",
       " 'hold']"
      ]
     },
     "execution_count": 28,
     "metadata": {},
     "output_type": "execute_result"
    }
   ],
   "source": [
    "lemmatized = [token.lemma_ for token in example_sentence]\n",
    "lemmatized[0:15]"
   ]
  },
  {
   "cell_type": "markdown",
   "metadata": {},
   "source": [
    "**NLTK**"
   ]
  },
  {
   "cell_type": "markdown",
   "metadata": {},
   "source": [
    "Using the NLTK libary we can also use the more aggressive Porter Stemmer"
   ]
  },
  {
   "cell_type": "code",
   "execution_count": 29,
   "metadata": {},
   "outputs": [],
   "source": [
    "from nltk.stem.porter import PorterStemmer\n",
    "stemmer = PorterStemmer()"
   ]
  },
  {
   "cell_type": "code",
   "execution_count": 30,
   "metadata": {},
   "outputs": [
    {
     "data": {
      "text/plain": [
       "['share',\n",
       " 'in',\n",
       " 'brew',\n",
       " '-',\n",
       " 'to',\n",
       " '-',\n",
       " 'leisur',\n",
       " 'group',\n",
       " 'bass',\n",
       " 'plc',\n",
       " 'are',\n",
       " 'like',\n",
       " 'to',\n",
       " 'be',\n",
       " 'held']"
      ]
     },
     "execution_count": 30,
     "metadata": {},
     "output_type": "execute_result"
    }
   ],
   "source": [
    "stemmed = [stemmer.stem(token.text) for token in example_sentence]\n",
    "stemmed[0:15]"
   ]
  },
  {
   "cell_type": "markdown",
   "metadata": {},
   "source": [
    "**Compare**:"
   ]
  },
  {
   "cell_type": "code",
   "execution_count": 31,
   "metadata": {},
   "outputs": [
    {
     "name": "stdout",
     "output_type": "stream",
     "text": [
      "Shares  |  share  |  share\n",
      "in  |  in  |  in\n",
      "brewing  |  brewing  |  brew\n",
      "-  |  -  |  -\n",
      "to  |  to  |  to\n",
      "-  |  -  |  -\n",
      "leisure  |  leisure  |  leisur\n",
      "group  |  group  |  group\n",
      "Bass  |  bass  |  bass\n",
      "Plc  |  plc  |  plc\n",
      "are  |  be  |  are\n",
      "likely  |  likely  |  like\n",
      "to  |  to  |  to\n",
      "be  |  be  |  be\n",
      "held  |  hold  |  held\n"
     ]
    }
   ],
   "source": [
    "for original, lemma, stem in zip(token_list[:15], lemmatized[:15], stemmed[:15]):\n",
    "    print(original, ' | ', lemma, ' | ', stem)"
   ]
  },
  {
   "cell_type": "markdown",
   "metadata": {},
   "source": [
    "In my experience it is usually best to use lemmatization instead of a stemmer. "
   ]
  },
  {
   "cell_type": "markdown",
   "metadata": {
    "collapsed": true
   },
   "source": [
    "## <span style=\"text-decoration: underline;\">Language modeling</span><a id='lang_model'></a> [(to top)](#toc)"
   ]
  },
  {
   "cell_type": "markdown",
   "metadata": {},
   "source": [
    "Text is inherently structured in complex ways, we can often use some of this underlying structure. "
   ]
  },
  {
   "cell_type": "markdown",
   "metadata": {
    "collapsed": true
   },
   "source": [
    "### <span style=\"text-decoration: underline;\">Part-of-Speech tagging</span><a id='pos_tagging'></a> [(to top)](#toc)"
   ]
  },
  {
   "cell_type": "markdown",
   "metadata": {},
   "source": [
    "Part of speech tagging refers to the identification of words as nouns, verbs, adjectives, etc. "
   ]
  },
  {
   "cell_type": "markdown",
   "metadata": {},
   "source": [
    "Using `Spacy`:"
   ]
  },
  {
   "cell_type": "code",
   "execution_count": 32,
   "metadata": {},
   "outputs": [
    {
     "data": {
      "text/plain": [
       "[(Shares, 'NOUN'),\n",
       " (in, 'ADP'),\n",
       " (brewing, 'NOUN'),\n",
       " (-, 'PUNCT'),\n",
       " (to, 'ADP'),\n",
       " (-, 'PUNCT'),\n",
       " (leisure, 'NOUN'),\n",
       " (group, 'NOUN'),\n",
       " (Bass, 'PROPN'),\n",
       " (Plc, 'PROPN')]"
      ]
     },
     "execution_count": 32,
     "metadata": {},
     "output_type": "execute_result"
    }
   ],
   "source": [
    "pos_list = [(token, token.pos_) for token in example_sentence]\n",
    "pos_list[0:10]"
   ]
  },
  {
   "cell_type": "markdown",
   "metadata": {
    "collapsed": true
   },
   "source": [
    "### <span style=\"text-decoration: underline;\">Uni-Gram & N-Grams</span><a id='n_grams'></a> [(to top)](#toc)"
   ]
  },
  {
   "cell_type": "markdown",
   "metadata": {},
   "source": [
    "Obviously a sentence is not a random collection of words, the sequence of words has information value.  \n",
    "\n",
    "A simple way to incorporate some of this sequence is by using what is called `n-grams`.  \n",
    "An `n-gram` is nothing more than a a combination of `N` words into one token (a uni-gram token is just one word).  \n",
    "\n",
    "So we can convert `\"Sentence about flying cars\"` into a list of bigrams:\n",
    "\n",
    "> Sentence-about, about-flying, flying-cars  \n",
    "\n",
    "See my slide on N-Grams for a more comprehensive example: [click here](http://www.tiesdekok.com/AccountingNLP_Slides/#14)"
   ]
  },
  {
   "cell_type": "markdown",
   "metadata": {},
   "source": [
    "Using `NLTK`:"
   ]
  },
  {
   "cell_type": "code",
   "execution_count": 33,
   "metadata": {},
   "outputs": [
    {
     "data": {
      "text/plain": [
       "['are-likely', 'likely-to', 'to-be', 'be-held', 'held-back']"
      ]
     },
     "execution_count": 33,
     "metadata": {},
     "output_type": "execute_result"
    }
   ],
   "source": [
    "bigram_list = ['-'.join(x) for x in nltk.bigrams([token.text for token in example_sentence])]\n",
    "bigram_list[10:15]"
   ]
  },
  {
   "cell_type": "markdown",
   "metadata": {
    "collapsed": true
   },
   "source": [
    "### <span style=\"text-decoration: underline;\">Stop words</span><a id='stop_words'></a> [(to top)](#toc)"
   ]
  },
  {
   "cell_type": "markdown",
   "metadata": {},
   "source": [
    "Depending on what you are trying to do it is possible that there are many words that don't add any information value to the sentence.  \n",
    "\n",
    "The primary example are stop words.  \n",
    "\n",
    "Sometimes you can improve the accuracy of your model by removing stop words."
   ]
  },
  {
   "cell_type": "markdown",
   "metadata": {},
   "source": [
    "Using `Spacy`:"
   ]
  },
  {
   "cell_type": "code",
   "execution_count": 34,
   "metadata": {},
   "outputs": [],
   "source": [
    "no_stop_words = [token for token in example_sentence if not token.is_stop]"
   ]
  },
  {
   "cell_type": "code",
   "execution_count": 35,
   "metadata": {},
   "outputs": [
    {
     "data": {
      "text/plain": [
       "[Shares, brewing, -, -, leisure, group, Bass, Plc, likely, held]"
      ]
     },
     "execution_count": 35,
     "metadata": {},
     "output_type": "execute_result"
    }
   ],
   "source": [
    "no_stop_words[:10]"
   ]
  },
  {
   "cell_type": "code",
   "execution_count": 36,
   "metadata": {},
   "outputs": [
    {
     "data": {
      "text/plain": [
       "[Shares, in, brewing, -, to, -, leisure, group, Bass, Plc]"
      ]
     },
     "execution_count": 36,
     "metadata": {},
     "output_type": "execute_result"
    }
   ],
   "source": [
    "token_list[:10]"
   ]
  },
  {
   "cell_type": "markdown",
   "metadata": {},
   "source": [
    "*Note* we can also remove punctuation in the same way:"
   ]
  },
  {
   "cell_type": "code",
   "execution_count": 37,
   "metadata": {},
   "outputs": [
    {
     "data": {
      "text/plain": [
       "[Shares, in, brewing, to, leisure]"
      ]
     },
     "execution_count": 37,
     "metadata": {},
     "output_type": "execute_result"
    }
   ],
   "source": [
    "[token for token in example_sentence if not token.is_punct][:5]"
   ]
  },
  {
   "cell_type": "markdown",
   "metadata": {},
   "source": [
    "## Wrap everything into one function"
   ]
  },
  {
   "cell_type": "markdown",
   "metadata": {},
   "source": [
    "Below I will primarily use `SpaCy` directly. However, I also recommend to check out the high-level wrapper `Textacy`.\n",
    "\n",
    "See their GitHub page for details: https://github.com/chartbeat-labs/textacy"
   ]
  },
  {
   "cell_type": "markdown",
   "metadata": {},
   "source": [
    "### Quick `Textacy` example"
   ]
  },
  {
   "cell_type": "code",
   "execution_count": 38,
   "metadata": {},
   "outputs": [],
   "source": [
    "import textacy"
   ]
  },
  {
   "cell_type": "code",
   "execution_count": 39,
   "metadata": {},
   "outputs": [],
   "source": [
    "example_text = text_dict['test']['TimFarrand'][0]"
   ]
  },
  {
   "cell_type": "code",
   "execution_count": 40,
   "metadata": {},
   "outputs": [],
   "source": [
    "cleaned_text = textacy.preprocess_text(example_text, lowercase=True, fix_unicode=True, no_punct=True)"
   ]
  },
  {
   "cell_type": "markdown",
   "metadata": {},
   "source": [
    "** Basic SpaCy text processing function **"
   ]
  },
  {
   "cell_type": "markdown",
   "metadata": {},
   "source": [
    "1. Split into sentences\n",
    "2. Apply lemmatizer and remove top words\n",
    "3. Clean up the sentence using `textacy`"
   ]
  },
  {
   "cell_type": "code",
   "execution_count": 41,
   "metadata": {},
   "outputs": [],
   "source": [
    "def process_text_custom(text):\n",
    "    sentences = list(parser(text).sents)\n",
    "    lemmatized_sentences = []\n",
    "    for sentence in sentences:\n",
    "        lemmatized_sentences.append([token.lemma_ for token in sentence if not token.is_stop | token.is_punct | token.is_space])\n",
    "    return [parser(' '.join(sentence)) for sentence in lemmatized_sentences]"
   ]
  },
  {
   "cell_type": "code",
   "execution_count": 42,
   "metadata": {},
   "outputs": [
    {
     "name": "stdout",
     "output_type": "stream",
     "text": [
      "Wall time: 14min 45s\n"
     ]
    }
   ],
   "source": [
    "%%time\n",
    "spacy_text_clean = {}\n",
    "for author, text_list in text_dict['test'].items():\n",
    "    lst = []\n",
    "    for text in text_list:\n",
    "        lst.append(process_text_custom(text))\n",
    "    spacy_text_clean[author] = lst"
   ]
  },
  {
   "cell_type": "markdown",
   "metadata": {},
   "source": [
    "Note that there are quite a lot of sentences (~52K) so this takes a bit of time (~ 2 minutes)."
   ]
  },
  {
   "cell_type": "code",
   "execution_count": 43,
   "metadata": {},
   "outputs": [
    {
     "name": "stdout",
     "output_type": "stream",
     "text": [
      "Number of sentences: 56125\n"
     ]
    }
   ],
   "source": [
    "count = 0\n",
    "for author, texts in spacy_text_clean.items():\n",
    "    for text in texts:\n",
    "        count += len(text)\n",
    "print('Number of sentences:', count)"
   ]
  },
  {
   "cell_type": "markdown",
   "metadata": {},
   "source": [
    "Result"
   ]
  },
  {
   "cell_type": "code",
   "execution_count": 44,
   "metadata": {},
   "outputs": [
    {
     "data": {
      "text/plain": [
       "[share brewing leisure group bass plc likely hold britain 's trade industry secretary ian lang decide allow propose merge brewer carlsberg tetley say analyst,\n",
       " early lang announce bass deal refer monoplies mergers commission report march 24 1997,\n",
       " the share fall 6p 781p news]"
      ]
     },
     "execution_count": 44,
     "metadata": {},
     "output_type": "execute_result"
    }
   ],
   "source": [
    "spacy_text_clean['TimFarrand'][0][:3]"
   ]
  },
  {
   "cell_type": "markdown",
   "metadata": {
    "collapsed": true
   },
   "source": [
    "# <span style=\"text-decoration: underline;\">Direct feature extraction</span><a id='feature_extract'></a> [(to top)](#toc)"
   ]
  },
  {
   "cell_type": "markdown",
   "metadata": {},
   "source": [
    "We now have pre-processed our text into something that we can use for direct feature extraction or to convert it to a numerical representation. "
   ]
  },
  {
   "cell_type": "markdown",
   "metadata": {
    "collapsed": true
   },
   "source": [
    "## <span style=\"text-decoration: underline;\">Feature search</span><a id='feature_search'></a> [(to top)](#toc)"
   ]
  },
  {
   "cell_type": "markdown",
   "metadata": {
    "collapsed": true
   },
   "source": [
    "### <span style=\"text-decoration: underline;\">Entity recognition</span><a id='entity_recognition'></a> [(to top)](#toc)"
   ]
  },
  {
   "cell_type": "markdown",
   "metadata": {},
   "source": [
    "It is often useful / relevant to extract entities that are mentioned in a piece of text.   \n",
    "\n",
    "SpaCy is quite powerful in extracting entities, however, it doesn't work very well on lowercase text.  \n",
    "\n",
    "Given that \"token.lemma\\_\" removes capitalization I will use `spacy_sentences` for this example."
   ]
  },
  {
   "cell_type": "code",
   "execution_count": 46,
   "metadata": {},
   "outputs": [
    {
     "data": {
      "text/plain": [
       "\"The stock is probably dead in the water until March,\" said John Wakley, analyst at Lehman Brothers.  \n",
       " "
      ]
     },
     "execution_count": 46,
     "metadata": {},
     "output_type": "execute_result"
    }
   ],
   "source": [
    "example_sentence = spacy_sentences['TimFarrand'][0][3]\n",
    "example_sentence"
   ]
  },
  {
   "cell_type": "code",
   "execution_count": 47,
   "metadata": {},
   "outputs": [
    {
     "data": {
      "text/plain": [
       "[(March, 'DATE'), (John Wakley, 'PERSON'), (Lehman Brothers, 'ORG')]"
      ]
     },
     "execution_count": 47,
     "metadata": {},
     "output_type": "execute_result"
    }
   ],
   "source": [
    "[(i, i.label_) for i in parser(example_sentence.text).ents]"
   ]
  },
  {
   "cell_type": "code",
   "execution_count": 48,
   "metadata": {},
   "outputs": [
    {
     "data": {
      "text/plain": [
       "British pub-to-hotel group Greenalls Plc on Thursday reported a 48 percent rise in profits before exceptional items to 148.7 million pounds ($246.4 million), driven by its acquisition of brewer Boddington in November 1995.\n",
       " "
      ]
     },
     "execution_count": 48,
     "metadata": {},
     "output_type": "execute_result"
    }
   ],
   "source": [
    "example_sentence = spacy_sentences['TimFarrand'][4][0]\n",
    "example_sentence"
   ]
  },
  {
   "cell_type": "code",
   "execution_count": 49,
   "metadata": {},
   "outputs": [
    {
     "data": {
      "text/plain": [
       "[(British, 'NORP'),\n",
       " (Greenalls Plc, 'PERSON'),\n",
       " (Thursday, 'DATE'),\n",
       " (48 percent, 'PERCENT'),\n",
       " (148.7 million pounds, 'MONEY'),\n",
       " ($246.4 million, 'MONEY'),\n",
       " (Boddington, 'GPE'),\n",
       " (November 1995, 'DATE')]"
      ]
     },
     "execution_count": 49,
     "metadata": {},
     "output_type": "execute_result"
    }
   ],
   "source": [
    "[(i, i.label_) for i in parser(example_sentence.text).ents]"
   ]
  },
  {
   "cell_type": "markdown",
   "metadata": {
    "collapsed": true
   },
   "source": [
    "### <span style=\"text-decoration: underline;\">Pattern search</span><a id='pattern_search'></a> [(to top)](#toc)"
   ]
  },
  {
   "cell_type": "markdown",
   "metadata": {},
   "source": [
    "Using the build-in `re` (regular expression) library you can pattern match nearly anything you want.  \n",
    "\n",
    "I will not go into details about regular expressions but see here for a tutorial:  \n",
    "https://regexone.com/references/python  "
   ]
  },
  {
   "cell_type": "code",
   "execution_count": 50,
   "metadata": {},
   "outputs": [],
   "source": [
    "import re"
   ]
  },
  {
   "cell_type": "markdown",
   "metadata": {},
   "source": [
    "**TIP**: Use [Pythex.org](https://pythex.org/) to try out your regular expression\n",
    "\n",
    "Example on Pythex: <a href=\"https://pythex.org/?regex=IDNUMBER: (\\d\\d\\d-\\w\\w)&test_string=Ties de Kok (IDNUMBER: 123-AZ). Rest of Text.\" target='_blank'>click here</a>"
   ]
  },
  {
   "cell_type": "markdown",
   "metadata": {},
   "source": [
    "**Example 1:**  "
   ]
  },
  {
   "cell_type": "code",
   "execution_count": 51,
   "metadata": {},
   "outputs": [],
   "source": [
    "string_1 = 'Ties de Kok (#IDNUMBER: 123-AZ). Rest of text...'\n",
    "string_2 = 'Philip Joos (#IDNUMBER: 663-BY). Rest of text...'"
   ]
  },
  {
   "cell_type": "code",
   "execution_count": 52,
   "metadata": {},
   "outputs": [],
   "source": [
    "pattern = r'#IDNUMBER: (\\d\\d\\d-\\w\\w)'"
   ]
  },
  {
   "cell_type": "code",
   "execution_count": 53,
   "metadata": {},
   "outputs": [
    {
     "name": "stdout",
     "output_type": "stream",
     "text": [
      "123-AZ\n",
      "663-BY\n"
     ]
    }
   ],
   "source": [
    "print(re.findall(pattern, string_1)[0])\n",
    "print(re.findall(pattern, string_2)[0])"
   ]
  },
  {
   "cell_type": "markdown",
   "metadata": {},
   "source": [
    "### Example 2:"
   ]
  },
  {
   "cell_type": "markdown",
   "metadata": {},
   "source": [
    "If a sentence contains the word 'million' return True, otherwise return False"
   ]
  },
  {
   "cell_type": "code",
   "execution_count": 54,
   "metadata": {
    "scrolled": true
   },
   "outputs": [
    {
     "name": "stdout",
     "output_type": "stream",
     "text": [
      "analyst forecast pretax profit range 218 232 million stg restructuring cost 206 million time\n",
      "a restructure cost 35 million anticipate bulk 25 million stem closure small production plant france\n",
      "cadbury 's u.s. drink business turn 112 million stg trading profit 59 million half 1995 entirely contribution dr pepper\n",
      "campbell estimate uk beverage contribute 47 million stg operating profit 50 million time\n",
      "broadly analyst expect pretty flat performance group 's confectionery business consensus forecast 110 million stg operating profit\n",
      "on average analyst calculate beverage chip trading profit 150 million\n",
      "after sale 51 percent stake coca cola amp schweppes beverages ccsb operation coca cola enterprises june 620 million stg analyst want clear statement strategy company\n",
      "but far analyst company say shareholder expect return investment emerge market large far 75 million russian plant\n",
      "cadbury announce investment 20 million stg build new plant wrocoaw poland 1993 joint venture china cost 20 million\n",
      "net debt 1.34 billion end 1995 fall 510 million end 1996 result ccsb sale provide acquisition\n"
     ]
    }
   ],
   "source": [
    "for sen in spacy_text_clean['TimFarrand'][2]:\n",
    "    TERM = 'million'\n",
    "    contains = True if re.search('million', sen.text) else False\n",
    "    if contains:\n",
    "        print(sen)"
   ]
  },
  {
   "cell_type": "markdown",
   "metadata": {
    "collapsed": true
   },
   "source": [
    "## <span style=\"text-decoration: underline;\">Text evaluation</span><a id='text_eval'></a> [(to top)](#toc)"
   ]
  },
  {
   "cell_type": "markdown",
   "metadata": {},
   "source": [
    "Besides feature search there are also many ways to analyze the text as a whole.  \n",
    "\n",
    "Let's, for example, evaluate the following paragraph:"
   ]
  },
  {
   "cell_type": "code",
   "execution_count": 55,
   "metadata": {},
   "outputs": [
    {
     "data": {
      "text/plain": [
       "\"soft drink confectionery group cadbury schweppes plc expect report solid percent rise half profit wednesday face question performance 7up soft drink u.s. one main question success relaunch 7up brand say mark duffy food manufacturing analyst sbc warburg competitor sprite own coca cola see agressive marketing push rank fast grow brand u.s. cadbury 's dr pepper analyst forecast pretax profit range 218 232 million stg restructuring cost 206 million time a dividend 5.1 penny expect 4.9p a restructure\""
      ]
     },
     "execution_count": 55,
     "metadata": {},
     "output_type": "execute_result"
    }
   ],
   "source": [
    "example_paragraph = ' '.join([x.text for x in spacy_text_clean['TimFarrand'][2]])\n",
    "example_paragraph[:500]"
   ]
  },
  {
   "cell_type": "markdown",
   "metadata": {
    "collapsed": true
   },
   "source": [
    "### <span style=\"text-decoration: underline;\">Language</span><a id='language'></a> [(to top)](#toc)"
   ]
  },
  {
   "cell_type": "markdown",
   "metadata": {},
   "source": [
    "Using the `langdetect` package it is easy to detect the language of a piece of text"
   ]
  },
  {
   "cell_type": "code",
   "execution_count": 57,
   "metadata": {},
   "outputs": [],
   "source": [
    "from langdetect import detect"
   ]
  },
  {
   "cell_type": "code",
   "execution_count": 58,
   "metadata": {},
   "outputs": [
    {
     "data": {
      "text/plain": [
       "'en'"
      ]
     },
     "execution_count": 58,
     "metadata": {},
     "output_type": "execute_result"
    }
   ],
   "source": [
    "detect(example_paragraph)"
   ]
  },
  {
   "cell_type": "markdown",
   "metadata": {
    "collapsed": true
   },
   "source": [
    "### <span style=\"text-decoration: underline;\">Readability</span><a id='readability'></a> [(to top)](#toc)"
   ]
  },
  {
   "cell_type": "markdown",
   "metadata": {},
   "source": [
    "Using the `textstat` package we can compute various readability metrics"
   ]
  },
  {
   "cell_type": "markdown",
   "metadata": {},
   "source": [
    "https://github.com/shivam5992/textstat"
   ]
  },
  {
   "cell_type": "code",
   "execution_count": 59,
   "metadata": {},
   "outputs": [],
   "source": [
    "from textstat.textstat import textstat"
   ]
  },
  {
   "cell_type": "code",
   "execution_count": 60,
   "metadata": {
    "scrolled": true
   },
   "outputs": [
    {
     "name": "stdout",
     "output_type": "stream",
     "text": [
      "21.2\n",
      "18.9\n",
      "20.5\n",
      "16.67\n",
      "26.0\n",
      "9.09\n",
      "89\n",
      "8.6\n",
      "27.120776699029125\n",
      "8th and 9th grade\n"
     ]
    }
   ],
   "source": [
    "print(textstat.flesch_reading_ease(example_paragraph))\n",
    "print(textstat.smog_index(example_paragraph))\n",
    "print(textstat.flesch_kincaid_grade(example_paragraph))\n",
    "print(textstat.coleman_liau_index(example_paragraph))\n",
    "print(textstat.automated_readability_index(example_paragraph))\n",
    "print(textstat.dale_chall_readability_score(example_paragraph))\n",
    "print(textstat.difficult_words(example_paragraph))\n",
    "print(textstat.linsear_write_formula(example_paragraph))\n",
    "print(textstat.gunning_fog(example_paragraph))\n",
    "print(textstat.text_standard(example_paragraph))"
   ]
  },
  {
   "cell_type": "markdown",
   "metadata": {},
   "source": [
    "## Text similarity"
   ]
  },
  {
   "cell_type": "code",
   "execution_count": 61,
   "metadata": {},
   "outputs": [],
   "source": [
    "from fuzzywuzzy import fuzz"
   ]
  },
  {
   "cell_type": "code",
   "execution_count": 62,
   "metadata": {},
   "outputs": [
    {
     "data": {
      "text/plain": [
       "91"
      ]
     },
     "execution_count": 62,
     "metadata": {},
     "output_type": "execute_result"
    }
   ],
   "source": [
    "fuzz.ratio(\"fuzzy wuzzy was a bear\", \"wuzzy fuzzy was a bear\")"
   ]
  },
  {
   "cell_type": "markdown",
   "metadata": {
    "collapsed": true
   },
   "source": [
    "### <span style=\"text-decoration: underline;\">Term (dictionary) counting</span><a id='dict_counting'></a> [(to top)](#toc)"
   ]
  },
  {
   "cell_type": "markdown",
   "metadata": {},
   "source": [
    "One of the most common techniques that researchers currently use (at least in Accounting research) are simple metrics based on counting words in a dictionary.  \n",
    "This technique is, for example, very prevalent in sentiment analysis (counting positive and negative words).  \n",
    "\n",
    "In essence this technique is very simple to program:"
   ]
  },
  {
   "cell_type": "markdown",
   "metadata": {},
   "source": [
    "### Example 1:"
   ]
  },
  {
   "cell_type": "code",
   "execution_count": 63,
   "metadata": {},
   "outputs": [],
   "source": [
    "word_dictionary = ['soft', 'first', 'most', 'be']"
   ]
  },
  {
   "cell_type": "code",
   "execution_count": 64,
   "metadata": {},
   "outputs": [
    {
     "name": "stdout",
     "output_type": "stream",
     "text": [
      "soft 3\n",
      "first 0\n",
      "most 1\n",
      "be 8\n"
     ]
    }
   ],
   "source": [
    "for word in word_dictionary:\n",
    "    print(word, example_paragraph.count(word))"
   ]
  },
  {
   "cell_type": "markdown",
   "metadata": {},
   "source": [
    "### Example 2:"
   ]
  },
  {
   "cell_type": "code",
   "execution_count": 65,
   "metadata": {},
   "outputs": [
    {
     "name": "stdout",
     "output_type": "stream",
     "text": [
      "3\n",
      "1\n"
     ]
    },
    {
     "data": {
      "text/plain": [
       "0.75"
      ]
     },
     "execution_count": 65,
     "metadata": {},
     "output_type": "execute_result"
    }
   ],
   "source": [
    "pos = ['great', 'increase']\n",
    "neg = ['bad', 'decrease']\n",
    "\n",
    "sentence = '''According to Trump everything is great, great, \n",
    "and great even though his popularity is seeing a decrease.'''\n",
    "\n",
    "pos_count = 0\n",
    "for word in pos:\n",
    "    pos_count += sentence.lower().count(word)\n",
    "print(pos_count)\n",
    "\n",
    "neg_count = 0\n",
    "for word in neg:\n",
    "    neg_count += sentence.lower().count(word)\n",
    "print(neg_count)\n",
    "\n",
    "pos_count / (neg_count + pos_count)"
   ]
  },
  {
   "cell_type": "code",
   "execution_count": 66,
   "metadata": {},
   "outputs": [],
   "source": [
    "sentence = '''According to Trump everything is great, great, \n",
    "and great even though his popularity is seeing a decrease.'''"
   ]
  },
  {
   "cell_type": "code",
   "execution_count": 67,
   "metadata": {},
   "outputs": [
    {
     "name": "stdout",
     "output_type": "stream",
     "text": [
      "3\n"
     ]
    }
   ],
   "source": [
    "pos_count = 0\n",
    "for word in pos:\n",
    "    pos_count += sentence.lower().count(word)\n",
    "print(pos_count)"
   ]
  },
  {
   "cell_type": "code",
   "execution_count": 68,
   "metadata": {},
   "outputs": [
    {
     "name": "stdout",
     "output_type": "stream",
     "text": [
      "1\n"
     ]
    }
   ],
   "source": [
    "neg_count = 0\n",
    "for word in neg:\n",
    "    neg_count += sentence.lower().count(word)\n",
    "print(neg_count)"
   ]
  },
  {
   "cell_type": "code",
   "execution_count": 69,
   "metadata": {},
   "outputs": [
    {
     "data": {
      "text/plain": [
       "0.75"
      ]
     },
     "execution_count": 69,
     "metadata": {},
     "output_type": "execute_result"
    }
   ],
   "source": [
    "pos_count / (neg_count + pos_count)"
   ]
  },
  {
   "cell_type": "markdown",
   "metadata": {},
   "source": [
    "Getting the total number of words is also easy:"
   ]
  },
  {
   "cell_type": "code",
   "execution_count": 70,
   "metadata": {},
   "outputs": [
    {
     "data": {
      "text/plain": [
       "419"
      ]
     },
     "execution_count": 70,
     "metadata": {},
     "output_type": "execute_result"
    }
   ],
   "source": [
    "len(parser(example_paragraph))"
   ]
  },
  {
   "cell_type": "markdown",
   "metadata": {},
   "source": [
    "#### Example 3:"
   ]
  },
  {
   "cell_type": "markdown",
   "metadata": {},
   "source": [
    "We can also save the count per word"
   ]
  },
  {
   "cell_type": "code",
   "execution_count": 71,
   "metadata": {},
   "outputs": [],
   "source": [
    "pos_count_dict = {}\n",
    "for word in pos:\n",
    "    pos_count_dict[word] = sentence.lower().count(word)"
   ]
  },
  {
   "cell_type": "code",
   "execution_count": 72,
   "metadata": {},
   "outputs": [
    {
     "data": {
      "text/plain": [
       "{'great': 3, 'increase': 0}"
      ]
     },
     "execution_count": 72,
     "metadata": {},
     "output_type": "execute_result"
    }
   ],
   "source": [
    "pos_count_dict"
   ]
  },
  {
   "cell_type": "markdown",
   "metadata": {
    "collapsed": true
   },
   "source": [
    "# <span style=\"text-decoration: underline;\">Represent text numerically</span><a id='text_numerical'></a> [(to top)](#toc)"
   ]
  },
  {
   "cell_type": "markdown",
   "metadata": {
    "collapsed": true
   },
   "source": [
    "## <span style=\"text-decoration: underline;\">Bag of Words</span><a id='bows'></a> [(to top)](#toc)"
   ]
  },
  {
   "cell_type": "markdown",
   "metadata": {},
   "source": [
    "Sklearn includes the `CountVectorizer` and `TfidfVectorizer` function.  \n",
    "\n",
    "For details, see the documentation:  \n",
    "[TF](http://scikit-learn.org/stable/modules/generated/sklearn.feature_extraction.text.CountVectorizer.html#sklearn.feature_extraction.text.CountVectorizer)  \n",
    "[TFIDF](http://scikit-learn.org/stable/modules/generated/sklearn.feature_extraction.text.TfidfVectorizer.html#sklearn.feature_extraction.text.TfidfVectorizer)\n",
    "\n",
    "Note 1: these functions also already includes a lot of preprocessing options (e.g. ngrames, remove stop words, accent stripper).\n",
    "\n",
    "Note 2: example based on the following website [click here](http://ethen8181.github.io/machine-learning/clustering_old/tf_idf/tf_idf.html)"
   ]
  },
  {
   "cell_type": "code",
   "execution_count": 73,
   "metadata": {},
   "outputs": [],
   "source": [
    "from sklearn.feature_extraction.text import CountVectorizer\n",
    "from sklearn.feature_extraction.text import TfidfVectorizer"
   ]
  },
  {
   "cell_type": "markdown",
   "metadata": {},
   "source": [
    "### Simple example:"
   ]
  },
  {
   "cell_type": "code",
   "execution_count": 74,
   "metadata": {},
   "outputs": [],
   "source": [
    "doc_1 = \"The sky is blue.\"\n",
    "doc_2 = \"The sun is bright today.\"\n",
    "doc_3 = \"The sun in the sky is bright.\"\n",
    "doc_4 = \"We can see the shining sun, the bright sun.\""
   ]
  },
  {
   "cell_type": "markdown",
   "metadata": {},
   "source": [
    "Calculate term frequency:"
   ]
  },
  {
   "cell_type": "code",
   "execution_count": 75,
   "metadata": {},
   "outputs": [],
   "source": [
    "vectorizer = CountVectorizer(stop_words='english')\n",
    "tf = vectorizer.fit_transform([doc_1, doc_2, doc_3, doc_4])"
   ]
  },
  {
   "cell_type": "code",
   "execution_count": 76,
   "metadata": {},
   "outputs": [
    {
     "name": "stdout",
     "output_type": "stream",
     "text": [
      "['blue', 'bright', 'shining', 'sky', 'sun', 'today']\n",
      "[1 0 0 1 0 0]\n",
      "[0 1 0 0 1 1]\n",
      "[0 1 0 1 1 0]\n",
      "[0 1 1 0 2 0]\n"
     ]
    }
   ],
   "source": [
    "print(vectorizer.get_feature_names())\n",
    "for doc_tf_vector in tf.toarray():\n",
    "    print(doc_tf_vector)"
   ]
  },
  {
   "cell_type": "markdown",
   "metadata": {
    "collapsed": true
   },
   "source": [
    "### <span style=\"text-decoration: underline;\">TF-IDF</span><a id='tfidf'></a> [(to top)](#toc)"
   ]
  },
  {
   "cell_type": "code",
   "execution_count": 77,
   "metadata": {},
   "outputs": [],
   "source": [
    "transformer = TfidfVectorizer(stop_words='english')\n",
    "tfidf = transformer.fit_transform([doc_1, doc_2, doc_3, doc_4])"
   ]
  },
  {
   "cell_type": "code",
   "execution_count": 78,
   "metadata": {
    "code_folding": []
   },
   "outputs": [
    {
     "name": "stdout",
     "output_type": "stream",
     "text": [
      "[0.78528828 0.         0.         0.6191303  0.         0.        ]\n",
      "[0.         0.47380449 0.         0.         0.47380449 0.74230628]\n",
      "[0.         0.53256952 0.         0.65782931 0.53256952 0.        ]\n",
      "[0.         0.36626037 0.57381765 0.         0.73252075 0.        ]\n"
     ]
    }
   ],
   "source": [
    "for doc_vector in tfidf.toarray():\n",
    "    print(doc_vector)"
   ]
  },
  {
   "cell_type": "markdown",
   "metadata": {},
   "source": [
    "### More elaborate example:"
   ]
  },
  {
   "cell_type": "code",
   "execution_count": 79,
   "metadata": {},
   "outputs": [],
   "source": [
    "clean_paragraphs = []\n",
    "for author, value in spacy_text_clean.items():\n",
    "    for article in value:\n",
    "        clean_paragraphs.append(' '.join([x.text for x in article]))"
   ]
  },
  {
   "cell_type": "code",
   "execution_count": 80,
   "metadata": {},
   "outputs": [
    {
     "data": {
      "text/plain": [
       "2500"
      ]
     },
     "execution_count": 80,
     "metadata": {},
     "output_type": "execute_result"
    }
   ],
   "source": [
    "len(clean_paragraphs)"
   ]
  },
  {
   "cell_type": "code",
   "execution_count": 81,
   "metadata": {},
   "outputs": [],
   "source": [
    "transformer = TfidfVectorizer(stop_words='english')\n",
    "tfidf_large = transformer.fit_transform(clean_paragraphs)"
   ]
  },
  {
   "cell_type": "code",
   "execution_count": 82,
   "metadata": {},
   "outputs": [
    {
     "name": "stdout",
     "output_type": "stream",
     "text": [
      "Number of vectors: 2500\n",
      "Number of words in dictionary: 24092\n"
     ]
    }
   ],
   "source": [
    "print('Number of vectors:', len(tfidf_large.toarray()))\n",
    "print('Number of words in dictionary:', len(tfidf_large.toarray()[0]))"
   ]
  },
  {
   "cell_type": "code",
   "execution_count": 83,
   "metadata": {},
   "outputs": [
    {
     "data": {
      "text/plain": [
       "<2500x24092 sparse matrix of type '<class 'numpy.float64'>'\n",
       "\twith 446676 stored elements in Compressed Sparse Row format>"
      ]
     },
     "execution_count": 83,
     "metadata": {},
     "output_type": "execute_result"
    }
   ],
   "source": [
    "tfidf_large"
   ]
  },
  {
   "cell_type": "markdown",
   "metadata": {
    "collapsed": true
   },
   "source": [
    "## <span style=\"text-decoration: underline;\">Word Embeddings</span><a id='word_embed'></a> [(to top)](#toc)"
   ]
  },
  {
   "cell_type": "markdown",
   "metadata": {
    "collapsed": true
   },
   "source": [
    "### <span style=\"text-decoration: underline;\">Word2Vec</span><a id='Word2Vec'></a> [(to top)](#toc)"
   ]
  },
  {
   "cell_type": "markdown",
   "metadata": {},
   "source": [
    "Simple example below is from:  https://medium.com/@mishra.thedeepak/word2vec-in-minutes-gensim-nlp-python-6940f4e00980"
   ]
  },
  {
   "cell_type": "code",
   "execution_count": 79,
   "metadata": {
    "collapsed": true
   },
   "outputs": [],
   "source": [
    "import gensim\n",
    "from nltk.corpus import brown"
   ]
  },
  {
   "cell_type": "code",
   "execution_count": 80,
   "metadata": {
    "collapsed": true
   },
   "outputs": [],
   "source": [
    "sentences = brown.sents()\n",
    "model = gensim.models.Word2Vec(sentences, min_count=1)"
   ]
  },
  {
   "cell_type": "markdown",
   "metadata": {},
   "source": [
    "Save model"
   ]
  },
  {
   "cell_type": "code",
   "execution_count": 81,
   "metadata": {
    "collapsed": true
   },
   "outputs": [],
   "source": [
    "model.save('brown_model')"
   ]
  },
  {
   "cell_type": "markdown",
   "metadata": {},
   "source": [
    "Load model"
   ]
  },
  {
   "cell_type": "code",
   "execution_count": 82,
   "metadata": {
    "collapsed": true
   },
   "outputs": [],
   "source": [
    "model = gensim.models.Word2Vec.load('brown_model')"
   ]
  },
  {
   "cell_type": "markdown",
   "metadata": {},
   "source": [
    "Find words most similar to 'mother':"
   ]
  },
  {
   "cell_type": "code",
   "execution_count": 83,
   "metadata": {},
   "outputs": [
    {
     "name": "stdout",
     "output_type": "stream",
     "text": [
      "[('father', 0.9751995801925659), ('husband', 0.9580737352371216), ('wife', 0.9531918168067932), ('son', 0.9327206611633301), ('voice', 0.9201934337615967), ('boy', 0.9148358106613159), ('friend', 0.9091534614562988), ('ache', 0.8969202041625977), ('parents', 0.8916678428649902), ('maid', 0.8907431960105896)]\n"
     ]
    }
   ],
   "source": [
    "print(model.most_similar(\"mother\"))"
   ]
  },
  {
   "cell_type": "markdown",
   "metadata": {},
   "source": [
    "Find the odd one out:"
   ]
  },
  {
   "cell_type": "code",
   "execution_count": 84,
   "metadata": {},
   "outputs": [
    {
     "name": "stdout",
     "output_type": "stream",
     "text": [
      "cereal\n"
     ]
    }
   ],
   "source": [
    "print(model.doesnt_match(\"breakfast cereal dinner lunch\".split()))"
   ]
  },
  {
   "cell_type": "code",
   "execution_count": 85,
   "metadata": {},
   "outputs": [
    {
     "name": "stdout",
     "output_type": "stream",
     "text": [
      "garden\n"
     ]
    }
   ],
   "source": [
    "print(model.doesnt_match(\"pizza pasta garden fries\".split()))"
   ]
  },
  {
   "cell_type": "markdown",
   "metadata": {},
   "source": [
    "Retrieve vector representation of the word \"human\""
   ]
  },
  {
   "cell_type": "code",
   "execution_count": 86,
   "metadata": {},
   "outputs": [
    {
     "data": {
      "text/plain": [
       "array([ -1.24233282e+00,   1.73863158e-01,  -6.12607360e-01,\n",
       "        -5.31224608e-01,   2.60317028e-01,  -3.56246114e-01,\n",
       "        -5.06218493e-01,  -1.15960002e-01,   3.04902345e-01,\n",
       "        -1.21463396e-01,   4.93332326e-01,  -9.75235820e-01,\n",
       "         3.44474047e-01,   9.77401040e-04,   5.05028106e-02,\n",
       "        -3.87262404e-01,   4.93362129e-01,   7.00087488e-01,\n",
       "        -6.27336025e-01,  -4.63026613e-01,   2.79739406e-02,\n",
       "         1.45691419e+00,   4.07162786e-01,  -4.19379741e-01,\n",
       "        -8.41612220e-01,   8.46711546e-02,   3.03834379e-01,\n",
       "        -5.89724183e-01,  -5.50288737e-01,   1.14675418e-01,\n",
       "        -9.28169414e-02,  -5.00818849e-01,   1.74140222e-02,\n",
       "         2.45587930e-01,   9.37732458e-02,  -6.30766377e-02,\n",
       "         3.79322648e-01,  -9.30945396e-01,   1.81099728e-01,\n",
       "         4.46529061e-01,   5.09826422e-01,  -4.00113940e-01,\n",
       "        -3.06686193e-01,   5.83700202e-02,  -1.30845475e+00,\n",
       "        -8.19562197e-01,  -1.43999264e-01,  -1.79302439e-01,\n",
       "        -9.88642037e-01,   6.19562924e-01,  -5.98924696e-01,\n",
       "        -3.26148927e-01,  -2.68154591e-01,   1.32927846e-03,\n",
       "         4.15733218e-01,   4.20322359e-01,   2.24591553e-01,\n",
       "        -8.06021392e-02,   1.66282967e-01,  -5.05886197e-01,\n",
       "         4.11779553e-01,   2.37013131e-01,   9.44843650e-01,\n",
       "         1.08043969e+00,   1.97366968e-01,  -2.09960312e-01,\n",
       "        -2.96899788e-02,   6.43389523e-01,  -9.92119789e-01,\n",
       "        -5.22915125e-02,  -4.15121198e-01,   6.58638895e-01,\n",
       "        -4.61580336e-01,  -1.06919587e+00,  -3.75133425e-01,\n",
       "        -2.02061430e-01,   1.24140203e+00,   2.50428259e-01,\n",
       "         6.01192236e-01,   4.85432506e-01,   1.26407454e-02,\n",
       "         7.29153931e-01,  -1.80993602e-01,  -9.56271172e-01,\n",
       "         1.91430658e-01,   5.62396646e-01,  -1.07690930e+00,\n",
       "        -7.97812045e-01,  -8.85272324e-01,  -1.71307661e-02,\n",
       "        -4.96744901e-01,   7.43289739e-02,  -8.02996099e-01,\n",
       "        -3.25119644e-01,   1.37371510e-01,  -6.58412039e-01,\n",
       "        -4.42930400e-01,  -6.37149692e-01,  -3.13979797e-02,\n",
       "        -1.62613422e-01], dtype=float32)"
      ]
     },
     "execution_count": 86,
     "metadata": {},
     "output_type": "execute_result"
    }
   ],
   "source": [
    "model['human']"
   ]
  },
  {
   "cell_type": "markdown",
   "metadata": {
    "collapsed": true
   },
   "source": [
    "# <span style=\"text-decoration: underline;\">Statistical models</span><a id='stat_models'></a> [(to top)](#toc)"
   ]
  },
  {
   "cell_type": "markdown",
   "metadata": {
    "collapsed": true
   },
   "source": [
    "## <span style=\"text-decoration: underline;\">\"Traditional\" machine learning</span><a id='trad_ml'></a> [(to top)](#toc)"
   ]
  },
  {
   "cell_type": "markdown",
   "metadata": {},
   "source": [
    "The library to use for machine learning is scikit-learn ([\"sklearn\"](http://scikit-learn.org/stable/index.html))."
   ]
  },
  {
   "cell_type": "markdown",
   "metadata": {
    "collapsed": true
   },
   "source": [
    "## <span>Supervised</span><a id='trad_ml_supervised'></a> [(to top)](#toc)"
   ]
  },
  {
   "cell_type": "code",
   "execution_count": 84,
   "metadata": {},
   "outputs": [],
   "source": [
    "from sklearn.model_selection import cross_val_score, KFold, train_test_split\n",
    "from sklearn.pipeline import Pipeline\n",
    "from sklearn.feature_extraction.text import TfidfVectorizer\n",
    "from sklearn import metrics\n",
    "from sklearn.externals import joblib"
   ]
  },
  {
   "cell_type": "code",
   "execution_count": 85,
   "metadata": {},
   "outputs": [],
   "source": [
    "import pandas as pd\n",
    "import numpy as np"
   ]
  },
  {
   "cell_type": "markdown",
   "metadata": {},
   "source": [
    "### Convert the data into a pandas dataframe (so that we can input it easier)"
   ]
  },
  {
   "cell_type": "code",
   "execution_count": 86,
   "metadata": {},
   "outputs": [],
   "source": [
    "article_list = []\n",
    "for author, value in spacy_text_clean.items():\n",
    "    for article in value:\n",
    "        article_list.append((author, ' '.join([x.text for x in article])))"
   ]
  },
  {
   "cell_type": "code",
   "execution_count": 87,
   "metadata": {},
   "outputs": [],
   "source": [
    "article_df = pd.DataFrame(article_list, columns=['author', 'text'])"
   ]
  },
  {
   "cell_type": "code",
   "execution_count": 88,
   "metadata": {},
   "outputs": [
    {
     "data": {
      "text/html": [
       "<div>\n",
       "<style scoped>\n",
       "    .dataframe tbody tr th:only-of-type {\n",
       "        vertical-align: middle;\n",
       "    }\n",
       "\n",
       "    .dataframe tbody tr th {\n",
       "        vertical-align: top;\n",
       "    }\n",
       "\n",
       "    .dataframe thead th {\n",
       "        text-align: right;\n",
       "    }\n",
       "</style>\n",
       "<table border=\"1\" class=\"dataframe\">\n",
       "  <thead>\n",
       "    <tr style=\"text-align: right;\">\n",
       "      <th></th>\n",
       "      <th>author</th>\n",
       "      <th>text</th>\n",
       "    </tr>\n",
       "  </thead>\n",
       "  <tbody>\n",
       "    <tr>\n",
       "      <th>384</th>\n",
       "      <td>DavidLawder</td>\n",
       "      <td>chrysler corp. report record earning 1996 base...</td>\n",
       "    </tr>\n",
       "    <tr>\n",
       "      <th>377</th>\n",
       "      <td>DavidLawder</td>\n",
       "      <td>tease automotive world glimpse possible produc...</td>\n",
       "    </tr>\n",
       "    <tr>\n",
       "      <th>2114</th>\n",
       "      <td>SarahDavison</td>\n",
       "      <td>a widespread shake hit highly competitive fund...</td>\n",
       "    </tr>\n",
       "    <tr>\n",
       "      <th>737</th>\n",
       "      <td>JanLopatka</td>\n",
       "      <td>engineering group skoda a.s say tuesday win or...</td>\n",
       "    </tr>\n",
       "    <tr>\n",
       "      <th>2070</th>\n",
       "      <td>SamuelPerry</td>\n",
       "      <td>intel corp. executive say late tuesday company...</td>\n",
       "    </tr>\n",
       "  </tbody>\n",
       "</table>\n",
       "</div>"
      ],
      "text/plain": [
       "            author                                               text\n",
       "384    DavidLawder  chrysler corp. report record earning 1996 base...\n",
       "377    DavidLawder  tease automotive world glimpse possible produc...\n",
       "2114  SarahDavison  a widespread shake hit highly competitive fund...\n",
       "737     JanLopatka  engineering group skoda a.s say tuesday win or...\n",
       "2070   SamuelPerry  intel corp. executive say late tuesday company..."
      ]
     },
     "execution_count": 88,
     "metadata": {},
     "output_type": "execute_result"
    }
   ],
   "source": [
    "article_df.sample(5)"
   ]
  },
  {
   "cell_type": "markdown",
   "metadata": {},
   "source": [
    "### Split the sample into a training and test sample"
   ]
  },
  {
   "cell_type": "code",
   "execution_count": 89,
   "metadata": {},
   "outputs": [],
   "source": [
    "X_train, X_test, y_train, y_test = train_test_split(article_df.text, article_df.author, test_size=0.20, random_state=3561)"
   ]
  },
  {
   "cell_type": "code",
   "execution_count": 90,
   "metadata": {},
   "outputs": [
    {
     "name": "stdout",
     "output_type": "stream",
     "text": [
      "2000 500\n"
     ]
    }
   ],
   "source": [
    "print(len(X_train), len(X_test))"
   ]
  },
  {
   "cell_type": "markdown",
   "metadata": {},
   "source": [
    "### Train and evaluate function"
   ]
  },
  {
   "cell_type": "markdown",
   "metadata": {},
   "source": [
    "Simple function to train (i.e. fit) and evaluate the model"
   ]
  },
  {
   "cell_type": "code",
   "execution_count": 91,
   "metadata": {},
   "outputs": [],
   "source": [
    "def train_and_evaluate(clf, X_train, X_test, y_train, y_test):\n",
    "    \n",
    "    clf.fit(X_train, y_train)\n",
    "    \n",
    "    print(\"Accuracy on training set:\")\n",
    "    print(clf.score(X_train, y_train))\n",
    "    print(\"Accuracy on testing set:\")\n",
    "    print(clf.score(X_test, y_test))\n",
    "    \n",
    "    y_pred = clf.predict(X_test)\n",
    "    \n",
    "    print(\"Classification Report:\")\n",
    "    print(metrics.classification_report(y_test, y_pred))"
   ]
  },
  {
   "cell_type": "markdown",
   "metadata": {
    "collapsed": true
   },
   "source": [
    "### <span>Naïve Bayes estimator</span><a id='trad_ml_supervised_nb'></a> [(to top)](#toc)"
   ]
  },
  {
   "cell_type": "code",
   "execution_count": 92,
   "metadata": {},
   "outputs": [],
   "source": [
    "from sklearn.naive_bayes import MultinomialNB"
   ]
  },
  {
   "cell_type": "markdown",
   "metadata": {},
   "source": [
    "Define pipeline"
   ]
  },
  {
   "cell_type": "code",
   "execution_count": 93,
   "metadata": {},
   "outputs": [],
   "source": [
    "clf = Pipeline([\n",
    "    ('vect', TfidfVectorizer(strip_accents='unicode',\n",
    "                             lowercase = True,\n",
    "                            max_features = 1500,\n",
    "                            stop_words='english'\n",
    "                            )),\n",
    "        \n",
    "    ('clf', MultinomialNB(alpha = 1,\n",
    "                          fit_prior = True\n",
    "                          )\n",
    "    ),\n",
    "])"
   ]
  },
  {
   "cell_type": "markdown",
   "metadata": {},
   "source": [
    "Train and show evaluation stats"
   ]
  },
  {
   "cell_type": "code",
   "execution_count": 94,
   "metadata": {},
   "outputs": [
    {
     "name": "stdout",
     "output_type": "stream",
     "text": [
      "Accuracy on training set:\n",
      "0.8345\n",
      "Accuracy on testing set:\n",
      "0.714\n",
      "Classification Report:\n",
      "                   precision    recall  f1-score   support\n",
      "\n",
      "    AaronPressman       0.90      1.00      0.95         9\n",
      "       AlanCrosby       0.55      0.92      0.69        12\n",
      "   AlexanderSmith       0.86      0.60      0.71        10\n",
      "  BenjaminKangLim       0.75      0.27      0.40        11\n",
      "    BernardHickey       0.75      0.30      0.43        10\n",
      "      BradDorfman       0.80      1.00      0.89         8\n",
      " DarrenSchuettler       0.58      0.78      0.67         9\n",
      "      DavidLawder       1.00      0.60      0.75        10\n",
      "    EdnaFernandes       1.00      0.67      0.80         9\n",
      "      EricAuchard       0.86      0.67      0.75         9\n",
      "   FumikoFujisaki       1.00      1.00      1.00        10\n",
      "   GrahamEarnshaw       0.59      1.00      0.74        10\n",
      " HeatherScoffield       0.83      0.56      0.67         9\n",
      "       JanLopatka       0.33      0.33      0.33         9\n",
      "    JaneMacartney       0.35      0.60      0.44        10\n",
      "     JimGilchrist       0.73      1.00      0.84         8\n",
      "   JoWinterbottom       0.89      0.80      0.84        10\n",
      "         JoeOrtiz       0.80      0.89      0.84         9\n",
      "     JohnMastrini       0.80      0.24      0.36        17\n",
      "     JonathanBirt       0.47      1.00      0.64         8\n",
      "      KarlPenhaul       0.87      1.00      0.93        13\n",
      "        KeithWeir       0.69      0.90      0.78        10\n",
      "   KevinDrawbaugh       0.88      0.70      0.78        10\n",
      "    KevinMorrison       0.33      1.00      0.50         3\n",
      "    KirstinRidley       0.86      0.67      0.75         9\n",
      "KouroshKarimkhany       0.58      0.88      0.70         8\n",
      "        LydiaZajc       0.82      0.90      0.86        10\n",
      "   LynneO'Donnell       0.80      0.73      0.76        11\n",
      "  LynnleyBrowning       0.93      1.00      0.96        13\n",
      "  MarcelMichelson       1.00      0.50      0.67        12\n",
      "     MarkBendeich       0.83      0.45      0.59        11\n",
      "       MartinWolk       0.57      0.80      0.67         5\n",
      "     MatthewBunce       1.00      0.86      0.92        14\n",
      "    MichaelConnor       0.83      0.77      0.80        13\n",
      "       MureDickie       0.44      0.40      0.42        10\n",
      "        NickLouth       0.83      1.00      0.91        10\n",
      "  PatriciaCommins       0.80      0.89      0.84         9\n",
      "    PeterHumphrey       0.38      0.89      0.53         9\n",
      "       PierreTran       0.56      0.83      0.67         6\n",
      "       RobinSidel       1.00      1.00      1.00        12\n",
      "     RogerFillion       1.00      1.00      1.00         8\n",
      "      SamuelPerry       0.78      0.50      0.61        14\n",
      "     SarahDavison       1.00      0.29      0.44        14\n",
      "      ScottHillis       0.36      0.44      0.40         9\n",
      "      SimonCowell       0.90      0.90      0.90        10\n",
      "         TanEeLyn       0.67      0.57      0.62         7\n",
      "   TheresePoletti       0.73      0.73      0.73        11\n",
      "       TimFarrand       1.00      0.77      0.87        13\n",
      "       ToddNissen       0.60      1.00      0.75         9\n",
      "     WilliamKazer       0.00      0.00      0.00        10\n",
      "\n",
      "      avg / total       0.76      0.71      0.70       500\n",
      "\n"
     ]
    }
   ],
   "source": [
    "train_and_evaluate(clf, X_train, X_test, y_train, y_test)"
   ]
  },
  {
   "cell_type": "markdown",
   "metadata": {},
   "source": [
    "Save results"
   ]
  },
  {
   "cell_type": "code",
   "execution_count": 95,
   "metadata": {},
   "outputs": [
    {
     "data": {
      "text/plain": [
       "['naive_bayes_results.pkl']"
      ]
     },
     "execution_count": 95,
     "metadata": {},
     "output_type": "execute_result"
    }
   ],
   "source": [
    "joblib.dump(clf, 'naive_bayes_results.pkl')"
   ]
  },
  {
   "cell_type": "markdown",
   "metadata": {},
   "source": [
    "Predict out of sample:"
   ]
  },
  {
   "cell_type": "code",
   "execution_count": 96,
   "metadata": {},
   "outputs": [],
   "source": [
    "example_y, example_X = y_train[33], X_train[33]"
   ]
  },
  {
   "cell_type": "code",
   "execution_count": 97,
   "metadata": {},
   "outputs": [
    {
     "name": "stdout",
     "output_type": "stream",
     "text": [
      "Actual author: AaronPressman\n",
      "Predicted author: AaronPressman\n"
     ]
    }
   ],
   "source": [
    "print('Actual author:', example_y)\n",
    "print('Predicted author:', clf.predict([example_X])[0])"
   ]
  },
  {
   "cell_type": "markdown",
   "metadata": {
    "collapsed": true
   },
   "source": [
    "### <span>Support Vector Machines (SVM)</span><a id='trad_ml_supervised_svm'></a> [(to top)](#toc)"
   ]
  },
  {
   "cell_type": "code",
   "execution_count": 98,
   "metadata": {},
   "outputs": [],
   "source": [
    "from sklearn.svm import SVC"
   ]
  },
  {
   "cell_type": "markdown",
   "metadata": {},
   "source": [
    "Define pipeline"
   ]
  },
  {
   "cell_type": "code",
   "execution_count": 99,
   "metadata": {},
   "outputs": [],
   "source": [
    "clf_svm = Pipeline([\n",
    "    ('vect', TfidfVectorizer(strip_accents='unicode',\n",
    "                             lowercase = True,\n",
    "                            max_features = 1500,\n",
    "                            stop_words='english'\n",
    "                            )),\n",
    "        \n",
    "    ('clf', SVC(kernel='rbf' ,\n",
    "                C=10, gamma=0.3)\n",
    "    ),\n",
    "])"
   ]
  },
  {
   "cell_type": "markdown",
   "metadata": {},
   "source": [
    "*Note:* The SVC estimator is very sensitive to the hyperparameters!"
   ]
  },
  {
   "cell_type": "markdown",
   "metadata": {},
   "source": [
    "Train and show evaluation stats"
   ]
  },
  {
   "cell_type": "code",
   "execution_count": 100,
   "metadata": {},
   "outputs": [
    {
     "name": "stdout",
     "output_type": "stream",
     "text": [
      "Accuracy on training set:\n",
      "0.9965\n",
      "Accuracy on testing set:\n",
      "0.83\n",
      "Classification Report:\n",
      "                   precision    recall  f1-score   support\n",
      "\n",
      "    AaronPressman       0.89      0.89      0.89         9\n",
      "       AlanCrosby       0.79      0.92      0.85        12\n",
      "   AlexanderSmith       1.00      0.70      0.82        10\n",
      "  BenjaminKangLim       0.67      0.36      0.47        11\n",
      "    BernardHickey       1.00      0.50      0.67        10\n",
      "      BradDorfman       0.70      0.88      0.78         8\n",
      " DarrenSchuettler       1.00      0.89      0.94         9\n",
      "      DavidLawder       1.00      0.70      0.82        10\n",
      "    EdnaFernandes       0.73      0.89      0.80         9\n",
      "      EricAuchard       0.69      1.00      0.82         9\n",
      "   FumikoFujisaki       1.00      1.00      1.00        10\n",
      "   GrahamEarnshaw       0.77      1.00      0.87        10\n",
      " HeatherScoffield       0.75      1.00      0.86         9\n",
      "       JanLopatka       0.43      0.33      0.38         9\n",
      "    JaneMacartney       0.36      0.50      0.42        10\n",
      "     JimGilchrist       0.89      1.00      0.94         8\n",
      "   JoWinterbottom       1.00      0.90      0.95        10\n",
      "         JoeOrtiz       0.82      1.00      0.90         9\n",
      "     JohnMastrini       0.76      0.76      0.76        17\n",
      "     JonathanBirt       0.80      1.00      0.89         8\n",
      "      KarlPenhaul       1.00      1.00      1.00        13\n",
      "        KeithWeir       0.83      1.00      0.91        10\n",
      "   KevinDrawbaugh       0.90      0.90      0.90        10\n",
      "    KevinMorrison       0.50      1.00      0.67         3\n",
      "    KirstinRidley       1.00      0.56      0.71         9\n",
      "KouroshKarimkhany       0.88      0.88      0.88         8\n",
      "        LydiaZajc       1.00      1.00      1.00        10\n",
      "   LynneO'Donnell       0.82      0.82      0.82        11\n",
      "  LynnleyBrowning       1.00      1.00      1.00        13\n",
      "  MarcelMichelson       1.00      0.75      0.86        12\n",
      "     MarkBendeich       0.85      1.00      0.92        11\n",
      "       MartinWolk       0.71      1.00      0.83         5\n",
      "     MatthewBunce       1.00      0.86      0.92        14\n",
      "    MichaelConnor       1.00      0.85      0.92        13\n",
      "       MureDickie       0.60      0.60      0.60        10\n",
      "        NickLouth       1.00      0.90      0.95        10\n",
      "  PatriciaCommins       1.00      1.00      1.00         9\n",
      "    PeterHumphrey       0.62      0.89      0.73         9\n",
      "       PierreTran       0.67      1.00      0.80         6\n",
      "       RobinSidel       1.00      1.00      1.00        12\n",
      "     RogerFillion       1.00      1.00      1.00         8\n",
      "      SamuelPerry       0.92      0.86      0.89        14\n",
      "     SarahDavison       1.00      0.64      0.78        14\n",
      "      ScottHillis       0.67      0.44      0.53         9\n",
      "      SimonCowell       1.00      0.90      0.95        10\n",
      "         TanEeLyn       0.71      0.71      0.71         7\n",
      "   TheresePoletti       0.92      1.00      0.96        11\n",
      "       TimFarrand       0.92      0.85      0.88        13\n",
      "       ToddNissen       0.90      1.00      0.95         9\n",
      "     WilliamKazer       0.20      0.20      0.20        10\n",
      "\n",
      "      avg / total       0.85      0.83      0.83       500\n",
      "\n"
     ]
    }
   ],
   "source": [
    "train_and_evaluate(clf_svm, X_train, X_test, y_train, y_test)"
   ]
  },
  {
   "cell_type": "markdown",
   "metadata": {},
   "source": [
    "Save results"
   ]
  },
  {
   "cell_type": "code",
   "execution_count": 101,
   "metadata": {},
   "outputs": [
    {
     "data": {
      "text/plain": [
       "['svm_results.pkl']"
      ]
     },
     "execution_count": 101,
     "metadata": {},
     "output_type": "execute_result"
    }
   ],
   "source": [
    "joblib.dump(clf_svm, 'svm_results.pkl')"
   ]
  },
  {
   "cell_type": "markdown",
   "metadata": {},
   "source": [
    "Predict out of sample:"
   ]
  },
  {
   "cell_type": "code",
   "execution_count": 102,
   "metadata": {},
   "outputs": [],
   "source": [
    "example_y, example_X = y_train[33], X_train[33]"
   ]
  },
  {
   "cell_type": "code",
   "execution_count": 103,
   "metadata": {},
   "outputs": [
    {
     "name": "stdout",
     "output_type": "stream",
     "text": [
      "Actual author: AaronPressman\n",
      "Predicted author: AaronPressman\n"
     ]
    }
   ],
   "source": [
    "print('Actual author:', example_y)\n",
    "print('Predicted author:', clf_svm.predict([example_X])[0])"
   ]
  },
  {
   "cell_type": "markdown",
   "metadata": {
    "collapsed": true
   },
   "source": [
    "## <span>Model Selection and Evaluation</span><a id='trad_ml_eval'></a> [(to top)](#toc)"
   ]
  },
  {
   "cell_type": "markdown",
   "metadata": {},
   "source": [
    "Both the `TfidfVectorizer` and `SVC()` estimator take a lot of hyperparameters.  \n",
    "\n",
    "It can be difficult to figure out what the best parameters are.\n",
    "\n",
    "We can use `GridSearchCV` to help figure this out."
   ]
  },
  {
   "cell_type": "code",
   "execution_count": 104,
   "metadata": {},
   "outputs": [],
   "source": [
    "from sklearn.model_selection import GridSearchCV\n",
    "from sklearn.metrics import make_scorer\n",
    "from sklearn.metrics import f1_score"
   ]
  },
  {
   "cell_type": "markdown",
   "metadata": {},
   "source": [
    "First we define the options that should be tried out:"
   ]
  },
  {
   "cell_type": "code",
   "execution_count": 105,
   "metadata": {},
   "outputs": [],
   "source": [
    "clf_search = Pipeline([\n",
    "    ('vect', TfidfVectorizer()),\n",
    "    ('clf', SVC())\n",
    "])\n",
    "parameters = { 'vect__stop_words': ['english'],\n",
    "                'vect__strip_accents': ['unicode'],\n",
    "              'vect__max_features' : [1500],\n",
    "              'vect__ngram_range': [(1,1), (2,2) ],\n",
    "             'clf__gamma' : [0.2, 0.3, 0.4], \n",
    "             'clf__C' : [8, 10, 12],\n",
    "              'clf__kernel' : ['rbf']\n",
    "             }"
   ]
  },
  {
   "cell_type": "markdown",
   "metadata": {},
   "source": [
    "Run everything:"
   ]
  },
  {
   "cell_type": "code",
   "execution_count": 106,
   "metadata": {},
   "outputs": [
    {
     "data": {
      "text/plain": [
       "GridSearchCV(cv=None, error_score='raise',\n",
       "       estimator=Pipeline(memory=None,\n",
       "     steps=[('vect', TfidfVectorizer(analyzer='word', binary=False, decode_error='strict',\n",
       "        dtype=<class 'numpy.int64'>, encoding='utf-8', input='content',\n",
       "        lowercase=True, max_df=1.0, max_features=None, min_df=1,\n",
       "        ngram_range=(1, 1), norm='l2', preprocessor=None, smooth_idf=True,\n",
       "  ...,\n",
       "  max_iter=-1, probability=False, random_state=None, shrinking=True,\n",
       "  tol=0.001, verbose=False))]),\n",
       "       fit_params=None, iid=True, n_jobs=1,\n",
       "       param_grid={'vect__stop_words': ['english'], 'vect__strip_accents': ['unicode'], 'vect__max_features': [1500], 'vect__ngram_range': [(1, 1), (2, 2)], 'clf__gamma': [0.2, 0.3, 0.4], 'clf__C': [8, 10, 12], 'clf__kernel': ['rbf']},\n",
       "       pre_dispatch='2*n_jobs', refit=True, return_train_score='warn',\n",
       "       scoring=make_scorer(f1_score, average=micro), verbose=0)"
      ]
     },
     "execution_count": 106,
     "metadata": {},
     "output_type": "execute_result"
    }
   ],
   "source": [
    "grid = GridSearchCV(clf_search, param_grid=parameters, scoring=make_scorer(f1_score, average='micro'), n_jobs=1)\n",
    "grid.fit(X_train, y_train)    "
   ]
  },
  {
   "cell_type": "markdown",
   "metadata": {},
   "source": [
    "*Note:* if you are on a powerful unix system you can set n_jobs to the number of available threads to speed up the calculation"
   ]
  },
  {
   "cell_type": "code",
   "execution_count": 107,
   "metadata": {},
   "outputs": [
    {
     "name": "stdout",
     "output_type": "stream",
     "text": [
      "The best parameters are {'clf__C': 12, 'clf__gamma': 0.4, 'clf__kernel': 'rbf', 'vect__max_features': 1500, 'vect__ngram_range': (1, 1), 'vect__stop_words': 'english', 'vect__strip_accents': 'unicode'} with a score of 0.77\n",
      "                   precision    recall  f1-score   support\n",
      "\n",
      "    AaronPressman       0.89      0.89      0.89         9\n",
      "       AlanCrosby       0.79      0.92      0.85        12\n",
      "   AlexanderSmith       1.00      0.70      0.82        10\n",
      "  BenjaminKangLim       0.67      0.36      0.47        11\n",
      "    BernardHickey       1.00      0.50      0.67        10\n",
      "      BradDorfman       0.70      0.88      0.78         8\n",
      " DarrenSchuettler       1.00      0.89      0.94         9\n",
      "      DavidLawder       1.00      0.70      0.82        10\n",
      "    EdnaFernandes       0.80      0.89      0.84         9\n",
      "      EricAuchard       0.75      1.00      0.86         9\n",
      "   FumikoFujisaki       1.00      1.00      1.00        10\n",
      "   GrahamEarnshaw       0.77      1.00      0.87        10\n",
      " HeatherScoffield       0.75      1.00      0.86         9\n",
      "       JanLopatka       0.43      0.33      0.38         9\n",
      "    JaneMacartney       0.36      0.50      0.42        10\n",
      "     JimGilchrist       0.89      1.00      0.94         8\n",
      "   JoWinterbottom       1.00      0.90      0.95        10\n",
      "         JoeOrtiz       0.75      1.00      0.86         9\n",
      "     JohnMastrini       0.76      0.76      0.76        17\n",
      "     JonathanBirt       0.80      1.00      0.89         8\n",
      "      KarlPenhaul       1.00      1.00      1.00        13\n",
      "        KeithWeir       0.83      1.00      0.91        10\n",
      "   KevinDrawbaugh       0.90      0.90      0.90        10\n",
      "    KevinMorrison       0.50      1.00      0.67         3\n",
      "    KirstinRidley       1.00      0.56      0.71         9\n",
      "KouroshKarimkhany       0.88      0.88      0.88         8\n",
      "        LydiaZajc       1.00      1.00      1.00        10\n",
      "   LynneO'Donnell       0.82      0.82      0.82        11\n",
      "  LynnleyBrowning       1.00      1.00      1.00        13\n",
      "  MarcelMichelson       1.00      0.75      0.86        12\n",
      "     MarkBendeich       0.85      1.00      0.92        11\n",
      "       MartinWolk       0.62      1.00      0.77         5\n",
      "     MatthewBunce       1.00      0.86      0.92        14\n",
      "    MichaelConnor       1.00      0.85      0.92        13\n",
      "       MureDickie       0.60      0.60      0.60        10\n",
      "        NickLouth       1.00      0.90      0.95        10\n",
      "  PatriciaCommins       1.00      1.00      1.00         9\n",
      "    PeterHumphrey       0.57      0.89      0.70         9\n",
      "       PierreTran       0.67      1.00      0.80         6\n",
      "       RobinSidel       1.00      1.00      1.00        12\n",
      "     RogerFillion       1.00      1.00      1.00         8\n",
      "      SamuelPerry       0.92      0.86      0.89        14\n",
      "     SarahDavison       1.00      0.64      0.78        14\n",
      "      ScottHillis       0.67      0.44      0.53         9\n",
      "      SimonCowell       1.00      0.90      0.95        10\n",
      "         TanEeLyn       0.67      0.57      0.62         7\n",
      "   TheresePoletti       0.92      1.00      0.96        11\n",
      "       TimFarrand       0.92      0.85      0.88        13\n",
      "       ToddNissen       0.90      1.00      0.95         9\n",
      "     WilliamKazer       0.20      0.20      0.20        10\n",
      "\n",
      "      avg / total       0.85      0.83      0.83       500\n",
      "\n"
     ]
    }
   ],
   "source": [
    "print(\"The best parameters are %s with a score of %0.2f\" % (grid.best_params_, grid.best_score_))\n",
    "y_true, y_pred = y_test, grid.predict(X_test)\n",
    "print(metrics.classification_report(y_true, y_pred))"
   ]
  },
  {
   "cell_type": "markdown",
   "metadata": {
    "collapsed": true
   },
   "source": [
    "## <span>Unsupervised</span><a id='trad_ml_unsupervised'></a> [(to top)](#toc)"
   ]
  },
  {
   "cell_type": "markdown",
   "metadata": {
    "collapsed": true
   },
   "source": [
    "### <span>Latent Dirichilet Allocation (LDA)</span><a id='trad_ml_unsupervised_lda'></a> [(to top)](#toc)"
   ]
  },
  {
   "cell_type": "code",
   "execution_count": 108,
   "metadata": {},
   "outputs": [],
   "source": [
    "from sklearn.decomposition import LatentDirichletAllocation"
   ]
  },
  {
   "cell_type": "markdown",
   "metadata": {},
   "source": [
    "Vectorizer (using countvectorizer for the sake of example)"
   ]
  },
  {
   "cell_type": "code",
   "execution_count": 109,
   "metadata": {},
   "outputs": [],
   "source": [
    "vectorizer = CountVectorizer(strip_accents='unicode',\n",
    "                             lowercase = True,\n",
    "                            max_features = 1500,\n",
    "                            stop_words='english', max_df=0.8)\n",
    "tf_large = vectorizer.fit_transform(clean_paragraphs)"
   ]
  },
  {
   "cell_type": "markdown",
   "metadata": {},
   "source": [
    "Run the LDA model"
   ]
  },
  {
   "cell_type": "code",
   "execution_count": 110,
   "metadata": {},
   "outputs": [],
   "source": [
    "n_topics = 10\n",
    "n_top_words = 25"
   ]
  },
  {
   "cell_type": "code",
   "execution_count": 111,
   "metadata": {},
   "outputs": [],
   "source": [
    "lda = LatentDirichletAllocation(n_components=n_topics, max_iter=10,\n",
    "                                learning_method='online',\n",
    "                                n_jobs=1)\n",
    "lda_fitted = lda.fit_transform(tf_large)"
   ]
  },
  {
   "cell_type": "markdown",
   "metadata": {},
   "source": [
    "Visualize top words"
   ]
  },
  {
   "cell_type": "code",
   "execution_count": 112,
   "metadata": {},
   "outputs": [],
   "source": [
    "def save_top_words(model, feature_names, n_top_words):\n",
    "    out_list = []\n",
    "    for topic_idx, topic in enumerate(model.components_):\n",
    "        out_list.append((topic_idx+1, \" \".join([feature_names[i] for i in topic.argsort()[:-n_top_words - 1:-1]])))\n",
    "    out_df = pd.DataFrame(out_list, columns=['topic_id', 'top_words'])\n",
    "    return out_df"
   ]
  },
  {
   "cell_type": "code",
   "execution_count": 113,
   "metadata": {},
   "outputs": [],
   "source": [
    "result_df = save_top_words(lda, vectorizer.get_feature_names(), n_top_words)"
   ]
  },
  {
   "cell_type": "code",
   "execution_count": 114,
   "metadata": {},
   "outputs": [
    {
     "data": {
      "text/html": [
       "<div>\n",
       "<style scoped>\n",
       "    .dataframe tbody tr th:only-of-type {\n",
       "        vertical-align: middle;\n",
       "    }\n",
       "\n",
       "    .dataframe tbody tr th {\n",
       "        vertical-align: top;\n",
       "    }\n",
       "\n",
       "    .dataframe thead th {\n",
       "        text-align: right;\n",
       "    }\n",
       "</style>\n",
       "<table border=\"1\" class=\"dataframe\">\n",
       "  <thead>\n",
       "    <tr style=\"text-align: right;\">\n",
       "      <th></th>\n",
       "      <th>topic_id</th>\n",
       "      <th>top_words</th>\n",
       "    </tr>\n",
       "  </thead>\n",
       "  <tbody>\n",
       "    <tr>\n",
       "      <th>0</th>\n",
       "      <td>1</td>\n",
       "      <td>company service new corp computer internet net...</td>\n",
       "    </tr>\n",
       "    <tr>\n",
       "      <th>1</th>\n",
       "      <td>2</td>\n",
       "      <td>percent million analyst share profit quarter s...</td>\n",
       "    </tr>\n",
       "    <tr>\n",
       "      <th>2</th>\n",
       "      <td>3</td>\n",
       "      <td>bank financial market company banking business...</td>\n",
       "    </tr>\n",
       "    <tr>\n",
       "      <th>3</th>\n",
       "      <td>4</td>\n",
       "      <td>tonne 000 ford new production plant car gm exp...</td>\n",
       "    </tr>\n",
       "    <tr>\n",
       "      <th>4</th>\n",
       "      <td>5</td>\n",
       "      <td>company pound million share group percent bill...</td>\n",
       "    </tr>\n",
       "    <tr>\n",
       "      <th>5</th>\n",
       "      <td>6</td>\n",
       "      <td>thomson nomura conrail csf north south korean ...</td>\n",
       "    </tr>\n",
       "    <tr>\n",
       "      <th>6</th>\n",
       "      <td>7</td>\n",
       "      <td>percent market price czech oil state billion t...</td>\n",
       "    </tr>\n",
       "    <tr>\n",
       "      <th>7</th>\n",
       "      <td>8</td>\n",
       "      <td>government state boeing plan tobacco union new...</td>\n",
       "    </tr>\n",
       "    <tr>\n",
       "      <th>8</th>\n",
       "      <td>9</td>\n",
       "      <td>stock gold bre company share canada toronto ex...</td>\n",
       "    </tr>\n",
       "    <tr>\n",
       "      <th>9</th>\n",
       "      <td>10</td>\n",
       "      <td>china kong hong chinese beijing people deng of...</td>\n",
       "    </tr>\n",
       "  </tbody>\n",
       "</table>\n",
       "</div>"
      ],
      "text/plain": [
       "   topic_id                                          top_words\n",
       "0         1  company service new corp computer internet net...\n",
       "1         2  percent million analyst share profit quarter s...\n",
       "2         3  bank financial market company banking business...\n",
       "3         4  tonne 000 ford new production plant car gm exp...\n",
       "4         5  company pound million share group percent bill...\n",
       "5         6  thomson nomura conrail csf north south korean ...\n",
       "6         7  percent market price czech oil state billion t...\n",
       "7         8  government state boeing plan tobacco union new...\n",
       "8         9  stock gold bre company share canada toronto ex...\n",
       "9        10  china kong hong chinese beijing people deng of..."
      ]
     },
     "execution_count": 114,
     "metadata": {},
     "output_type": "execute_result"
    }
   ],
   "source": [
    "result_df"
   ]
  },
  {
   "cell_type": "markdown",
   "metadata": {
    "collapsed": true
   },
   "source": [
    "### <span>pyLDAvis</span><a id='trad_ml_unsupervised_pyLDAvis'></a> [(to top)](#toc)"
   ]
  },
  {
   "cell_type": "code",
   "execution_count": 116,
   "metadata": {},
   "outputs": [
    {
     "name": "stderr",
     "output_type": "stream",
     "text": [
      "C:\\Users\\kokti\\Anaconda3\\lib\\site-packages\\sklearn\\manifold\\t_sne.py:420: DeprecationWarning: invalid escape sequence \\s\n",
      "  \"\"\"\n"
     ]
    }
   ],
   "source": [
    "%matplotlib inline\n",
    "import pyLDAvis\n",
    "import pyLDAvis.sklearn\n",
    "pyLDAvis.enable_notebook()"
   ]
  },
  {
   "cell_type": "code",
   "execution_count": 117,
   "metadata": {},
   "outputs": [
    {
     "name": "stderr",
     "output_type": "stream",
     "text": [
      "C:\\Users\\kokti\\Anaconda3\\lib\\site-packages\\pyLDAvis\\_prepare.py:387: DeprecationWarning: \n",
      ".ix is deprecated. Please use\n",
      ".loc for label based indexing or\n",
      ".iloc for positional indexing\n",
      "\n",
      "See the documentation here:\n",
      "http://pandas.pydata.org/pandas-docs/stable/indexing.html#ix-indexer-is-deprecated\n",
      "  topic_term_dists = topic_term_dists.ix[topic_order]\n"
     ]
    },
    {
     "data": {
      "text/html": [
       "\n",
       "<link rel=\"stylesheet\" type=\"text/css\" href=\"https://cdn.rawgit.com/bmabey/pyLDAvis/files/ldavis.v1.0.0.css\">\n",
       "\n",
       "\n",
       "<div id=\"ldavis_el452826228243416968377957307\"></div>\n",
       "<script type=\"text/javascript\">\n",
       "\n",
       "var ldavis_el452826228243416968377957307_data = {\"mdsDat\": {\"Freq\": [16.9694386375182, 15.968033005856233, 13.834049530550862, 10.94684920258461, 10.098617043166644, 8.618808798760295, 7.239121914061104, 7.141098548697503, 5.592495647381509, 3.591487671423039], \"cluster\": [1, 1, 1, 1, 1, 1, 1, 1, 1, 1], \"topics\": [1, 2, 3, 4, 5, 6, 7, 8, 9, 10], \"x\": [-0.21324432020136996, -0.06639248469105417, 0.17596178524580047, -0.05048609470126653, -0.010880474033553364, 0.16462235664228914, -0.027935247137945006, -0.06672301087115033, -0.06892212028576856, 0.1639996100340185], \"y\": [-0.03726300020152922, -0.0036421863193365593, 0.08561979439146897, 0.10212030337632651, -0.005669958274414083, 0.0834810918818603, 0.14263827831209544, -0.0410148750614563, -0.09811631743584857, -0.22815313066916623]}, \"tinfo\": {\"Category\": [\"Default\", \"Default\", \"Default\", \"Default\", \"Default\", \"Default\", \"Default\", \"Default\", \"Default\", \"Default\", \"Default\", \"Default\", \"Default\", \"Default\", \"Default\", \"Default\", \"Default\", \"Default\", \"Default\", \"Default\", \"Default\", \"Default\", \"Default\", \"Default\", \"Default\", \"Default\", \"Default\", \"Default\", \"Default\", \"Default\", \"Topic1\", \"Topic1\", \"Topic1\", \"Topic1\", \"Topic1\", \"Topic1\", \"Topic1\", \"Topic1\", \"Topic1\", \"Topic1\", \"Topic1\", \"Topic1\", \"Topic1\", \"Topic1\", \"Topic1\", \"Topic1\", \"Topic1\", \"Topic1\", \"Topic1\", \"Topic1\", \"Topic1\", \"Topic1\", \"Topic1\", \"Topic1\", \"Topic1\", \"Topic1\", \"Topic1\", \"Topic1\", \"Topic1\", \"Topic1\", \"Topic1\", \"Topic1\", \"Topic1\", \"Topic1\", \"Topic1\", \"Topic1\", \"Topic1\", \"Topic1\", \"Topic1\", \"Topic1\", \"Topic1\", \"Topic1\", \"Topic1\", \"Topic1\", \"Topic1\", \"Topic1\", \"Topic1\", \"Topic1\", \"Topic1\", \"Topic1\", \"Topic1\", \"Topic1\", \"Topic1\", \"Topic1\", \"Topic1\", \"Topic1\", \"Topic1\", \"Topic1\", \"Topic1\", \"Topic2\", \"Topic2\", \"Topic2\", \"Topic2\", \"Topic2\", \"Topic2\", \"Topic2\", \"Topic2\", \"Topic2\", \"Topic2\", \"Topic2\", \"Topic2\", \"Topic2\", \"Topic2\", \"Topic2\", \"Topic2\", \"Topic2\", \"Topic2\", \"Topic2\", \"Topic2\", \"Topic2\", \"Topic2\", \"Topic2\", \"Topic2\", \"Topic2\", \"Topic2\", \"Topic2\", \"Topic2\", \"Topic2\", \"Topic2\", \"Topic2\", \"Topic2\", \"Topic2\", \"Topic2\", \"Topic2\", \"Topic2\", \"Topic2\", \"Topic2\", \"Topic2\", \"Topic2\", \"Topic2\", \"Topic2\", \"Topic2\", \"Topic2\", \"Topic2\", \"Topic2\", \"Topic2\", \"Topic2\", \"Topic2\", \"Topic2\", \"Topic2\", \"Topic2\", \"Topic2\", \"Topic2\", \"Topic2\", \"Topic2\", \"Topic2\", \"Topic3\", \"Topic3\", \"Topic3\", \"Topic3\", \"Topic3\", \"Topic3\", \"Topic3\", \"Topic3\", \"Topic3\", \"Topic3\", \"Topic3\", \"Topic3\", \"Topic3\", \"Topic3\", \"Topic3\", \"Topic3\", \"Topic3\", \"Topic3\", \"Topic3\", \"Topic3\", \"Topic3\", \"Topic3\", \"Topic3\", \"Topic3\", \"Topic3\", \"Topic3\", \"Topic3\", \"Topic3\", \"Topic3\", \"Topic3\", \"Topic3\", \"Topic3\", \"Topic3\", \"Topic3\", \"Topic3\", \"Topic3\", \"Topic3\", \"Topic3\", \"Topic3\", \"Topic3\", \"Topic3\", \"Topic3\", \"Topic3\", \"Topic3\", \"Topic3\", \"Topic3\", \"Topic3\", \"Topic3\", \"Topic3\", \"Topic3\", \"Topic3\", \"Topic3\", \"Topic3\", \"Topic3\", \"Topic3\", \"Topic3\", \"Topic3\", \"Topic3\", \"Topic4\", \"Topic4\", \"Topic4\", \"Topic4\", \"Topic4\", \"Topic4\", \"Topic4\", \"Topic4\", \"Topic4\", \"Topic4\", \"Topic4\", \"Topic4\", \"Topic4\", \"Topic4\", \"Topic4\", \"Topic4\", \"Topic4\", \"Topic4\", \"Topic4\", \"Topic4\", \"Topic4\", \"Topic4\", \"Topic4\", \"Topic4\", \"Topic4\", \"Topic4\", \"Topic4\", \"Topic4\", \"Topic4\", \"Topic4\", \"Topic4\", \"Topic4\", \"Topic4\", \"Topic4\", \"Topic4\", \"Topic4\", \"Topic4\", \"Topic4\", \"Topic4\", \"Topic4\", \"Topic4\", \"Topic4\", \"Topic4\", \"Topic4\", \"Topic4\", \"Topic4\", \"Topic4\", \"Topic4\", \"Topic4\", \"Topic4\", \"Topic4\", \"Topic4\", \"Topic4\", \"Topic4\", \"Topic4\", \"Topic5\", \"Topic5\", \"Topic5\", \"Topic5\", \"Topic5\", \"Topic5\", \"Topic5\", \"Topic5\", \"Topic5\", \"Topic5\", \"Topic5\", \"Topic5\", \"Topic5\", \"Topic5\", \"Topic5\", \"Topic5\", \"Topic5\", \"Topic5\", \"Topic5\", \"Topic5\", \"Topic5\", \"Topic5\", \"Topic5\", \"Topic5\", \"Topic5\", \"Topic5\", \"Topic5\", \"Topic5\", \"Topic5\", \"Topic5\", \"Topic5\", \"Topic5\", \"Topic5\", \"Topic5\", \"Topic5\", \"Topic5\", \"Topic5\", \"Topic5\", \"Topic5\", \"Topic5\", \"Topic5\", \"Topic5\", \"Topic5\", \"Topic5\", \"Topic5\", \"Topic5\", \"Topic5\", \"Topic5\", \"Topic5\", \"Topic5\", \"Topic5\", \"Topic5\", \"Topic5\", \"Topic5\", \"Topic5\", \"Topic6\", \"Topic6\", \"Topic6\", \"Topic6\", \"Topic6\", \"Topic6\", \"Topic6\", \"Topic6\", \"Topic6\", \"Topic6\", \"Topic6\", \"Topic6\", \"Topic6\", \"Topic6\", \"Topic6\", \"Topic6\", \"Topic6\", \"Topic6\", \"Topic6\", \"Topic6\", \"Topic6\", \"Topic6\", \"Topic6\", \"Topic6\", \"Topic6\", \"Topic6\", \"Topic6\", \"Topic6\", \"Topic6\", \"Topic6\", \"Topic6\", \"Topic6\", \"Topic6\", \"Topic6\", \"Topic6\", \"Topic6\", \"Topic6\", \"Topic6\", \"Topic6\", \"Topic6\", \"Topic6\", \"Topic6\", \"Topic6\", \"Topic6\", \"Topic6\", \"Topic6\", \"Topic6\", \"Topic6\", \"Topic6\", \"Topic6\", \"Topic6\", \"Topic6\", \"Topic6\", \"Topic6\", \"Topic6\", \"Topic7\", \"Topic7\", \"Topic7\", \"Topic7\", \"Topic7\", \"Topic7\", \"Topic7\", \"Topic7\", \"Topic7\", \"Topic7\", \"Topic7\", \"Topic7\", \"Topic7\", \"Topic7\", \"Topic7\", \"Topic7\", \"Topic7\", \"Topic7\", \"Topic7\", \"Topic7\", \"Topic7\", \"Topic7\", \"Topic7\", \"Topic7\", \"Topic7\", \"Topic7\", \"Topic7\", \"Topic7\", \"Topic7\", \"Topic7\", \"Topic7\", \"Topic7\", \"Topic7\", \"Topic7\", \"Topic7\", \"Topic7\", \"Topic7\", \"Topic7\", \"Topic7\", \"Topic7\", \"Topic7\", \"Topic7\", \"Topic7\", \"Topic7\", \"Topic7\", \"Topic7\", \"Topic7\", \"Topic7\", \"Topic7\", \"Topic8\", \"Topic8\", \"Topic8\", \"Topic8\", \"Topic8\", \"Topic8\", \"Topic8\", \"Topic8\", \"Topic8\", \"Topic8\", \"Topic8\", \"Topic8\", \"Topic8\", \"Topic8\", \"Topic8\", \"Topic8\", \"Topic8\", \"Topic8\", \"Topic8\", \"Topic8\", \"Topic8\", \"Topic8\", \"Topic8\", \"Topic8\", \"Topic8\", \"Topic8\", \"Topic8\", \"Topic8\", \"Topic8\", \"Topic8\", \"Topic8\", \"Topic8\", \"Topic8\", \"Topic8\", \"Topic8\", \"Topic8\", \"Topic8\", \"Topic8\", \"Topic8\", \"Topic8\", \"Topic8\", \"Topic8\", \"Topic8\", \"Topic8\", \"Topic8\", \"Topic8\", \"Topic8\", \"Topic9\", \"Topic9\", \"Topic9\", \"Topic9\", \"Topic9\", \"Topic9\", \"Topic9\", \"Topic9\", \"Topic9\", \"Topic9\", \"Topic9\", \"Topic9\", \"Topic9\", \"Topic9\", \"Topic9\", \"Topic9\", \"Topic9\", \"Topic9\", \"Topic9\", \"Topic9\", \"Topic9\", \"Topic9\", \"Topic9\", \"Topic9\", \"Topic9\", \"Topic9\", \"Topic9\", \"Topic9\", \"Topic9\", \"Topic9\", \"Topic9\", \"Topic9\", \"Topic9\", \"Topic9\", \"Topic9\", \"Topic9\", \"Topic9\", \"Topic9\", \"Topic9\", \"Topic9\", \"Topic9\", \"Topic9\", \"Topic9\", \"Topic9\", \"Topic9\", \"Topic9\", \"Topic10\", \"Topic10\", \"Topic10\", \"Topic10\", \"Topic10\", \"Topic10\", \"Topic10\", \"Topic10\", \"Topic10\", \"Topic10\", \"Topic10\", \"Topic10\", \"Topic10\", \"Topic10\", \"Topic10\", \"Topic10\", \"Topic10\", \"Topic10\", \"Topic10\", \"Topic10\", \"Topic10\", \"Topic10\", \"Topic10\", \"Topic10\", \"Topic10\", \"Topic10\", \"Topic10\", \"Topic10\", \"Topic10\", \"Topic10\", \"Topic10\", \"Topic10\", \"Topic10\", \"Topic10\", \"Topic10\", \"Topic10\", \"Topic10\", \"Topic10\", \"Topic10\", \"Topic10\", \"Topic10\", \"Topic10\"], \"Freq\": [3469.0, 2356.0, 2343.0, 2560.0, 2146.0, 5573.0, 3429.0, 1370.0, 1564.0, 935.0, 1497.0, 1563.0, 5507.0, 1877.0, 4213.0, 2023.0, 555.0, 1520.0, 850.0, 2136.0, 597.0, 2098.0, 558.0, 1599.0, 698.0, 780.0, 5035.0, 1542.0, 760.0, 3292.0, 143.62960174086874, 127.95360231063584, 90.85425605625011, 116.01522626303628, 1450.4433779857975, 87.6767846666902, 468.0298592360825, 97.07623461571454, 82.87715805300223, 840.2507862987187, 106.62474878078648, 205.08444313370208, 79.05900242414616, 112.28502699167608, 158.11697181734937, 324.80973927969444, 356.2284243877745, 1510.7326475127463, 422.9714911339952, 63.13219565582545, 142.7700756898848, 186.28171277110715, 153.36741369737575, 221.42829655127127, 442.34379979357095, 91.22249761724119, 91.01930695881082, 94.31690323622838, 612.8401590629123, 1203.9273482536414, 229.99839168911626, 487.3704031374908, 767.8820545159053, 751.277962887238, 1169.1856394932427, 3049.295428417572, 688.7089967096477, 743.1930812977388, 1231.4602394532924, 2503.426872302736, 1816.7256762446796, 570.4396613307591, 543.3536304847381, 630.5413130963813, 594.4269915279581, 1533.7368880091797, 1108.4683783403855, 317.6999965273132, 703.1522427654993, 1123.9464187274664, 803.0452656622913, 1090.1720015712124, 712.3487434675885, 477.92945225456197, 500.74354450669125, 566.2627708460141, 574.805340759779, 638.4386134790619, 493.86419588513735, 145.0725756175713, 149.88623912336377, 127.94938405192201, 99.19225592788376, 261.2966592605289, 178.7184449349221, 523.8064853628116, 435.7146189994454, 103.70986364497855, 175.57601883449817, 110.38151414283844, 1419.827431494359, 281.25456814292824, 512.0109797588896, 169.15988506533978, 308.6612618849561, 79.81476667649889, 618.297484648183, 104.25550102897623, 296.4170798675943, 313.828758800958, 82.82334735112232, 256.11664208518044, 86.97815367620741, 94.88532595928035, 105.15942724071863, 74.20006661965647, 440.02264491490376, 663.1100953498617, 69.37155667648192, 535.6717813350776, 341.4669491435781, 252.48778831480564, 269.412762768239, 806.8789557746959, 1225.9640479782313, 237.74137626322647, 356.95649621015747, 727.0519109168127, 425.4165093168693, 1921.0743771195068, 586.9530189875809, 1235.6270861935998, 458.4895439852854, 785.6662279707957, 1275.7708630716857, 940.7979014471548, 493.65332829460885, 754.5923842689969, 1198.8384255633928, 367.7988183050803, 657.138457119136, 653.9334428111013, 428.6976891670432, 457.71943313303973, 432.48435865147786, 463.49561574569486, 1369.0880019604135, 779.7021541940004, 387.70505679612654, 296.12146678122446, 268.859649142567, 210.26038816786826, 2345.015746145753, 2332.397204381742, 217.16932090637314, 184.73508878039826, 181.0567030786714, 161.00052037190972, 150.45262123426193, 145.3268900588407, 115.00074264276292, 110.95997497428226, 111.9132877664544, 113.29709882799673, 102.11073254470223, 100.47527210739136, 104.93001086327254, 92.90240340983706, 92.90236523641883, 91.92089388961818, 85.65463375971818, 84.91115741929526, 83.71829461047093, 83.51581997745281, 77.32026138602316, 395.1466962461335, 3337.0579780723488, 175.25423024504192, 348.239752475805, 1471.939776650535, 162.6106699673639, 110.27889623692981, 313.78325459241756, 269.65537483464146, 291.96120193616633, 156.09539629979727, 355.39380227003295, 568.8664909830859, 485.9168139999804, 591.4578726907995, 927.9824262626505, 228.36659253355413, 777.7916073935997, 500.12403411965226, 366.20097919768597, 370.639840296542, 271.9417419110846, 365.7078738617027, 382.7889543262882, 267.5624744256617, 340.04012409801675, 315.0429770836198, 314.86955272799855, 285.8880038547258, 697.2437774282913, 565.9654580174746, 479.4914714982599, 329.9762362436081, 295.1300502220391, 348.5042086886414, 250.97167372779856, 332.09867563308944, 263.11365135369823, 235.6208296435635, 194.22762110600914, 169.2614735141785, 157.56455453617528, 135.00639836303947, 123.30859868465102, 111.58233979440864, 101.76621136561634, 273.7524297517643, 113.06360425614142, 96.49919271827414, 82.98569959076801, 150.27543025516331, 77.76721827176759, 84.18274579028635, 439.70808312475816, 833.2225041130545, 87.24174614901028, 86.76595866323633, 285.06469229350006, 141.32319195436168, 261.2003762244363, 692.5848944830162, 209.89617624467613, 293.0000721315646, 113.95575034886552, 412.44989342452425, 229.0714768195834, 1022.7578189808712, 207.91777158810683, 580.6479155927443, 855.3465417324669, 188.93949362965685, 292.7417968377585, 1318.6852882726696, 949.4398874504029, 424.7621351033032, 431.63181768381764, 370.3861267763847, 405.45096874456766, 427.0554872491238, 398.897744356406, 462.95299029923115, 379.91686450300506, 337.64388994324645, 276.87401900678725, 199.978308084231, 101.68421009764825, 84.50405323830694, 517.1036381261755, 395.6874108873212, 124.88278768008321, 99.36439765852272, 86.19453234223002, 342.8350800161982, 93.70106836948725, 134.3491310810364, 121.3867671143912, 135.33259340135672, 2179.6267891176876, 93.3519097623501, 81.91947297336058, 177.04951243054938, 382.696767681111, 97.833767345289, 90.22331452557546, 79.43925010234882, 231.85555116080263, 99.52696900633124, 268.99934653479596, 53.40147064667001, 84.68343128756902, 413.55187754739705, 59.63139125670191, 92.12816918318299, 54.44338800037314, 799.2108933297231, 235.35692565519676, 431.6390091025431, 266.25249519813025, 133.66559918137355, 326.73958084419746, 397.5547284969664, 188.97840213414938, 354.7358913604477, 661.9882367742636, 253.8716180905948, 441.2530039748916, 562.9930308087207, 192.61528939939183, 271.6232902464946, 254.29440468855836, 372.1684017214361, 360.4213419526166, 273.32749835675224, 222.71083980997875, 275.19360600613135, 243.64712330451593, 278.5877018466323, 206.58424808463312, 222.40164993120888, 174.92555888813473, 162.20949546162223, 330.42143258982975, 114.91349177309418, 153.42344269522926, 116.77386907718841, 199.04526660813673, 173.66328917050245, 96.18628310495859, 179.58102406739175, 195.21551514469786, 94.15000090380235, 319.05730213867207, 183.75917301101902, 83.0118729814581, 75.90848028375339, 131.5490661662152, 186.40263799765654, 81.82253156601973, 120.1411887126078, 102.30197775318125, 64.13678877289725, 141.74554584704282, 65.75060963916535, 99.95984892818211, 214.02289141034692, 199.33424310444536, 98.61759762385499, 64.65261314595963, 66.13636329919306, 239.94366017001508, 117.93321169878917, 313.69307131072867, 239.22450635881592, 819.6463753511163, 261.90054803709927, 246.0894449965892, 201.06344759330523, 210.27836324230032, 389.1309064562277, 210.34057641967829, 239.20656144357986, 174.32662940238424, 242.8772306446353, 328.958641422569, 207.43730975647296, 166.7164422350335, 255.56587389892837, 248.06466950544484, 285.8930269393676, 205.21819089202052, 205.4721802331363, 189.9794750455094, 191.0806843447292, 184.7541648745929, 933.8711165938342, 488.73553119752467, 235.29220842281953, 230.7666847728758, 180.34178820785803, 172.14467334922983, 112.88466166569589, 103.64535893177819, 101.03507681120963, 323.44610658320266, 173.78307245421175, 208.71423876015413, 129.43558643094693, 190.9670619686335, 334.91536228904306, 193.0320912251691, 268.68247173356997, 106.62981408518915, 154.9888029665278, 380.84669355760286, 197.51083594308915, 402.22570416803006, 134.69310102874954, 123.43742291311862, 136.42959825352256, 245.2058810218285, 85.80221328451172, 131.8063061074009, 118.43428929622517, 90.57901854250281, 404.8416552387253, 786.1159355485647, 174.07798697547827, 329.99630024995065, 161.60623617679573, 221.57343480825685, 484.460859148019, 198.7769235398749, 237.21000724608635, 175.95520775581767, 222.2080970582595, 202.52493120127778, 229.78103066442566, 187.8065719911203, 226.33529753476589, 183.80203843551604, 182.1794343799819, 177.07402772993044, 177.2424906436003, 221.4776043559501, 106.2196437856541, 104.29027113703069, 132.8633029385801, 232.48004090310673, 78.9965328308404, 116.67038272990698, 337.91523986843833, 437.3918073254237, 243.1811024393828, 274.601726663344, 517.4856544070597, 105.83998574630323, 522.654634305645, 192.3045429092228, 322.07368747305134, 249.1009512082011, 458.3988514860086, 175.0775732177344, 212.59247602398034, 118.78698252060533, 309.2490899480684, 67.59288813671448, 93.95243959391829, 162.92812406440342, 223.97634221764406, 339.8864199838877, 54.712694293116314, 223.01547359390213, 163.88262353745458, 422.7617276378387, 217.24279529895298, 140.18040018242144, 497.26724477331646, 603.6043852018671, 841.752900595653, 854.4958742448953, 432.4736203108821, 245.02629673981454, 287.48619318094075, 493.8045368346508, 307.0148694027704, 198.67594424197523, 252.06659811328007, 283.321799784759, 301.3031696455124, 213.0346315900299, 557.9636557429313, 595.8078089108817, 322.6210867010054, 359.99727452007994, 164.70221997522933, 159.6664811666924, 148.99052011778465, 145.33890338967944, 139.10094562956692, 119.42019555454341, 258.32492126412853, 93.44837896398593, 95.8112773898392, 97.26174511925481, 103.0780535065955, 262.78248539381434, 217.53074191183396, 149.34023801532004, 262.2557920775425, 379.50325421876636, 115.5642044761089, 185.5770324140572, 69.53377622147241, 82.49167374312252, 1078.0750382598344, 119.25282210946959, 75.846487507068, 122.36262508610348, 340.58186544342107, 42.98118775515273, 328.2226840930431, 321.6408561604027, 533.6118291402705, 228.15037818822253, 537.8322973335016, 275.2534797825621, 287.7728131638766, 227.21278176993704, 287.42843081232394, 286.192315591199, 186.88310657414968, 261.1277830451809, 159.5999246175067, 169.49954294364443, 162.81896835813808, 156.07187862845797, 553.5417972987948, 356.57682143813145, 367.30023881645485, 328.42044349670186, 218.7955225055985, 195.98405087116066, 240.95815182966143, 174.763091634864, 93.61199720710127, 129.93354352951386, 199.2450067726324, 153.3146137401991, 168.6552477745991, 175.49802171829776, 154.16012524888495, 200.38703443743978, 188.76167978235, 101.50030129864093, 217.00725374641462, 81.17278465118346, 84.93893071817281, 60.926610516976325, 59.1509204273478, 173.6512336180124, 50.783611071390645, 260.9071359030233, 297.11887868343524, 77.06675232816261, 43.91375578277403, 204.60937343936413, 96.80928004950141, 164.5674183654765, 138.271867491901, 215.24596733078323, 138.60172829849787, 110.76379307116699, 113.5701757864296, 163.37828894692953, 142.0400872179818, 123.97985747612518, 116.2573682629462, 117.93677268400972], \"Term\": [\"china\", \"kong\", \"hong\", \"bank\", \"stock\", \"percent\", \"share\", \"beijing\", \"chinese\", \"tonne\", \"quarter\", \"pound\", \"company\", \"profit\", \"market\", \"government\", \"thomson\", \"service\", \"computer\", \"sale\", \"gold\", \"price\", \"bre\", \"000\", \"internet\", \"deng\", \"million\", \"state\", \"export\", \"billion\", \"cereal\", \"kellogg\", \"abnormal\", \"outlook\", \"quarter\", \"kmart\", \"fourth\", \"steady\", \"jones\", \"earning\", \"surge\", \"expectation\", \"consensus\", \"retailer\", \"flat\", \"margin\", \"store\", \"profit\", \"forecast\", \"sears\", \"slightly\", \"fiscal\", \"weak\", \"97\", \"net\", \"quaker\", \"item\", \"98\", \"half\", \"rise\", \"income\", \"cent\", \"result\", \"growth\", \"1996\", \"percent\", \"increase\", \"1997\", \"sale\", \"million\", \"analyst\", \"revenue\", \"strong\", \"fall\", \"1995\", \"share\", \"expect\", \"compare\", \"report\", \"billion\", \"price\", \"market\", \"stock\", \"continue\", \"rate\", \"high\", \"business\", \"company\", \"end\", \"ce\", \"philip\", \"morris\", \"bzw\", \"electric\", \"electricity\", \"plc\", \"penny\", \"franchise\", \"uk\", \"sa\", \"pound\", \"northern\", \"stake\", \"stg\", \"franc\", \"paris\", \"bid\", \"chemical\", \"france\", \"telecom\", \"exceptional\", \"brand\", \"panel\", \"pounds\", \"strategic\", \"england\", \"acquisition\", \"shareholder\", \"industries\", \"merger\", \"french\", \"takeover\", \"venture\", \"british\", \"group\", \"joint\", \"london\", \"deal\", \"britain\", \"company\", \"offer\", \"share\", \"buy\", \"sale\", \"million\", \"billion\", \"sell\", \"business\", \"percent\", \"value\", \"analyst\", \"market\", \"executive\", \"plan\", \"add\", \"new\", \"beijing\", \"deng\", \"tung\", \"handover\", \"jiang\", \"democracy\", \"kong\", \"hong\", \"diplomat\", \"xiaoping\", \"legislature\", \"xinjiang\", \"li\", \"colony\", \"jail\", \"patten\", \"provisional\", \"dissident\", \"zemin\", \"riot\", \"liberty\", \"chee\", \"hwa\", \"xinhua\", \"mao\", \"wang\", \"woman\", \"arrest\", \"troop\", \"taiwan\", \"china\", \"lee\", \"territory\", \"chinese\", \"sino\", \"mainland\", \"human\", \"visit\", \"police\", \"freedom\", \"communist\", \"leader\", \"political\", \"party\", \"people\", \"death\", \"official\", \"right\", \"law\", \"rule\", \"july\", \"foreign\", \"british\", \"economic\", \"government\", \"state\", \"tell\", \"day\", \"internet\", \"software\", \"microsoft\", \"online\", \"digital\", \"cable\", \"aol\", \"communications\", \"mci\", \"wireless\", \"pc\", \"subscriber\", \"windows\", \"netscape\", \"server\", \"hp\", \"music\", \"intel\", \"video\", \"nynex\", \"robotics\", \"3com\", \"modem\", \"optus\", \"apple\", \"computer\", \"encryption\", \"cellular\", \"distance\", \"web\", \"tv\", \"network\", \"bell\", \"phone\", \"device\", \"technology\", \"user\", \"service\", \"satellite\", \"customer\", \"corp\", \"fcc\", \"access\", \"company\", \"new\", \"amp\", \"product\", \"long\", \"base\", \"plan\", \"industry\", \"market\", \"business\", \"analyst\", \"executive\", \"lloyd\", \"mortgage\", \"lending\", \"banking\", \"insurance\", \"mutual\", \"bankruptcy\", \"bonus\", \"loan\", \"st\", \"institution\", \"pension\", \"banker\", \"bank\", \"insurer\", \"zealand\", \"trust\", \"australia\", \"royal\", \"prudential\", \"melbourne\", \"australian\", \"care\", \"life\", \"amro\", \"suez\", \"debt\", \"accounting\", \"housing\", \"abn\", \"financial\", \"credit\", \"fund\", \"asset\", \"risk\", \"capital\", \"investment\", \"commercial\", \"firm\", \"market\", \"problem\", \"business\", \"company\", \"home\", \"big\", \"large\", \"new\", \"billion\", \"base\", \"pay\", \"plan\", \"service\", \"million\", \"member\", \"group\", \"plane\", \"airbus\", \"boeing\", \"jet\", \"colombia\", \"smoke\", \"aircraft\", \"attorney\", \"rebel\", \"cigarette\", \"lawsuit\", \"guerrilla\", \"tobacco\", \"auction\", \"aviation\", \"airlines\", \"airport\", \"airline\", \"labor\", \"lawyer\", \"suit\", \"hearing\", \"trial\", \"wing\", \"debate\", \"vote\", \"labour\", \"route\", \"skoda\", \"settlement\", \"air\", \"class\", \"union\", \"case\", \"government\", \"strike\", \"decision\", \"worker\", \"action\", \"state\", \"minister\", \"member\", \"win\", \"president\", \"plan\", \"general\", \"defence\", \"industry\", \"tell\", \"new\", \"want\", \"week\", \"country\", \"include\", \"public\", \"tonne\", \"ford\", \"coast\", \"chrysler\", \"automaker\", \"uaw\", \"bean\", \"apec\", \"harvest\", \"crop\", \"ivory\", \"cocoa\", \"grain\", \"coffee\", \"gm\", \"textile\", \"truck\", \"rain\", \"port\", \"car\", \"cargo\", \"plant\", \"auto\", \"exporter\", \"corn\", \"vehicle\", \"farmer\", \"factory\", \"michigan\", \"arrival\", \"production\", \"000\", \"capacity\", \"export\", \"seat\", \"contract\", \"new\", \"strike\", \"day\", \"worker\", \"world\", \"talk\", \"industry\", \"united\", \"million\", \"source\", \"trade\", \"american\", \"add\", \"russian\", \"moscow\", \"gazprom\", \"klaus\", \"deficit\", \"cnb\", \"sugar\", \"russia\", \"crown\", \"prague\", \"inflation\", \"oil\", \"steel\", \"czech\", \"economist\", \"yuan\", \"budget\", \"trader\", \"natwest\", \"output\", \"norilsk\", \"domestic\", \"natural\", \"enterprise\", \"gas\", \"import\", \"central\", \"cabinet\", \"economy\", \"reserve\", \"export\", \"western\", \"producer\", \"state\", \"price\", \"market\", \"percent\", \"government\", \"economic\", \"foreign\", \"billion\", \"trade\", \"supply\", \"rate\", \"1996\", \"bank\", \"official\", \"bre\", \"gold\", \"busang\", \"toronto\", \"freeport\", \"casino\", \"zinc\", \"indonesian\", \"hilton\", \"barrick\", \"copper\", \"strathcona\", \"walsh\", \"ounce\", \"wmx\", \"mining\", \"itt\", \"mercury\", \"canadian\", \"canada\", \"indonesia\", \"index\", \"lme\", \"nickel\", \"stock\", \"deposit\", \"test\", \"metal\", \"exchange\", \"finish\", \"trading\", \"investor\", \"share\", \"close\", \"company\", \"week\", \"base\", \"report\", \"analyst\", \"market\", \"monday\", \"million\", \"friday\", \"new\", \"high\", \"thursday\", \"thomson\", \"conrail\", \"nomura\", \"csf\", \"csx\", \"norfolk\", \"korean\", \"lagardere\", \"mgam\", \"pyongyang\", \"hwang\", \"aerospatiale\", \"seoul\", \"alcatel\", \"scandal\", \"investigation\", \"suspend\", \"probe\", \"korea\", \"embassy\", \"investigate\", \"watchdog\", \"gec\", \"japanese\", \"deutsche\", \"south\", \"north\", \"yen\", \"resign\", \"japan\", \"client\", \"ministry\", \"electronic\", \"source\", \"securities\", \"involve\", \"defence\", \"official\", \"deal\", \"fund\", \"spokesman\", \"firm\"], \"Total\": [3469.0, 2356.0, 2343.0, 2560.0, 2146.0, 5573.0, 3429.0, 1370.0, 1564.0, 935.0, 1497.0, 1563.0, 5507.0, 1877.0, 4213.0, 2023.0, 555.0, 1520.0, 850.0, 2136.0, 597.0, 2098.0, 558.0, 1599.0, 698.0, 780.0, 5035.0, 1542.0, 760.0, 3292.0, 144.67781840409913, 129.06439827696065, 91.7826431573327, 117.51033787609155, 1497.3477146132868, 91.12368793351192, 496.09980868842547, 103.49119531972964, 92.1315931327677, 940.5037259200171, 121.90668710959247, 236.65381740688244, 93.25965634635624, 138.655096219179, 195.68337295499717, 402.9027166206346, 442.17967493433025, 1877.3597853406457, 527.1574616442648, 78.8804614830386, 178.69718864653493, 233.41668228489567, 192.49865665022338, 278.48862329680315, 557.905055864937, 115.1024149633949, 115.43230115269958, 119.83338434844049, 788.683823795719, 1551.334391144069, 299.7993944364869, 651.8066762162937, 1099.2836461106301, 1078.9236466994091, 1819.501556416901, 5573.676310518703, 1050.7615457443874, 1184.3155886943985, 2136.990996534884, 5035.671105282951, 3724.4383127116776, 927.7055254257998, 887.8217807554255, 1079.421012240398, 1004.5160332880723, 3429.0212957131025, 2453.743839275268, 455.34802189041875, 1561.3045891355262, 3292.1852991638184, 2098.109926754231, 4213.474842205086, 2146.554188014576, 947.796622361248, 1074.5631451896736, 1547.4012645903317, 2380.0869825311365, 5507.80897736747, 1483.7170709081931, 145.98425152092312, 150.8383764680906, 128.93099616076447, 100.1073487197263, 263.810852547694, 181.3095139708207, 534.0927244713673, 457.24987315371385, 112.02980608830372, 192.18703973947677, 121.2342005240382, 1563.9862645233231, 325.28596979300266, 597.609908595318, 198.60498943616852, 366.50893119759587, 95.83194109515446, 747.622106818723, 129.51847974690483, 368.75187566971147, 390.8036487632198, 104.9311253721204, 331.1632276610531, 112.94496474722163, 123.53744142994266, 137.29958651302192, 97.20254613193018, 577.7801064937959, 870.8201174532206, 91.17900067604725, 724.0446094522005, 460.2523811700903, 348.5480679439641, 377.8134203793561, 1258.4224593135964, 2185.033762329469, 345.21107927236466, 558.97023438974, 1418.3851894060617, 725.6650083070214, 5507.80897736747, 1185.7126305921904, 3429.0212957131025, 893.1824951831146, 2136.990996534884, 5035.671105282951, 3292.1852991638184, 1123.8280806140272, 2380.0869825311365, 5573.676310518703, 690.5747381912194, 3724.4383127116776, 4213.474842205086, 1261.0377605751385, 2022.6769685467514, 1667.9647307018804, 3388.674887734597, 1370.3486529494298, 780.6685076350705, 388.63026232092295, 297.048966203252, 269.8113292501136, 211.19137255391226, 2356.1480769390278, 2343.5319461028334, 218.21190579144047, 185.66423772101476, 181.99008058059627, 161.92914839757165, 151.38503905765467, 146.2565671022443, 115.92785632336113, 111.88490945854002, 112.84937584937461, 114.2837187325052, 103.03816308966998, 101.40941385639182, 105.95186736994073, 93.82655996860433, 93.82655404292873, 92.85191428387732, 86.57983297822359, 85.84304132711084, 84.64330438519487, 84.47141099801725, 78.24993873740257, 400.022199280363, 3469.9285429547704, 177.5869196051119, 356.845667920613, 1564.5050874848403, 165.8987273786455, 111.80040170207597, 326.98587200139724, 292.69521824853734, 322.3271647111753, 164.69328235208448, 429.17382390685356, 751.7342542231775, 628.1118697708351, 833.3432265136404, 1461.7403379393934, 290.0433066162555, 1711.176668436432, 905.8027174174085, 657.1718692510993, 722.6098007188531, 431.443342967269, 964.0860120051103, 1258.4224593135964, 662.9383931649746, 2023.937449336864, 1542.6371777865882, 1611.5971137201318, 1095.4684061630196, 698.2749839964356, 566.9978011730003, 480.4131468579895, 330.9223561651275, 296.0704907458803, 349.649329974415, 251.88956198486537, 333.3475323251968, 264.11721994859994, 236.66439823697445, 195.2017784267638, 170.2379073852857, 158.47984609879137, 135.92802436333494, 124.22574687623403, 112.53402305043225, 102.68134320271328, 276.219089557604, 114.12971419984218, 97.52081521619552, 83.90443458434974, 151.96843001361623, 78.68264425431043, 85.36410727225815, 447.89553016455716, 850.8631822183116, 89.2155438666367, 89.02047219114105, 292.48340138909384, 145.92387195581895, 271.82280707638733, 746.7678799132989, 221.52119225454373, 322.57405683730127, 118.11711677391676, 483.53455473083, 255.55048195096032, 1520.2287853395978, 237.1052778066811, 855.1017418682136, 1652.6815699418896, 219.88850293805632, 454.90009285550417, 5507.80897736747, 3388.674887734597, 1093.733494697257, 1179.5538414178184, 1163.6019929345669, 1683.8191425357554, 2022.6769685467514, 1747.8707789016212, 4213.474842205086, 2380.0869825311365, 3724.4383127116776, 1261.0377605751385, 200.9103217407379, 102.72711161275834, 86.2260473736739, 527.7274711316097, 406.3276073003368, 129.74760087344728, 104.03778830745655, 90.43330952959623, 362.27633035386623, 101.24756889231124, 145.51798072351562, 133.29527354132142, 155.85739160532975, 2560.781680728986, 110.15780468352841, 97.9399417906634, 211.84563126103842, 463.9640834940782, 119.12528089617885, 114.58095774791042, 101.549721704753, 302.554824836202, 140.1915269271105, 394.74210052487683, 78.52042551789383, 126.4406888517996, 620.1939088455516, 90.28023836946925, 140.90605789952784, 83.99306601196267, 1258.8859974393715, 378.33730394243463, 727.1275099316057, 541.4340278787695, 226.99173103271744, 792.3469126651155, 1046.0264062298102, 380.4803370476387, 1074.7921842403348, 4213.474842205086, 777.505192413654, 2380.0869825311365, 5507.80897736747, 544.7730374093684, 1429.3268513938235, 1221.8094846299248, 3388.674887734597, 3292.1852991638184, 1683.8191425357554, 923.2619825779473, 2022.6769685467514, 1520.2287853395978, 5035.671105282951, 769.3595969466998, 2185.033762329469, 175.85567290307063, 163.13220014924147, 335.08939940961665, 116.7199806048879, 155.84446194002552, 119.4037746748295, 207.2489974038774, 188.4257272424792, 105.74300262974656, 197.82181467467888, 217.38643458275658, 105.42576107283747, 361.2785086971779, 212.15025713542644, 96.91900888172178, 92.24684995899908, 165.83997817764936, 239.52759275891376, 106.72978580723623, 157.48222894338437, 135.03623953541182, 86.76105543052341, 193.15464894416087, 89.60786956396359, 138.7110438160655, 307.45071661430194, 289.8267241798433, 143.40381348898111, 95.0167328933736, 97.33979856025825, 359.25534867140993, 179.79300195573643, 533.5629541714081, 437.11329959451075, 2023.937449336864, 497.2261463177236, 566.4089737635392, 417.43911649175016, 462.15746775617066, 1542.6371777865882, 574.811508942606, 769.3595969466998, 396.5398972117579, 898.6094052118859, 2022.6769685467514, 635.0397776617705, 377.71843677532854, 1747.8707789016212, 1611.5971137201318, 3388.674887734597, 955.3546365047372, 1472.8667457492388, 883.5490692390686, 1375.7733896810566, 621.2195409000876, 935.0846711909392, 489.9882094152452, 236.21698434560656, 231.92993819300926, 181.45024384227966, 173.28111841508786, 113.8139941426257, 104.57247815984964, 101.9567821105399, 326.4573547561316, 175.49815482144996, 210.82812555942135, 130.8137383259147, 193.12728882038755, 339.77155963503856, 201.7677691669492, 288.15433799010265, 116.46287015882442, 169.92334883052797, 418.3318053659396, 217.45049149371962, 457.05699158924875, 153.38875790187072, 142.24025075754648, 158.77557846598407, 286.82026425786097, 100.46414921589174, 157.10030236443006, 142.55761809955342, 111.46036854921287, 553.2315518547618, 1599.9541065810545, 260.15809595852136, 760.9675789882747, 246.9512928755292, 462.1896089448628, 3388.674887734597, 497.2261463177236, 1095.4684061630196, 417.43911649175016, 1156.1361225715184, 889.1788653621803, 1747.8707789016212, 894.7600805812245, 5035.671105282951, 917.2408264365142, 1136.0557099796404, 561.8223550163315, 1667.9647307018804, 222.75463160211171, 107.16317482473782, 105.21732331684775, 134.21396606048546, 235.46269156320997, 80.14618730941847, 118.47380366146969, 344.30797968591276, 448.30861823288166, 251.73392603001085, 296.0797813314176, 558.7067320441071, 119.04606862650839, 601.0691309219771, 222.12523188130538, 374.32803919650377, 290.78928613934227, 554.2743472536177, 214.28835553221703, 262.7026812448111, 172.4487322692775, 462.6494190819644, 106.45314218370615, 153.8907651800981, 270.8292407736513, 372.697502234824, 580.0771587787007, 93.89815032132701, 383.2453492940996, 282.39399482959374, 760.9675789882747, 414.99998591027696, 263.66444606250934, 1542.6371777865882, 2098.109926754231, 4213.474842205086, 5573.676310518703, 2023.937449336864, 662.9383931649746, 964.0860120051103, 3292.1852991638184, 1136.0557099796404, 446.12835043278284, 1074.5631451896736, 1819.501556416901, 2560.781680728986, 1711.176668436432, 558.9538993450584, 597.1037796103998, 323.5947583851841, 361.213038491032, 165.62421871587273, 160.58298045582964, 149.89535311152378, 146.29877520841882, 140.02679822352917, 120.33722671625226, 260.61736474348135, 94.3647513602455, 96.76992178621656, 98.4993207022109, 104.63437895859516, 267.080770473239, 223.24416887948934, 167.8395490225327, 302.16075543970777, 499.43444342171534, 159.00262996435174, 288.10966613594525, 109.44397200895793, 135.22481315500994, 2146.554188014576, 261.99104336763855, 169.57545080105174, 274.1654433252211, 799.6961042451752, 102.21384865304985, 801.8086302718675, 806.482115729241, 3429.0212957131025, 975.3135420770218, 5507.80897736747, 1472.8667457492388, 1683.8191425357554, 1561.3045891355262, 3724.4383127116776, 4213.474842205086, 918.2253800044844, 5035.671105282951, 853.6864599870021, 3388.674887734597, 1547.4012645903317, 977.8476929961513, 555.2974923805731, 357.7867006662385, 368.75964170204645, 329.8278244028717, 219.94286104537176, 197.44553414459676, 242.8140131095561, 176.11465316274342, 94.57569395863582, 131.50526446008118, 201.7141808554047, 155.42441663255366, 171.90739070851663, 180.9745779555116, 165.4788239820965, 215.95184203076602, 213.26451832528045, 119.9787896252507, 257.52125543831914, 100.92681817713677, 111.27859557368713, 97.7780373829577, 100.12070470852777, 309.7549942826819, 98.19330661395134, 532.4849214067561, 610.0201176486567, 168.70538826547443, 99.27680201064139, 467.08141654808503, 224.6063261128122, 413.64113424412915, 389.9140960330937, 917.2408264365142, 450.28803095887633, 344.32688913908714, 377.71843677532854, 1711.176668436432, 1418.3851894060617, 727.1275099316057, 580.8384389220153, 1074.7921842403348], \"loglift\": [30.0, 29.0, 28.0, 27.0, 26.0, 25.0, 24.0, 23.0, 22.0, 21.0, 20.0, 19.0, 18.0, 17.0, 16.0, 15.0, 14.0, 13.0, 12.0, 11.0, 10.0, 9.0, 8.0, 7.0, 6.0, 5.0, 4.0, 3.0, 2.0, 1.0, 1.7665, 1.7651, 1.7636, 1.761, 1.7419, 1.7352, 1.7155, 1.7098, 1.6679, 1.661, 1.6398, 1.6306, 1.6086, 1.5628, 1.5606, 1.5583, 1.5576, 1.5565, 1.5536, 1.5511, 1.5493, 1.5482, 1.5465, 1.5445, 1.5417, 1.5412, 1.5361, 1.5343, 1.5215, 1.5202, 1.5087, 1.483, 1.415, 1.4118, 1.3315, 1.1706, 1.3513, 1.3078, 1.2226, 1.0749, 1.0559, 1.2874, 1.2827, 1.2362, 1.2491, 0.9692, 0.9791, 1.4138, 0.9761, 0.6991, 0.8134, 0.4218, 0.6707, 1.0891, 1.0102, 0.7685, 0.3529, -0.3811, 0.6737, 1.8283, 1.8282, 1.8269, 1.8254, 1.825, 1.8202, 1.8151, 1.7863, 1.7574, 1.7442, 1.7408, 1.7379, 1.6891, 1.68, 1.6741, 1.6628, 1.6517, 1.6447, 1.6176, 1.6162, 1.6152, 1.598, 1.5776, 1.5733, 1.5707, 1.5679, 1.5645, 1.5622, 1.5621, 1.5612, 1.5333, 1.5361, 1.5122, 1.4964, 1.3901, 1.2567, 1.4616, 1.3861, 1.1663, 1.3006, 0.7813, 1.1314, 0.8139, 1.1677, 0.834, 0.4616, 0.582, 1.0119, 0.6859, 0.2979, 1.2046, 0.0998, -0.0285, 0.7556, 0.3487, 0.4848, -0.1548, 1.9771, 1.9768, 1.9757, 1.9749, 1.9745, 1.9736, 1.9733, 1.9733, 1.9732, 1.973, 1.9729, 1.9723, 1.9719, 1.9717, 1.97, 1.9697, 1.9697, 1.9694, 1.969, 1.9688, 1.9683, 1.9681, 1.9681, 1.968, 1.9673, 1.9671, 1.967, 1.9667, 1.9661, 1.9658, 1.939, 1.9648, 1.9536, 1.917, 1.958, 1.9643, 1.9368, 1.8961, 1.8791, 1.9244, 1.7894, 1.6993, 1.7214, 1.6352, 1.5237, 1.739, 1.1896, 1.3841, 1.3933, 1.3104, 1.5165, 1.0087, 0.7879, 1.0707, 0.1943, 0.3895, 0.3452, 0.6347, 2.2106, 2.2103, 2.2102, 2.2093, 2.2089, 2.2088, 2.2085, 2.2084, 2.2083, 2.2077, 2.2071, 2.2064, 2.2063, 2.2053, 2.2047, 2.2036, 2.2032, 2.2031, 2.2027, 2.2016, 2.2011, 2.2009, 2.2004, 2.1982, 2.1937, 2.1912, 2.1897, 2.1865, 2.1864, 2.1801, 2.1723, 2.1368, 2.1582, 2.116, 2.1763, 2.0531, 2.1027, 1.8158, 2.0808, 1.825, 1.5535, 2.0604, 1.7713, 0.7826, 0.9398, 1.2663, 1.2068, 1.0674, 0.7883, 0.6569, 0.7347, 0.0037, 0.3772, -0.1886, 0.696, 2.2881, 2.2826, 2.2726, 2.2724, 2.2662, 2.2546, 2.2468, 2.2448, 2.2376, 2.2153, 2.2129, 2.1992, 2.1516, 2.1316, 2.1272, 2.1142, 2.1133, 2.1002, 2.0959, 2.0538, 2.0472, 2.0266, 1.9502, 1.9092, 1.9073, 1.8919, 1.8875, 1.878, 1.8679, 1.8592, 1.8384, 1.8181, 1.7713, 1.583, 1.7632, 1.4069, 1.3254, 1.593, 1.1843, 0.442, 1.1735, 0.6075, 0.0121, 1.2531, 0.6322, 0.7232, 0.0839, 0.0807, 0.4746, 0.8707, 0.2981, 0.4619, -0.6018, 0.9779, 0.0079, 2.4459, 2.4456, 2.4372, 2.4356, 2.4356, 2.429, 2.4108, 2.3696, 2.3565, 2.3545, 2.3437, 2.3381, 2.3269, 2.3076, 2.2963, 2.2563, 2.2196, 2.2005, 2.1855, 2.1806, 2.1736, 2.1491, 2.1418, 2.1416, 2.1236, 2.089, 2.0769, 2.0768, 2.0662, 2.0647, 2.0476, 2.0295, 1.9201, 1.8484, 1.5473, 1.8101, 1.6176, 1.7207, 1.6637, 1.0739, 1.4459, 1.283, 1.6294, 1.1429, 0.635, 1.3324, 1.6334, 0.5285, 0.5799, -0.0214, 0.9132, 0.4816, 0.9142, 0.4771, 1.2386, 2.6244, 2.6231, 2.6217, 2.6206, 2.6195, 2.6191, 2.6175, 2.6168, 2.6166, 2.6164, 2.6158, 2.6156, 2.6151, 2.6144, 2.6113, 2.5814, 2.5557, 2.5375, 2.5337, 2.5318, 2.5295, 2.4979, 2.4957, 2.4839, 2.474, 2.4689, 2.4679, 2.4501, 2.4403, 2.4182, 2.3134, 1.915, 2.2239, 1.7902, 2.2016, 1.8904, 0.6805, 1.7088, 1.0957, 1.7618, 0.9764, 1.1462, 0.5966, 1.0645, -0.4766, 1.0182, 0.7953, 1.4711, 0.3838, 2.6336, 2.6305, 2.6305, 2.6292, 2.6266, 2.6249, 2.624, 2.6206, 2.6147, 2.6047, 2.564, 2.5627, 2.5217, 2.4995, 2.4951, 2.489, 2.4846, 2.4494, 2.4372, 2.4277, 2.2665, 2.2365, 2.1851, 2.1458, 2.1311, 2.1301, 2.1048, 2.0992, 2.0979, 2.0952, 2.0515, 1.992, 2.0076, 1.5072, 1.3934, 1.0287, 0.764, 1.096, 1.644, 1.4293, 0.7421, 1.3309, 1.8304, 1.1893, 0.7796, 0.4994, 0.5558, 2.882, 2.8816, 2.8807, 2.8804, 2.8782, 2.878, 2.8777, 2.8772, 2.8771, 2.8761, 2.8749, 2.874, 2.8738, 2.8711, 2.8688, 2.8675, 2.8578, 2.767, 2.7421, 2.6091, 2.5647, 2.4439, 2.4301, 2.3895, 2.1951, 2.0967, 2.0792, 2.077, 2.0302, 2.0174, 1.9906, 1.9645, 1.0234, 1.431, 0.5574, 1.2065, 1.1171, 0.9564, 0.322, 0.1944, 1.2918, -0.0755, 1.2069, -0.1116, 0.6321, 1.0487, 3.3234, 3.3232, 3.3226, 3.3223, 3.3214, 3.3192, 3.3189, 3.3189, 3.3164, 3.3146, 3.3143, 3.3129, 3.3075, 3.2959, 3.2558, 3.2518, 3.2046, 3.1594, 3.1554, 3.1088, 3.0565, 2.8536, 2.8003, 2.7479, 2.6672, 2.6132, 2.6072, 2.5431, 2.5109, 2.5012, 2.485, 2.4049, 2.2899, 1.877, 2.1483, 2.1924, 2.1249, 0.9777, 1.0254, 1.5576, 1.7179, 1.1169], \"logprob\": [30.0, 29.0, 28.0, 27.0, 26.0, 25.0, 24.0, 23.0, 22.0, 21.0, 20.0, 19.0, 18.0, 17.0, 16.0, 15.0, 14.0, 13.0, 12.0, 11.0, 10.0, 9.0, 8.0, 7.0, 6.0, 5.0, 4.0, 3.0, 2.0, 1.0, -6.383, -6.4986, -6.841, -6.5965, -4.0706, -6.8766, -5.2017, -6.7747, -6.9329, -4.6165, -6.6809, -6.0268, -6.98, -6.6292, -6.2869, -5.567, -5.4746, -4.0299, -5.3029, -7.205, -6.389, -6.123, -6.3174, -5.9501, -5.2581, -6.8369, -6.8392, -6.8036, -4.9321, -4.2569, -5.9121, -5.1612, -4.7066, -4.7284, -4.2862, -3.3276, -4.8154, -4.7393, -4.2343, -3.5248, -3.8454, -5.0038, -5.0525, -4.9036, -4.9626, -4.0148, -4.3395, -5.5891, -4.7946, -4.3256, -4.6618, -4.3561, -4.7817, -5.1808, -5.1341, -5.0112, -4.9962, -4.8912, -5.148, -6.3122, -6.2795, -6.4378, -6.6923, -5.7237, -6.1036, -5.0283, -5.2124, -6.6478, -6.1213, -6.5855, -4.0311, -5.6501, -5.0511, -6.1586, -5.5572, -6.9097, -4.8624, -6.6426, -5.5976, -5.5405, -6.8727, -5.7438, -6.8237, -6.7367, -6.6339, -6.9826, -5.2026, -4.7925, -7.0499, -5.0059, -5.4561, -5.758, -5.6932, -4.5962, -4.1779, -5.8182, -5.4118, -4.7004, -5.2363, -3.7288, -4.9145, -4.1701, -5.1615, -4.6229, -4.1381, -4.4427, -5.0876, -4.6632, -4.2003, -5.3819, -4.8015, -4.8064, -5.2286, -5.1631, -5.2199, -5.1506, -3.924, -4.487, -5.1857, -5.4552, -5.5518, -5.7976, -3.3859, -3.3913, -5.7653, -5.927, -5.9471, -6.0645, -6.1323, -6.167, -6.401, -6.4368, -6.4282, -6.4159, -6.5199, -6.536, -6.4926, -6.6144, -6.6144, -6.625, -6.6956, -6.7043, -6.7185, -6.7209, -6.798, -5.1667, -3.0331, -5.9797, -5.293, -3.8516, -6.0546, -6.4429, -5.3972, -5.5488, -5.4693, -6.0955, -5.2727, -4.8023, -4.9599, -4.7634, -4.3129, -5.715, -4.4895, -4.9311, -5.2428, -5.2307, -5.5404, -5.2441, -5.1985, -5.5566, -5.3169, -5.3932, -5.3938, -5.4903, -4.3647, -4.5733, -4.7391, -5.1128, -5.2244, -5.0582, -5.3865, -5.1064, -5.3393, -5.4496, -5.6428, -5.7804, -5.852, -6.0065, -6.0972, -6.1971, -6.2892, -5.2996, -6.1839, -6.3423, -6.4932, -5.8994, -6.5581, -6.4789, -4.8257, -4.1866, -6.4432, -6.4486, -5.2591, -5.9608, -5.3466, -4.3714, -5.5652, -5.2317, -6.176, -4.8897, -5.4778, -3.9816, -5.5747, -4.5477, -4.1604, -5.6704, -5.2326, -3.7275, -4.056, -4.8603, -4.8443, -4.9973, -4.9069, -4.8549, -4.9232, -4.7742, -4.9719, -5.0899, -5.2883, -5.533, -6.2093, -6.3944, -4.583, -4.8506, -6.0038, -6.2324, -6.3746, -4.994, -6.2911, -5.9308, -6.0322, -5.9235, -3.1443, -6.2948, -6.4255, -5.6548, -4.884, -6.2479, -6.3289, -6.4562, -5.3851, -6.2308, -5.2365, -6.8534, -6.3923, -4.8064, -6.743, -6.308, -6.834, -4.1476, -5.3701, -4.7636, -5.2468, -5.9359, -5.042, -4.8459, -5.5896, -4.9598, -4.336, -5.2944, -4.7416, -4.4979, -5.5705, -5.2268, -5.2927, -4.9119, -4.9439, -5.2205, -5.4253, -5.2137, -5.3355, -5.2015, -5.5005, -5.4267, -5.5084, -5.5839, -4.8724, -5.9286, -5.6396, -5.9125, -5.3792, -5.5156, -6.1065, -5.4821, -5.3987, -6.1279, -4.9074, -5.4591, -6.2538, -6.3432, -5.7934, -5.4448, -6.2682, -5.8841, -6.0448, -6.5117, -5.7187, -6.4869, -6.068, -5.3067, -5.3778, -6.0815, -6.5037, -6.481, -5.1924, -5.9026, -4.9243, -5.1954, -3.9639, -5.1048, -5.1671, -5.3691, -5.3243, -4.7088, -5.324, -5.1954, -5.5118, -5.1802, -4.8768, -5.3379, -5.5565, -5.1293, -5.1591, -5.0171, -5.3487, -5.3474, -5.4258, -5.4201, -5.4537, -3.659, -4.3065, -5.0375, -5.0569, -5.3035, -5.35, -5.7719, -5.8573, -5.8828, -4.7193, -5.3405, -5.1573, -5.6351, -5.2462, -4.6844, -5.2355, -4.9048, -5.8289, -5.455, -4.5559, -5.2125, -4.5013, -5.5953, -5.6826, -5.5825, -4.9962, -6.0463, -5.617, -5.7239, -5.9921, -4.4948, -3.8312, -5.3388, -4.6992, -5.4131, -5.0976, -4.3153, -5.2061, -5.0294, -5.3281, -5.0947, -5.1874, -5.0612, -5.2629, -5.0763, -5.2844, -5.2933, -5.3217, -5.3208, -5.0844, -5.8192, -5.8375, -5.5954, -5.0359, -6.1153, -5.7253, -4.6619, -4.4038, -4.9909, -4.8694, -4.2357, -5.8227, -4.2258, -5.2256, -4.7099, -4.9668, -4.3569, -5.3194, -5.1253, -5.7073, -4.7505, -6.2712, -5.9419, -5.3914, -5.0731, -4.6561, -6.4826, -5.0774, -5.3855, -4.4379, -5.1037, -5.5417, -4.2755, -4.0818, -3.7492, -3.7342, -4.4152, -4.9833, -4.8235, -4.2825, -4.7578, -5.193, -4.955, -4.8381, -4.7766, -5.1232, -3.9159, -3.8503, -4.4638, -4.3541, -5.1361, -5.1671, -5.2364, -5.2612, -5.305, -5.4576, -4.686, -5.7028, -5.6779, -5.6628, -5.6047, -4.6689, -4.8579, -5.234, -4.6709, -4.3014, -5.4904, -5.0168, -5.9984, -5.8275, -3.2573, -5.459, -5.9115, -5.4332, -4.4096, -6.4795, -4.4465, -4.4668, -3.9606, -4.8102, -3.9527, -4.6225, -4.5781, -4.8143, -4.5793, -4.5836, -5.0098, -4.6752, -5.1676, -5.1074, -5.1476, -5.1899, -3.481, -3.9208, -3.8912, -4.0031, -4.4092, -4.5193, -4.3128, -4.6339, -5.2582, -4.9304, -4.5028, -4.7649, -4.6695, -4.6297, -4.7594, -4.4971, -4.5569, -5.1773, -4.4174, -5.4008, -5.3554, -5.6877, -5.7173, -4.6403, -5.8698, -4.2332, -4.1032, -5.4527, -6.0151, -4.4763, -5.2246, -4.6941, -4.8682, -4.4256, -4.8658, -5.09, -5.065, -4.7013, -4.8413, -4.9773, -5.0416, -5.0272]}, \"token.table\": {\"Topic\": [1, 2, 3, 4, 5, 6, 7, 8, 9, 10, 1, 2, 3, 4, 5, 7, 8, 9, 10, 1, 2, 3, 4, 5, 7, 8, 9, 10, 1, 2, 3, 4, 5, 6, 7, 8, 9, 10, 1, 4, 1, 7, 8, 1, 2, 3, 5, 7, 8, 1, 2, 5, 9, 10, 1, 2, 3, 4, 5, 7, 8, 9, 1, 5, 6, 9, 1, 2, 5, 1, 2, 3, 4, 5, 6, 7, 8, 9, 10, 1, 2, 3, 4, 5, 6, 7, 8, 9, 10, 6, 10, 2, 3, 4, 6, 7, 6, 6, 7, 2, 4, 6, 7, 4, 6, 7, 3, 6, 7, 2, 10, 1, 2, 3, 4, 5, 6, 7, 9, 1, 2, 4, 5, 7, 9, 1, 2, 5, 10, 1, 2, 3, 4, 5, 6, 7, 8, 9, 10, 4, 7, 3, 4, 3, 3, 7, 1, 2, 5, 8, 9, 10, 5, 6, 9, 10, 2, 5, 6, 8, 9, 10, 1, 2, 3, 5, 7, 9, 1, 2, 5, 6, 7, 9, 1, 5, 7, 9, 7, 6, 7, 1, 2, 3, 5, 8, 9, 10, 2, 4, 5, 10, 2, 5, 8, 10, 5, 7, 9, 1, 2, 3, 4, 5, 6, 7, 8, 9, 10, 7, 3, 1, 2, 4, 5, 9, 2, 3, 5, 6, 7, 9, 1, 2, 3, 4, 5, 6, 7, 8, 9, 10, 1, 2, 3, 4, 5, 6, 7, 8, 9, 10, 6, 7, 5, 8, 10, 1, 2, 3, 4, 6, 7, 9, 2, 3, 4, 5, 6, 10, 1, 2, 3, 5, 6, 7, 8, 10, 1, 2, 4, 6, 8, 9, 1, 2, 3, 4, 5, 6, 7, 8, 9, 10, 1, 2, 4, 5, 6, 7, 8, 9, 2, 3, 6, 8, 4, 1, 3, 4, 5, 6, 7, 9, 1, 5, 6, 7, 9, 1, 2, 3, 4, 5, 7, 8, 1, 2, 3, 4, 5, 6, 7, 8, 9, 10, 2, 3, 7, 8, 1, 2, 3, 4, 5, 6, 3, 6, 7, 1, 2, 3, 4, 5, 6, 7, 8, 9, 10, 9, 2, 4, 5, 1, 2, 4, 5, 7, 9, 1, 2, 3, 4, 5, 6, 8, 9, 10, 1, 3, 1, 2, 5, 1, 3, 5, 7, 8, 9, 3, 7, 8, 9, 7, 2, 3, 6, 1, 2, 4, 5, 6, 7, 9, 1, 2, 4, 5, 8, 9, 10, 1, 2, 3, 4, 5, 6, 7, 8, 9, 10, 8, 7, 6, 7, 6, 7, 3, 6, 7, 3, 1, 2, 3, 4, 5, 6, 7, 8, 10, 4, 3, 6, 8, 1, 2, 4, 5, 6, 7, 8, 9, 10, 1, 2, 3, 4, 5, 6, 7, 8, 10, 1, 4, 5, 9, 10, 1, 4, 5, 6, 1, 2, 3, 4, 5, 6, 7, 8, 9, 10, 1, 2, 4, 5, 6, 7, 8, 9, 10, 7, 9, 1, 7, 8, 1, 2, 4, 5, 6, 7, 9, 10, 1, 2, 3, 4, 5, 6, 7, 8, 9, 10, 1, 2, 4, 5, 8, 9, 10, 6, 7, 1, 8, 9, 10, 10, 1, 2, 4, 5, 7, 10, 6, 8, 1, 2, 3, 4, 5, 6, 7, 8, 9, 10, 1, 2, 3, 4, 5, 6, 7, 8, 9, 10, 2, 3, 6, 9, 3, 5, 6, 8, 1, 2, 5, 8, 2, 3, 4, 5, 6, 7, 8, 10, 2, 3, 6, 10, 7, 8, 3, 3, 5, 8, 9, 1, 2, 4, 5, 10, 4, 5, 4, 3, 3, 4, 5, 6, 1, 2, 3, 4, 5, 7, 8, 9, 10, 1, 2, 5, 9, 1, 2, 3, 5, 6, 7, 8, 9, 10, 1, 3, 5, 8, 1, 3, 5, 7, 8, 9, 10, 2, 7, 2, 7, 1, 2, 4, 5, 6, 7, 10, 3, 10, 4, 10, 1, 2, 3, 4, 5, 6, 7, 8, 9, 10, 2, 5, 8, 3, 4, 5, 7, 8, 1, 2, 1, 2, 3, 4, 5, 6, 8, 9, 10, 1, 2, 3, 4, 5, 6, 7, 8, 9, 10, 1, 2, 3, 4, 5, 6, 7, 8, 9, 10, 1, 2, 5, 1, 3, 4, 7, 8, 10, 1, 7, 8, 1, 3, 7, 10, 1, 2, 3, 4, 5, 6, 7, 8, 9, 10, 3, 7, 8, 4, 8, 1, 2, 4, 5, 6, 8, 9, 10, 1, 3, 6, 7, 8, 9, 1, 2, 3, 4, 5, 6, 7, 8, 9, 10, 1, 4, 5, 8, 1, 2, 4, 7, 1, 2, 7, 8, 1, 2, 3, 5, 6, 8, 9, 10, 1, 2, 4, 5, 8, 10, 1, 2, 6, 10, 2, 5, 6, 7, 2, 5, 9, 2, 3, 9, 2, 6, 1, 2, 3, 4, 5, 6, 7, 8, 9, 10, 1, 2, 3, 5, 6, 8, 9, 10, 2, 7, 8, 8, 2, 10, 1, 2, 3, 4, 5, 6, 7, 10, 1, 6, 7, 9, 1, 2, 3, 5, 6, 7, 8, 9, 10, 3, 7, 1, 2, 3, 4, 5, 6, 7, 8, 9, 10, 1, 2, 4, 5, 8, 3, 6, 1, 2, 3, 4, 5, 7, 8, 9, 10, 3, 7, 2, 3, 5, 6, 10, 1, 2, 3, 4, 5, 6, 7, 8, 9, 10, 9, 1, 2, 3, 4, 5, 7, 3, 7, 1, 3, 5, 8, 4, 3, 6, 3, 3, 10, 7, 8, 1, 2, 3, 4, 5, 6, 7, 8, 9, 10, 1, 2, 3, 5, 8, 1, 2, 3, 4, 5, 6, 7, 8, 9, 1, 8, 9, 1, 5, 7, 9, 9, 1, 2, 5, 7, 1, 2, 3, 4, 5, 6, 7, 8, 9, 10, 1, 8, 2, 3, 5, 9, 2, 4, 5, 8, 2, 5, 1, 4, 4, 2, 3, 6, 9, 10, 3, 9, 10, 1, 2, 4, 5, 7, 8, 9, 10, 1, 2, 4, 5, 8, 9, 10, 2, 3, 4, 5, 6, 7, 8, 9, 10, 1, 2, 3, 4, 8, 2, 9, 1, 7, 3, 1, 2, 3, 4, 5, 7, 10, 1, 3, 4, 5, 7, 10, 6, 7, 3, 1, 2, 3, 5, 6, 7, 8, 9, 1, 4, 9, 1, 2, 3, 4, 5, 6, 7, 8, 9, 1, 6, 8, 1, 2, 7, 3, 7, 3, 7, 10, 3, 10, 5, 6, 7, 2, 3, 5, 6, 7, 10, 1, 2, 3, 4, 5, 6, 7, 8, 9, 10, 2, 3, 4, 5, 6, 7, 9, 10, 3, 6, 9, 3, 5, 6, 9, 10, 1, 2, 3, 4, 5, 6, 7, 8, 3, 7, 3, 1, 5, 3, 3, 1, 2, 3, 5, 6, 7, 5, 7, 9, 5, 8, 1, 2, 3, 5, 8, 9, 10, 1, 2, 3, 4, 5, 6, 7, 8, 9, 10, 3, 7, 3, 1, 2, 5, 1, 2, 3, 4, 5, 6, 7, 8, 9, 10, 4, 1, 2, 5, 7, 2, 3, 4, 5, 6, 7, 8, 10, 5, 7, 9, 2, 4, 5, 9, 10, 1, 7, 8, 9, 10, 1, 2, 5, 6, 7, 4, 1, 2, 3, 4, 5, 6, 7, 8, 9, 10, 7, 8, 9, 2, 3, 5, 6, 7, 8, 9, 10, 2, 3, 5, 6, 8, 10, 4, 1, 2, 3, 4, 5, 6, 7, 8, 9, 10, 2, 5, 8, 4, 2, 5, 2, 3, 5, 7, 8, 9, 1, 2, 8, 1, 2, 4, 5, 6, 8, 9, 10, 4, 2, 4, 5, 6, 1, 2, 3, 4, 5, 6, 7, 8, 9, 10, 7, 8, 9, 9, 10, 10, 7, 8, 1, 2, 3, 6, 7, 9, 10, 2, 3, 5, 7, 9, 4, 1, 2, 3, 4, 5, 6, 7, 9, 10, 1, 2, 3, 4, 5, 6, 7, 8, 9, 10, 1, 2, 7, 8, 9, 4, 4, 9, 1, 2, 1, 7, 8, 2, 3, 6, 2, 5, 6, 7, 1, 2, 3, 4, 5, 6, 8, 9, 3, 1, 2, 3, 4, 5, 6, 7, 8, 9, 10, 4, 1, 2, 9, 1, 5, 10, 1, 2, 3, 4, 5, 6, 7, 8, 9, 10, 1, 2, 3, 4, 5, 6, 7, 8, 9, 10, 2, 2, 4, 5, 6, 1, 2, 3, 4, 5, 6, 7, 8, 9, 10, 6, 2, 3, 7, 1, 2, 2, 3, 6, 9, 10, 2, 3, 6, 8, 3, 7, 1, 2, 5, 8, 9, 10, 2, 5, 6, 8, 1, 2, 3, 4, 5, 6, 7, 9, 10, 1, 2, 4, 5, 7, 8, 9, 10, 9, 10, 1, 2, 3, 4, 5, 6, 7, 8, 9, 10, 1, 2, 6, 7, 8, 9, 1, 2, 3, 4, 5, 7, 8, 9, 1, 2, 4, 6, 7, 8, 1, 2, 5, 7, 8, 9, 10, 3, 2, 5, 2, 3, 4, 5, 6, 7, 8, 9, 10, 3, 10, 1, 9, 1, 4, 7, 8, 10, 1, 7, 9, 1, 4, 5, 7, 8, 3, 6, 1, 2, 3, 4, 5, 6, 7, 8, 9, 10, 1, 2, 3, 5, 8, 9, 10, 2, 3, 5, 6, 9, 10, 1, 2, 3, 4, 5, 6, 7, 8, 9, 10, 1, 2, 5, 1, 2, 4, 5, 8, 1, 2, 3, 4, 5, 6, 7, 8, 9, 10, 3, 1, 2, 3, 4, 5, 7, 8, 9, 1, 2, 3, 5, 6, 10, 4, 2, 3, 4, 6, 7, 9, 1, 2, 5, 9, 2, 3, 5, 6, 8, 9, 10, 7, 8, 8, 2, 6, 1, 2, 4, 5, 6, 7, 2, 4, 6, 3, 9, 10, 1, 2, 5, 2, 3, 6, 7, 1, 2, 4, 5, 6, 8, 9, 10, 1, 2, 3, 4, 5, 6, 7, 8, 9, 10, 3, 10, 4, 1, 2, 3, 4, 5, 6, 7, 9, 1, 2, 5, 6, 7, 1, 2, 4, 5, 8, 9, 10, 1, 2, 5, 8, 9, 10, 3, 7, 1, 6, 8, 1, 2, 3, 4, 7, 8, 3, 6, 4, 2, 3, 4, 5, 7, 8, 9, 10, 2, 3, 5, 6, 7, 9, 10, 1, 2, 3, 4, 5, 6, 7, 8, 9, 10, 4, 5, 8, 9, 1, 2, 3, 4, 5, 6, 8, 9, 1, 2, 3, 4, 5, 6, 8, 9, 10, 1, 9, 3, 5, 7, 8, 1, 2, 5, 1, 2, 4, 5, 7, 8, 9, 10, 1, 2, 3, 5, 7, 2, 3, 5, 6, 9, 1, 3, 4, 6, 7, 9, 1, 2, 3, 4, 5, 6, 7, 8, 9, 10, 4, 2, 5, 7, 8, 2, 3, 5, 6, 9, 10, 1, 2, 3, 4, 5, 6, 7, 8, 1, 4, 5, 2, 5, 9, 10, 3, 7, 2, 3, 5, 9, 1, 2, 3, 4, 5, 6, 7, 8, 9, 10, 1, 2, 3, 4, 5, 6, 7, 8, 10, 1, 2, 4, 8, 1, 2, 3, 4, 5, 6, 7, 8, 9, 10, 3, 6, 7, 9, 1, 2, 3, 4, 6, 7, 9, 7, 8, 10, 1, 2, 3, 4, 5, 6, 7, 8, 9, 10, 1, 2, 3, 6, 7, 9, 1, 2, 3, 4, 5, 6, 7, 8, 9, 10, 1, 8, 9, 10, 1, 2, 3, 4, 5, 6, 8, 9, 10, 2, 3, 4, 5, 6, 3, 1, 3, 6, 7, 10, 5, 6, 9, 10, 3, 2, 4, 7, 1, 2, 5, 7, 10, 2, 5, 6, 7, 1, 2, 3, 4, 5, 6, 7, 2, 4, 7, 1, 2, 3, 4, 5, 6, 8, 9, 10, 2, 5, 7, 1, 2, 3, 4, 5, 6, 7, 9, 4, 3, 6, 7, 9, 2, 3, 5, 6, 10, 9, 3, 1, 2, 3, 4, 5, 6, 7, 8, 9, 10, 2, 5, 8, 9, 10, 1, 2, 3, 5, 8, 4, 10, 1, 2, 3, 4, 5, 6, 7, 8, 9, 10, 2, 3, 5, 6, 7, 8, 2, 3, 4, 5, 6, 8, 10, 4, 3, 5, 6, 7, 4, 9, 3, 1, 3, 4, 6, 7, 1, 2, 3, 4, 5, 6, 7, 8, 9, 10, 3, 3, 3, 1, 5, 10, 3, 5, 7, 8, 9, 1, 2, 5, 7, 3, 9], \"Freq\": [0.03187591430918104, 0.05437655970389707, 0.0818773485196611, 0.11875340624989014, 0.09000258157886411, 0.08937756365123312, 0.4912640911179666, 0.005000143421048006, 0.02500071710524003, 0.011875340624989015, 0.5913295361306138, 0.09357740134053484, 0.056743743366069, 0.010950546965381737, 0.05574823909648884, 0.07466282021851184, 0.09955042695801579, 0.003982017078320631, 0.012941555504542053, 0.6424836493693814, 0.053860904737552937, 0.015388829925015125, 0.011541622443761343, 0.025831250231275388, 0.07804335176257671, 0.15553710245640287, 0.011541622443761343, 0.0054960106875054015, 0.6273665626736289, 0.07683762746070018, 0.06163897587506717, 0.04221847662675834, 0.0075993257928165005, 0.0016887390650703335, 0.040529737561688005, 0.13763223380323217, 0.0025331085976055003, 0.0025331085976055003, 0.006580314081749749, 0.9870471122624623, 0.7935692215493706, 0.19390379169079644, 0.007181621914473942, 0.7844224755154661, 0.03337967980916877, 0.041724599761460965, 0.041724599761460965, 0.08344919952292193, 0.008344919952292192, 0.0952459575515508, 0.1428689363273262, 0.6429102134729678, 0.01190574469394385, 0.0952459575515508, 0.9914728631644318, 0.08573311065994457, 0.04176741288561402, 0.6440974723939425, 0.07034511643892888, 0.1362936631004247, 0.01758627910973222, 0.004396569777433055, 0.2547622870231376, 0.6645972704951415, 0.03322986352475707, 0.05538310587459512, 0.15576860294854478, 0.7615353921928856, 0.08134582598424005, 0.0021637646684692096, 0.03462023469550735, 0.0670767047225455, 0.010818823342346047, 0.09953317474958363, 0.454390580378534, 0.10386070408652205, 0.004327529336938419, 0.04111152870091498, 0.17959246748294438, 0.20983657121617902, 0.2589982821868267, 0.03597198363705926, 0.07134443421350087, 0.07973789706214802, 0.06474957054670667, 0.10611735172932482, 0.11750847988106025, 0.03177525221273568, 0.023981322424706176, 0.00643399551798961, 0.9844013142524103, 0.002783535453816283, 0.03340242544579539, 0.03618596089961168, 0.668048508915908, 0.256085261751098, 0.9930596157704875, 0.9601976486872834, 0.03377579668749238, 0.0041748843566699525, 0.0041748843566699525, 0.7765284903406111, 0.20874421783349761, 0.03252143570575482, 0.8238763712124554, 0.1409262213916042, 0.036179454833096654, 0.7959480063281265, 0.16280754674893494, 0.022102551889820167, 0.9669866451796323, 0.0017799220537796708, 0.31148635941144237, 0.0605173498285088, 0.0605173498285088, 0.04093820723693243, 0.17799220537796706, 0.3150462035190017, 0.0302586749142544, 0.10240154529692022, 0.3254906261223535, 0.38857729242134903, 0.11245883992429631, 0.02834328485896899, 0.041143478021084014, 0.10188431796229759, 0.127355397452872, 0.6749836065002215, 0.0764132384717232, 0.48785879841223206, 0.17640243839121433, 0.04295949793393348, 0.09075193938543447, 0.04859793203776225, 0.0013424843104354212, 0.02174824582905382, 0.049940416348197667, 0.07705859941899318, 0.0037589560692191794, 0.996468444433125, 0.9945255370253868, 0.01562864446856211, 0.9823719380239041, 0.9944192834895547, 0.1794359758569203, 0.8164336901489874, 0.025857259202657076, 0.2844298512292278, 0.49128792485048445, 0.042479782975793766, 0.07203093635025899, 0.08495956595158753, 0.005307130903165527, 0.9234407771508018, 0.026535654515827636, 0.042457047225324215, 0.051850043212430016, 0.01885456116815637, 0.867309813735193, 0.023568201460195462, 0.004713640292039092, 0.03299548204427365, 0.08836890927252843, 0.002155339250549474, 0.010776696252747369, 0.8254949329604485, 0.030174749507692635, 0.043106785010989475, 0.17848004912575655, 0.033051860949214175, 0.7668031740217689, 0.003305186094921418, 0.003305186094921418, 0.013220744379685671, 0.0065193826045566025, 0.10431012167290564, 0.8801166516151413, 0.0065193826045566025, 0.9920074847430889, 0.8563851504227794, 0.13413261392164014, 0.009762644034880462, 0.0035145518525569663, 0.0003905057613952185, 0.8513025598415763, 0.11754223417996076, 0.0019525288069760925, 0.015229724694413522, 0.012832243497725822, 0.0577450957397662, 0.8661764360964931, 0.05132897399090329, 0.001894917461574803, 0.9796723276341731, 0.001894917461574803, 0.01326442223102362, 0.9515773221498262, 0.038447568571710146, 0.9888876721464974, 0.13896979437328796, 0.14193923442399925, 0.0421660487201002, 0.2405246441076138, 0.16213142676883596, 0.02256774438540574, 0.059388801014225626, 0.0190044163245522, 0.17103974692096982, 0.0017816640304267688, 0.9928480311339777, 0.9990158322507727, 0.013542722343931703, 0.009028481562621135, 0.9479905640752192, 0.009028481562621135, 0.01805696312524227, 0.8266208213527952, 0.0240763346025086, 0.004012722433751433, 0.08025444867502866, 0.006687870722919056, 0.05617811407252007, 0.13083081719037526, 0.1958964107663373, 0.0454759524993283, 0.14412378792094815, 0.19029937045872766, 0.06786411372976685, 0.08675412476794937, 0.035681131961011435, 0.08185671449879094, 0.021688531191987343, 0.34141456141168136, 0.2858283828188542, 0.0012149984391874782, 0.04738493912831165, 0.10934985952687303, 0.01306123322126539, 0.0006074992195937391, 0.15005230723965354, 0.04647369029892104, 0.004859993756749913, 0.9848118161344898, 0.0119371129228423, 0.9509770287888741, 0.011057872427777607, 0.022115744855555213, 0.12078635747849445, 0.7730326878623645, 0.033216248306585976, 0.04831454299139778, 0.003019658936962361, 0.018117953621774166, 0.9982934203586805, 0.5856696893674483, 0.2921458215197624, 0.0013780463279234078, 0.0868169186591747, 0.005512185311693631, 0.02618288023054475, 0.007946457031174156, 0.6412790824157543, 0.3043493042939701, 0.01589291406234831, 0.003973228515587078, 0.0007946457031174155, 0.0007946457031174155, 0.02463401679663988, 0.03438916245080686, 0.04126699494096823, 0.01719458122540343, 0.051583743676210284, 0.8562901450250907, 0.9981620271349508, 0.24158780927767112, 0.31721529739937687, 0.03655328592549111, 0.15965803047915658, 0.18528734589817908, 0.002941068982510779, 0.00504183254144705, 0.002520916270723525, 0.004621679829659796, 0.04537649287302345, 0.08732817808303435, 0.5127731482311504, 0.08508899402962321, 0.08173021794950651, 0.002239184053411137, 0.021272248507405802, 0.09068695416315105, 0.1175571628040847, 0.988938387302349, 0.2875456002871604, 0.1171482075243987, 0.5857410376219935, 0.9981429108573938, 0.026029442244581008, 0.018020383092402236, 0.01401585351631285, 0.024027177456536312, 0.08809965067396648, 0.06807700279351955, 0.7608606194569832, 0.009928489871672335, 0.013237986495563113, 0.016547483119453893, 0.0926659054689418, 0.8670881154593839, 0.08072014796475202, 0.042281982267251064, 0.026906715988250677, 0.08072014796475202, 0.08456396453450213, 0.6688240831365168, 0.015375266279000386, 0.025241468957995394, 0.21076626579926153, 0.1375660058210749, 0.0025241468957995393, 0.4126980174632247, 0.047958791020191245, 0.011358661031097927, 0.09213136169668319, 0.029027689301694703, 0.03028976274959447, 0.0023904469781475036, 0.07649430330072012, 0.9107602986741989, 0.009561787912590014, 0.049931690976156476, 0.04279859226527698, 0.08559718453055395, 0.014266197421758992, 0.7133098710879496, 0.09273028324143345, 0.004598747940879599, 0.08737621087671239, 0.9105520922941607, 0.0045754727706873825, 0.06634435517496705, 0.07091982794565443, 0.050330200477561204, 0.05719340963359228, 0.5467689960971422, 0.0045754727706873825, 0.027452836624124295, 0.013726418312062148, 0.16014154697405839, 0.9963695999776888, 0.9932578239730053, 0.9773032860710649, 0.011233371104265113, 0.7471540531419707, 0.03221814192193303, 0.01841036681253316, 0.010739380640644343, 0.006136788937511053, 0.1841036681253316, 0.008619542976880942, 0.025858628930642825, 0.21031684863589498, 0.012067360167633318, 0.11894969308095699, 0.012067360167633318, 0.586128922427904, 0.0017239085953761884, 0.022410811739890447, 0.995314980474713, 0.9911905544775285, 0.1621390248019943, 0.8029742180670194, 0.03088362377180844, 0.0002881903726894801, 0.9616912736647951, 0.0005763807453789602, 0.02853084689625853, 0.008645711180684404, 0.0002881903726894801, 0.9408726195748235, 0.057526179185960674, 0.0012783595374657928, 0.0006391797687328964, 0.9959904348690191, 0.07582581336981332, 0.010110108449308444, 0.90990976043776, 0.022247806958497568, 0.022247806958497568, 0.17798245566798054, 0.038933662177370744, 0.6563103052756782, 0.005561951739624392, 0.07786732435474149, 0.08014021827221021, 0.19589831133206942, 0.07123574957529798, 0.16473267089287655, 0.03116564043919286, 0.02671340609073674, 0.43186673180024393, 0.2829859200070493, 0.17020167652597892, 0.09227801739360303, 0.03896182956618795, 0.046139008696801515, 0.011278424348107037, 0.07074648000176233, 0.019480914783093974, 0.23377097739712768, 0.03178465043557438, 0.9856987918215822, 0.9948480235281218, 0.004743200165284174, 0.9913288345443925, 0.005177932161259826, 0.9889850428006268, 0.0064166540636191195, 0.9817480717337252, 0.0064166540636191195, 0.9914084739773369, 0.021026053703790598, 0.21288879375087982, 0.018397796990816773, 0.034167337268659725, 0.49674051875205294, 0.09198898495408388, 0.06044990439839797, 0.021026053703790598, 0.044680364120555024, 0.9959575752194793, 0.8271706712407698, 0.051261281034639256, 0.11883296967120918, 0.11583553507785968, 0.34877752803223894, 0.2394781673474873, 0.10221850509221786, 0.031228388767071888, 0.031409949166880446, 0.016885117182195847, 0.09767949509700392, 0.016340435982770175, 0.698366929716295, 0.052706938091795844, 0.004392244840982987, 0.0351379587278639, 0.07906040713769377, 0.0065883672614744804, 0.07686428471720227, 0.04392244840982987, 0.0021961224204914936, 0.0011752770843755035, 0.9790058112847944, 0.002350554168751007, 0.01645387918125705, 0.9978012020436378, 0.8470972668674929, 0.010722750213512567, 0.05361375106756284, 0.07505925149458798, 0.5043276043853769, 0.061194562875213104, 0.0833512149507213, 0.058029326864426224, 0.06646995622652459, 0.07385550691836064, 0.06541487755626228, 0.02743204542681967, 0.04536838282127868, 0.013716022713409834, 0.032454212967365594, 0.08654456791297492, 0.004327228395648746, 0.006490842593473119, 0.2163614197824373, 0.4803223519170108, 0.09519902470427241, 0.06058119753908244, 0.017308913582594985, 0.003837042865444799, 0.9899570592847582, 0.08187657148284368, 0.8565549016666724, 0.056683780257353315, 0.07563465477768665, 0.17426224460779002, 0.5173410386793766, 0.062322955536813794, 0.01149646752620837, 0.08894635401855949, 0.06655849620436424, 0.0030253861911074655, 0.010186191478590989, 0.06451254603107627, 0.24899579169889086, 0.04414016307389429, 0.08601672804143502, 0.21504182010358755, 0.1493974750193345, 0.16637446081698615, 0.007922593372237436, 0.007922593372237436, 0.1295140592518879, 0.04757659319457107, 0.07929432199095178, 0.6211388555957889, 0.07665117792458671, 0.0026431440663650593, 0.04229030506184095, 0.006126374458599743, 0.9894094750638585, 0.017844849897229193, 0.9747749256361447, 0.004461212474307298, 0.9944582467953368, 0.9957131545852845, 0.07016708896991941, 0.09823392455788717, 0.6794513115253862, 0.1064200849377111, 0.028066835587967763, 0.017541772242479853, 0.12810506485650006, 0.8701162197396042, 0.046555427534995975, 0.07941808226558138, 0.26107553480409507, 0.07850523074528734, 0.03925261537264367, 0.08854659746852175, 0.2163458103096872, 0.06572530946117079, 0.0894594489888158, 0.034688357771173475, 0.0021150813068319106, 0.5125547033555996, 0.03666140931841978, 0.07261779153456226, 0.047236815852579335, 0.05076195136396585, 0.047236815852579335, 0.054992113977629674, 0.07543789994367148, 0.1001138485233771, 0.010343282991078218, 0.7860895073219446, 0.017238804985130363, 0.18617909383940792, 0.1369753948733491, 0.06488308178211272, 0.7209231309123636, 0.07209231309123636, 0.07578275008777056, 0.14995310123750347, 0.6675331603475961, 0.10641832991048633, 0.23657817267552944, 0.1483027351100334, 0.045903227534057955, 0.067089332549777, 0.43431515282224065, 0.0335446662748885, 0.0035310175026198425, 0.02824814002095874, 0.19061817743047174, 0.06618686716335824, 0.44212827265123306, 0.3018121142649136, 0.008493914627078405, 0.9852940967410949, 0.9943588010272146, 0.9991436728540574, 0.3549739670661103, 0.18702929447569253, 0.45421400086953895, 0.030551980613042713, 0.3055198061304271, 0.08147194830144723, 0.061103961226085426, 0.5193836704217262, 0.9651437752091666, 0.025398520400241226, 0.9963843382595021, 0.9944461976671485, 0.9887672649547754, 0.9744142698233375, 0.010256992313929868, 0.010256992313929868, 0.10375026536345044, 0.07348977129911073, 0.058359524266940875, 0.006484391585215653, 0.04755220495824812, 0.028099030202601162, 0.6678923332772122, 0.004322927723477102, 0.010807319308692755, 0.8931384074829659, 0.04253040035633171, 0.024454980204890734, 0.039340620329606835, 0.07542178958936432, 0.015084357917872866, 0.4042607921989928, 0.08145553275651347, 0.00905061475072372, 0.028660280043958444, 0.3695667689878852, 0.010559050542511005, 0.007542178958936433, 0.06752947368003373, 0.022509824560011243, 0.04051768420802024, 0.8643772631044316, 0.13568331643366036, 0.1643855564484731, 0.0730602473104325, 0.007827883640403481, 0.5818726839366588, 0.005218589093602321, 0.031311534561613924, 0.9893451974376761, 0.0075811892523959855, 0.9872620365018883, 0.011030860743037859, 0.012823337373203425, 0.09232802908706467, 0.45138147553676056, 0.04616401454353233, 0.03590534464496959, 0.005129334949281371, 0.35392411150041453, 0.18825521643467527, 0.8025617121688787, 0.9751663917450463, 0.011208809100517773, 0.3329475744978922, 0.0990754928161744, 0.09840150987184668, 0.08492185098529234, 0.08020397037499832, 0.08626981687394777, 0.0795299874306706, 0.05661456732352822, 0.04246092549264617, 0.03909101077100759, 0.7612969304277478, 0.15431694535697593, 0.08230237085705382, 0.11696608291559686, 0.11696608291559686, 0.1429585457857295, 0.006498115717533158, 0.6108228774481169, 0.20013127587764898, 0.7909950427545174, 0.21758265305573393, 0.04876852568490588, 0.06252375087808447, 0.022508550316110407, 0.0825313511590715, 0.006252375087808446, 0.10128847642249683, 0.42641198098853605, 0.03376282547416561, 0.09833171049806284, 0.34019599841668513, 0.06423281088986363, 0.21966035329002748, 0.09833171049806284, 0.011101967314297417, 0.01506695564083221, 0.0015859953306139169, 0.0991247081633698, 0.05313084357556621, 0.4515548780052185, 0.14019393324349744, 0.027712754245807634, 0.0945493968386378, 0.05542550849161527, 0.05257272496631154, 0.02567505172773354, 0.07498745266512653, 0.0472746984193189, 0.03015799726749654, 0.8662442137898855, 0.10986511979774158, 0.021127907653411843, 0.001314116432305204, 0.001314116432305204, 0.001314116432305204, 0.4336584226607173, 0.5558712508651013, 0.00657058216152602, 0.007030358809649002, 0.8647341335868273, 0.11951609976403303, 0.044557520861811584, 0.08911504172362317, 0.8402275362513041, 0.025461440492463763, 0.5845726485260135, 0.10468575163778056, 0.028719100006824753, 0.025013409683363495, 0.012969916132114404, 0.0027792677425959437, 0.058364622594514824, 0.052806087109322934, 0.08708372260133958, 0.04261543871980447, 0.12939939372863984, 0.8560267585125406, 0.009953799517587682, 0.8595265212808432, 0.13643278115568938, 0.11200378770341404, 0.10962072839057545, 0.04607248004821287, 0.6346881303193462, 0.013504002772752047, 0.006354824834236258, 0.049249892465331, 0.02780235864978363, 0.127184331392575, 0.11740092128545386, 0.08805069096409039, 0.127184331392575, 0.127184331392575, 0.4206866346062097, 0.03256443479326012, 0.17956959757426294, 0.007443299381316599, 0.08652835530780546, 0.3302964100459241, 0.027912372679937247, 0.04186855901990587, 0.11537114041040729, 0.06978093169984312, 0.10978866587441984, 0.7968582115865162, 0.09425204653173846, 0.008568367866521678, 0.09425204653173846, 0.807426801848599, 0.04088236971385312, 0.14819859021271753, 0.9979831975621933, 0.8024167934199666, 0.05311505961172356, 0.022763596976452954, 0.119508884126378, 0.015558777757601663, 0.028005799963682992, 0.37963417728548055, 0.19292884419426062, 0.00414900740202711, 0.2976912810954451, 0.014521525907094886, 0.06845862213344732, 0.9433585577008889, 0.02418868096668946, 0.02418868096668946, 0.0020157234138907885, 0.004031446827781577, 0.004031446827781577, 0.07366805472318352, 0.8430899596097671, 0.0027284464712290196, 0.0818533941368706, 0.8027077813839384, 0.0027118506127835756, 0.17627028983093243, 0.016271103676701454, 0.9283243775145474, 0.044630979688199394, 0.017852391875279757, 0.048575144570240855, 0.9472153191196966, 0.9962311145029847, 0.7408978507250361, 0.25638107444444064, 0.10425373268934719, 0.21319302639844032, 0.13119570855288634, 0.016399463569110793, 0.0480270004523959, 0.0480270004523959, 0.11245346447390259, 0.06208368351163372, 0.18742244078983764, 0.079654537335681, 0.012377471457305403, 0.05913680807379248, 0.02200439370187627, 0.5941186299506593, 0.0013752746063672668, 0.08526702559477055, 0.05501098425469068, 0.1705340511895411, 0.38769816619526315, 0.00738472697514787, 0.6018552484745514, 0.9884303907524624, 0.3995177632483544, 0.5892887007913228, 0.16376926872664596, 0.11967754253101053, 0.0645628847864662, 0.09290756591223186, 0.07716052084236205, 0.325963832946305, 0.13227517858690638, 0.02204586309781773, 0.005886307853865919, 0.005886307853865919, 0.9859565655225415, 0.9981514442746955, 0.0009881728314554846, 0.05286724648286842, 0.16798938134743235, 0.07510113519061683, 0.4051508608967486, 0.0014822592471832267, 0.21344533159438464, 0.0350801355166697, 0.047926382325590995, 0.00764445701802787, 0.9861349553255953, 0.08832815461590045, 0.5610897282854609, 0.09656601359562172, 0.05629203636142878, 0.10160026074989585, 0.0709371189920444, 0.0068648824831010705, 0.00045765883220673804, 0.012814447301788665, 0.005034247154274118, 0.6960640841429537, 0.0741479716796755, 0.03429343690184992, 0.026878639733882367, 0.16683293627926987, 0.09485347697031196, 0.8916226835209324, 0.7772442916982867, 0.09255927127891506, 0.0557891498119488, 0.005071740891995346, 0.039305991912963925, 0.008875546560991855, 0.01775109312198371, 0.0012679352229988364, 0.003803805668996509, 0.9964687094634281, 0.990615807102439, 0.023051817316832455, 0.03457772597524868, 0.023051817316832455, 0.7376581541386386, 0.1728886298762434, 0.3657745492083763, 0.12084777509181337, 0.08465806704292808, 0.09435173884173664, 0.029727260183012916, 0.022618567530553305, 0.04265215591475766, 0.11180034807959205, 0.10533790021371968, 0.02197232274396607, 0.9926671306024576, 0.04956192422517217, 0.09912384845034435, 0.17622017502283438, 0.3102209331131147, 0.3542759768688233, 0.011013760938927149, 0.9950792451871584, 0.004267063658607026, 0.14903546599092224, 0.0638723425675381, 0.6529172795792784, 0.1277446851350762, 0.9952545635892451, 0.9602861373737219, 0.03669883327542886, 0.9911906170767972, 0.00991501931851616, 0.9865444221923578, 0.39710488831435803, 0.6010236147460555, 0.15554887280499827, 0.21006366467590887, 0.077047572510887, 0.1715398784204654, 0.10830271985020908, 0.13883100329791903, 0.03488946679738279, 0.03270887512254637, 0.03925065014705564, 0.03270887512254637, 0.7671796683656276, 0.023348946428519098, 0.02001338265301637, 0.1534359336731255, 0.033355637755027284, 0.6557148981997567, 0.11325119431897104, 0.0047584535428139094, 0.009516907085627819, 0.08850723589633872, 0.018082123462692855, 0.08755554518777593, 0.020937195588381204, 0.001903381417125564, 0.34709005546802707, 0.0034709005546802708, 0.6455875031705304, 0.012578408297072812, 0.04402442903975484, 0.2138329410502378, 0.7295476812302231, 0.9911224464690933, 0.1206418135583899, 0.7567531941389912, 0.010967437596217265, 0.10967437596217264, 0.07494833232598674, 0.16992102825051955, 0.0005721246742441736, 0.22827774502342527, 0.1127085608261022, 0.14646391660650845, 0.13158867507615993, 0.06693858688656831, 0.01258674283337182, 0.056068218075929016, 0.06754936088531135, 0.9288037121730311, 0.02748801199763764, 0.041232017996456455, 0.9208484019208609, 0.00687200299940941, 0.0073832049462062566, 0.004922136630804171, 0.9745830528992259, 0.014766409892412513, 0.14524617702727727, 0.8442434039710491, 0.007240629180275794, 0.9919661976977837, 0.9981740946967075, 0.0718916334157229, 0.04493227088482681, 0.017972908353930724, 0.09885099594661899, 0.7638486050420559, 0.027783972313351224, 0.041675958470026836, 0.9261324104450408, 0.04875593933026906, 0.2533396847553196, 0.06309592148623054, 0.38048752653817813, 0.001911997620794865, 0.16538779419875582, 0.03919595122629473, 0.046843941709474195, 0.14383455967291967, 0.15499413757857722, 0.04463831162263024, 0.08555676394337462, 0.14383455967291967, 0.3992648984024149, 0.029758874415086824, 0.13068976434722393, 0.11036024544876688, 0.11907289640524847, 0.08712650956481596, 0.12197711339074234, 0.017425301912963192, 0.00580843397098773, 0.08712650956481596, 0.32236808538981904, 0.7883408637901161, 0.155935555474968, 0.008663086415276001, 0.008663086415276001, 0.034652345661104006, 0.022397001566025573, 0.976509268278715, 0.005698065606543783, 0.9914634155386183, 0.9919962608402503, 0.012845726221227885, 0.0064228631106139425, 0.03639622429347901, 0.06422863110613942, 0.2847469312372181, 0.15628966902493927, 0.43889564589195273, 0.04842536933015849, 0.07102387501756578, 0.006456715910687798, 0.14527610799047547, 0.16787461367788276, 0.5617342842298384, 0.9852640430886443, 0.008567513418162125, 0.9969929756012524, 0.0028967784061502268, 0.6894332606637539, 0.153529255525962, 0.011587113624600907, 0.06372912493530498, 0.01738067043690136, 0.040554897686103174, 0.023174227249201814, 0.9008853225884363, 0.04341616012474392, 0.0542702001559299, 0.12979688043129312, 0.12747907899502, 0.6304419906662808, 0.011589007181365456, 0.011589007181365456, 0.002317801436273091, 0.04867383016173491, 0.027813617235277095, 0.009271205745092364, 0.9917529675792038, 0.007450789432370515, 0.9909549945052785, 0.9657203521460731, 0.01097409491075083, 0.01097409491075083, 0.9952685159951786, 0.004244215420022084, 0.027182222252238993, 0.12814476204626954, 0.8426488898194088, 0.004118378454330832, 0.9925292074937305, 0.08432510130072617, 0.7682953674066161, 0.14054183550121027, 0.08625843621131016, 0.12076181069583422, 0.01725168724226203, 0.6866171522420289, 0.08625843621131016, 0.9936708664343029, 0.12113181462560661, 0.16696547421367397, 0.043378284967278045, 0.08921194455534541, 0.2078883845601627, 0.10067035945236225, 0.1121287743493791, 0.10067035945236225, 0.056473616278154434, 0.0008184582069297744, 0.00456501585105696, 0.556931933828949, 0.028911767056694074, 0.04412848656021727, 0.2297724645032003, 0.0015216719503523197, 0.04565015851056959, 0.08977864507078687, 0.004600103046537208, 0.8970200940747556, 0.09200206093074416, 0.08889891954115704, 0.03809953694621016, 0.7619907389242032, 0.06984915106805197, 0.03809953694621016, 0.011972315947342807, 0.0545405504267839, 0.7569164193375619, 0.035916947842028424, 0.0013302573274825342, 0.11706264481846301, 0.015963087929790412, 0.006651286637412671, 0.9854329383556838, 0.011262090724064958, 0.9945597003010402, 0.011597423637736118, 0.9857810092075701, 0.9908508854885774, 0.9910160397020923, 0.055732590901115577, 0.03293289462338648, 0.16973107228976106, 0.6814575887454586, 0.055732590901115577, 0.0025332995864143443, 0.9954690145690344, 0.356346715895946, 0.6395966695568261, 0.9467910853159041, 0.04968582955010575, 0.01431203221175822, 0.6386744374497105, 0.08766119729701909, 0.1180742657470053, 0.11091824964112619, 0.01967904429116755, 0.008945020132348887, 0.0704708315196321, 0.07906483536348967, 0.14437926457680722, 0.3179781422227302, 0.14867626649873603, 0.07304903267278937, 0.04898582190998817, 0.08078363613226118, 0.01890680845648666, 0.016328607303329388, 0.9838962859286172, 0.008944511690260157, 0.9933029094850595, 0.8066463356860751, 0.15884727841202712, 0.03474784215263093, 0.25869384316284605, 0.15521630589770763, 0.008544016838405924, 0.10988554989394286, 0.15711497630624227, 0.00047466760213366244, 0.03488806875682419, 0.1998350604982719, 0.06787746710511373, 0.007357347833071768, 0.995769984445477, 0.1871004635073334, 0.009847392816175441, 0.7779440324778599, 0.019694785632350883, 0.020796517081866542, 0.2118645177715154, 0.0727878097865329, 0.2690549397466484, 0.31064797391038146, 0.0948841091860161, 0.014297605493783248, 0.006498911588083294, 0.041706499098494595, 0.05958071299784942, 0.8877526236679564, 0.7402858788017609, 0.019335825192583308, 0.22926764156920207, 0.0013811303708988077, 0.009667912596291654, 0.0036474326883486115, 0.5033457109921083, 0.04376919226018334, 0.4449867879785306, 0.9939128761890174, 0.021044122650148277, 0.04910295285034598, 0.08417649060059311, 0.014029415100098851, 0.8277354909058322, 0.9970584758822031, 0.4970539075465211, 0.25339224371928126, 0.01628382757443657, 0.04289398483022316, 0.05540473040570491, 0.008141913787218284, 0.044879817461252004, 0.021049825888905808, 0.05183023166985298, 0.008936246839629824, 0.007488371388386407, 0.007488371388386407, 0.9847208375728125, 0.0034794014540159403, 0.1583127661577253, 0.0173970072700797, 0.3653371526716737, 0.0521910218102391, 0.2974888243183629, 0.010438204362047822, 0.09568353998543835, 0.002417554535110148, 0.14988838117682918, 0.036263318026652225, 0.016922881745771036, 0.3988964982931744, 0.3988964982931744, 0.9913240809230552, 0.09692609454942898, 0.11870723939199729, 0.11326195318135521, 0.0914808083387869, 0.016335858631926232, 0.1481117849294645, 0.04791851865365028, 0.08603552212814482, 0.2036537042780137, 0.07841212143324591, 0.9927791129481106, 0.9929219112526081, 0.9891457599437479, 0.9933644888013573, 0.030829086419112323, 0.9634089505972602, 0.2442389155139433, 0.018787608885687947, 0.05636282665706384, 0.02818141332853192, 0.6387787021133902, 0.009393804442843974, 0.004666609146896252, 0.17733114758205756, 0.8166566007068441, 0.7922494972101554, 0.05018775095448948, 0.06631952804700396, 0.034055973861975, 0.014339357415568422, 0.026886295154190793, 0.0035848393538921055, 0.008962098384730265, 0.9931726782046479, 0.03213850065804443, 0.927999206501033, 0.02276477129944814, 0.0174083545231074, 0.10859702160628812, 0.13663157881443314, 0.07111924512803107, 0.2800504714792593, 0.10977742401505211, 0.08439877222662609, 0.14282869146044416, 0.012099124689831013, 0.049872001770279055, 0.004131408430674005, 0.007395092488341523, 0.3771497169054177, 0.6063975840440049, 0.002711793501545889, 0.9952282150673413, 0.9926788207651324, 0.3073377188835512, 0.6900601612668414, 0.06885018835426351, 0.16065043949328153, 0.013114321591288289, 0.03442509417713176, 0.2049112748638795, 0.027867933381487613, 0.4868691890765777, 0.8638552722664791, 0.027667962456933492, 0.027667962456933492, 0.0768554512692597, 0.003074218050770388, 0.9844052245377154, 0.0008433746712308881, 0.49506093201253126, 0.015180744082155985, 0.19397617438310424, 0.10289170989016834, 0.07590372041077992, 0.031204862835542857, 0.027831364150619306, 0.056506102972469496, 0.00409075236304862, 0.002337572778884926, 0.45465790549311813, 0.060776892251008074, 0.02454451417829172, 0.09174973157123334, 0.09993123629733058, 0.12447575047562232, 0.042660703214649896, 0.09525609073956073, 0.02505786881926236, 0.023268021046457903, 0.014318782182435633, 0.9253512985399028, 0.010739086636826725, 0.9972127716730409, 0.984020130756976, 0.9847783650534634, 0.987147191443836, 0.00850988958141238, 0.007613169346133211, 0.18271606430719706, 0.8108025353631869, 0.7702866630195672, 0.09739256658868091, 0.12395417565832115, 0.8347947363454274, 0.010434934204317842, 0.1252192104518141, 0.020869868408635684, 0.002399971507978968, 0.05279937317553729, 0.709191580607785, 0.002399971507978968, 0.011999857539894838, 0.21119749270214916, 0.004799943015957936, 0.0035999572619684517, 0.9920908953421647, 0.07040255228370385, 0.22312193492989219, 0.021662323779601183, 0.146220685512308, 0.24153491014255318, 0.1299739426776071, 0.07256878466166396, 0.07365190085064402, 0.006498697133880355, 0.01299739426776071, 0.993843404315014, 0.03936578456731235, 0.9535267817415659, 0.004373976063034706, 0.015004282949162498, 0.9077591184243311, 0.06751927327123124, 0.04241519399225244, 0.04857223828145037, 0.6348596778195202, 0.059518094795580026, 0.08346215592023866, 0.06362279098837866, 0.034205801606655185, 0.012998204610528972, 0.019839364931860008, 0.0006841160321331038, 0.5470357139767686, 0.2151183407865351, 0.0032294663337428123, 0.011841376557056978, 0.028885782207366265, 0.00035882959263809026, 0.018300309224542604, 0.15322023605646454, 0.02063270157669019, 0.001435318370552361, 0.9944418888102529, 0.01860037989052002, 0.9083185513203942, 0.024800506520693356, 0.04650094972630005, 0.04400109428444451, 0.22643259755365824, 0.11371069309463187, 0.21110637370177307, 0.1359584373957555, 0.16265573055710383, 0.046473065873458244, 0.03856275678861429, 0.013843040898476922, 0.007415914767041208, 0.9951342320156924, 0.09189226020580134, 0.026254931487371812, 0.8795402048269557, 0.016851006553043748, 0.9811030481994361, 0.012409751451089275, 0.9059118559295172, 0.0651511951182187, 0.006204875725544638, 0.009307313588316957, 0.01114451157013468, 0.7737475175836364, 0.18308840436649831, 0.03024938854750842, 0.082390089980882, 0.9121759962169079, 0.03900290007891583, 0.9079363624927949, 0.04283925090635018, 0.0006393918045723907, 0.0012787836091447814, 0.008312093459441078, 0.7689976326235793, 0.22665193382589707, 0.031779586193107195, 0.9653049306156309, 0.005564152757583296, 0.0011128305515166591, 0.21922761864878185, 0.1769400576911488, 0.0678826636425162, 0.27041782401854814, 0.0734468164000995, 0.13242683563048244, 0.05452869702431629, 0.38272541860675446, 0.16681680761191042, 0.06577348414412468, 0.01525182241023181, 0.025260830866946436, 0.28787814799312544, 0.05528785623709031, 0.00047661945031974407, 0.15002651765551506, 0.8501502667145853, 0.07716990263915609, 0.0038584951319578045, 0.09389004821097324, 0.09131771812300138, 0.32668592117242745, 0.16848762076215748, 0.0810283977711139, 0.12218567917866381, 0.024437135835732763, 0.010289320351887479, 0.09102478683951988, 0.0037926994516466615, 0.01896349725823331, 0.257903562711973, 0.5309779232305326, 0.09481748629116654, 0.3246990400536831, 0.12886228221451654, 0.006782225379711397, 0.36624017050441543, 0.06612669745218612, 0.044932243140588, 0.06019225024493865, 0.002543334517391774, 0.05964952629575145, 0.05241928068414522, 0.016268052626114034, 0.005422684208704677, 0.7320623681751315, 0.13556710521761695, 0.8048537162661286, 0.15021095167905243, 0.012783910781195952, 0.012251247831979456, 0.0010653258984329962, 0.0010653258984329962, 0.017577877324144436, 0.9924733668841171, 0.20945888803619886, 0.7854708301357457, 0.06117000109967829, 0.31389868985361224, 0.09175500164951743, 0.17868079268590237, 0.2978013211431706, 0.006438947484176662, 0.008048684355220827, 0.003219473742088331, 0.037023948034015805, 0.00760425830939683, 0.988553580221588, 0.7906002669791072, 0.1998220455002139, 0.9683789448828757, 0.024710359283218207, 0.0006678475481950867, 0.002671390192780347, 0.002671390192780347, 0.017172855153514, 0.9187477507129992, 0.06010499303729901, 0.4662359790048144, 0.067003973030632, 0.1721629862592628, 0.059559087138339566, 0.23451390560721203, 0.0851120147544232, 0.9078614907138475, 0.45026448067333347, 0.04163185098686583, 0.11016428261139881, 0.03778891089577052, 0.07429684176117594, 0.055722631320881955, 0.014090780334016126, 0.012809800303651024, 0.14539123344643912, 0.057003611351247055, 0.09915225009262738, 0.007082303578044812, 0.02832921431217925, 0.21955141091938918, 0.5807488933996746, 0.042493821468268876, 0.021246910734134438, 0.09065561961832028, 0.10072846624257809, 0.18131123923664055, 0.1108013128668359, 0.06043707974554685, 0.4432052514673436, 0.6986367919847228, 0.0891489656438839, 0.005458099937380647, 0.005458099937380647, 0.04366479949904518, 0.012735566520554844, 0.004548416614483873, 0.0573100493424968, 0.060948782634083896, 0.022742083072419365, 0.8077597077496238, 0.12260638421199647, 0.06490926222988048, 0.6144191064706448, 0.043117130278641745, 0.27163792075544296, 0.028026134681117133, 0.0420392020216757, 0.020975869949001812, 0.12916719915964273, 0.5519965776053108, 0.02649583572505492, 0.020975869949001812, 0.15566303488469765, 0.0011039931552106216, 0.03311979465631865, 0.05519965776053108, 0.005519965776053109, 0.986101745362736, 0.7761060457842884, 0.06574984773255599, 0.022561222261171174, 0.0038676381019150585, 0.007735276203830117, 0.011602914305745175, 0.07541894298734364, 0.03738716831851223, 0.07929804278819994, 0.035243574572533305, 0.07048714914506661, 0.5903298740899329, 0.2070560006136332, 0.017621787286266653, 0.9892206581352919, 0.06275983728069787, 0.048813206773876114, 0.020919945760232622, 0.6903582100876765, 0.11854635930798485, 0.048813206773876114, 0.025183571257343666, 0.058761666267135214, 0.822663327739893, 0.08394523752447888, 0.05673878206358833, 0.5134167840388115, 0.1356195278593087, 0.21588414638828732, 0.029061327398423292, 0.019374218265615528, 0.029061327398423292, 0.017426258913526678, 0.9816792521286696, 0.9921230297682615, 0.9073347250571369, 0.08248497500519426, 0.5760436061715084, 0.367806884200492, 0.01684611683361032, 0.008891006106627668, 0.0028076861389350533, 0.027140966009705517, 0.08856825201977123, 0.8772474485767816, 0.029522750673257075, 0.02417227717567517, 0.04230148505743155, 0.9306326712634941, 0.7986768689676933, 0.012677410618534814, 0.1774837486594874, 0.04049381513074442, 0.10528391933993549, 0.1943703126275732, 0.6559998051180596, 0.21319687266741372, 0.004441601513904452, 0.008883203027808904, 0.1443520492018947, 0.002220800756952226, 0.06662402270856678, 0.25317128629255375, 0.30869130521635946, 0.15393813607636303, 0.43956901284233146, 0.017796316309406132, 0.1361418197669569, 0.03915189588069349, 0.0026694474464109197, 0.08542231828514943, 0.045380606588985635, 0.07652416013044637, 0.0035592632618812263, 0.011634171118280584, 0.9830874594947092, 0.9901329079755484, 0.010524731641906006, 0.0723575300381038, 0.00723575300381038, 0.6729250293543653, 0.1605021575390666, 0.06512177703429342, 0.009209140186667755, 0.0019733871828573764, 0.010273290214186642, 0.13355277278442634, 0.030819870642559925, 0.6780371541363184, 0.13355277278442634, 0.4473579682686071, 0.36045270455019446, 0.002041398812177477, 0.028871211772224317, 0.0011665136069585582, 0.15572956652896752, 0.004666054427834233, 0.022966855725027935, 0.7613512672846761, 0.012631770648765365, 0.0034450283587541906, 0.1067958791213799, 0.09186742290011174, 0.9825271270946553, 0.012055547571713562, 0.010524462055774801, 0.6840900336253621, 0.29468493756169445, 0.8002364283573349, 0.02238423575824713, 0.061556648335179605, 0.02238423575824713, 0.05036453045605604, 0.033576353637370694, 0.016749889234629053, 0.9798685202257996, 0.9982402027469311, 0.08285719279991104, 0.14718053984194723, 0.03597746529469822, 0.022894750642080682, 0.20060162467346884, 0.19515049356821154, 0.07958651413675666, 0.23439863752606413, 0.17465283289957967, 0.09765534742772197, 0.016901887054798035, 0.009389937252665573, 0.19531069485544394, 0.016901887054798035, 0.490154724589143, 0.030989684555668195, 0.07747421138917049, 0.13601028221654374, 0.058536070827373256, 0.015494842277834098, 0.24103087987741928, 0.12568038736465434, 0.02754638627170506, 0.08608245709907832, 0.19971130046986169, 0.009876780360658519, 0.9284173539019007, 0.04938390180329259, 0.009876780360658519, 0.006693329448639832, 0.8567461694258985, 0.010039994172959747, 0.011713326535119707, 0.015059991259439623, 0.006693329448639832, 0.020079988345919494, 0.07362662393503815, 0.0012964811355510352, 0.02981906611767381, 0.20419577884928805, 0.02463314157546967, 0.0959396040307766, 0.25216558086467633, 0.3221755621844323, 0.0012964811355510352, 0.06806525961642935, 0.937277801269224, 0.057975946470261275, 0.03360043759655333, 0.03360043759655333, 0.03360043759655333, 0.8904115963086632, 0.09566728436148672, 0.8509353187942766, 0.05035120229551933, 0.3316943983876568, 0.07314047829615467, 0.030281089740446198, 0.033542130174032715, 0.0004658629190837877, 0.00605621794808924, 0.5022002267723231, 0.022361420116021807, 0.805102586528589, 0.07236877182279453, 0.013569144716773974, 0.052015054747633564, 0.054276578867095894, 0.7647510285112291, 0.043700058772070234, 0.07283343128678373, 0.1092501469301756, 0.98553748788003, 0.012066943873394074, 0.01810041581009111, 0.0221227304345558, 0.5269232158048746, 0.4002203051342368, 0.0221227304345558, 0.6116092348376211, 0.09686628765384055, 0.05969666564713429, 0.03604326982468485, 0.058570313465112885, 0.06758113092128411, 0.004505408728085606, 0.04843314382692027, 0.014642578366278221, 0.003379056546064205, 0.9927283681742866, 0.324262706667597, 0.6722519528474572, 0.008440684515012514, 0.987560088256464, 0.007405419489171724, 0.05183793642420207, 0.04443251693503034, 0.7553527878955159, 0.08886503387006069, 0.05183793642420207, 0.04258864064919517, 0.14793948857088846, 0.013449044415535315, 0.03138110363624907, 0.015690551818124534, 0.015690551818124534, 0.28691294753142005, 0.4460599731152546, 0.8777205134268675, 0.08202995452587547, 0.03281198181035019, 0.03282308775491332, 0.004689012536416189, 0.07502420058265902, 0.8862233693826597, 0.9874451985679847, 0.00999944504878972, 0.7229992737773945, 0.04877376053260201, 0.14919032633501791, 0.07459516316750896, 0.011246331182114636, 0.28453217890750027, 0.11583721117578075, 0.048359224083092935, 0.002249266236422927, 0.17881666579562272, 0.2283005229969271, 0.014620230536749027, 0.026991194837075128, 0.08884601633870562, 0.004136209047383064, 0.022749149760606848, 0.008272418094766127, 0.852059063760911, 0.022749149760606848, 0.020681045236915316, 0.0392939859501391, 0.02481725428429838, 0.004136209047383064, 0.015352978456030949, 0.803472539198953, 0.14841212507496584, 0.03326478665473372, 0.1278235101355324, 0.13154652499384886, 0.19545828006161506, 0.05398371544558892, 0.12347999280082983, 0.1538846141437477, 0.053363212969202836, 0.07508079964271562, 0.04281467087063949, 0.04281467087063949, 0.9752115025743261, 0.008406995711847639, 0.002802331903949213, 0.011209327615796853, 0.06486788003828073, 0.02948540001740033, 0.12973576007656146, 0.19460364011484219, 0.04717664002784053, 0.08255912004872093, 0.448178080264485, 0.9565452440538486, 0.039649543794978176, 0.9976634283453889, 0.18305509261011726, 0.1513528140016612, 0.13089973102846375, 0.062381903068252254, 0.08794825678474909, 0.062381903068252254, 0.062381903068252254, 0.041928820095054796, 0.1595340471909402, 0.058291286473612765, 0.016607685914218535, 0.09134227252820194, 0.005535895304739511, 0.882975301105952, 0.9988400289039518, 0.9966417643834246, 0.060736458074962335, 0.08362265966842641, 0.21213748400095542, 0.03256882534454502, 0.0448921646641026, 0.01760477045651082, 0.1602034111542485, 0.27023322650744114, 0.11531124649014589, 0.0026407155684766235, 0.05412482130671832, 0.8263056052825664, 0.09742467835209298, 0.019845767812463385, 0.21950374859437977, 0.049887215589631766, 0.0212020666255935, 0.0037415411692223823, 0.0648533802665213, 0.0012471803897407942, 0.17585243495345196, 0.40907516783498044, 0.05487593714859494, 0.144961563975064, 0.10354397426790285, 0.010354397426790285, 0.0051771987133951425, 0.7351622173021102, 0.9840263295081008, 0.010411087408661682, 0.017351812347769467, 0.003470362469553894, 0.9335275043099974, 0.031233262225985044, 0.835514043628772, 0.033042928279103975, 0.028322509953517695, 0.09440836651172566, 0.9983782469302339, 0.03678867166282265, 0.9601843303996713, 0.9926067050651244, 0.005203264493566118, 0.9157745508676367, 0.005203264493566118, 0.04682938044209506, 0.026016322467830588, 0.05997417877276378, 0.07309353037930585, 0.5884966292077446, 0.2773805768240325, 0.06817469992668335, 0.29281592427526293, 0.2693459456119785, 0.031293304884379244, 0.020117124568529515, 0.10840894906374238, 0.21011218993797492, 0.003913121166376428, 0.8961047471002018, 0.09391490799303426, 0.12163781174506343, 0.5328894609783731, 0.02172103781161847, 0.041994006435795705, 0.10426098149576865, 0.0028961383748824627, 0.031857522123707085, 0.14046271118179943, 0.0028961383748824627, 0.08367609611580025, 0.059270568082025174, 0.8541934811821275, 0.002646809102217483, 0.7119916484965029, 0.015880854613304896, 0.15880854613304898, 0.04234894563547973, 0.010587236408869933, 0.02911490012439231, 0.02911490012439231, 0.9901014892768062, 0.9224612606097785, 0.006833046374887248, 0.04783132462421073, 0.023915662312105367, 0.17889045960168537, 0.05204086097503575, 0.04228319954221654, 0.6960465155411031, 0.029272984298457608, 0.9920437903430628, 0.9901792700482457, 0.0031401951541008975, 0.2229538559411637, 0.1643368797312803, 0.10781336695746414, 0.10362644008532962, 0.21458000219689466, 0.05547678105578252, 0.07641141541645517, 0.010467317180336324, 0.039775805285278035, 0.1636359291743028, 0.14318143802751496, 0.05113622786696963, 0.02045449114678785, 0.6238619799770295, 0.794810741344581, 0.025974207233483038, 0.020779365786786432, 0.046753573020269466, 0.10389682893393215, 0.9662572553083724, 0.027411553342081486, 0.14122119370289102, 0.07061059685144551, 0.11270537574365341, 0.0651790124782574, 0.023084233586049493, 0.13918434956294548, 0.11066853160370788, 0.08622640192436135, 0.1867107128283415, 0.06450006443160888, 0.08433735226093961, 0.3108433840474631, 0.0024096386360268457, 0.02168674772424161, 0.05542168862861745, 0.5228915840178255, 0.3681848939453221, 0.0857416876311024, 0.035305400789277464, 0.005043628684182494, 0.43879569552387704, 0.002521814342091247, 0.06052354421018993, 0.9969721948209601, 0.2120349484086047, 0.03347920238030601, 0.7365424523667321, 0.02231946825353734, 0.9971926565975961, 0.9843800959602207, 0.9923998195738282, 0.002395558922230909, 0.08624012120031274, 0.007186676766692728, 0.4815073433684128, 0.42161837031264005, 0.02767840168234211, 0.13752705835913737, 0.12974250788597866, 0.1816395110403701, 0.0666011540481357, 0.09860430599334377, 0.1920189116712484, 0.08735995530989228, 0.07092590431100165, 0.00864950052573191, 0.9964223712160828, 0.9908250218592936, 0.9942620065209608, 0.0770574083830875, 0.462344450298525, 0.4564169573459798, 0.09617233076441216, 0.029385989955792606, 0.008014360897034346, 0.8602080696150198, 0.0026714536323447823, 0.07147237247661208, 0.010210338925230298, 0.8372477918688844, 0.07147237247661208, 0.9899244798379557, 0.9940268120863118], \"Term\": [\"000\", \"000\", \"000\", \"000\", \"000\", \"000\", \"000\", \"000\", \"000\", \"000\", \"1995\", \"1995\", \"1995\", \"1995\", \"1995\", \"1995\", \"1995\", \"1995\", \"1995\", \"1996\", \"1996\", \"1996\", \"1996\", \"1996\", \"1996\", \"1996\", \"1996\", \"1996\", \"1997\", \"1997\", \"1997\", \"1997\", \"1997\", \"1997\", \"1997\", \"1997\", \"1997\", \"1997\", \"3com\", \"3com\", \"97\", \"97\", \"97\", \"98\", \"98\", \"98\", \"98\", \"98\", \"98\", \"abn\", \"abn\", \"abn\", \"abn\", \"abn\", \"abnormal\", \"access\", \"access\", \"access\", \"access\", \"access\", \"access\", \"access\", \"accounting\", \"accounting\", \"accounting\", \"accounting\", \"acquisition\", \"acquisition\", \"acquisition\", \"action\", \"action\", \"action\", \"action\", \"action\", \"action\", \"action\", \"action\", \"action\", \"action\", \"add\", \"add\", \"add\", \"add\", \"add\", \"add\", \"add\", \"add\", \"add\", \"add\", \"aerospatiale\", \"aerospatiale\", \"air\", \"air\", \"air\", \"air\", \"air\", \"airbus\", \"aircraft\", \"aircraft\", \"airline\", \"airline\", \"airline\", \"airline\", \"airlines\", \"airlines\", \"airlines\", \"airport\", \"airport\", \"airport\", \"alcatel\", \"alcatel\", \"american\", \"american\", \"american\", \"american\", \"american\", \"american\", \"american\", \"american\", \"amp\", \"amp\", \"amp\", \"amp\", \"amp\", \"amp\", \"amro\", \"amro\", \"amro\", \"amro\", \"analyst\", \"analyst\", \"analyst\", \"analyst\", \"analyst\", \"analyst\", \"analyst\", \"analyst\", \"analyst\", \"analyst\", \"aol\", \"apec\", \"apple\", \"apple\", \"arrest\", \"arrival\", \"arrival\", \"asset\", \"asset\", \"asset\", \"asset\", \"asset\", \"asset\", \"attorney\", \"attorney\", \"attorney\", \"attorney\", \"auction\", \"auction\", \"auction\", \"auction\", \"auction\", \"auction\", \"australia\", \"australia\", \"australia\", \"australia\", \"australia\", \"australia\", \"australian\", \"australian\", \"australian\", \"australian\", \"australian\", \"australian\", \"auto\", \"auto\", \"auto\", \"auto\", \"automaker\", \"aviation\", \"aviation\", \"bank\", \"bank\", \"bank\", \"bank\", \"bank\", \"bank\", \"bank\", \"banker\", \"banker\", \"banker\", \"banker\", \"banking\", \"banking\", \"banking\", \"banking\", \"bankruptcy\", \"bankruptcy\", \"barrick\", \"base\", \"base\", \"base\", \"base\", \"base\", \"base\", \"base\", \"base\", \"base\", \"base\", \"bean\", \"beijing\", \"bell\", \"bell\", \"bell\", \"bell\", \"bell\", \"bid\", \"bid\", \"bid\", \"bid\", \"bid\", \"bid\", \"big\", \"big\", \"big\", \"big\", \"big\", \"big\", \"big\", \"big\", \"big\", \"big\", \"billion\", \"billion\", \"billion\", \"billion\", \"billion\", \"billion\", \"billion\", \"billion\", \"billion\", \"billion\", \"boeing\", \"boeing\", \"bonus\", \"bonus\", \"bonus\", \"brand\", \"brand\", \"brand\", \"brand\", \"brand\", \"brand\", \"bre\", \"britain\", \"britain\", \"britain\", \"britain\", \"britain\", \"britain\", \"british\", \"british\", \"british\", \"british\", \"british\", \"british\", \"british\", \"british\", \"budget\", \"budget\", \"budget\", \"budget\", \"budget\", \"busang\", \"business\", \"business\", \"business\", \"business\", \"business\", \"business\", \"business\", \"business\", \"business\", \"business\", \"buy\", \"buy\", \"buy\", \"buy\", \"buy\", \"buy\", \"buy\", \"buy\", \"bzw\", \"cabinet\", \"cabinet\", \"cabinet\", \"cable\", \"canada\", \"canada\", \"canada\", \"canada\", \"canada\", \"canada\", \"canada\", \"canadian\", \"canadian\", \"canadian\", \"canadian\", \"canadian\", \"capacity\", \"capacity\", \"capacity\", \"capacity\", \"capacity\", \"capacity\", \"capacity\", \"capital\", \"capital\", \"capital\", \"capital\", \"capital\", \"capital\", \"capital\", \"capital\", \"capital\", \"capital\", \"car\", \"car\", \"car\", \"car\", \"care\", \"care\", \"care\", \"care\", \"care\", \"care\", \"cargo\", \"cargo\", \"cargo\", \"case\", \"case\", \"case\", \"case\", \"case\", \"case\", \"case\", \"case\", \"case\", \"case\", \"casino\", \"ce\", \"cellular\", \"cellular\", \"cent\", \"cent\", \"cent\", \"cent\", \"cent\", \"cent\", \"central\", \"central\", \"central\", \"central\", \"central\", \"central\", \"central\", \"central\", \"central\", \"cereal\", \"chee\", \"chemical\", \"chemical\", \"chemical\", \"china\", \"china\", \"china\", \"china\", \"china\", \"china\", \"chinese\", \"chinese\", \"chinese\", \"chinese\", \"chrysler\", \"cigarette\", \"cigarette\", \"cigarette\", \"class\", \"class\", \"class\", \"class\", \"class\", \"class\", \"class\", \"client\", \"client\", \"client\", \"client\", \"client\", \"client\", \"client\", \"close\", \"close\", \"close\", \"close\", \"close\", \"close\", \"close\", \"close\", \"close\", \"close\", \"cnb\", \"coast\", \"cocoa\", \"cocoa\", \"coffee\", \"coffee\", \"colombia\", \"colombia\", \"colombia\", \"colony\", \"commercial\", \"commercial\", \"commercial\", \"commercial\", \"commercial\", \"commercial\", \"commercial\", \"commercial\", \"commercial\", \"communications\", \"communist\", \"communist\", \"communist\", \"company\", \"company\", \"company\", \"company\", \"company\", \"company\", \"company\", \"company\", \"company\", \"compare\", \"compare\", \"compare\", \"compare\", \"compare\", \"compare\", \"compare\", \"compare\", \"compare\", \"computer\", \"computer\", \"computer\", \"computer\", \"conrail\", \"consensus\", \"consensus\", \"consensus\", \"consensus\", \"continue\", \"continue\", \"continue\", \"continue\", \"continue\", \"continue\", \"continue\", \"continue\", \"continue\", \"continue\", \"contract\", \"contract\", \"contract\", \"contract\", \"contract\", \"contract\", \"contract\", \"contract\", \"contract\", \"copper\", \"copper\", \"corn\", \"corn\", \"corn\", \"corp\", \"corp\", \"corp\", \"corp\", \"corp\", \"corp\", \"corp\", \"corp\", \"country\", \"country\", \"country\", \"country\", \"country\", \"country\", \"country\", \"country\", \"country\", \"country\", \"credit\", \"credit\", \"credit\", \"credit\", \"credit\", \"credit\", \"credit\", \"crop\", \"crop\", \"crown\", \"crown\", \"crown\", \"csf\", \"csx\", \"customer\", \"customer\", \"customer\", \"customer\", \"customer\", \"customer\", \"czech\", \"czech\", \"day\", \"day\", \"day\", \"day\", \"day\", \"day\", \"day\", \"day\", \"day\", \"day\", \"deal\", \"deal\", \"deal\", \"deal\", \"deal\", \"deal\", \"deal\", \"deal\", \"deal\", \"deal\", \"death\", \"death\", \"death\", \"death\", \"debate\", \"debate\", \"debate\", \"debate\", \"debt\", \"debt\", \"debt\", \"debt\", \"decision\", \"decision\", \"decision\", \"decision\", \"decision\", \"decision\", \"decision\", \"decision\", \"defence\", \"defence\", \"defence\", \"defence\", \"deficit\", \"deficit\", \"democracy\", \"deng\", \"deposit\", \"deposit\", \"deposit\", \"deutsche\", \"deutsche\", \"deutsche\", \"deutsche\", \"deutsche\", \"device\", \"device\", \"digital\", \"diplomat\", \"dissident\", \"distance\", \"distance\", \"distance\", \"domestic\", \"domestic\", \"domestic\", \"domestic\", \"domestic\", \"domestic\", \"domestic\", \"domestic\", \"domestic\", \"earning\", \"earning\", \"earning\", \"earning\", \"economic\", \"economic\", \"economic\", \"economic\", \"economic\", \"economic\", \"economic\", \"economic\", \"economic\", \"economist\", \"economist\", \"economist\", \"economist\", \"economy\", \"economy\", \"economy\", \"economy\", \"economy\", \"economy\", \"economy\", \"electric\", \"electric\", \"electricity\", \"electricity\", \"electronic\", \"electronic\", \"electronic\", \"electronic\", \"electronic\", \"electronic\", \"electronic\", \"embassy\", \"embassy\", \"encryption\", \"encryption\", \"end\", \"end\", \"end\", \"end\", \"end\", \"end\", \"end\", \"end\", \"end\", \"end\", \"england\", \"england\", \"england\", \"enterprise\", \"enterprise\", \"enterprise\", \"enterprise\", \"enterprise\", \"exceptional\", \"exceptional\", \"exchange\", \"exchange\", \"exchange\", \"exchange\", \"exchange\", \"exchange\", \"exchange\", \"exchange\", \"exchange\", \"executive\", \"executive\", \"executive\", \"executive\", \"executive\", \"executive\", \"executive\", \"executive\", \"executive\", \"executive\", \"expect\", \"expect\", \"expect\", \"expect\", \"expect\", \"expect\", \"expect\", \"expect\", \"expect\", \"expect\", \"expectation\", \"expectation\", \"expectation\", \"export\", \"export\", \"export\", \"export\", \"export\", \"export\", \"exporter\", \"exporter\", \"exporter\", \"factory\", \"factory\", \"factory\", \"factory\", \"fall\", \"fall\", \"fall\", \"fall\", \"fall\", \"fall\", \"fall\", \"fall\", \"fall\", \"fall\", \"farmer\", \"farmer\", \"farmer\", \"fcc\", \"fcc\", \"financial\", \"financial\", \"financial\", \"financial\", \"financial\", \"financial\", \"financial\", \"financial\", \"finish\", \"finish\", \"finish\", \"finish\", \"finish\", \"finish\", \"firm\", \"firm\", \"firm\", \"firm\", \"firm\", \"firm\", \"firm\", \"firm\", \"firm\", \"firm\", \"fiscal\", \"fiscal\", \"fiscal\", \"fiscal\", \"flat\", \"flat\", \"flat\", \"ford\", \"forecast\", \"forecast\", \"forecast\", \"forecast\", \"foreign\", \"foreign\", \"foreign\", \"foreign\", \"foreign\", \"foreign\", \"foreign\", \"foreign\", \"fourth\", \"fourth\", \"fourth\", \"fourth\", \"fourth\", \"fourth\", \"franc\", \"franc\", \"franc\", \"franc\", \"france\", \"france\", \"france\", \"france\", \"franchise\", \"franchise\", \"franchise\", \"freedom\", \"freedom\", \"freeport\", \"french\", \"french\", \"friday\", \"friday\", \"friday\", \"friday\", \"friday\", \"friday\", \"friday\", \"friday\", \"friday\", \"friday\", \"fund\", \"fund\", \"fund\", \"fund\", \"fund\", \"fund\", \"fund\", \"fund\", \"gas\", \"gas\", \"gas\", \"gazprom\", \"gec\", \"gec\", \"general\", \"general\", \"general\", \"general\", \"general\", \"general\", \"general\", \"general\", \"gm\", \"gm\", \"gm\", \"gold\", \"government\", \"government\", \"government\", \"government\", \"government\", \"government\", \"government\", \"government\", \"government\", \"grain\", \"grain\", \"group\", \"group\", \"group\", \"group\", \"group\", \"group\", \"group\", \"group\", \"group\", \"group\", \"growth\", \"growth\", \"growth\", \"growth\", \"growth\", \"guerrilla\", \"guerrilla\", \"half\", \"half\", \"half\", \"half\", \"half\", \"half\", \"half\", \"half\", \"half\", \"handover\", \"harvest\", \"hearing\", \"hearing\", \"hearing\", \"hearing\", \"hearing\", \"high\", \"high\", \"high\", \"high\", \"high\", \"high\", \"high\", \"high\", \"high\", \"high\", \"hilton\", \"home\", \"home\", \"home\", \"home\", \"home\", \"home\", \"hong\", \"hong\", \"housing\", \"housing\", \"housing\", \"housing\", \"hp\", \"human\", \"human\", \"hwa\", \"hwang\", \"hwang\", \"import\", \"import\", \"include\", \"include\", \"include\", \"include\", \"include\", \"include\", \"include\", \"include\", \"include\", \"include\", \"income\", \"income\", \"income\", \"income\", \"income\", \"increase\", \"increase\", \"increase\", \"increase\", \"increase\", \"increase\", \"increase\", \"increase\", \"increase\", \"index\", \"index\", \"index\", \"indonesia\", \"indonesia\", \"indonesia\", \"indonesia\", \"indonesian\", \"industries\", \"industries\", \"industries\", \"industries\", \"industry\", \"industry\", \"industry\", \"industry\", \"industry\", \"industry\", \"industry\", \"industry\", \"industry\", \"industry\", \"inflation\", \"inflation\", \"institution\", \"institution\", \"institution\", \"institution\", \"insurance\", \"insurance\", \"insurance\", \"insurance\", \"insurer\", \"insurer\", \"intel\", \"intel\", \"internet\", \"investigate\", \"investigate\", \"investigate\", \"investigate\", \"investigate\", \"investigation\", \"investigation\", \"investigation\", \"investment\", \"investment\", \"investment\", \"investment\", \"investment\", \"investment\", \"investment\", \"investment\", \"investor\", \"investor\", \"investor\", \"investor\", \"investor\", \"investor\", \"investor\", \"involve\", \"involve\", \"involve\", \"involve\", \"involve\", \"involve\", \"involve\", \"involve\", \"involve\", \"item\", \"item\", \"item\", \"item\", \"item\", \"itt\", \"itt\", \"ivory\", \"ivory\", \"jail\", \"japan\", \"japan\", \"japan\", \"japan\", \"japan\", \"japan\", \"japan\", \"japanese\", \"japanese\", \"japanese\", \"japanese\", \"japanese\", \"japanese\", \"jet\", \"jet\", \"jiang\", \"joint\", \"joint\", \"joint\", \"joint\", \"joint\", \"joint\", \"joint\", \"joint\", \"jones\", \"jones\", \"jones\", \"july\", \"july\", \"july\", \"july\", \"july\", \"july\", \"july\", \"july\", \"july\", \"kellogg\", \"klaus\", \"klaus\", \"kmart\", \"kmart\", \"kmart\", \"kong\", \"kong\", \"korea\", \"korea\", \"korea\", \"korean\", \"korean\", \"labor\", \"labor\", \"labor\", \"labour\", \"labour\", \"labour\", \"labour\", \"labour\", \"lagardere\", \"large\", \"large\", \"large\", \"large\", \"large\", \"large\", \"large\", \"large\", \"large\", \"large\", \"law\", \"law\", \"law\", \"law\", \"law\", \"law\", \"law\", \"law\", \"lawsuit\", \"lawsuit\", \"lawsuit\", \"lawyer\", \"lawyer\", \"lawyer\", \"lawyer\", \"lawyer\", \"leader\", \"leader\", \"leader\", \"leader\", \"leader\", \"leader\", \"leader\", \"leader\", \"lee\", \"lee\", \"legislature\", \"lending\", \"lending\", \"li\", \"liberty\", \"life\", \"life\", \"life\", \"life\", \"life\", \"life\", \"lloyd\", \"lme\", \"lme\", \"loan\", \"loan\", \"london\", \"london\", \"london\", \"london\", \"london\", \"london\", \"london\", \"long\", \"long\", \"long\", \"long\", \"long\", \"long\", \"long\", \"long\", \"long\", \"long\", \"mainland\", \"mainland\", \"mao\", \"margin\", \"margin\", \"margin\", \"market\", \"market\", \"market\", \"market\", \"market\", \"market\", \"market\", \"market\", \"market\", \"market\", \"mci\", \"melbourne\", \"melbourne\", \"melbourne\", \"melbourne\", \"member\", \"member\", \"member\", \"member\", \"member\", \"member\", \"member\", \"member\", \"mercury\", \"mercury\", \"mercury\", \"merger\", \"merger\", \"merger\", \"merger\", \"merger\", \"metal\", \"metal\", \"metal\", \"metal\", \"mgam\", \"michigan\", \"michigan\", \"michigan\", \"michigan\", \"michigan\", \"microsoft\", \"million\", \"million\", \"million\", \"million\", \"million\", \"million\", \"million\", \"million\", \"million\", \"million\", \"mining\", \"mining\", \"mining\", \"minister\", \"minister\", \"minister\", \"minister\", \"minister\", \"minister\", \"minister\", \"minister\", \"ministry\", \"ministry\", \"ministry\", \"ministry\", \"ministry\", \"ministry\", \"modem\", \"monday\", \"monday\", \"monday\", \"monday\", \"monday\", \"monday\", \"monday\", \"monday\", \"monday\", \"monday\", \"morris\", \"mortgage\", \"moscow\", \"music\", \"mutual\", \"mutual\", \"natural\", \"natural\", \"natural\", \"natural\", \"natural\", \"natural\", \"natwest\", \"natwest\", \"natwest\", \"net\", \"net\", \"net\", \"net\", \"net\", \"net\", \"net\", \"net\", \"netscape\", \"network\", \"network\", \"network\", \"network\", \"new\", \"new\", \"new\", \"new\", \"new\", \"new\", \"new\", \"new\", \"new\", \"new\", \"nickel\", \"nickel\", \"nickel\", \"nomura\", \"nomura\", \"norfolk\", \"norilsk\", \"norilsk\", \"north\", \"north\", \"north\", \"north\", \"north\", \"north\", \"north\", \"northern\", \"northern\", \"northern\", \"northern\", \"northern\", \"nynex\", \"offer\", \"offer\", \"offer\", \"offer\", \"offer\", \"offer\", \"offer\", \"offer\", \"offer\", \"official\", \"official\", \"official\", \"official\", \"official\", \"official\", \"official\", \"official\", \"official\", \"official\", \"oil\", \"oil\", \"oil\", \"oil\", \"oil\", \"online\", \"optus\", \"ounce\", \"outlook\", \"outlook\", \"output\", \"output\", \"output\", \"panel\", \"panel\", \"panel\", \"paris\", \"paris\", \"paris\", \"paris\", \"party\", \"party\", \"party\", \"party\", \"party\", \"party\", \"party\", \"party\", \"patten\", \"pay\", \"pay\", \"pay\", \"pay\", \"pay\", \"pay\", \"pay\", \"pay\", \"pay\", \"pay\", \"pc\", \"penny\", \"penny\", \"penny\", \"pension\", \"pension\", \"pension\", \"people\", \"people\", \"people\", \"people\", \"people\", \"people\", \"people\", \"people\", \"people\", \"people\", \"percent\", \"percent\", \"percent\", \"percent\", \"percent\", \"percent\", \"percent\", \"percent\", \"percent\", \"percent\", \"philip\", \"phone\", \"phone\", \"phone\", \"phone\", \"plan\", \"plan\", \"plan\", \"plan\", \"plan\", \"plan\", \"plan\", \"plan\", \"plan\", \"plan\", \"plane\", \"plant\", \"plant\", \"plant\", \"plc\", \"plc\", \"police\", \"police\", \"police\", \"police\", \"police\", \"political\", \"political\", \"political\", \"political\", \"port\", \"port\", \"pound\", \"pound\", \"pound\", \"pound\", \"pound\", \"pound\", \"pounds\", \"pounds\", \"prague\", \"prague\", \"president\", \"president\", \"president\", \"president\", \"president\", \"president\", \"president\", \"president\", \"president\", \"price\", \"price\", \"price\", \"price\", \"price\", \"price\", \"price\", \"price\", \"probe\", \"probe\", \"problem\", \"problem\", \"problem\", \"problem\", \"problem\", \"problem\", \"problem\", \"problem\", \"problem\", \"problem\", \"producer\", \"producer\", \"producer\", \"producer\", \"producer\", \"producer\", \"product\", \"product\", \"product\", \"product\", \"product\", \"product\", \"product\", \"product\", \"production\", \"production\", \"production\", \"production\", \"production\", \"production\", \"profit\", \"profit\", \"profit\", \"profit\", \"profit\", \"profit\", \"profit\", \"provisional\", \"prudential\", \"prudential\", \"public\", \"public\", \"public\", \"public\", \"public\", \"public\", \"public\", \"public\", \"public\", \"pyongyang\", \"pyongyang\", \"quaker\", \"quaker\", \"quarter\", \"quarter\", \"quarter\", \"quarter\", \"quarter\", \"rain\", \"rain\", \"rain\", \"rate\", \"rate\", \"rate\", \"rate\", \"rate\", \"rebel\", \"rebel\", \"report\", \"report\", \"report\", \"report\", \"report\", \"report\", \"report\", \"report\", \"report\", \"report\", \"reserve\", \"reserve\", \"reserve\", \"reserve\", \"reserve\", \"reserve\", \"reserve\", \"resign\", \"resign\", \"resign\", \"resign\", \"resign\", \"resign\", \"result\", \"result\", \"result\", \"result\", \"result\", \"result\", \"result\", \"result\", \"result\", \"result\", \"retailer\", \"retailer\", \"retailer\", \"revenue\", \"revenue\", \"revenue\", \"revenue\", \"revenue\", \"right\", \"right\", \"right\", \"right\", \"right\", \"right\", \"right\", \"right\", \"right\", \"right\", \"riot\", \"rise\", \"rise\", \"rise\", \"rise\", \"rise\", \"rise\", \"rise\", \"rise\", \"risk\", \"risk\", \"risk\", \"risk\", \"risk\", \"risk\", \"robotics\", \"route\", \"route\", \"route\", \"route\", \"route\", \"route\", \"royal\", \"royal\", \"royal\", \"royal\", \"rule\", \"rule\", \"rule\", \"rule\", \"rule\", \"rule\", \"rule\", \"russia\", \"russia\", \"russian\", \"sa\", \"sa\", \"sale\", \"sale\", \"sale\", \"sale\", \"sale\", \"sale\", \"satellite\", \"satellite\", \"satellite\", \"scandal\", \"scandal\", \"scandal\", \"sears\", \"sears\", \"sears\", \"seat\", \"seat\", \"seat\", \"seat\", \"securities\", \"securities\", \"securities\", \"securities\", \"securities\", \"securities\", \"securities\", \"securities\", \"sell\", \"sell\", \"sell\", \"sell\", \"sell\", \"sell\", \"sell\", \"sell\", \"sell\", \"sell\", \"seoul\", \"seoul\", \"server\", \"service\", \"service\", \"service\", \"service\", \"service\", \"service\", \"service\", \"service\", \"settlement\", \"settlement\", \"settlement\", \"settlement\", \"settlement\", \"share\", \"share\", \"share\", \"share\", \"share\", \"share\", \"share\", \"shareholder\", \"shareholder\", \"shareholder\", \"shareholder\", \"shareholder\", \"shareholder\", \"sino\", \"sino\", \"skoda\", \"skoda\", \"skoda\", \"slightly\", \"slightly\", \"slightly\", \"slightly\", \"slightly\", \"slightly\", \"smoke\", \"smoke\", \"software\", \"source\", \"source\", \"source\", \"source\", \"source\", \"source\", \"source\", \"source\", \"south\", \"south\", \"south\", \"south\", \"south\", \"south\", \"south\", \"spokesman\", \"spokesman\", \"spokesman\", \"spokesman\", \"spokesman\", \"spokesman\", \"spokesman\", \"spokesman\", \"spokesman\", \"spokesman\", \"st\", \"st\", \"st\", \"st\", \"stake\", \"stake\", \"stake\", \"stake\", \"stake\", \"stake\", \"stake\", \"stake\", \"state\", \"state\", \"state\", \"state\", \"state\", \"state\", \"state\", \"state\", \"state\", \"steady\", \"steady\", \"steel\", \"steel\", \"steel\", \"steel\", \"stg\", \"stg\", \"stg\", \"stock\", \"stock\", \"stock\", \"stock\", \"stock\", \"stock\", \"stock\", \"stock\", \"store\", \"store\", \"store\", \"store\", \"store\", \"strategic\", \"strategic\", \"strategic\", \"strategic\", \"strathcona\", \"strike\", \"strike\", \"strike\", \"strike\", \"strike\", \"strike\", \"strong\", \"strong\", \"strong\", \"strong\", \"strong\", \"strong\", \"strong\", \"strong\", \"strong\", \"strong\", \"subscriber\", \"suez\", \"suez\", \"sugar\", \"sugar\", \"suit\", \"suit\", \"suit\", \"suit\", \"suit\", \"suit\", \"supply\", \"supply\", \"supply\", \"supply\", \"supply\", \"supply\", \"supply\", \"supply\", \"surge\", \"surge\", \"surge\", \"suspend\", \"suspend\", \"suspend\", \"suspend\", \"taiwan\", \"taiwan\", \"takeover\", \"takeover\", \"takeover\", \"takeover\", \"talk\", \"talk\", \"talk\", \"talk\", \"talk\", \"talk\", \"talk\", \"talk\", \"talk\", \"talk\", \"technology\", \"technology\", \"technology\", \"technology\", \"technology\", \"technology\", \"technology\", \"technology\", \"technology\", \"telecom\", \"telecom\", \"telecom\", \"telecom\", \"tell\", \"tell\", \"tell\", \"tell\", \"tell\", \"tell\", \"tell\", \"tell\", \"tell\", \"tell\", \"territory\", \"territory\", \"territory\", \"territory\", \"test\", \"test\", \"test\", \"test\", \"test\", \"test\", \"test\", \"textile\", \"textile\", \"thomson\", \"thursday\", \"thursday\", \"thursday\", \"thursday\", \"thursday\", \"thursday\", \"thursday\", \"thursday\", \"thursday\", \"thursday\", \"tobacco\", \"tobacco\", \"tobacco\", \"tobacco\", \"tonne\", \"toronto\", \"trade\", \"trade\", \"trade\", \"trade\", \"trade\", \"trade\", \"trade\", \"trade\", \"trade\", \"trade\", \"trader\", \"trader\", \"trader\", \"trader\", \"trading\", \"trading\", \"trading\", \"trading\", \"trading\", \"trading\", \"trading\", \"trading\", \"trading\", \"trial\", \"trial\", \"trial\", \"trial\", \"trial\", \"troop\", \"truck\", \"truck\", \"truck\", \"truck\", \"truck\", \"trust\", \"trust\", \"trust\", \"trust\", \"tung\", \"tv\", \"tv\", \"uaw\", \"uk\", \"uk\", \"uk\", \"uk\", \"uk\", \"union\", \"union\", \"union\", \"union\", \"united\", \"united\", \"united\", \"united\", \"united\", \"united\", \"united\", \"user\", \"user\", \"user\", \"value\", \"value\", \"value\", \"value\", \"value\", \"value\", \"value\", \"value\", \"value\", \"vehicle\", \"vehicle\", \"vehicle\", \"venture\", \"venture\", \"venture\", \"venture\", \"venture\", \"venture\", \"venture\", \"venture\", \"video\", \"visit\", \"visit\", \"visit\", \"visit\", \"vote\", \"vote\", \"vote\", \"vote\", \"vote\", \"walsh\", \"wang\", \"want\", \"want\", \"want\", \"want\", \"want\", \"want\", \"want\", \"want\", \"want\", \"want\", \"watchdog\", \"watchdog\", \"watchdog\", \"watchdog\", \"watchdog\", \"weak\", \"weak\", \"weak\", \"weak\", \"weak\", \"web\", \"web\", \"week\", \"week\", \"week\", \"week\", \"week\", \"week\", \"week\", \"week\", \"week\", \"week\", \"western\", \"western\", \"western\", \"western\", \"western\", \"western\", \"win\", \"win\", \"win\", \"win\", \"win\", \"win\", \"win\", \"windows\", \"wing\", \"wing\", \"wing\", \"wing\", \"wireless\", \"wmx\", \"woman\", \"worker\", \"worker\", \"worker\", \"worker\", \"worker\", \"world\", \"world\", \"world\", \"world\", \"world\", \"world\", \"world\", \"world\", \"world\", \"world\", \"xiaoping\", \"xinhua\", \"xinjiang\", \"yen\", \"yen\", \"yen\", \"yuan\", \"yuan\", \"yuan\", \"yuan\", \"yuan\", \"zealand\", \"zealand\", \"zealand\", \"zealand\", \"zemin\", \"zinc\"]}, \"R\": 30, \"lambda.step\": 0.01, \"plot.opts\": {\"xlab\": \"PC1\", \"ylab\": \"PC2\"}, \"topic.order\": [2, 5, 10, 1, 3, 8, 4, 7, 9, 6]};\n",
       "\n",
       "function LDAvis_load_lib(url, callback){\n",
       "  var s = document.createElement('script');\n",
       "  s.src = url;\n",
       "  s.async = true;\n",
       "  s.onreadystatechange = s.onload = callback;\n",
       "  s.onerror = function(){console.warn(\"failed to load library \" + url);};\n",
       "  document.getElementsByTagName(\"head\")[0].appendChild(s);\n",
       "}\n",
       "\n",
       "if(typeof(LDAvis) !== \"undefined\"){\n",
       "   // already loaded: just create the visualization\n",
       "   !function(LDAvis){\n",
       "       new LDAvis(\"#\" + \"ldavis_el452826228243416968377957307\", ldavis_el452826228243416968377957307_data);\n",
       "   }(LDAvis);\n",
       "}else if(typeof define === \"function\" && define.amd){\n",
       "   // require.js is available: use it to load d3/LDAvis\n",
       "   require.config({paths: {d3: \"https://cdnjs.cloudflare.com/ajax/libs/d3/3.5.5/d3.min\"}});\n",
       "   require([\"d3\"], function(d3){\n",
       "      window.d3 = d3;\n",
       "      LDAvis_load_lib(\"https://cdn.rawgit.com/bmabey/pyLDAvis/files/ldavis.v1.0.0.js\", function(){\n",
       "        new LDAvis(\"#\" + \"ldavis_el452826228243416968377957307\", ldavis_el452826228243416968377957307_data);\n",
       "      });\n",
       "    });\n",
       "}else{\n",
       "    // require.js not available: dynamically load d3 & LDAvis\n",
       "    LDAvis_load_lib(\"https://cdnjs.cloudflare.com/ajax/libs/d3/3.5.5/d3.min.js\", function(){\n",
       "         LDAvis_load_lib(\"https://cdn.rawgit.com/bmabey/pyLDAvis/files/ldavis.v1.0.0.js\", function(){\n",
       "                 new LDAvis(\"#\" + \"ldavis_el452826228243416968377957307\", ldavis_el452826228243416968377957307_data);\n",
       "            })\n",
       "         });\n",
       "}\n",
       "</script>"
      ],
      "text/plain": [
       "PreparedData(topic_coordinates=            Freq  cluster  topics         x         y\n",
       "topic                                                \n",
       "1      16.969439        1       1 -0.213244 -0.037263\n",
       "4      15.968033        1       2 -0.066392 -0.003642\n",
       "9      13.834050        1       3  0.175962  0.085620\n",
       "0      10.946849        1       4 -0.050486  0.102120\n",
       "2      10.098617        1       5 -0.010880 -0.005670\n",
       "7       8.618809        1       6  0.164622  0.083481\n",
       "3       7.239122        1       7 -0.027935  0.142638\n",
       "6       7.141099        1       8 -0.066723 -0.041015\n",
       "8       5.592496        1       9 -0.068922 -0.098116\n",
       "5       3.591488        1      10  0.164000 -0.228153, topic_info=     Category         Freq           Term        Total  loglift  logprob\n",
       "term                                                                    \n",
       "301   Default  3469.000000          china  3469.000000  30.0000  30.0000\n",
       "777   Default  2356.000000           kong  2356.000000  29.0000  29.0000\n",
       "686   Default  2343.000000           hong  2343.000000  28.0000  28.0000\n",
       "196   Default  2560.000000           bank  2560.000000  27.0000  27.0000\n",
       "1316  Default  2146.000000          stock  2146.000000  26.0000  26.0000\n",
       "997   Default  5573.000000        percent  5573.000000  25.0000  25.0000\n",
       "1242  Default  3429.000000          share  3429.000000  24.0000  24.0000\n",
       "209   Default  1370.000000        beijing  1370.000000  23.0000  23.0000\n",
       "302   Default  1564.000000        chinese  1564.000000  22.0000  22.0000\n",
       "1387  Default   935.000000          tonne   935.000000  21.0000  21.0000\n",
       "1104  Default  1497.000000        quarter  1497.000000  20.0000  20.0000\n",
       "1035  Default  1563.000000          pound  1563.000000  19.0000  19.0000\n",
       "344   Default  5507.000000        company  5507.000000  18.0000  18.0000\n",
       "1072  Default  1877.000000         profit  1877.000000  17.0000  17.0000\n",
       "854   Default  4213.000000         market  4213.000000  16.0000  16.0000\n",
       "643   Default  2023.000000     government  2023.000000  15.0000  15.0000\n",
       "1376  Default   555.000000        thomson   555.000000  14.0000  14.0000\n",
       "1234  Default  1520.000000        service  1520.000000  13.0000  13.0000\n",
       "353   Default   850.000000       computer   850.000000  12.0000  12.0000\n",
       "1204  Default  2136.000000           sale  2136.000000  11.0000  11.0000\n",
       "641   Default   597.000000           gold   597.000000  10.0000  10.0000\n",
       "1056  Default  2098.000000          price  2098.000000   9.0000   9.0000\n",
       "233   Default   558.000000            bre   558.000000   8.0000   8.0000\n",
       "0     Default  1599.000000            000  1599.000000   7.0000   7.0000\n",
       "740   Default   698.000000       internet   698.000000   6.0000   6.0000\n",
       "439   Default   780.000000           deng   780.000000   5.0000   5.0000\n",
       "884   Default  5035.000000        million  5035.000000   4.0000   4.0000\n",
       "1306  Default  1542.000000          state  1542.000000   3.0000   3.0000\n",
       "552   Default   760.000000         export   760.000000   2.0000   2.0000\n",
       "218   Default  3292.000000        billion  3292.000000   1.0000   1.0000\n",
       "...       ...          ...            ...          ...      ...      ...\n",
       "1228  Topic10   168.655248          seoul   171.907391   3.3075  -4.6695\n",
       "134   Topic10   175.498022        alcatel   180.974578   3.2959  -4.6297\n",
       "1211  Topic10   154.160125        scandal   165.478824   3.2558  -4.7594\n",
       "745   Topic10   200.387034  investigation   215.951842   3.2518  -4.4971\n",
       "1353  Topic10   188.761680        suspend   213.264518   3.2046  -4.5569\n",
       "1063  Topic10   101.500301          probe   119.978790   3.1594  -5.1773\n",
       "778   Topic10   217.007254          korea   257.521255   3.1554  -4.4174\n",
       "507   Topic10    81.172785        embassy   100.926818   3.1088  -5.4008\n",
       "744   Topic10    84.938931    investigate   111.278596   3.0565  -5.3554\n",
       "1459  Topic10    60.926611       watchdog    97.778037   2.8536  -5.6877\n",
       "628   Topic10    59.150920            gec   100.120705   2.8003  -5.7173\n",
       "758   Topic10   173.651234       japanese   309.754994   2.7479  -4.6403\n",
       "449   Topic10    50.783611       deutsche    98.193307   2.6672  -5.8698\n",
       "1278  Topic10   260.907136          south   532.484921   2.6132  -4.2332\n",
       "934   Topic10   297.118879          north   610.020118   2.6072  -4.1032\n",
       "1493  Topic10    77.066752            yen   168.705388   2.5431  -5.4527\n",
       "1161  Topic10    43.913756         resign    99.276802   2.5109  -6.0151\n",
       "757   Topic10   204.609373          japan   467.081417   2.5012  -4.4763\n",
       "316   Topic10    96.809280         client   224.606326   2.4850  -5.2246\n",
       "887   Topic10   164.567418       ministry   413.641134   2.4049  -4.6941\n",
       "505   Topic10   138.271867     electronic   389.914096   2.2899  -4.8682\n",
       "1277  Topic10   215.245967         source   917.240826   1.8770  -4.4256\n",
       "1220  Topic10   138.601728     securities   450.288031   2.1483  -4.8658\n",
       "748   Topic10   110.763793        involve   344.326889   2.1924  -5.0900\n",
       "431   Topic10   113.570176        defence   377.718437   2.1249  -5.0650\n",
       "945   Topic10   163.378289       official  1711.176668   0.9777  -4.7013\n",
       "419   Topic10   142.040087           deal  1418.385189   1.0254  -4.8413\n",
       "621   Topic10   123.979857           fund   727.127510   1.5576  -4.9773\n",
       "1292  Topic10   116.257368      spokesman   580.838439   1.7179  -5.0416\n",
       "589   Topic10   117.936773           firm  1074.792184   1.1169  -5.0272\n",
       "\n",
       "[553 rows x 6 columns], token_table=      Topic      Freq      Term\n",
       "term                           \n",
       "0         1  0.031876       000\n",
       "0         2  0.054377       000\n",
       "0         3  0.081877       000\n",
       "0         4  0.118753       000\n",
       "0         5  0.090003       000\n",
       "0         6  0.089378       000\n",
       "0         7  0.491264       000\n",
       "0         8  0.005000       000\n",
       "0         9  0.025001       000\n",
       "0        10  0.011875       000\n",
       "21        1  0.591330      1995\n",
       "21        2  0.093577      1995\n",
       "21        3  0.056744      1995\n",
       "21        4  0.010951      1995\n",
       "21        5  0.055748      1995\n",
       "21        7  0.074663      1995\n",
       "21        8  0.099550      1995\n",
       "21        9  0.003982      1995\n",
       "21       10  0.012942      1995\n",
       "22        1  0.642484      1996\n",
       "22        2  0.053861      1996\n",
       "22        3  0.015389      1996\n",
       "22        4  0.011542      1996\n",
       "22        5  0.025831      1996\n",
       "22        7  0.078043      1996\n",
       "22        8  0.155537      1996\n",
       "22        9  0.011542      1996\n",
       "22       10  0.005496      1996\n",
       "23        1  0.627367      1997\n",
       "23        2  0.076838      1997\n",
       "...     ...       ...       ...\n",
       "1484      4  0.007187    worker\n",
       "1484      6  0.481507    worker\n",
       "1484      7  0.421618    worker\n",
       "1485      1  0.027678     world\n",
       "1485      2  0.137527     world\n",
       "1485      3  0.129743     world\n",
       "1485      4  0.181640     world\n",
       "1485      5  0.066601     world\n",
       "1485      6  0.098604     world\n",
       "1485      7  0.192019     world\n",
       "1485      8  0.087360     world\n",
       "1485      9  0.070926     world\n",
       "1485     10  0.008650     world\n",
       "1490      3  0.996422  xiaoping\n",
       "1491      3  0.990825    xinhua\n",
       "1492      3  0.994262  xinjiang\n",
       "1493      1  0.077057       yen\n",
       "1493      5  0.462344       yen\n",
       "1493     10  0.456417       yen\n",
       "1496      3  0.096172      yuan\n",
       "1496      5  0.029386      yuan\n",
       "1496      7  0.008014      yuan\n",
       "1496      8  0.860208      yuan\n",
       "1496      9  0.002671      yuan\n",
       "1497      1  0.071472   zealand\n",
       "1497      2  0.010210   zealand\n",
       "1497      5  0.837248   zealand\n",
       "1497      7  0.071472   zealand\n",
       "1498      3  0.989924     zemin\n",
       "1499      9  0.994027      zinc\n",
       "\n",
       "[2014 rows x 3 columns], R=30, lambda_step=0.01, plot_opts={'xlab': 'PC1', 'ylab': 'PC2'}, topic_order=[2, 5, 10, 1, 3, 8, 4, 7, 9, 6])"
      ]
     },
     "execution_count": 117,
     "metadata": {},
     "output_type": "execute_result"
    }
   ],
   "source": [
    "pyLDAvis.sklearn.prepare(lda, tf_large, vectorizer, n_jobs=1)"
   ]
  },
  {
   "cell_type": "markdown",
   "metadata": {
    "collapsed": true
   },
   "source": [
    "## <span style=\"text-decoration: underline;\">Neural Networks</span><a id='nn_ml'></a> [(to top)](#toc)"
   ]
  },
  {
   "cell_type": "markdown",
   "metadata": {
    "collapsed": true
   },
   "source": [
    "Interested? Check out the Stanford course CS224n ([Syllabus](http://web.stanford.edu/class/cs224n/syllabus.html))!   "
   ]
  }
 ],
 "metadata": {
  "kernelspec": {
   "display_name": "Python 3",
   "language": "python",
   "name": "python3"
  },
  "language_info": {
   "codemirror_mode": {
    "name": "ipython",
    "version": 3
   },
   "file_extension": ".py",
   "mimetype": "text/x-python",
   "name": "python",
   "nbconvert_exporter": "python",
   "pygments_lexer": "ipython3",
   "version": "3.6.4"
  },
  "toc": {
   "colors": {
    "hover_highlight": "#DAA520",
    "running_highlight": "#FF0000",
    "selected_highlight": "#FFD700"
   },
   "moveMenuLeft": true,
   "nav_menu": {
    "height": "48px",
    "width": "252px"
   },
   "navigate_menu": true,
   "number_sections": true,
   "sideBar": true,
   "threshold": 4,
   "toc_cell": false,
   "toc_section_display": "block",
   "toc_window_display": false
  }
 },
 "nbformat": 4,
 "nbformat_minor": 2
}
