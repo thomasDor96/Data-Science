{
 "cells": [
  {
   "cell_type": "code",
   "execution_count": 17,
   "metadata": {},
   "outputs": [
    {
     "name": "stdout",
     "output_type": "stream",
     "text": [
      "12.9788\n"
     ]
    }
   ],
   "source": [
    "kilometer = [2, 4, 5.235, 1.2544]\n",
    "conv = 2\n",
    "\n",
    "feet = [x*conv for x in kilometer if x%2 != 0]\n",
    "\n",
    "feet_uneven_sum = sum(feet)\n",
    "print (feet_uneven_sum)"
   ]
  },
  {
   "cell_type": "code",
   "execution_count": 35,
   "metadata": {},
   "outputs": [
    {
     "name": "stdout",
     "output_type": "stream",
     "text": [
      "[0, 6, 12, 18, 24, 30, 36, 42, 48, 54, 60, 66, 72, 78, 84, 90, 96]\n",
      "\n",
      "[0, 6, 12, 18, 24, 30, 36, 42, 48, 54, 60, 66, 72, 78, 84, 90, 96]\n"
     ]
    }
   ],
   "source": [
    "## Two if-statements for filtering out \n",
    "divided = []\n",
    "for x in range(100):\n",
    "    if x%2 == 0 :  # filtering out all even numbers (0, 2, 4, 6, ...)\n",
    "        if x%6 == 0:  # filtering out all numbers wo rest null bei division durch 6\n",
    "            divided.append(x)\n",
    "            \n",
    "print (divided)\n",
    "print ()\n",
    "\n",
    "# One line with list comprehension\n",
    "# careful: syntax for two if-statements \n",
    "\n",
    "zahlen = range(100)\n",
    "even = [x for x in zahlen if x%2 == 0 if x%6 == 0]\n",
    "print (even)"
   ]
  },
  {
   "cell_type": "code",
   "execution_count": 61,
   "metadata": {},
   "outputs": [],
   "source": [
    "neue = [2, 5, 70, 65, 80]\n",
    "leer = []\n",
    "\n",
    "for num in neue:\n",
    "    if num > 70:\n",
    "        num = num + 20\n",
    "        leer.append(num)\n",
    "    elif num < 5:\n",
    "        num = num + 2\n",
    "        leer.append(num)\n",
    "    else:\n",
    "        pass"
   ]
  },
  {
   "cell_type": "code",
   "execution_count": 72,
   "metadata": {},
   "outputs": [
    {
     "name": "stdout",
     "output_type": "stream",
     "text": [
      "[1, 2, 3, 4, 5, 6, 7, 8]\n",
      "\n",
      "[1, 2, 3, 4, 5, 6, 7, 8]\n"
     ]
    }
   ],
   "source": [
    "list_of_list = [[1,2,3],[4,5,6],[7,8]]\n",
    "laa = []\n",
    "\n",
    "iterate = [x for y in list_of_list for x in y]\n",
    "print (iterate)\n",
    "\n",
    "print ()\n",
    "\n",
    "for num in list_of_list:\n",
    "    for x in num:\n",
    "        laa.append(x)      "
   ]
  }
 ],
 "metadata": {
  "kernelspec": {
   "display_name": "Python 3",
   "language": "python",
   "name": "python3"
  },
  "language_info": {
   "codemirror_mode": {
    "name": "ipython",
    "version": 3
   },
   "file_extension": ".py",
   "mimetype": "text/x-python",
   "name": "python",
   "nbconvert_exporter": "python",
   "pygments_lexer": "ipython3",
   "version": "3.6.4"
  }
 },
 "nbformat": 4,
 "nbformat_minor": 2
}
