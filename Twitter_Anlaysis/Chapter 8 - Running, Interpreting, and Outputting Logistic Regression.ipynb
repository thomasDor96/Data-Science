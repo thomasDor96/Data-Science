{
 "cells": [
  {
   "cell_type": "markdown",
   "metadata": {},
   "source": [
    "This is this eighth in a series of notebooks designed to show you how to analyze social media data. For demonstration purposes we are looking at tweets sent by CSR-related Twitter accounts -- accounts related to ethics, equality, the environment, etc. -- of Fortune 200 firms in 2013. I assume you have already downloaded the data and have completed the steps taken in previous chapters:\n",
    "\n",
    "- <a href=\"http://nbviewer.ipython.org/github/gdsaxton/PANDAS/blob/master/Chapter%201%20-%20Import%20Data%2C%20Select%20Cases%20and%20Variables%2C%20Save%20DataFrame.ipynb\" target=\"_blank\">Chapter 1 - Import Data, Select Cases and Variables, Save DataFrame</a>\n",
    "- <a href=\"http://nbviewer.ipython.org/github/gdsaxton/PANDAS/blob/master/Chapter%202%20-%20Aggregating%20and%20Analyzing%20Data%20by%20Twitter%20Account.ipynb\" target=\"_blank\">Chapter 2 - Aggregating and Analyzing Data by Twitter Account</a>\n",
    "- <a href=\"http://nbviewer.ipython.org/github/gdsaxton/PANDAS/blob/master/Chapter%203%20-%20Analyzing%20Twitter%20Data%20by%20Time%20Period.ipynb\" target=\"_blank\">Chapter 3 - Analyzing Twitter Data by Time Period</a>\n",
    "- <a href=\"http://nbviewer.ipython.org/github/gdsaxton/PANDAS/blob/master/Chapter%204%20-%20Analyzing%20Hashtags.ipynb\" target=\"_blank\">Chapter 4 - Analyzing Hashtags</a>\n",
    "- <a href=\"http://nbviewer.ipython.org/github/gdsaxton/PANDAS/blob/master/Chapter%205%20-%20Generating%20New%20Variables.ipynb\" target=\"_blank\">Chapter 5 - Generating New Variables</a>\n",
    "- <a href=\"http://nbviewer.ipython.org/github/gdsaxton/PANDAS/blob/master/Chapter%206%20-%20Producing%20a%20Summary%20Statistics%20Table%20for%20Publication.ipynb\" target=\"blank\">Chapter 6 - Producing a Summary Statistics Table for Publication</a>\n",
    "- <a href=\"http://nbviewer.ipython.org/github/gdsaxton/PANDAS/blob/master/Chapter%207%20-%20Analyzing%20Audience%20Reaction%20on%20Twitter.ipynb\" target=\"blank\">Chapter 7 - Analyzing Audience Reaction on Twitter</a>\n",
    "\n",
    "In this notebook I will show you how to run, interpret, and output a logistic regression. Whenever you have a <i>binary</i> dependent variable such as `RTs_binary`, you'll want to run logistic or probit model for your regressions. \n",
    "<br>"
   ]
  },
  {
   "cell_type": "markdown",
   "metadata": {},
   "source": [
    "# Chapter 8: Logistic Regression"
   ]
  },
  {
   "cell_type": "markdown",
   "metadata": {},
   "source": [
    "In our dataframe we have four potential dependent variables: `retweet_count`, `favorite_count`, `RTs_binary`, and `favorites_binary`. The first two are ratio-level <i>count</i> variables, while the last two are binary `(0,1)` variables. \n",
    "\n",
    "Whenever you have a <i>count</i> dependent variable, you'll want to run a Poisson or Negative Binomial model for your regressions. With social media-based count data, such as the number of followers, the number of tweets, or the number of retweets, Poisson is rarely a good fit. Thus we typically run the negative binomial model. \n",
    "\n",
    "In this tutorial we will focus on `RTs_binary`. This variable numerically differentiates retweeted tweets from ignored tweets. As we saw in <a href=\"http://nbviewer.ipython.org/github/gdsaxton/PANDAS/blob/master/Chapter%207%20-%20Analyzing%20Audience%20Reaction%20on%20Twitter.ipynb\" target=\"blank\">Chapter 7</a>, `45%` of all tweets in our database never receive a retweet; our binary variable thus taps a meaningful distinction between the retweeted and non-retweeted messages. \n",
    "\n",
    "In turn, with binary dependent variables such as `RTs_binary`, the logit or probit model is commonly used. For ease of presentation, in this tutorial I will focus on logistic regression using the example of `RTs_binary`. I'll show you how to run logistic regression. Just as importantly, I will show you how to run multiple models and present the output in an almost publication-ready format."
   ]
  },
  {
   "cell_type": "markdown",
   "metadata": {},
   "source": [
    "### Import packages and set viewing options"
   ]
  },
  {
   "cell_type": "markdown",
   "metadata": {},
   "source": [
    "As per normal, we will first import several necessary Python packages and set some options for viewing the data. As with prior chapters, we will be using the <a href=\"http://pandas.pydata.org/\">Python Data Analysis Library,</a> or <i>PANDAS</i>, extensively for our data manipulations."
   ]
  },
  {
   "cell_type": "code",
   "execution_count": 1,
   "metadata": {
    "collapsed": true
   },
   "outputs": [],
   "source": [
    "import numpy as np\n",
    "import pandas as pd\n",
    "from pandas import DataFrame\n",
    "from pandas import Series"
   ]
  },
  {
   "cell_type": "code",
   "execution_count": 2,
   "metadata": {
    "collapsed": true
   },
   "outputs": [],
   "source": [
    "#Set PANDAS to show all columns in DataFrame\n",
    "pd.set_option('display.max_columns', None)"
   ]
  },
  {
   "cell_type": "markdown",
   "metadata": {},
   "source": [
    "I'm using version 0.16.2 of PANDAS"
   ]
  },
  {
   "cell_type": "code",
   "execution_count": 3,
   "metadata": {
    "collapsed": false
   },
   "outputs": [
    {
     "data": {
      "text/plain": [
       "'0.16.2'"
      ]
     },
     "execution_count": 3,
     "metadata": {},
     "output_type": "execute_result"
    }
   ],
   "source": [
    "pd.__version__"
   ]
  },
  {
   "cell_type": "markdown",
   "metadata": {},
   "source": [
    "<br>In this tutorial we will be using the increasingly powerful Python statistics package `StatsModels`. With this package, Python is now able to compete with other statistical programs such as SPSS, Stata, SAS, and `R`. While it's not yet as powerful as those other tools, it is relatively new and becoming more powerful every day. You will find you can do almost everything you need to do right in Python."
   ]
  },
  {
   "cell_type": "code",
   "execution_count": 4,
   "metadata": {
    "collapsed": false
   },
   "outputs": [
    {
     "name": "stdout",
     "output_type": "stream",
     "text": [
      "0.6.1\n"
     ]
    }
   ],
   "source": [
    "import statsmodels\n",
    "import statsmodels.api as sm\n",
    "import statsmodels.formula.api as smf   #FOR USING 'R'-STYLE FORMULAS FOR REGRESSIONS\n",
    "print statsmodels.__version__"
   ]
  },
  {
   "cell_type": "markdown",
   "metadata": {},
   "source": [
    "<br>I like suppressing scientific notation in my numbers. So, if you'd rather see \"0.48\" than \"4.800000e-01\", then run the following line:"
   ]
  },
  {
   "cell_type": "code",
   "execution_count": 5,
   "metadata": {
    "collapsed": false
   },
   "outputs": [],
   "source": [
    "pd.set_option('display.float_format', lambda x: '%.2f' % x)"
   ]
  },
  {
   "cell_type": "markdown",
   "metadata": {},
   "source": [
    "#### Import graphing packages"
   ]
  },
  {
   "cell_type": "code",
   "execution_count": 6,
   "metadata": {
    "collapsed": false
   },
   "outputs": [
    {
     "name": "stdout",
     "output_type": "stream",
     "text": [
      "1.4.3\n"
     ]
    }
   ],
   "source": [
    "import matplotlib\n",
    "import matplotlib.pyplot as plt\n",
    "print matplotlib.__version__"
   ]
  },
  {
   "cell_type": "code",
   "execution_count": 7,
   "metadata": {
    "collapsed": true
   },
   "outputs": [],
   "source": [
    "#NECESSARY FOR XTICKS OPTION, ETC.\n",
    "from pylab import*"
   ]
  },
  {
   "cell_type": "code",
   "execution_count": 8,
   "metadata": {
    "collapsed": false
   },
   "outputs": [],
   "source": [
    "%matplotlib inline "
   ]
  },
  {
   "cell_type": "code",
   "execution_count": 9,
   "metadata": {
    "collapsed": false
   },
   "outputs": [
    {
     "name": "stdout",
     "output_type": "stream",
     "text": [
      "0.6.0\n"
     ]
    }
   ],
   "source": [
    "import seaborn as sns\n",
    "print sns.__version__"
   ]
  },
  {
   "cell_type": "code",
   "execution_count": 10,
   "metadata": {
    "collapsed": true
   },
   "outputs": [],
   "source": [
    "plt.rcParams['figure.figsize'] = (15, 5)"
   ]
  },
  {
   "cell_type": "markdown",
   "metadata": {},
   "source": [
    "<br>\n",
    "### Read in Data"
   ]
  },
  {
   "cell_type": "markdown",
   "metadata": {},
   "source": [
    "In <a href=\"http://nbviewer.ipython.org/github/gdsaxton/PANDAS/blob/master/Chapter%204%20-%20Analyzing%20Hashtags.ipynb\" target=\"_blank\">Chapter 4</a> we created a version of the dataframe that omitted all tweets that were retweets, allowing us to focus only on original messages sent by the 41 Twitter accounts. In <a href=\"http://nbviewer.ipython.org/github/gdsaxton/PANDAS/blob/master/Chapter%205%20-%20Generating%20New%20Variables.ipynb\" target=\"_blank\">Chapter 5</a> we then added 6 new variables to this dataset. Let's now open this saved file. As we can see in the operations below this dataframe contains 60 variables for 26,257 tweets."
   ]
  },
  {
   "cell_type": "code",
   "execution_count": 11,
   "metadata": {
    "collapsed": false
   },
   "outputs": [
    {
     "name": "stdout",
     "output_type": "stream",
     "text": [
      "# of variables in dataframe: 60\n",
      "# of tweets in dataframe: 26257\n"
     ]
    },
    {
     "data": {
      "text/html": [
       "<div>\n",
       "<table border=\"1\" class=\"dataframe\">\n",
       "  <thead>\n",
       "    <tr style=\"text-align: right;\">\n",
       "      <th></th>\n",
       "      <th>rowid</th>\n",
       "      <th>query</th>\n",
       "      <th>tweet_id_str</th>\n",
       "      <th>inserted_date</th>\n",
       "      <th>language</th>\n",
       "      <th>coordinates</th>\n",
       "      <th>retweeted_status</th>\n",
       "      <th>created_at</th>\n",
       "      <th>month</th>\n",
       "      <th>year</th>\n",
       "      <th>content</th>\n",
       "      <th>from_user_screen_name</th>\n",
       "      <th>from_user_id</th>\n",
       "      <th>from_user_followers_count</th>\n",
       "      <th>from_user_friends_count</th>\n",
       "      <th>from_user_listed_count</th>\n",
       "      <th>from_user_favourites_count</th>\n",
       "      <th>from_user_statuses_count</th>\n",
       "      <th>from_user_description</th>\n",
       "      <th>from_user_location</th>\n",
       "      <th>from_user_created_at</th>\n",
       "      <th>retweet_count</th>\n",
       "      <th>favorite_count</th>\n",
       "      <th>entities_urls</th>\n",
       "      <th>entities_urls_count</th>\n",
       "      <th>entities_hashtags</th>\n",
       "      <th>entities_hashtags_count</th>\n",
       "      <th>entities_mentions</th>\n",
       "      <th>entities_mentions_count</th>\n",
       "      <th>in_reply_to_screen_name</th>\n",
       "      <th>in_reply_to_status_id</th>\n",
       "      <th>source</th>\n",
       "      <th>entities_expanded_urls</th>\n",
       "      <th>entities_media_count</th>\n",
       "      <th>media_expanded_url</th>\n",
       "      <th>media_url</th>\n",
       "      <th>media_type</th>\n",
       "      <th>video_link</th>\n",
       "      <th>photo_link</th>\n",
       "      <th>twitpic</th>\n",
       "      <th>num_characters</th>\n",
       "      <th>num_words</th>\n",
       "      <th>retweeted_user</th>\n",
       "      <th>retweeted_user_description</th>\n",
       "      <th>retweeted_user_screen_name</th>\n",
       "      <th>retweeted_user_followers_count</th>\n",
       "      <th>retweeted_user_listed_count</th>\n",
       "      <th>retweeted_user_statuses_count</th>\n",
       "      <th>retweeted_user_location</th>\n",
       "      <th>retweeted_tweet_created_at</th>\n",
       "      <th>Fortune_2012_rank</th>\n",
       "      <th>Company</th>\n",
       "      <th>CSR_sustainability</th>\n",
       "      <th>specific_project_initiative_area</th>\n",
       "      <th>English</th>\n",
       "      <th>RTs_binary</th>\n",
       "      <th>favorites_binary</th>\n",
       "      <th>hashtags_binary</th>\n",
       "      <th>mentions_binary</th>\n",
       "      <th>URLs_binary</th>\n",
       "    </tr>\n",
       "  </thead>\n",
       "  <tbody>\n",
       "    <tr>\n",
       "      <th>0</th>\n",
       "      <td>67340</td>\n",
       "      <td>humanavitality</td>\n",
       "      <td>306897327585652736</td>\n",
       "      <td>2014-03-09 13:46:50.222857</td>\n",
       "      <td>en</td>\n",
       "      <td>NaN</td>\n",
       "      <td>NaN</td>\n",
       "      <td>2013-02-27 22:43:19.000000</td>\n",
       "      <td>2</td>\n",
       "      <td>2013</td>\n",
       "      <td>@louloushive (Tweet 2) We encourage other empl...</td>\n",
       "      <td>humanavitality</td>\n",
       "      <td>274041023</td>\n",
       "      <td>2859</td>\n",
       "      <td>440</td>\n",
       "      <td>38</td>\n",
       "      <td>25</td>\n",
       "      <td>1766</td>\n",
       "      <td>This is the official Twitter account for Human...</td>\n",
       "      <td>NaN</td>\n",
       "      <td>Tue Mar 29 16:23:02 +0000 2011</td>\n",
       "      <td>0</td>\n",
       "      <td>0</td>\n",
       "      <td>NaN</td>\n",
       "      <td>0</td>\n",
       "      <td>NaN</td>\n",
       "      <td>0</td>\n",
       "      <td>louloushive</td>\n",
       "      <td>1</td>\n",
       "      <td>louloushive</td>\n",
       "      <td>306218267737989120.00</td>\n",
       "      <td>web</td>\n",
       "      <td>NaN</td>\n",
       "      <td>nan</td>\n",
       "      <td>NaN</td>\n",
       "      <td>NaN</td>\n",
       "      <td>NaN</td>\n",
       "      <td>0</td>\n",
       "      <td>0</td>\n",
       "      <td>0</td>\n",
       "      <td>121</td>\n",
       "      <td>19</td>\n",
       "      <td>nan</td>\n",
       "      <td>NaN</td>\n",
       "      <td>NaN</td>\n",
       "      <td>nan</td>\n",
       "      <td>nan</td>\n",
       "      <td>nan</td>\n",
       "      <td>NaN</td>\n",
       "      <td>NaN</td>\n",
       "      <td>79</td>\n",
       "      <td>Humana</td>\n",
       "      <td>0</td>\n",
       "      <td>1</td>\n",
       "      <td>1.00</td>\n",
       "      <td>0</td>\n",
       "      <td>0</td>\n",
       "      <td>0</td>\n",
       "      <td>1</td>\n",
       "      <td>0</td>\n",
       "    </tr>\n",
       "    <tr>\n",
       "      <th>1</th>\n",
       "      <td>39454</td>\n",
       "      <td>FundacionPfizer</td>\n",
       "      <td>308616393706844160</td>\n",
       "      <td>2014-03-09 13:38:20.679967</td>\n",
       "      <td>es</td>\n",
       "      <td>NaN</td>\n",
       "      <td>NaN</td>\n",
       "      <td>2013-03-04 16:34:17.000000</td>\n",
       "      <td>3</td>\n",
       "      <td>2013</td>\n",
       "      <td>¿Sabes por qué la #vacuna contra la #neumonía ...</td>\n",
       "      <td>FundacionPfizer</td>\n",
       "      <td>188384056</td>\n",
       "      <td>2464</td>\n",
       "      <td>597</td>\n",
       "      <td>50</td>\n",
       "      <td>11</td>\n",
       "      <td>2400</td>\n",
       "      <td>Noticias sobre Responsabilidad Social y Fundac...</td>\n",
       "      <td>México</td>\n",
       "      <td>Wed Sep 08 16:14:11 +0000 2010</td>\n",
       "      <td>1</td>\n",
       "      <td>0</td>\n",
       "      <td>NaN</td>\n",
       "      <td>0</td>\n",
       "      <td>vacuna, neumonía</td>\n",
       "      <td>2</td>\n",
       "      <td>NaN</td>\n",
       "      <td>0</td>\n",
       "      <td>NaN</td>\n",
       "      <td>nan</td>\n",
       "      <td>web</td>\n",
       "      <td>NaN</td>\n",
       "      <td>nan</td>\n",
       "      <td>NaN</td>\n",
       "      <td>NaN</td>\n",
       "      <td>NaN</td>\n",
       "      <td>0</td>\n",
       "      <td>0</td>\n",
       "      <td>0</td>\n",
       "      <td>138</td>\n",
       "      <td>20</td>\n",
       "      <td>nan</td>\n",
       "      <td>NaN</td>\n",
       "      <td>NaN</td>\n",
       "      <td>nan</td>\n",
       "      <td>nan</td>\n",
       "      <td>nan</td>\n",
       "      <td>NaN</td>\n",
       "      <td>NaN</td>\n",
       "      <td>40</td>\n",
       "      <td>Pfizer</td>\n",
       "      <td>0</td>\n",
       "      <td>1</td>\n",
       "      <td>0.00</td>\n",
       "      <td>1</td>\n",
       "      <td>0</td>\n",
       "      <td>1</td>\n",
       "      <td>0</td>\n",
       "      <td>0</td>\n",
       "    </tr>\n",
       "  </tbody>\n",
       "</table>\n",
       "</div>"
      ],
      "text/plain": [
       "   rowid            query        tweet_id_str               inserted_date  \\\n",
       "0  67340   humanavitality  306897327585652736  2014-03-09 13:46:50.222857   \n",
       "1  39454  FundacionPfizer  308616393706844160  2014-03-09 13:38:20.679967   \n",
       "\n",
       "  language coordinates retweeted_status                  created_at  month  \\\n",
       "0       en         NaN              NaN  2013-02-27 22:43:19.000000      2   \n",
       "1       es         NaN              NaN  2013-03-04 16:34:17.000000      3   \n",
       "\n",
       "   year                                            content  \\\n",
       "0  2013  @louloushive (Tweet 2) We encourage other empl...   \n",
       "1  2013  ¿Sabes por qué la #vacuna contra la #neumonía ...   \n",
       "\n",
       "  from_user_screen_name  from_user_id  from_user_followers_count  \\\n",
       "0        humanavitality     274041023                       2859   \n",
       "1       FundacionPfizer     188384056                       2464   \n",
       "\n",
       "   from_user_friends_count  from_user_listed_count  \\\n",
       "0                      440                      38   \n",
       "1                      597                      50   \n",
       "\n",
       "   from_user_favourites_count  from_user_statuses_count  \\\n",
       "0                          25                      1766   \n",
       "1                          11                      2400   \n",
       "\n",
       "                               from_user_description from_user_location  \\\n",
       "0  This is the official Twitter account for Human...                NaN   \n",
       "1  Noticias sobre Responsabilidad Social y Fundac...             México   \n",
       "\n",
       "             from_user_created_at  retweet_count  favorite_count  \\\n",
       "0  Tue Mar 29 16:23:02 +0000 2011              0               0   \n",
       "1  Wed Sep 08 16:14:11 +0000 2010              1               0   \n",
       "\n",
       "  entities_urls  entities_urls_count entities_hashtags  \\\n",
       "0           NaN                    0               NaN   \n",
       "1           NaN                    0  vacuna, neumonía   \n",
       "\n",
       "   entities_hashtags_count entities_mentions  entities_mentions_count  \\\n",
       "0                        0       louloushive                        1   \n",
       "1                        2               NaN                        0   \n",
       "\n",
       "  in_reply_to_screen_name  in_reply_to_status_id source  \\\n",
       "0             louloushive  306218267737989120.00    web   \n",
       "1                     NaN                    nan    web   \n",
       "\n",
       "  entities_expanded_urls  entities_media_count media_expanded_url media_url  \\\n",
       "0                    NaN                   nan                NaN       NaN   \n",
       "1                    NaN                   nan                NaN       NaN   \n",
       "\n",
       "  media_type  video_link  photo_link  twitpic  num_characters  num_words  \\\n",
       "0        NaN           0           0        0             121         19   \n",
       "1        NaN           0           0        0             138         20   \n",
       "\n",
       "   retweeted_user retweeted_user_description retweeted_user_screen_name  \\\n",
       "0             nan                        NaN                        NaN   \n",
       "1             nan                        NaN                        NaN   \n",
       "\n",
       "   retweeted_user_followers_count  retweeted_user_listed_count  \\\n",
       "0                             nan                          nan   \n",
       "1                             nan                          nan   \n",
       "\n",
       "   retweeted_user_statuses_count retweeted_user_location  \\\n",
       "0                            nan                     NaN   \n",
       "1                            nan                     NaN   \n",
       "\n",
       "  retweeted_tweet_created_at  Fortune_2012_rank Company  CSR_sustainability  \\\n",
       "0                        NaN                 79  Humana                   0   \n",
       "1                        NaN                 40  Pfizer                   0   \n",
       "\n",
       "   specific_project_initiative_area  English  RTs_binary  favorites_binary  \\\n",
       "0                                 1     1.00           0                 0   \n",
       "1                                 1     0.00           1                 0   \n",
       "\n",
       "   hashtags_binary  mentions_binary  URLs_binary  \n",
       "0                0                1            0  \n",
       "1                1                0            0  "
      ]
     },
     "execution_count": 11,
     "metadata": {},
     "output_type": "execute_result"
    }
   ],
   "source": [
    "df = pd.read_pickle('Original 2013 CSR Tweets with 3 binary variables.pkl')\n",
    "print \"# of variables in dataframe:\", len(df.columns)\n",
    "print  \"# of tweets in dataframe:\", len(df)\n",
    "df.head(2)"
   ]
  },
  {
   "cell_type": "code",
   "execution_count": 12,
   "metadata": {
    "collapsed": false
   },
   "outputs": [
    {
     "name": "stdout",
     "output_type": "stream",
     "text": [
      "['rowid', 'query', 'tweet_id_str', 'inserted_date', 'language', 'coordinates', 'retweeted_status', 'created_at', 'month', 'year', 'content', 'from_user_screen_name', 'from_user_id', 'from_user_followers_count', 'from_user_friends_count', 'from_user_listed_count', 'from_user_favourites_count', 'from_user_statuses_count', 'from_user_description', 'from_user_location', 'from_user_created_at', 'retweet_count', 'favorite_count', 'entities_urls', 'entities_urls_count', 'entities_hashtags', 'entities_hashtags_count', 'entities_mentions', 'entities_mentions_count', 'in_reply_to_screen_name', 'in_reply_to_status_id', 'source', 'entities_expanded_urls', 'entities_media_count', 'media_expanded_url', 'media_url', 'media_type', 'video_link', 'photo_link', 'twitpic', 'num_characters', 'num_words', 'retweeted_user', 'retweeted_user_description', 'retweeted_user_screen_name', 'retweeted_user_followers_count', 'retweeted_user_listed_count', 'retweeted_user_statuses_count', 'retweeted_user_location', 'retweeted_tweet_created_at', 'Fortune_2012_rank', 'Company', 'CSR_sustainability', 'specific_project_initiative_area', 'English', 'RTs_binary', 'favorites_binary', 'hashtags_binary', 'mentions_binary', 'URLs_binary']\n"
     ]
    }
   ],
   "source": [
    "print df.columns.tolist()"
   ]
  },
  {
   "cell_type": "markdown",
   "metadata": {},
   "source": [
    "<br>\n",
    "### Create sub-set of data"
   ]
  },
  {
   "cell_type": "markdown",
   "metadata": {},
   "source": [
    "For ease of presentation, let's create a more limited version of our data -- we'll keep just 8 columns."
   ]
  },
  {
   "cell_type": "code",
   "execution_count": 13,
   "metadata": {
    "collapsed": false
   },
   "outputs": [
    {
     "name": "stdout",
     "output_type": "stream",
     "text": [
      "# of variables in dataframe: 8\n",
      "# of tweets in dataframe: 26257\n"
     ]
    },
    {
     "data": {
      "text/html": [
       "<div>\n",
       "<table border=\"1\" class=\"dataframe\">\n",
       "  <thead>\n",
       "    <tr style=\"text-align: right;\">\n",
       "      <th></th>\n",
       "      <th>RTs_binary</th>\n",
       "      <th>English</th>\n",
       "      <th>hashtags_binary</th>\n",
       "      <th>mentions_binary</th>\n",
       "      <th>URLs_binary</th>\n",
       "      <th>from_user_followers_count</th>\n",
       "      <th>from_user_statuses_count</th>\n",
       "      <th>num_characters</th>\n",
       "    </tr>\n",
       "  </thead>\n",
       "  <tbody>\n",
       "    <tr>\n",
       "      <th>0</th>\n",
       "      <td>0</td>\n",
       "      <td>1.00</td>\n",
       "      <td>0</td>\n",
       "      <td>1</td>\n",
       "      <td>0</td>\n",
       "      <td>2859</td>\n",
       "      <td>1766</td>\n",
       "      <td>121</td>\n",
       "    </tr>\n",
       "    <tr>\n",
       "      <th>1</th>\n",
       "      <td>1</td>\n",
       "      <td>0.00</td>\n",
       "      <td>1</td>\n",
       "      <td>0</td>\n",
       "      <td>0</td>\n",
       "      <td>2464</td>\n",
       "      <td>2400</td>\n",
       "      <td>138</td>\n",
       "    </tr>\n",
       "  </tbody>\n",
       "</table>\n",
       "</div>"
      ],
      "text/plain": [
       "   RTs_binary  English  hashtags_binary  mentions_binary  URLs_binary  \\\n",
       "0           0     1.00                0                1            0   \n",
       "1           1     0.00                1                0            0   \n",
       "\n",
       "   from_user_followers_count  from_user_statuses_count  num_characters  \n",
       "0                       2859                      1766             121  \n",
       "1                       2464                      2400             138  "
      ]
     },
     "execution_count": 13,
     "metadata": {},
     "output_type": "execute_result"
    }
   ],
   "source": [
    "df = df[['RTs_binary', 'English', 'hashtags_binary', 'mentions_binary', 'URLs_binary', 'from_user_followers_count', 'from_user_statuses_count', 'num_characters',  ]]\n",
    "print \"# of variables in dataframe:\", len(df.columns)\n",
    "print  \"# of tweets in dataframe:\", len(df)\n",
    "df.head(2)"
   ]
  },
  {
   "cell_type": "markdown",
   "metadata": {},
   "source": [
    "<br>\n",
    "### Describe the Data"
   ]
  },
  {
   "cell_type": "markdown",
   "metadata": {},
   "source": [
    "As shown below, we have our dependent variable `RTs_binary` and 7 potential independent (explanatory) variables, four of which are binary and three of which are ratio-level. "
   ]
  },
  {
   "cell_type": "code",
   "execution_count": 14,
   "metadata": {
    "collapsed": false
   },
   "outputs": [
    {
     "data": {
      "text/html": [
       "<div>\n",
       "<table border=\"1\" class=\"dataframe\">\n",
       "  <thead>\n",
       "    <tr style=\"text-align: right;\">\n",
       "      <th></th>\n",
       "      <th>count</th>\n",
       "      <th>mean</th>\n",
       "      <th>std</th>\n",
       "      <th>min</th>\n",
       "      <th>max</th>\n",
       "    </tr>\n",
       "  </thead>\n",
       "  <tbody>\n",
       "    <tr>\n",
       "      <th>RTs_binary</th>\n",
       "      <td>26257.00</td>\n",
       "      <td>0.55</td>\n",
       "      <td>0.50</td>\n",
       "      <td>0.00</td>\n",
       "      <td>1.00</td>\n",
       "    </tr>\n",
       "    <tr>\n",
       "      <th>English</th>\n",
       "      <td>26257.00</td>\n",
       "      <td>0.97</td>\n",
       "      <td>0.17</td>\n",
       "      <td>0.00</td>\n",
       "      <td>1.00</td>\n",
       "    </tr>\n",
       "    <tr>\n",
       "      <th>hashtags_binary</th>\n",
       "      <td>26257.00</td>\n",
       "      <td>0.63</td>\n",
       "      <td>0.48</td>\n",
       "      <td>0.00</td>\n",
       "      <td>1.00</td>\n",
       "    </tr>\n",
       "    <tr>\n",
       "      <th>mentions_binary</th>\n",
       "      <td>26257.00</td>\n",
       "      <td>0.61</td>\n",
       "      <td>0.49</td>\n",
       "      <td>0.00</td>\n",
       "      <td>1.00</td>\n",
       "    </tr>\n",
       "    <tr>\n",
       "      <th>URLs_binary</th>\n",
       "      <td>26257.00</td>\n",
       "      <td>0.62</td>\n",
       "      <td>0.49</td>\n",
       "      <td>0.00</td>\n",
       "      <td>1.00</td>\n",
       "    </tr>\n",
       "    <tr>\n",
       "      <th>from_user_followers_count</th>\n",
       "      <td>26257.00</td>\n",
       "      <td>48397.00</td>\n",
       "      <td>103199.48</td>\n",
       "      <td>58.00</td>\n",
       "      <td>424892.00</td>\n",
       "    </tr>\n",
       "    <tr>\n",
       "      <th>from_user_statuses_count</th>\n",
       "      <td>26257.00</td>\n",
       "      <td>5190.04</td>\n",
       "      <td>4004.43</td>\n",
       "      <td>9.00</td>\n",
       "      <td>16594.00</td>\n",
       "    </tr>\n",
       "    <tr>\n",
       "      <th>num_characters</th>\n",
       "      <td>26257.00</td>\n",
       "      <td>111.11</td>\n",
       "      <td>29.89</td>\n",
       "      <td>9.00</td>\n",
       "      <td>159.00</td>\n",
       "    </tr>\n",
       "  </tbody>\n",
       "</table>\n",
       "</div>"
      ],
      "text/plain": [
       "                             count     mean       std   min       max\n",
       "RTs_binary                26257.00     0.55      0.50  0.00      1.00\n",
       "English                   26257.00     0.97      0.17  0.00      1.00\n",
       "hashtags_binary           26257.00     0.63      0.48  0.00      1.00\n",
       "mentions_binary           26257.00     0.61      0.49  0.00      1.00\n",
       "URLs_binary               26257.00     0.62      0.49  0.00      1.00\n",
       "from_user_followers_count 26257.00 48397.00 103199.48 58.00 424892.00\n",
       "from_user_statuses_count  26257.00  5190.04   4004.43  9.00  16594.00\n",
       "num_characters            26257.00   111.11     29.89  9.00    159.00"
      ]
     },
     "execution_count": 14,
     "metadata": {},
     "output_type": "execute_result"
    }
   ],
   "source": [
    "np.round(df.describe(), 2).T[['count','mean', 'std', 'min', 'max']]"
   ]
  },
  {
   "cell_type": "markdown",
   "metadata": {},
   "source": [
    "<br>\n",
    "## Logit Regressions"
   ]
  },
  {
   "cell_type": "markdown",
   "metadata": {},
   "source": [
    "As an aside, StatsModels has a wiki page, https://github.com/statsmodels/statsmodels/wiki/Examples with a collection \"official\" and user-contributed examples, tutorials and recipes.  \n",
    "\n",
    "StatsModels has two main ways of writing regression equations. Here I'll be using the `\"R-style\"` of writing regression formulas. For a more detailed explanation see http://statsmodels.sourceforge.net/devel/example_formulas.html \n",
    "\n",
    "Let's run a simple model with two explanatory variables: `hashtags_binary` and `from_users_followers_count`."
   ]
  },
  {
   "cell_type": "code",
   "execution_count": 15,
   "metadata": {
    "collapsed": false
   },
   "outputs": [
    {
     "name": "stdout",
     "output_type": "stream",
     "text": [
      "Optimization terminated successfully.\n",
      "         Current function value: 0.654336\n",
      "         Iterations 5\n"
     ]
    }
   ],
   "source": [
    "mod_logit = smf.logit(formula='RTs_binary ~ hashtags_binary + from_user_followers_count', data=df).fit()"
   ]
  },
  {
   "cell_type": "markdown",
   "metadata": {},
   "source": [
    "<br>To get the summary of the above model -- including the degress of freedom, coefficients, etc. -- we use the `summary` command."
   ]
  },
  {
   "cell_type": "code",
   "execution_count": 16,
   "metadata": {
    "collapsed": false
   },
   "outputs": [
    {
     "name": "stdout",
     "output_type": "stream",
     "text": [
      "                           Logit Regression Results                           \n",
      "==============================================================================\n",
      "Dep. Variable:             RTs_binary   No. Observations:                26257\n",
      "Model:                          Logit   Df Residuals:                    26254\n",
      "Method:                           MLE   Df Model:                            2\n",
      "Date:                Sun, 02 Aug 2015   Pseudo R-squ.:                 0.05021\n",
      "Time:                        16:09:36   Log-Likelihood:                -17181.\n",
      "converged:                       True   LL-Null:                       -18089.\n",
      "                                        LLR p-value:                     0.000\n",
      "=============================================================================================\n",
      "                                coef    std err          z      P>|z|      [95.0% Conf. Int.]\n",
      "---------------------------------------------------------------------------------------------\n",
      "Intercept                    -0.5396      0.022    -24.708      0.000        -0.582    -0.497\n",
      "hashtags_binary               0.9466      0.026     35.767      0.000         0.895     0.998\n",
      "from_user_followers_count  3.033e-06   1.47e-07     20.648      0.000      2.75e-06  3.32e-06\n",
      "=============================================================================================\n",
      "Chi-squared value: 1816.45530301\n"
     ]
    }
   ],
   "source": [
    "print mod_logit.summary()\n",
    "print \"Chi-squared value:\", mod_logit.llr #TO GET THE CHI-SQUARED VALUE"
   ]
  },
  {
   "cell_type": "markdown",
   "metadata": {},
   "source": [
    "<br>With a logit regression we are particularly interested in several pieces of information:\n",
    "\n",
    "<b>Model Summary:</b>\n",
    "\n",
    "First, we are interested in the performance of the entire regression model. \n",
    "\n",
    "- <b><i>`Log-Likelihood:`</i></b> The log-likelihood value of the final model.  The value `-17181` has no meaning in and of itself; rather, this number can be used to help compare nested models.\n",
    "- <b><i>`No. Observations:`</i></b> The number of observations used in the regression.\n",
    "- <b><i>`Chi-squared:`</i></b> \"This is the likelihood ratio (LR) chi-square test.\"It is a measure of model fit.\n",
    "- <b><i>`LLR p-value:`</i></b> The p-value for the chi-square test\n",
    "   - The chi-squared probability of getting a log-likelihood ratio statistic greater than llr.  llr has a chi-squared distribution with degrees of freedom `df_model`.\n",
    "   - \"This is the probability of obtaining the chi-square statistic given that the null hypothesis is true.  In other words, this is the probability of obtaining this chi-square statistic (`1816.5`) if there is in fact no effect of the independent variables, taken together, on the dependent variable.  This is, of course, the p-value, which is compared to a critical value, perhaps .05 or .01 to determine if the overall model is statistically significant.  In this case, the model is statistically significant because the p-value is less than .000\" (www.ats.ucla.edu)\n",
    "- <b><i>`Pseudo R-squ:`</i></b> The 'pseudo' R-squared\n",
    "   - \"This is the pseudo R-squared.  Logistic regression does not have an equivalent to the R-squared that is found in OLS regression; however, many people have tried to come up with one.  There are a wide variety of pseudo-R-square statistics.  Because this statistic does not mean what R-square means in OLS regression (the proportion of variance explained by the predictors), we suggest interpreting this statistic with great caution.\" (www.ats.ucla.edu)\n",
    "\n",
    "\n",
    "Below the model summary we have the parameter estimates. These are used for making determinations of the relationships for each of the individual variables.\n",
    "\n",
    "<b>Parameter Estimates:</b>\n",
    "\n",
    "- <b><i>`coef`</i></b> - Parameter coefficients\n",
    "   - \"These are the values for the logistic regression equation for predicting the dependent variable from the independent variable.  They are in log-odds units.  Similar to OLS regression, the prediction equation is\" (www.ats.ucla.edu)\n",
    "\n",
    "      - log(p/1-p) = b0 + b1$*$hashtags_binary + b2$*$from_user_followers_count\n",
    "    \n",
    "   - where p is the probability of being retweeted.  Expressed in terms of the variables used in this example, the logistic regression equation is\n",
    "\n",
    "      - log(p/1-p) = -0.5396 + 0.9466$*$hashtags_binary + 3.033e-06$*$from_user_followers_count\n",
    "\n",
    "  - \"These estimates tell you about the relationship between the independent variables and the dependent variable, where the dependent variable is on the logit scale.  These estimates tell the amount of increase in the predicted log odds of `RTs_binary` = 1 that would be predicted by a 1 unit increase in the predictor, holding all other predictors constant.  Note: For the independent variables which are not significant, the coefficients are not significantly different from 0, which should be taken into account when interpreting the coefficients.  (See the columns with the z-values and p-values regarding testing whether the coefficients are statistically significant).  Because these coefficients are in log-odds units, they are often difficult to interpret, so they are often converted into odds ratios.\" (www.ats.ucla.edu) I will show you how to do this later\n",
    "\n",
    "    - `hashtags_binary` - The coefficient (or parameter estimate) for the variable hashtags_binary is 0.9466.  This means that for a one-unit increase in female (in other words, going from no hashtags to hashtags), we expect a 0.9466 increase in the log-odds of the dependent variable `RTs_binary`, holding all other independent variables constant.\n",
    "    \n",
    "    - `from_user_followers_count` - For every one-unit increase in `from_user_followers_count` (so, for every additional follower), we expect a 3.033e-06 increase in the log-odds of `RTs_binary`, holding all other independent variables constant.\n",
    "    \n",
    "    - constant - This is the expected value of the log-odds of `RTs_binary` when all of the predictor variables equal zero.  In most cases, this is not interesting.  Also, oftentimes zero is not a realistic value for a variable to take.\n",
    "\n",
    "\n",
    "- <b><i>`std err`</i></b> - \"These are the standard errors associated with the coefficients.  The standard error is used for testing whether the parameter is significantly different from 0; by dividing the parameter estimate by the standard error you obtain a z-value (see the column with z-values and p-values).  The standard errors can also be used to form a confidence interval for the parameter, as shown in the last two columns of this table.\" (www.ats.ucla.edu)\n",
    "\n",
    "\n",
    "- <b><i>`z and P>|z|`</i></b> - z-value and 2-tailed p-value\n",
    "\n",
    "  - \"These columns provide the z-value and 2-tailed p-value used in testing the null hypothesis that the coefficient (parameter) is 0.   If you use a 2-tailed test, then you would compare each p-value to your preselected value of alpha.  Coefficients having p-values less than alpha are statistically significant.  For example, if you chose alpha to be 0.05, coefficients having a p-value of 0.05 or less would be statistically significant (i.e., you can reject the null hypothesis and say that the coefficient is significantly different from 0).   If you use a 1-tailed test (i.e., you predict that the parameter will go in a particular direction), then you can divide the p-value by 2 before comparing it to your preselected alpha level.\" (www.ats.ucla.edu) \n",
    "      - With a 2-tailed test and alpha of 0.05, you may reject the null hypothesis that the coefficient for `hashtags_binary` is equal to 0.  The coefficient of 0.9466 is significantly greater than 0. The coefficient for `from_user_followers_count` of 3.033e-06 is also significantly different from 0 using alpha of 0.05 because its p-value is 0.000, which is smaller than 0.05.\n",
    "    \n",
    "    \n",
    "- <b><i>`[95.0% Conf. Int.]`</i></b> - \"This shows a 95% confidence interval for the coefficient.  This is very useful as it helps you understand how high and how low the actual population value of the parameter might be.  The confidence intervals are related to the p-values such that the coefficient will not be statistically significant if the confidence interval includes 0.\" (www.ats.ucla.edu) \n",
    "\n",
    "  \n",
    "\n",
    "For a more detailed description of the model summary and parameter estimates, see http://www.ats.ucla.edu/stat/stata/output/stata_logistic.htm\n",
    "\n",
    "\n",
    "<b>TL/DR</b> - `hashtags_binary` and `from_user_followers_count` both have a significant positive relationship with `RTs_binary`."
   ]
  },
  {
   "cell_type": "markdown",
   "metadata": {},
   "source": [
    "<br>\n",
    "## Interpreting the Coefficients"
   ]
  },
  {
   "cell_type": "markdown",
   "metadata": {},
   "source": [
    "I'm now going to switch to a fairly detailed tutorial on how to interpret the logit coefficients. As noted above, the coefficients provided in a logistic regression are different than those seen in, say, an OLS regression regression. The logit coefficients are in `log-odd` units: \"These estimates tell the amount of increase in the predicted log odds of RTs_binary = 1 that would be predicted by a 1 unit increase in the predictor, holding all other predictors constant.\" (www.ats.ucla.edu)\n",
    "\n",
    "To help walk you through how the coefficients are created -- along with how to interpret them -- I will run an even simpler logit model including only a single binary variable. "
   ]
  },
  {
   "cell_type": "code",
   "execution_count": 17,
   "metadata": {
    "collapsed": false
   },
   "outputs": [
    {
     "name": "stdout",
     "output_type": "stream",
     "text": [
      "Optimization terminated successfully.\n",
      "         Current function value: 0.663751\n",
      "         Iterations 4\n"
     ]
    },
    {
     "data": {
      "text/plain": [
       "Intercept         -0.40\n",
       "hashtags_binary    0.94\n",
       "dtype: float64"
      ]
     },
     "execution_count": 17,
     "metadata": {},
     "output_type": "execute_result"
    }
   ],
   "source": [
    "mod_logit4 = smf.logit(formula='RTs_binary ~ hashtags_binary', data=df).fit()\n",
    "mod_logit4.params"
   ]
  },
  {
   "cell_type": "markdown",
   "metadata": {},
   "source": [
    "The coefficient (or parameter estimate) for the variable `hashtags_binary` is 0.94. This means that for a one-unit increase in female (in other words, going from no hashtags to hashtags), we expect a 0.94 increase in the log-odds of the dependent variable `RTs_binary`.\n",
    "\n",
    "I will now cover four different relevant values for our variables: 1) odds, 2) probabilities, 3) odds ratios, and 4) the log of odds."
   ]
  },
  {
   "cell_type": "markdown",
   "metadata": {},
   "source": [
    "#### Part I: The Odds"
   ]
  },
  {
   "cell_type": "markdown",
   "metadata": {},
   "source": [
    "To see how the two parameters shown above are calculated, let's take a look at the crosstab of the variables `hashtags_binary` with `RTs_binary`."
   ]
  },
  {
   "cell_type": "code",
   "execution_count": 18,
   "metadata": {
    "collapsed": false
   },
   "outputs": [
    {
     "data": {
      "text/html": [
       "<div>\n",
       "<table border=\"1\" class=\"dataframe\">\n",
       "  <thead>\n",
       "    <tr style=\"text-align: right;\">\n",
       "      <th>RTs_binary</th>\n",
       "      <th>0</th>\n",
       "      <th>1</th>\n",
       "    </tr>\n",
       "    <tr>\n",
       "      <th>hashtags_binary</th>\n",
       "      <th></th>\n",
       "      <th></th>\n",
       "    </tr>\n",
       "  </thead>\n",
       "  <tbody>\n",
       "    <tr>\n",
       "      <th>0</th>\n",
       "      <td>5846</td>\n",
       "      <td>3912</td>\n",
       "    </tr>\n",
       "    <tr>\n",
       "      <th>1</th>\n",
       "      <td>6077</td>\n",
       "      <td>10422</td>\n",
       "    </tr>\n",
       "  </tbody>\n",
       "</table>\n",
       "</div>"
      ],
      "text/plain": [
       "RTs_binary          0      1\n",
       "hashtags_binary             \n",
       "0                5846   3912\n",
       "1                6077  10422"
      ]
     },
     "execution_count": 18,
     "metadata": {},
     "output_type": "execute_result"
    }
   ],
   "source": [
    "pd.crosstab(df['hashtags_binary'], df['RTs_binary'])"
   ]
  },
  {
   "cell_type": "markdown",
   "metadata": {},
   "source": [
    "What are the odds of a no-tag tweet (`hashtags_binary=0`) being retweeted and what are the odds of a hashtag tweet (`hashtags_binary=1`) being retweeted? We can manually calculate these odds from the above table. First, the odds of a tweet with no tags being retweeted are `3912/5846` = **0.669**. Such tweets are less likely to be shared than not shared. It might help if I put this in \"gambling\" form: The odds are ``0.669:1``.\n",
    "\n",
    "Note that `probability` can range from 0 to 1, while `odds` can range from 0 to positive infinity. A tweet with a probability of being retweeted of 1 means a 100% chance, a probability of 0.5 indicates 50/50 chances, and a probability of 0 indicates no chance of being retweeted. In contrast, an odds value of 1 indicates an equal chance of the tweet being retweeted or not retweeted (the odds of being retweeted versus not being retweeted are 1 to 1). Any odds value of greater than 1 thus indicates a higher likelihood of being retweeted than not retweeted.\n",
    "\n",
    "For a complete description of probability vs. odds, see http://www.ats.ucla.edu/stat/mult_pkg/faq/general/odds_ratio.htm "
   ]
  },
  {
   "cell_type": "code",
   "execution_count": 20,
   "metadata": {
    "collapsed": false
   },
   "outputs": [
    {
     "data": {
      "text/plain": [
       "0.6691755046185426"
      ]
     },
     "execution_count": 20,
     "metadata": {},
     "output_type": "execute_result"
    }
   ],
   "source": [
    "from __future__ import division  #To make sure PANDAS always returns a float\n",
    "(3912/(3912+5846))/(5846/(3912+5846))"
   ]
  },
  {
   "cell_type": "code",
   "execution_count": 21,
   "metadata": {
    "collapsed": false
   },
   "outputs": [
    {
     "data": {
      "text/plain": [
       "0.6691755046185426"
      ]
     },
     "execution_count": 21,
     "metadata": {},
     "output_type": "execute_result"
    }
   ],
   "source": [
    "#OR, AFTER CANCELLATION\n",
    "3912/5846"
   ]
  },
  {
   "cell_type": "markdown",
   "metadata": {},
   "source": [
    "Second, the odds of a tweet with one or more tags being retweeted are **1.718**, indicating that they are more likely to be shared than not shared. If you are more used to gambling terminology, the odds are `1.72:1`"
   ]
  },
  {
   "cell_type": "code",
   "execution_count": 23,
   "metadata": {
    "collapsed": false
   },
   "outputs": [
    {
     "data": {
      "text/plain": [
       "1.7178177023240482"
      ]
     },
     "execution_count": 23,
     "metadata": {},
     "output_type": "execute_result"
    }
   ],
   "source": [
    "10422/6067"
   ]
  },
  {
   "cell_type": "markdown",
   "metadata": {},
   "source": [
    "#### Part II: The Probabilities\n",
    "\n",
    "Probabilities range between 0 and 1. So, if the probability of a message being retweeted is 0.63, then the probability of the message not being retweeted is `1-0.63=0.37`. \n",
    "\n",
    "Odds, in turn range from 0 to infinity are based on the probabilities. Specifically, in our context odds are defined as the ratio of probability of being retweeted and the probability of not being retweeted:\n",
    "\n",
    "$$\\text{odds}(RT) = \\frac{\\Pr(RT=1)}{\\Pr(RT=0)} = \\frac{\\Pr(RT=1)}{1 - \\Pr(RT=1)} = \\frac{0.632}{1 - 0.632} =  \\frac{0.632}{0.368} = 1.72 $$"
   ]
  },
  {
   "cell_type": "markdown",
   "metadata": {},
   "source": [
    "In fact, as we will calculate below, these are the relevant probabilities. To convert from odds to probabilities, we can rely on an alternative formula:\n",
    "\n",
    "$$\\Pr(RT=1) = \\frac{\\text{Odds}(RT)}{1 + \\text{Odds}(RT)} = 1 - \\frac{1}{1 + \\text{Odds}(RT)}$$\n",
    "\n",
    "\n",
    "Above we have calculated the odds, so let's now plug them in to get our probabilities. First, the probability of a hashtag tweet being retweeted is:"
   ]
  },
  {
   "cell_type": "code",
   "execution_count": 99,
   "metadata": {
    "collapsed": false
   },
   "outputs": [
    {
     "data": {
      "text/plain": [
       "0.6320577354600037"
      ]
     },
     "execution_count": 99,
     "metadata": {},
     "output_type": "execute_result"
    }
   ],
   "source": [
    "1.7178177023240482/(1+1.7178177023240482)"
   ]
  },
  {
   "cell_type": "markdown",
   "metadata": {},
   "source": [
    "or"
   ]
  },
  {
   "cell_type": "code",
   "execution_count": 95,
   "metadata": {
    "collapsed": false
   },
   "outputs": [
    {
     "data": {
      "text/plain": [
       "0.6320577354600037"
      ]
     },
     "execution_count": 95,
     "metadata": {},
     "output_type": "execute_result"
    }
   ],
   "source": [
    "(10422/6067)/(1+(10422/6067))"
   ]
  },
  {
   "cell_type": "markdown",
   "metadata": {},
   "source": [
    "or"
   ]
  },
  {
   "cell_type": "code",
   "execution_count": 96,
   "metadata": {
    "collapsed": false
   },
   "outputs": [
    {
     "data": {
      "text/plain": [
       "0.6320577354600037"
      ]
     },
     "execution_count": 96,
     "metadata": {},
     "output_type": "execute_result"
    }
   ],
   "source": [
    "1 - 1/(1+(10422/6067))"
   ]
  },
  {
   "cell_type": "markdown",
   "metadata": {},
   "source": [
    "And the probability of a hashtag tweet not being retweeted is `1-0.632=0.368`. If we wish, we can work out the calculation."
   ]
  },
  {
   "cell_type": "code",
   "execution_count": 79,
   "metadata": {
    "collapsed": false
   },
   "outputs": [
    {
     "data": {
      "text/plain": [
       "0.3679422645399964"
      ]
     },
     "execution_count": 79,
     "metadata": {},
     "output_type": "execute_result"
    }
   ],
   "source": [
    "1/(1+(10422/6067))"
   ]
  },
  {
   "cell_type": "markdown",
   "metadata": {},
   "source": [
    "Given that we have the relevant odds, let's write a function to implement our equation:\n",
    "\n",
    "$$\\Pr(RT=1) = \\frac{\\text{Odds}(RT)}{1 + \\text{Odds}(RT)}$$"
   ]
  },
  {
   "cell_type": "code",
   "execution_count": 100,
   "metadata": {
    "collapsed": true
   },
   "outputs": [],
   "source": [
    "def Probability(odds):\n",
    "    return odds / (1 + odds)"
   ]
  },
  {
   "cell_type": "markdown",
   "metadata": {},
   "source": [
    "##### Probability a hashtag tweet will be retweeted"
   ]
  },
  {
   "cell_type": "code",
   "execution_count": 107,
   "metadata": {
    "collapsed": false
   },
   "outputs": [
    {
     "name": "stdout",
     "output_type": "stream",
     "text": [
      "0.63205773546\n",
      "0.63205773546\n"
     ]
    }
   ],
   "source": [
    "print Probability(10422/6067)\n",
    "print Probability(1.7178177023240482)  #ALTERNATIVELY, JUST PLUGGING IN THE ODDS "
   ]
  },
  {
   "cell_type": "markdown",
   "metadata": {},
   "source": [
    "##### Probability a hashtag tweet will not be retweeted"
   ]
  },
  {
   "cell_type": "code",
   "execution_count": 102,
   "metadata": {
    "collapsed": false
   },
   "outputs": [
    {
     "data": {
      "text/plain": [
       "0.3679422645399964"
      ]
     },
     "execution_count": 102,
     "metadata": {},
     "output_type": "execute_result"
    }
   ],
   "source": [
    "Probability(6067/10422)"
   ]
  },
  {
   "cell_type": "markdown",
   "metadata": {},
   "source": [
    "##### Probability a no-tag tweet will be retweeted"
   ]
  },
  {
   "cell_type": "code",
   "execution_count": 109,
   "metadata": {
    "collapsed": false
   },
   "outputs": [
    {
     "name": "stdout",
     "output_type": "stream",
     "text": [
      "0.400901824144\n",
      "0.400901824144\n"
     ]
    }
   ],
   "source": [
    "print Probability(3912/5846)\n",
    "print Probability(0.6691755046185426)   #ALTERNATIVELY, JUST PLUGGING IN THE ODDS "
   ]
  },
  {
   "cell_type": "markdown",
   "metadata": {},
   "source": [
    "##### Probability a no-tag tweet will not be retweeted"
   ]
  },
  {
   "cell_type": "code",
   "execution_count": 110,
   "metadata": {
    "collapsed": false
   },
   "outputs": [
    {
     "data": {
      "text/plain": [
       "0.5990981758557081"
      ]
     },
     "execution_count": 110,
     "metadata": {},
     "output_type": "execute_result"
    }
   ],
   "source": [
    "Probability(5846/3912)"
   ]
  },
  {
   "cell_type": "markdown",
   "metadata": {},
   "source": [
    "<br>For many people, the probabilities are more intuitive. It's good to know how to calculate them."
   ]
  },
  {
   "cell_type": "markdown",
   "metadata": {},
   "source": [
    "#### Part III: The `Odds Ratio`"
   ]
  },
  {
   "cell_type": "markdown",
   "metadata": {},
   "source": [
    "We now can use the odds to calculate the `odds ratio`, or the ratio of the odds between two conditions -- between including a tag and not including a tag. We are especially interested here in the ratio of the odds of hashtag tweets to non-hashtag tweets. As with the odds noted earlier, this is how we will interpret the odds ratio (OR):\n",
    "\n",
    " - OR < 1  - including tag associated with lower odds of being retweeted\n",
    " - OR = 1  - including tag does not affect odds of being retweeted\n",
    " - OR > 1  - including tag associated with higher odds of being retweeted\n",
    "\n",
    "The **ratio** of the odds for hashtag to non-hashtag tweets is \n",
    "\n",
    "&nbsp; &nbsp; &nbsp; &nbsp; `odds(hashtag)/odds(no hashtag)` = `(10422/6067)/(3912/5846) = 1.718/0.669 =` **2.56**\n",
    "\n",
    "Note that on some websites you might see this alternative presentation (which I think is less intuitive than above:\n",
    "\n",
    "&nbsp; &nbsp; &nbsp; &nbsp; `odds(hashtag)/odds(no hashtag)` = `(10422/6067)/(3912/5846) = (10422*5846)/(3912*6077) =` **2.56**\n",
    "\n",
    "Check out the UCLA site for a detailed example of interpreting the odds ratio: http://www.ats.ucla.edu/stat/stata/faq/oratio.htm. See also: http://stats.stackexchange.com/questions/133623/help-me-understand-adjusted-odds-ratio-in-logistic-regression. For another tutorial on how to compute odds ratios and predicted probabilities, see http://blog.yhathq.com/posts/logistic-regression-and-python.html\n",
    "\n",
    "We can check our math here:"
   ]
  },
  {
   "cell_type": "code",
   "execution_count": 24,
   "metadata": {
    "collapsed": false
   },
   "outputs": [
    {
     "data": {
      "text/plain": [
       "2.5628417920934914"
      ]
     },
     "execution_count": 24,
     "metadata": {},
     "output_type": "execute_result"
    }
   ],
   "source": [
    "(10422*5846)/(3912*6077)"
   ]
  },
  {
   "cell_type": "markdown",
   "metadata": {},
   "source": [
    "Alternatively, we get the same by dividing the odds (calculated in Part I) of a retweet for a hashtag tweet by the odds of a retweet for a non-hashtag tweet."
   ]
  },
  {
   "cell_type": "code",
   "execution_count": 65,
   "metadata": {
    "collapsed": false
   },
   "outputs": [
    {
     "data": {
      "text/plain": [
       "2.5670660244852725"
      ]
     },
     "execution_count": 65,
     "metadata": {},
     "output_type": "execute_result"
    }
   ],
   "source": [
    "1.7178177023240482/0.6691755046185426"
   ]
  },
  {
   "cell_type": "markdown",
   "metadata": {},
   "source": [
    "So the odds for for hashtag tweets are 10422 to 6067 (`1.718:1`), the odds for non-tag tweets are 3912 to 5846 (`0.669:1`), and the odds ratio of **2.56** indicates the odds of a retweet for hashtag tweets are about **156% higher** (`(2.56 - 1) * 100`) than the odds for non-hashtag tweets.\n",
    "\n",
    "We can do the following as a short-hand way of getting the odds ratios."
   ]
  },
  {
   "cell_type": "code",
   "execution_count": 112,
   "metadata": {
    "collapsed": false
   },
   "outputs": [
    {
     "name": "stdout",
     "output_type": "stream",
     "text": [
      "Intercept         0.67\n",
      "hashtags_binary   2.56\n",
      "dtype: float64\n"
     ]
    }
   ],
   "source": [
    "print np.exp(mod_logit4.params)"
   ]
  },
  {
   "cell_type": "markdown",
   "metadata": {},
   "source": [
    "And if we want the odds ratios plus the confidence intervals. "
   ]
  },
  {
   "cell_type": "code",
   "execution_count": 27,
   "metadata": {
    "collapsed": false
   },
   "outputs": [
    {
     "name": "stdout",
     "output_type": "stream",
     "text": [
      "                 2.5%  97.5%   OR\n",
      "Intercept        0.64   0.70 0.67\n",
      "hashtags_binary  2.43   2.70 2.56\n"
     ]
    }
   ],
   "source": [
    "# odds ratios and 95% CI\n",
    "params = mod_logit4.params\n",
    "conf = mod_logit4.conf_int()\n",
    "conf['OR'] = params\n",
    "conf.columns = ['2.5%', '97.5%', 'OR']\n",
    "print np.exp(conf)"
   ]
  },
  {
   "cell_type": "markdown",
   "metadata": {},
   "source": [
    "#### Part IV: The log of odds (our regression coefficients)"
   ]
  },
  {
   "cell_type": "markdown",
   "metadata": {},
   "source": [
    "As seen in our initial logit regression output, the log of odds of a tweet with a hashtag being shared are **0.943**,  calcluated as the log of the ratio of the odds of a hashtag tweet being shared to an no-tag tweet being shared. This is the `hashtags_binary` parameter value in our logit regression above."
   ]
  },
  {
   "cell_type": "code",
   "execution_count": 28,
   "metadata": {
    "collapsed": false
   },
   "outputs": [
    {
     "data": {
      "text/plain": [
       "0.94276362204334552"
      ]
     },
     "execution_count": 28,
     "metadata": {},
     "output_type": "execute_result"
    }
   ],
   "source": [
    "log((10422/6067)/(3912/5846))"
   ]
  },
  {
   "cell_type": "markdown",
   "metadata": {},
   "source": [
    "Taking the exponent of the log of the odds will give us the odds ratio again"
   ]
  },
  {
   "cell_type": "code",
   "execution_count": 29,
   "metadata": {
    "collapsed": false
   },
   "outputs": [
    {
     "data": {
      "text/plain": [
       "2.5670660244852725"
      ]
     },
     "execution_count": 29,
     "metadata": {},
     "output_type": "execute_result"
    }
   ],
   "source": [
    "exp(log((10422/6067)/(3912/5846)))"
   ]
  },
  {
   "cell_type": "markdown",
   "metadata": {},
   "source": [
    "The **_log of odds_** of a no-tag post being shared, in turn, is **-0.402**. This is the intercept value in the above logit regression. Note that it is the intercept value because, when there is no tag, the value for `hashtags_binary` will be `0`, that is, our equation becomes:\n",
    "\n",
    "      - log(p/1-p) = b0 + b1*hashtags_binary\n",
    "    \n",
    "or\n",
    "\n",
    "      - log(p/1-p) = -0.40 + 0.94*hashtags_binary \n",
    "      \n",
    "or \n",
    "\n",
    "      - log(p/1-p) = -0.40 + 0.94*0 = -0.40"
   ]
  },
  {
   "cell_type": "code",
   "execution_count": 30,
   "metadata": {
    "collapsed": false
   },
   "outputs": [
    {
     "data": {
      "text/plain": [
       "-0.40170891451648333"
      ]
     },
     "execution_count": 30,
     "metadata": {},
     "output_type": "execute_result"
    }
   ],
   "source": [
    "log(3912/5846)"
   ]
  },
  {
   "cell_type": "markdown",
   "metadata": {},
   "source": [
    "or"
   ]
  },
  {
   "cell_type": "code",
   "execution_count": 31,
   "metadata": {
    "collapsed": false
   },
   "outputs": [
    {
     "data": {
      "text/plain": [
       "-0.40170891451648333"
      ]
     },
     "execution_count": 31,
     "metadata": {},
     "output_type": "execute_result"
    }
   ],
   "source": [
    "log(0.6691755046185426)"
   ]
  },
  {
   "cell_type": "markdown",
   "metadata": {},
   "source": [
    "Taking the exponent of the log of the odds will give us the odds again"
   ]
  },
  {
   "cell_type": "code",
   "execution_count": 32,
   "metadata": {
    "collapsed": false
   },
   "outputs": [
    {
     "data": {
      "text/plain": [
       "0.66917550461854258"
      ]
     },
     "execution_count": 32,
     "metadata": {},
     "output_type": "execute_result"
    }
   ],
   "source": [
    "exp(-0.40170891451648333)"
   ]
  },
  {
   "cell_type": "markdown",
   "metadata": {},
   "source": [
    "If we want to directly get the coefficients (in log odds form)"
   ]
  },
  {
   "cell_type": "code",
   "execution_count": 33,
   "metadata": {
    "collapsed": false
   },
   "outputs": [
    {
     "data": {
      "text/plain": [
       "Intercept         -0.40\n",
       "hashtags_binary    0.94\n",
       "dtype: float64"
      ]
     },
     "execution_count": 33,
     "metadata": {},
     "output_type": "execute_result"
    }
   ],
   "source": [
    "mod_logit4.params"
   ]
  },
  {
   "cell_type": "markdown",
   "metadata": {},
   "source": [
    "Taking the exponent of the log of the odds will give us the odds."
   ]
  },
  {
   "cell_type": "code",
   "execution_count": 34,
   "metadata": {
    "collapsed": false
   },
   "outputs": [
    {
     "data": {
      "text/plain": [
       "Intercept         0.67\n",
       "hashtags_binary   2.56\n",
       "dtype: float64"
      ]
     },
     "execution_count": 34,
     "metadata": {},
     "output_type": "execute_result"
    }
   ],
   "source": [
    "exp(mod_logit4.params)"
   ]
  },
  {
   "cell_type": "markdown",
   "metadata": {},
   "source": [
    "### Summary - Interpreting the Coefficients\n",
    "\n",
    "I hope this helps explain the meaning of the coefficients. Given the difficulty of interpreting log odds, you may wish to show the odds ratios instead in your manuscript. In our plots below we will also show the probabilities.\n",
    "\n",
    "Let's quickly put it all together. We have covered four different versions of our variables' parameters. First, there is the log of odds -- our initial logit regression coefficients. Second, we have the odds, which range from 0 to positive infinity. Third, we have the odds ratio, which relates to the ratio of the odds of one condition vs. another. And fourth, we have the probabilities of being retweeted and not retweeted. The following table lays out the relevant values for the only variable in our model, `hashtags_binary`.\n",
    "\n",
    "For me, the most important, most readily intelligible pieces of information are the following -- and these are what I would convey to the readers. To start, I'd relate that the odds of a tweet being retweeted are **2.56 times higher** for a tweet with a hashtag compared to one without a hashtag; I would, in other words, refer to the odds ratio shown in the fourth column for `hashtags=1`. I might also use this same information in a different way and say that the odds of a retweet for hashtag tweets are about **156% higher** than they are for non-tag tweets. Second, I would also likely point out that the probability of a hashtag tweet being retweeted is **0.632**. The rest can remain unsaid."
   ]
  },
  {
   "cell_type": "markdown",
   "metadata": {},
   "source": [
    "| condition (value of `hashtags_binary`) | log of odds (regression coef.) | odds(RT) | odds ratio (vs. other condition)| Pr(RT) | Pr(~RT) |\n",
    "|-----------|-------------|----------|------------|--------|---------|\n",
    "| no tag &nbsp; (`hashtags_binary=0`)   | -0.40       | 0.669    | 0.39       |   0.401     |   0.599      |\n",
    "| tag   &nbsp; (`hashtags_binary=1`)   | 0.94        | 1.718    | 2.56       | 0.632  |     0.368    |"
   ]
  },
  {
   "cell_type": "markdown",
   "metadata": {},
   "source": [
    "<br>\n",
    "## Run three separate logit regressions and keep only publication-needed parameters"
   ]
  },
  {
   "cell_type": "markdown",
   "metadata": {},
   "source": [
    "OK, let's now switch gears. You will usually have to run more than one regression in any analysis. It will help both you and the reader if you are able to present the results side-by-side in a single table. Moreover, it will make your task much easier if you are able to directly export your results rather than copying and pasting individual coefficients. Fortunately,`StatsModels` has this capability. I will now take you through the steps necessary to produce a single table for including in your manuscript.`"
   ]
  },
  {
   "cell_type": "code",
   "execution_count": 35,
   "metadata": {
    "collapsed": false
   },
   "outputs": [
    {
     "name": "stdout",
     "output_type": "stream",
     "text": [
      "Optimization terminated successfully.\n",
      "         Current function value: 0.654336\n",
      "         Iterations 5\n",
      "Optimization terminated successfully.\n",
      "         Current function value: 0.637146\n",
      "         Iterations 5\n",
      "Optimization terminated successfully.\n",
      "         Current function value: 0.626327\n",
      "         Iterations 5\n"
     ]
    }
   ],
   "source": [
    "#logit = sm.Logit(data['admit'], data[train_cols])\n",
    "mod_logit = smf.logit(formula='RTs_binary ~ hashtags_binary + from_user_followers_count', data=df).fit()\n",
    "mod_logit2 = smf.logit(formula='RTs_binary ~ hashtags_binary + from_user_followers_count + num_characters', data=df).fit()\n",
    "mod_logit3 = smf.logit(formula='RTs_binary ~ hashtags_binary + from_user_followers_count + num_characters + URLs_binary', data=df).fit()"
   ]
  },
  {
   "cell_type": "code",
   "execution_count": 36,
   "metadata": {
    "collapsed": false
   },
   "outputs": [],
   "source": [
    "results_logit=[mod_logit, mod_logit2, mod_logit3]"
   ]
  },
  {
   "cell_type": "markdown",
   "metadata": {},
   "source": [
    "To show all three sets of results at once we will rely on the `summary_col` feature of StatsModels. Go here to see what can be done in <i>summary2</i>: https://github.com/statsmodels/statsmodels/blob/master/statsmodels/iolib/summary2.py"
   ]
  },
  {
   "cell_type": "code",
   "execution_count": 38,
   "metadata": {
    "collapsed": false
   },
   "outputs": [
    {
     "name": "stdout",
     "output_type": "stream",
     "text": [
      "\n",
      "===================================================================\n",
      "                          RTs_binary I RTs_binary II RTs_binary III\n",
      "-------------------------------------------------------------------\n",
      "Intercept                 -0.5396***   -1.9525***    -1.9536***    \n",
      "                          (0.0218)     (0.0542)      (0.0553)      \n",
      "URLs_binary                                          0.6898***     \n",
      "                                                     (0.0290)      \n",
      "from_user_followers_count 0.0000***    0.0000***     0.0000***     \n",
      "                          (0.0000)     (0.0000)      (0.0000)      \n",
      "hashtags_binary           0.9466***    0.6451***     0.6370***     \n",
      "                          (0.0265)     (0.0285)      (0.0288)      \n",
      "num_characters                         0.0142***     0.0103***     \n",
      "                                       (0.0005)      (0.0005)      \n",
      "===================================================================\n",
      "Standard errors in parentheses.\n",
      "* p<.1, ** p<.05, ***p<.01\n"
     ]
    }
   ],
   "source": [
    "from statsmodels.iolib.summary2 import summary_col\n",
    "print summary_col(results_logit, stars=True)"
   ]
  },
  {
   "cell_type": "markdown",
   "metadata": {},
   "source": [
    "<br>The above is fine, but we need a few more pieces of information. Specifically, we'll customize extra info on the bottom panel and change the float format."
   ]
  },
  {
   "cell_type": "code",
   "execution_count": 39,
   "metadata": {
    "collapsed": true
   },
   "outputs": [],
   "source": [
    "# TO SEE WHAT MODEL VALUES ARE\n",
    "mod_logit?"
   ]
  },
  {
   "cell_type": "code",
   "execution_count": 40,
   "metadata": {
    "collapsed": true
   },
   "outputs": [],
   "source": [
    "#HELP FOR SUMMARY_COL\n",
    "summary_col?"
   ]
  },
  {
   "cell_type": "code",
   "execution_count": 41,
   "metadata": {
    "collapsed": false
   },
   "outputs": [
    {
     "data": {
      "text/html": [
       "<table class=\"simpletable\">\n",
       "<tr>\n",
       "                     <td></td>                    <th>RTs_binary I</th> <th>RTs_binary II</th> <th>RTs_binary III</th>\n",
       "</tr>\n",
       "<tr>\n",
       "  <th>Intercept</th>                                <td>-0.54***</td>     <td>-1.95***</td>       <td>-1.95***</td>   \n",
       "</tr>\n",
       "<tr>\n",
       "  <th></th>                                          <td>(0.02)</td>       <td>(0.05)</td>         <td>(0.06)</td>    \n",
       "</tr>\n",
       "<tr>\n",
       "  <th>URLs_binary</th>                                  <td></td>             <td></td>            <td>0.69***</td>   \n",
       "</tr>\n",
       "<tr>\n",
       "  <th></th>                                             <td></td>             <td></td>            <td>(0.03)</td>    \n",
       "</tr>\n",
       "<tr>\n",
       "  <th>from_user_followers_count</th>                 <td>0.00***</td>      <td>0.00***</td>        <td>0.00***</td>   \n",
       "</tr>\n",
       "<tr>\n",
       "  <th></th>                                          <td>(0.00)</td>       <td>(0.00)</td>         <td>(0.00)</td>    \n",
       "</tr>\n",
       "<tr>\n",
       "  <th>hashtags_binary</th>                           <td>0.95***</td>      <td>0.65***</td>        <td>0.64***</td>   \n",
       "</tr>\n",
       "<tr>\n",
       "  <th></th>                                          <td>(0.03)</td>       <td>(0.03)</td>         <td>(0.03)</td>    \n",
       "</tr>\n",
       "<tr>\n",
       "  <th>num_characters</th>                               <td></td>          <td>0.01***</td>        <td>0.01***</td>   \n",
       "</tr>\n",
       "<tr>\n",
       "  <th></th>                                             <td></td>          <td>(0.00)</td>         <td>(0.00)</td>    \n",
       "</tr>\n",
       "<tr>\n",
       "  <th>Model:</th>                                     <td>Logit</td>        <td>Logit</td>          <td>Logit</td>    \n",
       "</tr>\n",
       "<tr>\n",
       "  <th>Pseudo R-squared</th>                           <td>0.05</td>         <td>0.08</td>           <td>0.09</td>     \n",
       "</tr>\n",
       "<tr>\n",
       "  <th>LLR p-value (p-value for Chi-squared):</th>    <td>0.0000</td>       <td>0.0000</td>         <td>0.0000</td>    \n",
       "</tr>\n",
       "<tr>\n",
       "  <th>Chi-squared:</th>                              <td>1816.5</td>       <td>2719.1</td>         <td>3287.3</td>    \n",
       "</tr>\n",
       "<tr>\n",
       "  <th>N</th>                                          <td>26257</td>        <td>26257</td>          <td>26257</td>    \n",
       "</tr>\n",
       "<tr>\n",
       "  <th>Log-Likelihood:</th>                           <td>-17181.</td>      <td>-16730.</td>        <td>-16445.</td>   \n",
       "</tr>\n",
       "</table>"
      ],
      "text/plain": [
       "<class 'statsmodels.iolib.summary2.Summary'>\n",
       "\"\"\"\n",
       "\n",
       "================================================================================\n",
       "                                       RTs_binary I RTs_binary II RTs_binary III\n",
       "--------------------------------------------------------------------------------\n",
       "Intercept                              -0.54***     -1.95***      -1.95***      \n",
       "                                       (0.02)       (0.05)        (0.06)        \n",
       "URLs_binary                                                       0.69***       \n",
       "                                                                  (0.03)        \n",
       "from_user_followers_count              0.00***      0.00***       0.00***       \n",
       "                                       (0.00)       (0.00)        (0.00)        \n",
       "hashtags_binary                        0.95***      0.65***       0.64***       \n",
       "                                       (0.03)       (0.03)        (0.03)        \n",
       "num_characters                                      0.01***       0.01***       \n",
       "                                                    (0.00)        (0.00)        \n",
       "Model:                                 Logit        Logit         Logit         \n",
       "Pseudo R-squared                       0.05         0.08          0.09          \n",
       "LLR p-value (p-value for Chi-squared): 0.0000       0.0000        0.0000        \n",
       "Chi-squared:                           1816.5       2719.1        3287.3        \n",
       "N                                      26257        26257         26257         \n",
       "Log-Likelihood:                        -17181.      -16730.       -16445.       \n",
       "================================================================================\n",
       "Standard errors in parentheses.\n",
       "* p<.1, ** p<.05, ***p<.01\n",
       "\"\"\""
      ]
     },
     "execution_count": 41,
     "metadata": {},
     "output_type": "execute_result"
    }
   ],
   "source": [
    "#http://nbviewer.ipython.org/gist/vincentarelbundock/4324362\n",
    "custom_info = {'N': lambda x: str(int(x.nobs)), \n",
    "               'Pseudo R-squared': lambda x: '%.2f' % x.prsquared, \n",
    "                   # McFadden's pseudo-R-squared. `1 - (llf / llnull)`\n",
    "               'Log-Likelihood:': lambda x: \"%#8.5g\" % x.llf,   \n",
    "                   #llf : float --> Value of the loglikelihood\n",
    "               'Chi-squared:': lambda x: \"%#8.5g\" % x.llr, \n",
    "                   #llr : float --> Likelihood ratio chi-squared statistic; `-2*(llnull - llf)`\n",
    "               'LLR p-value (p-value for Chi-squared):': lambda x: \"%#8.5g\" % x.llr_pvalue, \n",
    "                   # llr_pvalue : float --> The chi-squared probability of getting a log-likelihood ratio\n",
    "                   #   statistic greater than llr.  llr has a chi-squared distribution\n",
    "                   #    with degrees of freedom `df_model`.\n",
    "               'Model:': lambda x: x.model.__class__.__name__,\n",
    "                   #'Model Family:': lambda x: x.family.__class.__name__,\n",
    "               }\n",
    "summary_col([mod_logit, mod_logit2, mod_logit3], stars=True, info_dict=custom_info, float_format='%.2f')"
   ]
  },
  {
   "cell_type": "markdown",
   "metadata": {
    "collapsed": true
   },
   "source": [
    "<br>We can now copy and paste the above table into Word or Excel and then format it for our manuscript. Alternatively, we can generate a copy of the table in HTML, LaTeX, or text format. There is no CSV option, but you can paste the HTML into http://www.convertcsv.com/html-table-to-csv.htm and get a CSV version."
   ]
  },
  {
   "cell_type": "code",
   "execution_count": 42,
   "metadata": {
    "collapsed": false
   },
   "outputs": [
    {
     "data": {
      "text/plain": [
       "'<table class=\"simpletable\">\\n<tr>\\n                     <td></td>                    <th>RTs_binary I</th> <th>RTs_binary II</th> <th>RTs_binary III</th>\\n</tr>\\n<tr>\\n  <th>Intercept</th>                                <td>-0.54***</td>     <td>-1.95***</td>       <td>-1.95***</td>   \\n</tr>\\n<tr>\\n  <th></th>                                          <td>(0.02)</td>       <td>(0.05)</td>         <td>(0.06)</td>    \\n</tr>\\n<tr>\\n  <th>URLs_binary</th>                                  <td></td>             <td></td>            <td>0.69***</td>   \\n</tr>\\n<tr>\\n  <th></th>                                             <td></td>             <td></td>            <td>(0.03)</td>    \\n</tr>\\n<tr>\\n  <th>from_user_followers_count</th>                 <td>0.00***</td>      <td>0.00***</td>        <td>0.00***</td>   \\n</tr>\\n<tr>\\n  <th></th>                                          <td>(0.00)</td>       <td>(0.00)</td>         <td>(0.00)</td>    \\n</tr>\\n<tr>\\n  <th>hashtags_binary</th>                           <td>0.95***</td>      <td>0.65***</td>        <td>0.64***</td>   \\n</tr>\\n<tr>\\n  <th></th>                                          <td>(0.03)</td>       <td>(0.03)</td>         <td>(0.03)</td>    \\n</tr>\\n<tr>\\n  <th>num_characters</th>                               <td></td>          <td>0.01***</td>        <td>0.01***</td>   \\n</tr>\\n<tr>\\n  <th></th>                                             <td></td>          <td>(0.00)</td>         <td>(0.00)</td>    \\n</tr>\\n<tr>\\n  <th>Model:</th>                                     <td>Logit</td>        <td>Logit</td>          <td>Logit</td>    \\n</tr>\\n<tr>\\n  <th>Pseudo R-squared</th>                           <td>0.05</td>         <td>0.08</td>           <td>0.09</td>     \\n</tr>\\n<tr>\\n  <th>LLR p-value (p-value for Chi-squared):</th>    <td>0.0000</td>       <td>0.0000</td>         <td>0.0000</td>    \\n</tr>\\n<tr>\\n  <th>Chi-squared:</th>                              <td>1816.5</td>       <td>2719.1</td>         <td>3287.3</td>    \\n</tr>\\n<tr>\\n  <th>N</th>                                          <td>26257</td>        <td>26257</td>          <td>26257</td>    \\n</tr>\\n<tr>\\n  <th>Log-Likelihood:</th>                           <td>-17181.</td>      <td>-16730.</td>        <td>-16445.</td>   \\n</tr>\\n</table>'"
      ]
     },
     "execution_count": 42,
     "metadata": {},
     "output_type": "execute_result"
    }
   ],
   "source": [
    "summary_col([mod_logit, mod_logit2, mod_logit3], stars=True, info_dict=custom_info, float_format='%.2f').as_html()"
   ]
  },
  {
   "cell_type": "code",
   "execution_count": 43,
   "metadata": {
    "collapsed": false
   },
   "outputs": [
    {
     "data": {
      "text/plain": [
       "'\\\\begin{table}\\n\\\\caption{}\\n\\\\begin{center}\\n\\\\begin{tabular}{lccc}\\n\\\\hline\\n                                       & RTs_binary I & RTs_binary II & RTs_binary III  \\\\\\\\\\n\\\\hline\\n\\\\hline\\n\\\\end{tabular}\\n\\\\begin{tabular}{llll}\\nIntercept                              & -0.54***     & -1.95***      & -1.95***        \\\\\\\\\\n                                       & (0.02)       & (0.05)        & (0.06)          \\\\\\\\\\nURLs_binary                            &              &               & 0.69***         \\\\\\\\\\n                                       &              &               & (0.03)          \\\\\\\\\\nfrom_user_followers_count              & 0.00***      & 0.00***       & 0.00***         \\\\\\\\\\n                                       & (0.00)       & (0.00)        & (0.00)          \\\\\\\\\\nhashtags_binary                        & 0.95***      & 0.65***       & 0.64***         \\\\\\\\\\n                                       & (0.03)       & (0.03)        & (0.03)          \\\\\\\\\\nnum_characters                         &              & 0.01***       & 0.01***         \\\\\\\\\\n                                       &              & (0.00)        & (0.00)          \\\\\\\\\\nModel:                                 & Logit        & Logit         & Logit           \\\\\\\\\\nPseudo R-squared                       & 0.05         & 0.08          & 0.09            \\\\\\\\\\nLLR p-value (p-value for Chi-squared): & 0.0000       & 0.0000        & 0.0000          \\\\\\\\\\nChi-squared:                           & 1816.5       & 2719.1        & 3287.3          \\\\\\\\\\nN                                      & 26257        & 26257         & 26257           \\\\\\\\\\nLog-Likelihood:                        & -17181.      & -16730.       & -16445.         \\\\\\\\\\n\\\\hline\\n\\\\end{tabular}\\n\\\\end{center}\\n\\\\end{table}'"
      ]
     },
     "execution_count": 43,
     "metadata": {},
     "output_type": "execute_result"
    }
   ],
   "source": [
    "summary_col([mod_logit, mod_logit2, mod_logit3], stars=True, info_dict=custom_info, float_format='%.2f').as_latex()"
   ]
  },
  {
   "cell_type": "code",
   "execution_count": 44,
   "metadata": {
    "collapsed": false
   },
   "outputs": [
    {
     "data": {
      "text/plain": [
       "'\\n================================================================================\\n                                       RTs_binary I RTs_binary II RTs_binary III\\n--------------------------------------------------------------------------------\\nIntercept                              -0.54***     -1.95***      -1.95***      \\n                                       (0.02)       (0.05)        (0.06)        \\nURLs_binary                                                       0.69***       \\n                                                                  (0.03)        \\nfrom_user_followers_count              0.00***      0.00***       0.00***       \\n                                       (0.00)       (0.00)        (0.00)        \\nhashtags_binary                        0.95***      0.65***       0.64***       \\n                                       (0.03)       (0.03)        (0.03)        \\nnum_characters                                      0.01***       0.01***       \\n                                                    (0.00)        (0.00)        \\nModel:                                 Logit        Logit         Logit         \\nPseudo R-squared                       0.05         0.08          0.09          \\nLLR p-value (p-value for Chi-squared): 0.0000       0.0000        0.0000        \\nChi-squared:                           1816.5       2719.1        3287.3        \\nN                                      26257        26257         26257         \\nLog-Likelihood:                        -17181.      -16730.       -16445.       \\n================================================================================\\nStandard errors in parentheses.\\n* p<.1, ** p<.05, ***p<.01'"
      ]
     },
     "execution_count": 44,
     "metadata": {},
     "output_type": "execute_result"
    }
   ],
   "source": [
    "summary_col([mod_logit, mod_logit2, mod_logit3], stars=True, info_dict=custom_info, float_format='%.2f').as_text()"
   ]
  },
  {
   "cell_type": "markdown",
   "metadata": {},
   "source": [
    "<br>\n",
    "## Generating and Plotting Predicted Probabilities\n",
    "\n",
    "We can now get to the culmination of our analyses. In any statistical analysis, you want to clearly spell out the practical effect of your variables of interest. One of the beautiful things about a logit analysis is that we can graphically display the `predicted probabilities`; specifically, we can show a plot of the probabilities of receiving a retweet that are predicted by our model, holding all other values constant at some meaningful level. In so doing, we are able to present the effects of our variables of interest in a way that is intuitively easy for most readers to grasp. "
   ]
  },
  {
   "cell_type": "markdown",
   "metadata": {},
   "source": [
    "First, we have to create another version of our data. The end point should be easy to understand but the code might not be. What we are going to do is to recreate the dataset with a number of different logical combinations of our two independent variables. This will allow us to see how the predicted probability of receiving a retweet increases or decreases across different variables. "
   ]
  },
  {
   "cell_type": "markdown",
   "metadata": {},
   "source": [
    "First, let's manually add an intercept to our dataframe."
   ]
  },
  {
   "cell_type": "code",
   "execution_count": 45,
   "metadata": {
    "collapsed": false
   },
   "outputs": [],
   "source": [
    "df['intercept'] = 1.0"
   ]
  },
  {
   "cell_type": "markdown",
   "metadata": {},
   "source": [
    "We don't need all of the possible values of `from_user_followers_count` for our plots. So to make it simpler, let's create a range of values, let's call it `followers`, that includes 10 values: our minimum value, our maximum value, and eight linearly spaced follower values between the observed minimum and maximum values."
   ]
  },
  {
   "cell_type": "code",
   "execution_count": 47,
   "metadata": {
    "collapsed": false
   },
   "outputs": [
    {
     "name": "stdout",
     "output_type": "stream",
     "text": [
      "[  5.80000000e+01   4.72617778e+04   9.44655556e+04   1.41669333e+05\n",
      "   1.88873111e+05   2.36076889e+05   2.83280667e+05   3.30484444e+05\n",
      "   3.77688222e+05   4.24892000e+05]\n"
     ]
    }
   ],
   "source": [
    "followers = np.linspace(df['from_user_followers_count'].min(), df['from_user_followers_count'].max(), 10)\n",
    "print followers"
   ]
  },
  {
   "cell_type": "markdown",
   "metadata": {},
   "source": [
    "Now we'll generate the combinations using a helper function called `cartesian` that I found on the `yhat` site and originally came from here: http://stackoverflow.com/questions/1208118/using-numpy-to-build-an-array-of-all-combinations-of-two-arrays"
   ]
  },
  {
   "cell_type": "code",
   "execution_count": 48,
   "metadata": {
    "collapsed": false
   },
   "outputs": [],
   "source": [
    "def cartesian(arrays, out=None):\n",
    "    \"\"\"\n",
    "    Generate a cartesian product of input arrays.\n",
    "\n",
    "    Parameters\n",
    "    ----------\n",
    "    arrays : list of array-like\n",
    "        1-D arrays to form the cartesian product of.\n",
    "    out : ndarray\n",
    "        Array to place the cartesian product in.\n",
    "\n",
    "    Returns\n",
    "    -------\n",
    "    out : ndarray\n",
    "        2-D array of shape (M, len(arrays)) containing cartesian products\n",
    "        formed of input arrays.\n",
    "\n",
    "    Examples\n",
    "    --------\n",
    "    >>> cartesian(([1, 2, 3], [4, 5], [6, 7]))\n",
    "    array([[1, 4, 6],\n",
    "           [1, 4, 7],\n",
    "           [1, 5, 6],\n",
    "           [1, 5, 7],\n",
    "           [2, 4, 6],\n",
    "           [2, 4, 7],\n",
    "           [2, 5, 6],\n",
    "           [2, 5, 7],\n",
    "           [3, 4, 6],\n",
    "           [3, 4, 7],\n",
    "           [3, 5, 6],\n",
    "           [3, 5, 7]])\n",
    "\n",
    "    \"\"\"\n",
    "\n",
    "    arrays = [np.asarray(x) for x in arrays]\n",
    "    dtype = arrays[0].dtype\n",
    "\n",
    "    n = np.prod([x.size for x in arrays])\n",
    "    if out is None:\n",
    "        out = np.zeros([n, len(arrays)], dtype=dtype)\n",
    "\n",
    "    m = n / arrays[0].size\n",
    "    out[:,0] = np.repeat(arrays[0], m)\n",
    "    if arrays[1:]:\n",
    "        cartesian(arrays[1:], out=out[0:m,1:])\n",
    "        for j in xrange(1, arrays[0].size):\n",
    "            out[j*m:(j+1)*m,1:] = out[0:m,1:]\n",
    "    return out"
   ]
  },
  {
   "cell_type": "markdown",
   "metadata": {},
   "source": [
    "<br>We then invoke the `cartesian` function for three variables -- a constant term, our `followers` array, and values of 0 and 1. This is how to create a dataframe where values of all other variables (in our case, the `intercept` and `from_user_followers_count`) are repeated for different values of `[0,1]`. Note that we're not directly tapping into our dataframe `df` here; instead, we are creating a dataset that includes all meaningful combinations for the `hashtags_binary` and our 10 linearly spaced observed values of `from_user_followers_count`."
   ]
  },
  {
   "cell_type": "code",
   "execution_count": 49,
   "metadata": {
    "collapsed": false
   },
   "outputs": [
    {
     "data": {
      "text/html": [
       "<div>\n",
       "<table border=\"1\" class=\"dataframe\">\n",
       "  <thead>\n",
       "    <tr style=\"text-align: right;\">\n",
       "      <th></th>\n",
       "      <th>intercept</th>\n",
       "      <th>from_user_followers_count</th>\n",
       "      <th>hashtags_binary</th>\n",
       "    </tr>\n",
       "  </thead>\n",
       "  <tbody>\n",
       "    <tr>\n",
       "      <th>0</th>\n",
       "      <td>1.00</td>\n",
       "      <td>58.00</td>\n",
       "      <td>0.00</td>\n",
       "    </tr>\n",
       "    <tr>\n",
       "      <th>1</th>\n",
       "      <td>1.00</td>\n",
       "      <td>58.00</td>\n",
       "      <td>1.00</td>\n",
       "    </tr>\n",
       "    <tr>\n",
       "      <th>2</th>\n",
       "      <td>1.00</td>\n",
       "      <td>47261.78</td>\n",
       "      <td>0.00</td>\n",
       "    </tr>\n",
       "    <tr>\n",
       "      <th>3</th>\n",
       "      <td>1.00</td>\n",
       "      <td>47261.78</td>\n",
       "      <td>1.00</td>\n",
       "    </tr>\n",
       "    <tr>\n",
       "      <th>4</th>\n",
       "      <td>1.00</td>\n",
       "      <td>94465.56</td>\n",
       "      <td>0.00</td>\n",
       "    </tr>\n",
       "    <tr>\n",
       "      <th>5</th>\n",
       "      <td>1.00</td>\n",
       "      <td>94465.56</td>\n",
       "      <td>1.00</td>\n",
       "    </tr>\n",
       "    <tr>\n",
       "      <th>6</th>\n",
       "      <td>1.00</td>\n",
       "      <td>141669.33</td>\n",
       "      <td>0.00</td>\n",
       "    </tr>\n",
       "    <tr>\n",
       "      <th>7</th>\n",
       "      <td>1.00</td>\n",
       "      <td>141669.33</td>\n",
       "      <td>1.00</td>\n",
       "    </tr>\n",
       "    <tr>\n",
       "      <th>8</th>\n",
       "      <td>1.00</td>\n",
       "      <td>188873.11</td>\n",
       "      <td>0.00</td>\n",
       "    </tr>\n",
       "    <tr>\n",
       "      <th>9</th>\n",
       "      <td>1.00</td>\n",
       "      <td>188873.11</td>\n",
       "      <td>1.00</td>\n",
       "    </tr>\n",
       "    <tr>\n",
       "      <th>10</th>\n",
       "      <td>1.00</td>\n",
       "      <td>236076.89</td>\n",
       "      <td>0.00</td>\n",
       "    </tr>\n",
       "    <tr>\n",
       "      <th>11</th>\n",
       "      <td>1.00</td>\n",
       "      <td>236076.89</td>\n",
       "      <td>1.00</td>\n",
       "    </tr>\n",
       "    <tr>\n",
       "      <th>12</th>\n",
       "      <td>1.00</td>\n",
       "      <td>283280.67</td>\n",
       "      <td>0.00</td>\n",
       "    </tr>\n",
       "    <tr>\n",
       "      <th>13</th>\n",
       "      <td>1.00</td>\n",
       "      <td>283280.67</td>\n",
       "      <td>1.00</td>\n",
       "    </tr>\n",
       "    <tr>\n",
       "      <th>14</th>\n",
       "      <td>1.00</td>\n",
       "      <td>330484.44</td>\n",
       "      <td>0.00</td>\n",
       "    </tr>\n",
       "    <tr>\n",
       "      <th>15</th>\n",
       "      <td>1.00</td>\n",
       "      <td>330484.44</td>\n",
       "      <td>1.00</td>\n",
       "    </tr>\n",
       "    <tr>\n",
       "      <th>16</th>\n",
       "      <td>1.00</td>\n",
       "      <td>377688.22</td>\n",
       "      <td>0.00</td>\n",
       "    </tr>\n",
       "    <tr>\n",
       "      <th>17</th>\n",
       "      <td>1.00</td>\n",
       "      <td>377688.22</td>\n",
       "      <td>1.00</td>\n",
       "    </tr>\n",
       "    <tr>\n",
       "      <th>18</th>\n",
       "      <td>1.00</td>\n",
       "      <td>424892.00</td>\n",
       "      <td>0.00</td>\n",
       "    </tr>\n",
       "    <tr>\n",
       "      <th>19</th>\n",
       "      <td>1.00</td>\n",
       "      <td>424892.00</td>\n",
       "      <td>1.00</td>\n",
       "    </tr>\n",
       "  </tbody>\n",
       "</table>\n",
       "</div>"
      ],
      "text/plain": [
       "    intercept  from_user_followers_count  hashtags_binary\n",
       "0        1.00                      58.00             0.00\n",
       "1        1.00                      58.00             1.00\n",
       "2        1.00                   47261.78             0.00\n",
       "3        1.00                   47261.78             1.00\n",
       "4        1.00                   94465.56             0.00\n",
       "5        1.00                   94465.56             1.00\n",
       "6        1.00                  141669.33             0.00\n",
       "7        1.00                  141669.33             1.00\n",
       "8        1.00                  188873.11             0.00\n",
       "9        1.00                  188873.11             1.00\n",
       "10       1.00                  236076.89             0.00\n",
       "11       1.00                  236076.89             1.00\n",
       "12       1.00                  283280.67             0.00\n",
       "13       1.00                  283280.67             1.00\n",
       "14       1.00                  330484.44             0.00\n",
       "15       1.00                  330484.44             1.00\n",
       "16       1.00                  377688.22             0.00\n",
       "17       1.00                  377688.22             1.00\n",
       "18       1.00                  424892.00             0.00\n",
       "19       1.00                  424892.00             1.00"
      ]
     },
     "execution_count": 49,
     "metadata": {},
     "output_type": "execute_result"
    }
   ],
   "source": [
    "combos = pd.DataFrame(cartesian([[1.], followers, [0,1]]))\n",
    "combos.columns = ['intercept', 'from_user_followers_count', 'hashtags_binary']\n",
    "combos "
   ]
  },
  {
   "cell_type": "markdown",
   "metadata": {},
   "source": [
    "<br>We then use the `predict` command to generate our predicted probabilities. Note that these probabilities are based on our `mod_logit` results. For instance, the value of `0.37` for `retweets_pred` in the first row tells us that with a 58 followers and no hashtag, our logit regression predicts there will be a 37% probability that the tweet will be retweeted. The second row value, in turn, suggests a 60% probability if a company with 58 followers includes a hashtag."
   ]
  },
  {
   "cell_type": "code",
   "execution_count": 50,
   "metadata": {
    "collapsed": false
   },
   "outputs": [
    {
     "data": {
      "text/html": [
       "<div>\n",
       "<table border=\"1\" class=\"dataframe\">\n",
       "  <thead>\n",
       "    <tr style=\"text-align: right;\">\n",
       "      <th></th>\n",
       "      <th>intercept</th>\n",
       "      <th>from_user_followers_count</th>\n",
       "      <th>hashtags_binary</th>\n",
       "      <th>retweets_pred</th>\n",
       "    </tr>\n",
       "  </thead>\n",
       "  <tbody>\n",
       "    <tr>\n",
       "      <th>0</th>\n",
       "      <td>1.00</td>\n",
       "      <td>58.00</td>\n",
       "      <td>0.00</td>\n",
       "      <td>0.37</td>\n",
       "    </tr>\n",
       "    <tr>\n",
       "      <th>1</th>\n",
       "      <td>1.00</td>\n",
       "      <td>58.00</td>\n",
       "      <td>1.00</td>\n",
       "      <td>0.60</td>\n",
       "    </tr>\n",
       "    <tr>\n",
       "      <th>2</th>\n",
       "      <td>1.00</td>\n",
       "      <td>47261.78</td>\n",
       "      <td>0.00</td>\n",
       "      <td>0.40</td>\n",
       "    </tr>\n",
       "    <tr>\n",
       "      <th>3</th>\n",
       "      <td>1.00</td>\n",
       "      <td>47261.78</td>\n",
       "      <td>1.00</td>\n",
       "      <td>0.63</td>\n",
       "    </tr>\n",
       "    <tr>\n",
       "      <th>4</th>\n",
       "      <td>1.00</td>\n",
       "      <td>94465.56</td>\n",
       "      <td>0.00</td>\n",
       "      <td>0.44</td>\n",
       "    </tr>\n",
       "  </tbody>\n",
       "</table>\n",
       "</div>"
      ],
      "text/plain": [
       "   intercept  from_user_followers_count  hashtags_binary  retweets_pred\n",
       "0       1.00                      58.00             0.00           0.37\n",
       "1       1.00                      58.00             1.00           0.60\n",
       "2       1.00                   47261.78             0.00           0.40\n",
       "3       1.00                   47261.78             1.00           0.63\n",
       "4       1.00                   94465.56             0.00           0.44"
      ]
     },
     "execution_count": 50,
     "metadata": {},
     "output_type": "execute_result"
    }
   ],
   "source": [
    "combos['retweets_pred'] = mod_logit.predict(combos)\n",
    "combos.head()"
   ]
  },
  {
   "cell_type": "markdown",
   "metadata": {},
   "source": [
    "#### Plotting Method #1 - Custom, Step-by-Step Grouping and Plotting"
   ]
  },
  {
   "cell_type": "markdown",
   "metadata": {},
   "source": [
    "After generating our predictions we can visualize the results with a few plots. First we are going to create a pivot table -- essentially, the same as `combos` except we're indexing on two variables. This makes the plotting easier."
   ]
  },
  {
   "cell_type": "code",
   "execution_count": 51,
   "metadata": {
    "collapsed": false
   },
   "outputs": [
    {
     "name": "stdout",
     "output_type": "stream",
     "text": [
      "20\n"
     ]
    },
    {
     "data": {
      "text/html": [
       "<div>\n",
       "<table border=\"1\" class=\"dataframe\">\n",
       "  <thead>\n",
       "    <tr style=\"text-align: right;\">\n",
       "      <th></th>\n",
       "      <th></th>\n",
       "      <th>retweets_pred</th>\n",
       "    </tr>\n",
       "    <tr>\n",
       "      <th>from_user_followers_count</th>\n",
       "      <th>hashtags_binary</th>\n",
       "      <th></th>\n",
       "    </tr>\n",
       "  </thead>\n",
       "  <tbody>\n",
       "    <tr>\n",
       "      <th rowspan=\"2\" valign=\"top\">58.00</th>\n",
       "      <th>0.00</th>\n",
       "      <td>0.37</td>\n",
       "    </tr>\n",
       "    <tr>\n",
       "      <th>1.00</th>\n",
       "      <td>0.60</td>\n",
       "    </tr>\n",
       "    <tr>\n",
       "      <th rowspan=\"2\" valign=\"top\">47261.78</th>\n",
       "      <th>0.00</th>\n",
       "      <td>0.40</td>\n",
       "    </tr>\n",
       "    <tr>\n",
       "      <th>1.00</th>\n",
       "      <td>0.63</td>\n",
       "    </tr>\n",
       "    <tr>\n",
       "      <th>94465.56</th>\n",
       "      <th>0.00</th>\n",
       "      <td>0.44</td>\n",
       "    </tr>\n",
       "  </tbody>\n",
       "</table>\n",
       "</div>"
      ],
      "text/plain": [
       "                                           retweets_pred\n",
       "from_user_followers_count hashtags_binary               \n",
       "58.00                     0.00                      0.37\n",
       "                          1.00                      0.60\n",
       "47261.78                  0.00                      0.40\n",
       "                          1.00                      0.63\n",
       "94465.56                  0.00                      0.44"
      ]
     },
     "execution_count": 51,
     "metadata": {},
     "output_type": "execute_result"
    }
   ],
   "source": [
    "grouped = pd.pivot_table(combos, values=['retweets_pred'], index=['from_user_followers_count', 'hashtags_binary'], aggfunc=np.mean)\n",
    "print len(grouped)\n",
    "grouped.head()"
   ]
  },
  {
   "cell_type": "markdown",
   "metadata": {},
   "source": [
    "<br>Now we can plot each of the levels."
   ]
  },
  {
   "cell_type": "code",
   "execution_count": 52,
   "metadata": {
    "collapsed": false
   },
   "outputs": [
    {
     "data": {
      "image/png": "[encoded data removed]",
      "text/plain": [
       "<matplotlib.figure.Figure at 0x1101d8f50>"
      ]
     },
     "metadata": {},
     "output_type": "display_data"
    }
   ],
   "source": [
    "colors = 'rbgyrbgy'\n",
    "for col in combos.hashtags_binary.unique():\n",
    "    plt_data = grouped.ix[grouped.index.get_level_values(1)==col]\n",
    "    plt.plot(plt_data.index.get_level_values(0), plt_data['retweets_pred'], color=colors[int(col)])\n",
    "\n",
    "plt.xlabel('# Followers', labelpad=15)\n",
    "plt.ylabel(\"P(share=1)\", labelpad=15)\n",
    "plt.legend(['no', 'yes'], loc='upper left', title='Hashtag Included')\n",
    "plt.title(\"Prob(RT=1) isolating \" + \"Number of Followers\" + \" and hashtags_binary\", y=1.05)\n",
    "savefig('predicted probabilities example (red-blue).png', bbox_inches='tight', dpi=300, format='png')\n",
    "plt.show()"
   ]
  },
  {
   "cell_type": "markdown",
   "metadata": {},
   "source": [
    "<br>Can you see how simplistic yet powerful such a plot is? Here we can clearly see the effects of our two variables. First, for `from_user_followers_count`, we can see a clear positive relationship between the number of followers and the probability of a tweet being retweeted. We can also see a clear difference in the predicted probabilities for a tweet with and without a hashtag across the entire observed range of number of followers. \n",
    "\n",
    "Without including a hashtag, a company needs to have around 180,000 followers before one of its tweets has a 50/50 chance of being retweeted; in contrast, any tweet with a hashtag stands at least a 60% chance of being retweeted, and this steadily increases to 84% at the maximum observed number of followers."
   ]
  },
  {
   "cell_type": "markdown",
   "metadata": {},
   "source": [
    "#### Plotting Method #2 - Formula"
   ]
  },
  {
   "cell_type": "markdown",
   "metadata": {},
   "source": [
    "If we want to run these plots on multiple variables we can put the above steps together into one function. Thanks to `yhat` for the function: http://blog.yhathq.com/posts/logistic-regression-and-python.html"
   ]
  },
  {
   "cell_type": "code",
   "execution_count": 53,
   "metadata": {
    "collapsed": true
   },
   "outputs": [],
   "source": [
    "def isolate_and_plot(variable):\n",
    "    # isolate gre and class rank\n",
    "    \n",
    "    #NOTE v. 0.16 OF PANDAS REQUIRES 'index=' rather than 'rows=' \n",
    "    #grouped = pd.pivot_table(combos, values=['retweets_pred'], rows=[variable, 'hashtags_binary'], aggfunc=np.mean)\n",
    "    grouped = pd.pivot_table(combos, values=['retweets_pred'], index=[variable, 'hashtags_binary'], aggfunc=np.mean)\n",
    "\n",
    "    colors = 'rbgyrbgy'\n",
    "    for col in combos.hashtags_binary.unique():\n",
    "        plt_data = grouped.ix[grouped.index.get_level_values(1)==col]\n",
    "        plt.plot(plt_data.index.get_level_values(0), plt_data['retweets_pred'],\n",
    "                color=colors[int(col)])\n",
    " \n",
    "    plt.xlabel(variable, labelpad=15)\n",
    "    plt.ylabel(\"P(share=1)\", labelpad=15)\n",
    "    plt.legend(['no', 'yes'], loc='upper left', title='Hashtag Included')\n",
    "    plt.title(\"Prob(share=1) isolating \" + variable + \" and hashtags_binary\", y=1.05)\n",
    "    plt.show()"
   ]
  },
  {
   "cell_type": "markdown",
   "metadata": {},
   "source": [
    "<br>We then invoke the function as follows to produce the plot for our chosen variable."
   ]
  },
  {
   "cell_type": "code",
   "execution_count": 54,
   "metadata": {
    "collapsed": false
   },
   "outputs": [
    {
     "data": {
      "image/png": "[encoded data removed]",
      "text/plain": [
       "<matplotlib.figure.Figure at 0x1101cfdd0>"
      ]
     },
     "metadata": {},
     "output_type": "display_data"
    }
   ],
   "source": [
    "isolate_and_plot('from_user_followers_count')"
   ]
  },
  {
   "cell_type": "markdown",
   "metadata": {},
   "source": [
    "#### Plotting Method #3: Create Separate Dataframes for each Condition and Plot Individually\n",
    "\n",
    "This method might be easier for some people to follow. Notice that in grouped we have two indices; our command `grouped.index.get_level_values(1)==1` is asking for all those values where our second index, `hashtags_binary` has values of 1. If we want to get the first index we would write `grouped.index.get_level_values(0)==`."
   ]
  },
  {
   "cell_type": "code",
   "execution_count": 55,
   "metadata": {
    "collapsed": true
   },
   "outputs": [],
   "source": [
    "plt_data1 = grouped.ix[grouped.index.get_level_values(1)==1]\n",
    "plt_data0 = grouped.ix[grouped.index.get_level_values(1)==0]"
   ]
  },
  {
   "cell_type": "code",
   "execution_count": 57,
   "metadata": {
    "collapsed": false
   },
   "outputs": [
    {
     "data": {
      "text/html": [
       "<div>\n",
       "<table border=\"1\" class=\"dataframe\">\n",
       "  <thead>\n",
       "    <tr style=\"text-align: right;\">\n",
       "      <th></th>\n",
       "      <th></th>\n",
       "      <th>retweets_pred</th>\n",
       "    </tr>\n",
       "    <tr>\n",
       "      <th>from_user_followers_count</th>\n",
       "      <th>hashtags_binary</th>\n",
       "      <th></th>\n",
       "    </tr>\n",
       "  </thead>\n",
       "  <tbody>\n",
       "    <tr>\n",
       "      <th>58.00</th>\n",
       "      <th>0.00</th>\n",
       "      <td>0.37</td>\n",
       "    </tr>\n",
       "    <tr>\n",
       "      <th>47261.78</th>\n",
       "      <th>0.00</th>\n",
       "      <td>0.40</td>\n",
       "    </tr>\n",
       "    <tr>\n",
       "      <th>94465.56</th>\n",
       "      <th>0.00</th>\n",
       "      <td>0.44</td>\n",
       "    </tr>\n",
       "    <tr>\n",
       "      <th>141669.33</th>\n",
       "      <th>0.00</th>\n",
       "      <td>0.47</td>\n",
       "    </tr>\n",
       "    <tr>\n",
       "      <th>188873.11</th>\n",
       "      <th>0.00</th>\n",
       "      <td>0.51</td>\n",
       "    </tr>\n",
       "    <tr>\n",
       "      <th>236076.89</th>\n",
       "      <th>0.00</th>\n",
       "      <td>0.54</td>\n",
       "    </tr>\n",
       "    <tr>\n",
       "      <th>283280.67</th>\n",
       "      <th>0.00</th>\n",
       "      <td>0.58</td>\n",
       "    </tr>\n",
       "    <tr>\n",
       "      <th>330484.44</th>\n",
       "      <th>0.00</th>\n",
       "      <td>0.61</td>\n",
       "    </tr>\n",
       "    <tr>\n",
       "      <th>377688.22</th>\n",
       "      <th>0.00</th>\n",
       "      <td>0.65</td>\n",
       "    </tr>\n",
       "    <tr>\n",
       "      <th>424892.00</th>\n",
       "      <th>0.00</th>\n",
       "      <td>0.68</td>\n",
       "    </tr>\n",
       "  </tbody>\n",
       "</table>\n",
       "</div>"
      ],
      "text/plain": [
       "                                           retweets_pred\n",
       "from_user_followers_count hashtags_binary               \n",
       "58.00                     0.00                      0.37\n",
       "47261.78                  0.00                      0.40\n",
       "94465.56                  0.00                      0.44\n",
       "141669.33                 0.00                      0.47\n",
       "188873.11                 0.00                      0.51\n",
       "236076.89                 0.00                      0.54\n",
       "283280.67                 0.00                      0.58\n",
       "330484.44                 0.00                      0.61\n",
       "377688.22                 0.00                      0.65\n",
       "424892.00                 0.00                      0.68"
      ]
     },
     "execution_count": 57,
     "metadata": {},
     "output_type": "execute_result"
    }
   ],
   "source": [
    "plt_data0"
   ]
  },
  {
   "cell_type": "code",
   "execution_count": 58,
   "metadata": {
    "collapsed": false
   },
   "outputs": [
    {
     "data": {
      "text/html": [
       "<div>\n",
       "<table border=\"1\" class=\"dataframe\">\n",
       "  <thead>\n",
       "    <tr style=\"text-align: right;\">\n",
       "      <th></th>\n",
       "      <th></th>\n",
       "      <th>retweets_pred</th>\n",
       "    </tr>\n",
       "    <tr>\n",
       "      <th>from_user_followers_count</th>\n",
       "      <th>hashtags_binary</th>\n",
       "      <th></th>\n",
       "    </tr>\n",
       "  </thead>\n",
       "  <tbody>\n",
       "    <tr>\n",
       "      <th>58.00</th>\n",
       "      <th>1.00</th>\n",
       "      <td>0.60</td>\n",
       "    </tr>\n",
       "    <tr>\n",
       "      <th>47261.78</th>\n",
       "      <th>1.00</th>\n",
       "      <td>0.63</td>\n",
       "    </tr>\n",
       "    <tr>\n",
       "      <th>94465.56</th>\n",
       "      <th>1.00</th>\n",
       "      <td>0.67</td>\n",
       "    </tr>\n",
       "    <tr>\n",
       "      <th>141669.33</th>\n",
       "      <th>1.00</th>\n",
       "      <td>0.70</td>\n",
       "    </tr>\n",
       "    <tr>\n",
       "      <th>188873.11</th>\n",
       "      <th>1.00</th>\n",
       "      <td>0.73</td>\n",
       "    </tr>\n",
       "    <tr>\n",
       "      <th>236076.89</th>\n",
       "      <th>1.00</th>\n",
       "      <td>0.75</td>\n",
       "    </tr>\n",
       "    <tr>\n",
       "      <th>283280.67</th>\n",
       "      <th>1.00</th>\n",
       "      <td>0.78</td>\n",
       "    </tr>\n",
       "    <tr>\n",
       "      <th>330484.44</th>\n",
       "      <th>1.00</th>\n",
       "      <td>0.80</td>\n",
       "    </tr>\n",
       "    <tr>\n",
       "      <th>377688.22</th>\n",
       "      <th>1.00</th>\n",
       "      <td>0.83</td>\n",
       "    </tr>\n",
       "    <tr>\n",
       "      <th>424892.00</th>\n",
       "      <th>1.00</th>\n",
       "      <td>0.84</td>\n",
       "    </tr>\n",
       "  </tbody>\n",
       "</table>\n",
       "</div>"
      ],
      "text/plain": [
       "                                           retweets_pred\n",
       "from_user_followers_count hashtags_binary               \n",
       "58.00                     1.00                      0.60\n",
       "47261.78                  1.00                      0.63\n",
       "94465.56                  1.00                      0.67\n",
       "141669.33                 1.00                      0.70\n",
       "188873.11                 1.00                      0.73\n",
       "236076.89                 1.00                      0.75\n",
       "283280.67                 1.00                      0.78\n",
       "330484.44                 1.00                      0.80\n",
       "377688.22                 1.00                      0.83\n",
       "424892.00                 1.00                      0.84"
      ]
     },
     "execution_count": 58,
     "metadata": {},
     "output_type": "execute_result"
    }
   ],
   "source": [
    "plt_data1"
   ]
  },
  {
   "cell_type": "code",
   "execution_count": 60,
   "metadata": {
    "collapsed": false
   },
   "outputs": [
    {
     "data": {
      "image/png": "[encoded data removed]",
      "text/plain": [
       "<matplotlib.figure.Figure at 0x10c141b10>"
      ]
     },
     "metadata": {},
     "output_type": "display_data"
    }
   ],
   "source": [
    "plt.plot(plt_data0.index.get_level_values(0), plt_data0['retweets_pred'], alpha=0.65)\n",
    "plt.plot(plt_data1.index.get_level_values(0), plt_data1['retweets_pred'], alpha=0.65)\n",
    "plt.xlabel('# Followers', labelpad=15)\n",
    "plt.ylabel(\"P(retweet=1)\", labelpad=15)\n",
    "plt.legend(['no', 'yes'], loc='upper left', title='Hashtag Included')\n",
    "plt.title(\"Prob(RT=1) isolating \" + \"Number of Followers\" + \" and Inclusion of Hashtags\",  y=1.05)\n",
    "yticks(fontsize = 10)\n",
    "xticks(fontsize = 10)\n",
    "savefig('predicted probabilities example (seaborn).png', bbox_inches='tight', dpi=300, format='png')"
   ]
  },
  {
   "cell_type": "markdown",
   "metadata": {
    "collapsed": true
   },
   "source": [
    "<br>Let's repeat with `mpl` style."
   ]
  },
  {
   "cell_type": "code",
   "execution_count": 234,
   "metadata": {
    "collapsed": false
   },
   "outputs": [
    {
     "data": {
      "text/plain": [
       "(array([      0.,   50000.,  100000.,  150000.,  200000.,  250000.,\n",
       "         300000.,  350000.,  400000.,  450000.]),\n",
       " <a list of 10 Text xticklabel objects>)"
      ]
     },
     "execution_count": 234,
     "metadata": {},
     "output_type": "execute_result"
    },
    {
     "data": {
      "image/png": "[encoded data removed]",
      "text/plain": [
       "<matplotlib.figure.Figure at 0x117fe1490>"
      ]
     },
     "metadata": {},
     "output_type": "display_data"
    }
   ],
   "source": [
    "pd.set_option('display.mpl_style', 'default') # MPL style\n",
    "plt.rcParams['figure.figsize'] = (15, 5)\n",
    "\n",
    "plt.plot(plt_data0.index.get_level_values(0), plt_data0['retweets_pred'], alpha=0.95)\n",
    "plt.plot(plt_data1.index.get_level_values(0), plt_data1['retweets_pred'], alpha=0.95)\n",
    "plt.xlabel('# Followers', labelpad=15)\n",
    "plt.ylabel(\"P(retweet=1)\", labelpad=15)\n",
    "plt.legend(['no', 'yes'], loc='upper left', title='Hashtag Included')\n",
    "plt.title(\"Prob(RT=1) isolating \" + \"Number of Followers\" + \" and Inclusion of Hashtags\",  y=1.05)\n",
    "yticks(fontsize = 10)\n",
    "xticks(fontsize = 10)\n",
    "savefig('predicted probabilities example (mpl).png', bbox_inches='tight', dpi=300, format='png')"
   ]
  },
  {
   "cell_type": "markdown",
   "metadata": {},
   "source": [
    "<br>Now with `ggplot` style."
   ]
  },
  {
   "cell_type": "code",
   "execution_count": 61,
   "metadata": {
    "collapsed": false
   },
   "outputs": [
    {
     "data": {
      "image/png": "[encoded data removed]",
      "text/plain": [
       "<matplotlib.figure.Figure at 0x10c567850>"
      ]
     },
     "metadata": {},
     "output_type": "display_data"
    }
   ],
   "source": [
    "mpl.style.use('ggplot')\n",
    "\n",
    "plt.plot(plt_data0.index.get_level_values(0), plt_data0['retweets_pred'], alpha=0.75)\n",
    "plt.plot(plt_data1.index.get_level_values(0), plt_data1['retweets_pred'], alpha=0.75)\n",
    "plt.xlabel('# Followers', labelpad=15)\n",
    "plt.ylabel(\"P(retweet=1)\", labelpad=15)\n",
    "plt.legend(['no', 'yes'], loc='upper left', title='Hashtag Included')\n",
    "plt.title(\"Prob(RT=1) isolating \" + \"Number of Followers\" + \" and Inclusion of Hashtags\",  y=1.05)\n",
    "yticks(fontsize = 10)\n",
    "xticks(fontsize = 10)\n",
    "savefig('predicted probabilities example (ggplot).png', bbox_inches='tight', dpi=300, format='png')"
   ]
  },
  {
   "cell_type": "markdown",
   "metadata": {},
   "source": [
    "<br>And finally with `538` style."
   ]
  },
  {
   "cell_type": "code",
   "execution_count": 62,
   "metadata": {
    "collapsed": false
   },
   "outputs": [
    {
     "data": {
      "image/png": "[encoded data removed]",
      "text/plain": [
       "<matplotlib.figure.Figure at 0x10c64ce90>"
      ]
     },
     "metadata": {},
     "output_type": "display_data"
    }
   ],
   "source": [
    "mpl.style.use('fivethirtyeight')\n",
    "\n",
    "plt.plot(plt_data0.index.get_level_values(0), plt_data0['retweets_pred'], alpha=0.75)\n",
    "plt.plot(plt_data1.index.get_level_values(0), plt_data1['retweets_pred'], alpha=0.75)\n",
    "plt.xlabel('# Followers', labelpad=15)\n",
    "plt.ylabel(\"P(retweet=1)\", labelpad=15)\n",
    "plt.legend(['no', 'yes'], loc='upper left', title='Hashtag Included')\n",
    "plt.title(\"Prob(RT=1) isolating \" + \"Number of Followers\" + \" and Inclusion of Hashtags\",  y=1.05)\n",
    "yticks(fontsize = 12)\n",
    "xticks(fontsize = 12)\n",
    "savefig('predicted probabilities example (538).png', bbox_inches='tight', dpi=300, format='png')"
   ]
  },
  {
   "cell_type": "markdown",
   "metadata": {},
   "source": [
    "<br>\n",
    "\n",
    "For more Notebooks as well as additional Python and Big Data tutorials, please visit http://social-metrics.org or follow me on Twitter <a href='https://twitter.com/gregorysaxton'>@gregorysaxton</a>"
   ]
  }
 ],
 "metadata": {
  "kernelspec": {
   "display_name": "Python 2",
   "language": "python",
   "name": "python2"
  },
  "language_info": {
   "codemirror_mode": {
    "name": "ipython",
    "version": 2
   },
   "file_extension": ".py",
   "mimetype": "text/x-python",
   "name": "python",
   "nbconvert_exporter": "python",
   "pygments_lexer": "ipython2",
   "version": "2.7.10"
  }
 },
 "nbformat": 4,
 "nbformat_minor": 0
}
