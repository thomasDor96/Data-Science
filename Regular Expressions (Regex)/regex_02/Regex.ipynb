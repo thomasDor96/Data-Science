{
 "cells": [
  {
   "cell_type": "code",
   "execution_count": 1,
   "metadata": {
    "collapsed": true
   },
   "outputs": [],
   "source": [
    "import re"
   ]
  },
  {
   "cell_type": "code",
   "execution_count": 21,
   "metadata": {
    "collapsed": true
   },
   "outputs": [],
   "source": [
    "text = \"Lorem ipsum dolor sit amet, 123 consectetur adipiscing elit. Proin nec pharetra urna,456 sit amet lobortis mi. Ut sollicitudin 789 elementum augue at vehicula. Aenean quis varius ante. Nam consectetur nunc sed ornare congue. Suspendisse potenti. Cras sed rutrum ex. Phasellus sed bibendum dui. Nam interdum nibh leo, vel tincidunt turpis malesuada euismod. In velit erat, efficitur a massa et, consectetur varius nulla. Nam finibus orci mauris, vitae pulvinar risus interdum nec. Etiam accumsan rhoncus turpis id efficitur.\""
   ]
  },
  {
   "cell_type": "markdown",
   "metadata": {},
   "source": [
    "Let's find out the numbers within the text."
   ]
  },
  {
   "cell_type": "code",
   "execution_count": 44,
   "metadata": {},
   "outputs": [
    {
     "name": "stdout",
     "output_type": "stream",
     "text": [
      "['1', '2', '3', '4', '5', '6', '7', '8', '9']\n"
     ]
    }
   ],
   "source": [
    "numbers = re.findall(r'\\d',text)\n",
    "print(numbers)"
   ]
  },
  {
   "cell_type": "markdown",
   "metadata": {},
   "source": [
    "Great! But it isn't the same way that I see in the text. Lets group the numbers as it is in the text."
   ]
  },
  {
   "cell_type": "code",
   "execution_count": 43,
   "metadata": {},
   "outputs": [
    {
     "name": "stdout",
     "output_type": "stream",
     "text": [
      "['123', '456', '789']\n"
     ]
    }
   ],
   "source": [
    "numbers_group = re.findall(r'\\d+',text)\n",
    "print(numbers_group)"
   ]
  },
  {
   "cell_type": "markdown",
   "metadata": {},
   "source": [
    "That's amazing.\n",
    "What about find the words started with \"p\"?"
   ]
  },
  {
   "cell_type": "code",
   "execution_count": 10,
   "metadata": {
    "scrolled": true
   },
   "outputs": [
    {
     "name": "stdout",
     "output_type": "stream",
     "text": [
      "['psum', 'piscing', 'pharetra', 'pendisse', 'potenti', 'pis', 'pulvinar', 'pis']\n"
     ]
    }
   ],
   "source": [
    "p_words = re.findall('p+[a-z]*', text)\n",
    "print(p_words)"
   ]
  },
  {
   "cell_type": "code",
   "execution_count": 11,
   "metadata": {},
   "outputs": [
    {
     "name": "stdout",
     "output_type": "stream",
     "text": [
      "['Proin', 'Phasellus']\n"
     ]
    }
   ],
   "source": [
    "P_words = re.findall('P+[a-z]*', text)\n",
    "print(P_words)"
   ]
  },
  {
   "cell_type": "code",
   "execution_count": 13,
   "metadata": {},
   "outputs": [
    {
     "name": "stdout",
     "output_type": "stream",
     "text": [
      "['psum', 'piscing', 'Proin', 'pharetra', 'pendisse', 'potenti', 'Phasellus', 'pis', 'pulvinar', 'pis']\n"
     ]
    }
   ],
   "source": [
    "p_words_ignore_case = re.findall('(?i)p+[a-z]*', text)\n",
    "print(p_words_ignore_case)"
   ]
  },
  {
   "cell_type": "markdown",
   "metadata": {},
   "source": [
    "Now we should find the words that end with 'a'."
   ]
  },
  {
   "cell_type": "code",
   "execution_count": 50,
   "metadata": {},
   "outputs": [
    {
     "name": "stdout",
     "output_type": "stream",
     "text": [
      "['pharetra', 'urna', 'vehicula', 'malesuada', 'massa', 'nulla']\n"
     ]
    }
   ],
   "source": [
    "words_a = re.findall(r'(\\w+a)\\b', text)\n",
    "print(words_a)"
   ]
  },
  {
   "cell_type": "code",
   "execution_count": null,
   "metadata": {
    "collapsed": true
   },
   "outputs": [],
   "source": []
  }
 ],
 "metadata": {
  "kernelspec": {
   "display_name": "Python 3",
   "language": "python",
   "name": "python3"
  },
  "language_info": {
   "codemirror_mode": {
    "name": "ipython",
    "version": 3
   },
   "file_extension": ".py",
   "mimetype": "text/x-python",
   "name": "python",
   "nbconvert_exporter": "python",
   "pygments_lexer": "ipython3",
   "version": "3.6.2"
  }
 },
 "nbformat": 4,
 "nbformat_minor": 2
}
