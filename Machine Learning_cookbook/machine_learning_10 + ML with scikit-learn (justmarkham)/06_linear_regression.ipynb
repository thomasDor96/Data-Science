{
 "metadata": {
  "name": "",
  "signature": "sha256:61b849abfb83452f98a5ca4cb6a6896229ef39b878366e25b337821a9ab10900"
 },
 "nbformat": 3,
 "nbformat_minor": 0,
 "worksheets": [
  {
   "cells": [
    {
     "cell_type": "markdown",
     "metadata": {},
     "source": [
      "# Data science pipeline: pandas, seaborn, scikit-learn\n",
      "*From the video series: [Introduction to machine learning with scikit-learn](https://github.com/justmarkham/scikit-learn-videos)*"
     ]
    },
    {
     "cell_type": "markdown",
     "metadata": {},
     "source": [
      "## Agenda\n",
      "\n",
      "- How do I use the **pandas library** to read data into Python?\n",
      "- How do I use the **seaborn library** to visualize data?\n",
      "- What is **linear regression**, and how does it work?\n",
      "- How do I **train and interpret** a linear regression model in scikit-learn?\n",
      "- What are some **evaluation metrics** for regression problems?\n",
      "- How do I choose **which features to include** in my model?"
     ]
    },
    {
     "cell_type": "markdown",
     "metadata": {},
     "source": [
      "## Types of supervised learning\n",
      "\n",
      "- **Classification:** Predict a categorical response\n",
      "- **Regression:** Predict a continuous response"
     ]
    },
    {
     "cell_type": "markdown",
     "metadata": {},
     "source": [
      "## Reading data using pandas\n",
      "\n",
      "**Pandas:** popular Python library for data exploration, manipulation, and analysis\n",
      "\n",
      "- Anaconda users: pandas is already installed\n",
      "- Other users: [installation instructions](http://pandas.pydata.org/pandas-docs/stable/install.html)"
     ]
    },
    {
     "cell_type": "code",
     "collapsed": false,
     "input": [
      "# conventional way to import pandas\n",
      "import pandas as pd"
     ],
     "language": "python",
     "metadata": {},
     "outputs": [],
     "prompt_number": 2
    },
    {
     "cell_type": "code",
     "collapsed": false,
     "input": [
      "# read CSV file directly from a URL and save the results\n",
      "data = pd.read_csv('http://www-bcf.usc.edu/~gareth/ISL/Advertising.csv', index_col=0)\n",
      "\n",
      "# display the first 5 rows\n",
      "data.head()"
     ],
     "language": "python",
     "metadata": {},
     "outputs": [
      {
       "html": [
        "<div style=\"max-height:1000px;max-width:1500px;overflow:auto;\">\n",
        "<table border=\"1\" class=\"dataframe\">\n",
        "  <thead>\n",
        "    <tr style=\"text-align: right;\">\n",
        "      <th></th>\n",
        "      <th>TV</th>\n",
        "      <th>Radio</th>\n",
        "      <th>Newspaper</th>\n",
        "      <th>Sales</th>\n",
        "    </tr>\n",
        "  </thead>\n",
        "  <tbody>\n",
        "    <tr>\n",
        "      <th>1</th>\n",
        "      <td>230.1</td>\n",
        "      <td>37.8</td>\n",
        "      <td>69.2</td>\n",
        "      <td>22.1</td>\n",
        "    </tr>\n",
        "    <tr>\n",
        "      <th>2</th>\n",
        "      <td>44.5</td>\n",
        "      <td>39.3</td>\n",
        "      <td>45.1</td>\n",
        "      <td>10.4</td>\n",
        "    </tr>\n",
        "    <tr>\n",
        "      <th>3</th>\n",
        "      <td>17.2</td>\n",
        "      <td>45.9</td>\n",
        "      <td>69.3</td>\n",
        "      <td>9.3</td>\n",
        "    </tr>\n",
        "    <tr>\n",
        "      <th>4</th>\n",
        "      <td>151.5</td>\n",
        "      <td>41.3</td>\n",
        "      <td>58.5</td>\n",
        "      <td>18.5</td>\n",
        "    </tr>\n",
        "    <tr>\n",
        "      <th>5</th>\n",
        "      <td>180.8</td>\n",
        "      <td>10.8</td>\n",
        "      <td>58.4</td>\n",
        "      <td>12.9</td>\n",
        "    </tr>\n",
        "  </tbody>\n",
        "</table>\n",
        "</div>"
       ],
       "metadata": {},
       "output_type": "pyout",
       "prompt_number": 3,
       "text": [
        "      TV  Radio  Newspaper  Sales\n",
        "1  230.1   37.8       69.2   22.1\n",
        "2   44.5   39.3       45.1   10.4\n",
        "3   17.2   45.9       69.3    9.3\n",
        "4  151.5   41.3       58.5   18.5\n",
        "5  180.8   10.8       58.4   12.9"
       ]
      }
     ],
     "prompt_number": 3
    },
    {
     "cell_type": "markdown",
     "metadata": {},
     "source": [
      "Primary object types:\n",
      "\n",
      "- **DataFrame:** rows and columns (like a spreadsheet)\n",
      "- **Series:** a single column"
     ]
    },
    {
     "cell_type": "code",
     "collapsed": false,
     "input": [
      "# display the last 5 rows\n",
      "data.tail()"
     ],
     "language": "python",
     "metadata": {},
     "outputs": [
      {
       "html": [
        "<div style=\"max-height:1000px;max-width:1500px;overflow:auto;\">\n",
        "<table border=\"1\" class=\"dataframe\">\n",
        "  <thead>\n",
        "    <tr style=\"text-align: right;\">\n",
        "      <th></th>\n",
        "      <th>TV</th>\n",
        "      <th>Radio</th>\n",
        "      <th>Newspaper</th>\n",
        "      <th>Sales</th>\n",
        "    </tr>\n",
        "  </thead>\n",
        "  <tbody>\n",
        "    <tr>\n",
        "      <th>196</th>\n",
        "      <td>38.2</td>\n",
        "      <td>3.7</td>\n",
        "      <td>13.8</td>\n",
        "      <td>7.6</td>\n",
        "    </tr>\n",
        "    <tr>\n",
        "      <th>197</th>\n",
        "      <td>94.2</td>\n",
        "      <td>4.9</td>\n",
        "      <td>8.1</td>\n",
        "      <td>9.7</td>\n",
        "    </tr>\n",
        "    <tr>\n",
        "      <th>198</th>\n",
        "      <td>177.0</td>\n",
        "      <td>9.3</td>\n",
        "      <td>6.4</td>\n",
        "      <td>12.8</td>\n",
        "    </tr>\n",
        "    <tr>\n",
        "      <th>199</th>\n",
        "      <td>283.6</td>\n",
        "      <td>42.0</td>\n",
        "      <td>66.2</td>\n",
        "      <td>25.5</td>\n",
        "    </tr>\n",
        "    <tr>\n",
        "      <th>200</th>\n",
        "      <td>232.1</td>\n",
        "      <td>8.6</td>\n",
        "      <td>8.7</td>\n",
        "      <td>13.4</td>\n",
        "    </tr>\n",
        "  </tbody>\n",
        "</table>\n",
        "</div>"
       ],
       "metadata": {},
       "output_type": "pyout",
       "prompt_number": 4,
       "text": [
        "        TV  Radio  Newspaper  Sales\n",
        "196   38.2    3.7       13.8    7.6\n",
        "197   94.2    4.9        8.1    9.7\n",
        "198  177.0    9.3        6.4   12.8\n",
        "199  283.6   42.0       66.2   25.5\n",
        "200  232.1    8.6        8.7   13.4"
       ]
      }
     ],
     "prompt_number": 4
    },
    {
     "cell_type": "code",
     "collapsed": false,
     "input": [
      "# check the shape of the DataFrame (rows, columns)\n",
      "data.shape"
     ],
     "language": "python",
     "metadata": {},
     "outputs": [
      {
       "metadata": {},
       "output_type": "pyout",
       "prompt_number": 5,
       "text": [
        "(200, 4)"
       ]
      }
     ],
     "prompt_number": 5
    },
    {
     "cell_type": "markdown",
     "metadata": {},
     "source": [
      "What are the features?\n",
      "- **TV:** advertising dollars spent on TV for a single product in a given market (in thousands of dollars)\n",
      "- **Radio:** advertising dollars spent on Radio\n",
      "- **Newspaper:** advertising dollars spent on Newspaper\n",
      "\n",
      "What is the response?\n",
      "- **Sales:** sales of a single product in a given market (in thousands of items)\n",
      "\n",
      "What else do we know?\n",
      "- Because the response variable is continuous, this is a **regression** problem.\n",
      "- There are 200 **observations** (represented by the rows), and each observation is a single market."
     ]
    },
    {
     "cell_type": "markdown",
     "metadata": {},
     "source": [
      "## Visualizing data using seaborn\n",
      "\n",
      "**Seaborn:** Python library for statistical data visualization built on top of Matplotlib\n",
      "\n",
      "- Anaconda users: run **`conda install seaborn`** from the command line\n",
      "- Other users: [installation instructions](http://stanford.edu/~mwaskom/software/seaborn/installing.html)"
     ]
    },
    {
     "cell_type": "code",
     "collapsed": false,
     "input": [
      "# conventional way to import seaborn\n",
      "import seaborn as sns\n",
      "\n",
      "# allow plots to appear within the notebook\n",
      "%matplotlib inline"
     ],
     "language": "python",
     "metadata": {},
     "outputs": [],
     "prompt_number": 6
    },
    {
     "cell_type": "code",
     "collapsed": false,
     "input": [
      "# visualize the relationship between the features and the response using scatterplots\n",
      "sns.pairplot(data, x_vars=['TV','Radio','Newspaper'], y_vars='Sales', size=7, aspect=0.7, kind='reg')"
     ],
     "language": "python",
     "metadata": {},
     "outputs": [
      {
       "metadata": {},
       "output_type": "pyout",
       "prompt_number": 7,
       "text": [
        "<seaborn.axisgrid.PairGrid at 0x18922518>"
       ]
      },
      {
       "metadata": {},
       "output_type": "display_data",
       "png": "[encoded data removed]",
       "text": [
        "<matplotlib.figure.Figure at 0x3f61f28>"
       ]
      }
     ],
     "prompt_number": 7
    },
    {
     "cell_type": "markdown",
     "metadata": {},
     "source": [
      "## Linear regression\n",
      "\n",
      "**Pros:** fast, no tuning required, highly interpretable, well-understood\n",
      "\n",
      "**Cons:** unlikely to produce the best predictive accuracy (presumes a linear relationship between the features and response)"
     ]
    },
    {
     "cell_type": "markdown",
     "metadata": {},
     "source": [
      "### Form of linear regression\n",
      "\n",
      "$y = \\beta_0 + \\beta_1x_1 + \\beta_2x_2 + ... + \\beta_nx_n$\n",
      "\n",
      "- $y$ is the response\n",
      "- $\\beta_0$ is the intercept\n",
      "- $\\beta_1$ is the coefficient for $x_1$ (the first feature)\n",
      "- $\\beta_n$ is the coefficient for $x_n$ (the nth feature)\n",
      "\n",
      "In this case:\n",
      "\n",
      "$y = \\beta_0 + \\beta_1 \\times TV + \\beta_2 \\times Radio + \\beta_3 \\times Newspaper$\n",
      "\n",
      "The $\\beta$ values are called the **model coefficients**. These values are \"learned\" during the model fitting step using the \"least squares\" criterion. Then, the fitted model can be used to make predictions!"
     ]
    },
    {
     "cell_type": "markdown",
     "metadata": {},
     "source": [
      "## Preparing X and y using pandas\n",
      "\n",
      "- scikit-learn expects X (feature matrix) and y (response vector) to be NumPy arrays.\n",
      "- However, pandas is built on top of NumPy.\n",
      "- Thus, X can be a pandas DataFrame and y can be a pandas Series!"
     ]
    },
    {
     "cell_type": "code",
     "collapsed": false,
     "input": [
      "# create a Python list of feature names\n",
      "feature_cols = ['TV', 'Radio', 'Newspaper']\n",
      "\n",
      "# use the list to select a subset of the original DataFrame\n",
      "X = data[feature_cols]\n",
      "\n",
      "# equivalent command to do this in one line\n",
      "X = data[['TV', 'Radio', 'Newspaper']]\n",
      "\n",
      "# print the first 5 rows\n",
      "X.head()"
     ],
     "language": "python",
     "metadata": {},
     "outputs": [
      {
       "html": [
        "<div style=\"max-height:1000px;max-width:1500px;overflow:auto;\">\n",
        "<table border=\"1\" class=\"dataframe\">\n",
        "  <thead>\n",
        "    <tr style=\"text-align: right;\">\n",
        "      <th></th>\n",
        "      <th>TV</th>\n",
        "      <th>Radio</th>\n",
        "      <th>Newspaper</th>\n",
        "    </tr>\n",
        "  </thead>\n",
        "  <tbody>\n",
        "    <tr>\n",
        "      <th>1</th>\n",
        "      <td>230.1</td>\n",
        "      <td>37.8</td>\n",
        "      <td>69.2</td>\n",
        "    </tr>\n",
        "    <tr>\n",
        "      <th>2</th>\n",
        "      <td>44.5</td>\n",
        "      <td>39.3</td>\n",
        "      <td>45.1</td>\n",
        "    </tr>\n",
        "    <tr>\n",
        "      <th>3</th>\n",
        "      <td>17.2</td>\n",
        "      <td>45.9</td>\n",
        "      <td>69.3</td>\n",
        "    </tr>\n",
        "    <tr>\n",
        "      <th>4</th>\n",
        "      <td>151.5</td>\n",
        "      <td>41.3</td>\n",
        "      <td>58.5</td>\n",
        "    </tr>\n",
        "    <tr>\n",
        "      <th>5</th>\n",
        "      <td>180.8</td>\n",
        "      <td>10.8</td>\n",
        "      <td>58.4</td>\n",
        "    </tr>\n",
        "  </tbody>\n",
        "</table>\n",
        "</div>"
       ],
       "metadata": {},
       "output_type": "pyout",
       "prompt_number": 8,
       "text": [
        "      TV  Radio  Newspaper\n",
        "1  230.1   37.8       69.2\n",
        "2   44.5   39.3       45.1\n",
        "3   17.2   45.9       69.3\n",
        "4  151.5   41.3       58.5\n",
        "5  180.8   10.8       58.4"
       ]
      }
     ],
     "prompt_number": 8
    },
    {
     "cell_type": "code",
     "collapsed": false,
     "input": [
      "# check the type and shape of X\n",
      "print type(X)\n",
      "print X.shape"
     ],
     "language": "python",
     "metadata": {},
     "outputs": [
      {
       "output_type": "stream",
       "stream": "stdout",
       "text": [
        "<class 'pandas.core.frame.DataFrame'>\n",
        "(200, 3)\n"
       ]
      }
     ],
     "prompt_number": 9
    },
    {
     "cell_type": "code",
     "collapsed": false,
     "input": [
      "# select a Series from the DataFrame\n",
      "y = data['Sales']\n",
      "\n",
      "# equivalent command that works if there are no spaces in the column name\n",
      "y = data.Sales\n",
      "\n",
      "# print the first 5 values\n",
      "y.head()"
     ],
     "language": "python",
     "metadata": {},
     "outputs": [
      {
       "metadata": {},
       "output_type": "pyout",
       "prompt_number": 10,
       "text": [
        "1    22.1\n",
        "2    10.4\n",
        "3     9.3\n",
        "4    18.5\n",
        "5    12.9\n",
        "Name: Sales, dtype: float64"
       ]
      }
     ],
     "prompt_number": 10
    },
    {
     "cell_type": "code",
     "collapsed": false,
     "input": [
      "# check the type and shape of y\n",
      "print type(y)\n",
      "print y.shape"
     ],
     "language": "python",
     "metadata": {},
     "outputs": [
      {
       "output_type": "stream",
       "stream": "stdout",
       "text": [
        "<class 'pandas.core.series.Series'>\n",
        "(200L,)\n"
       ]
      }
     ],
     "prompt_number": 11
    },
    {
     "cell_type": "markdown",
     "metadata": {},
     "source": [
      "## Splitting X and y into training and testing sets"
     ]
    },
    {
     "cell_type": "code",
     "collapsed": false,
     "input": [
      "from sklearn.cross_validation import train_test_split\n",
      "X_train, X_test, y_train, y_test = train_test_split(X, y, random_state=1)"
     ],
     "language": "python",
     "metadata": {},
     "outputs": [],
     "prompt_number": 12
    },
    {
     "cell_type": "code",
     "collapsed": false,
     "input": [
      "# default split is 75% for training and 25% for testing\n",
      "print X_train.shape\n",
      "print y_train.shape\n",
      "print X_test.shape\n",
      "print y_test.shape"
     ],
     "language": "python",
     "metadata": {},
     "outputs": [
      {
       "output_type": "stream",
       "stream": "stdout",
       "text": [
        "(150L, 3L)\n",
        "(150L,)\n",
        "(50L, 3L)\n",
        "(50L,)\n"
       ]
      }
     ],
     "prompt_number": 13
    },
    {
     "cell_type": "markdown",
     "metadata": {},
     "source": [
      "## Linear regression in scikit-learn"
     ]
    },
    {
     "cell_type": "code",
     "collapsed": false,
     "input": [
      "# import model\n",
      "from sklearn.linear_model import LinearRegression\n",
      "\n",
      "# instantiate\n",
      "linreg = LinearRegression()\n",
      "\n",
      "# fit the model to the training data (learn the coefficients)\n",
      "linreg.fit(X_train, y_train)"
     ],
     "language": "python",
     "metadata": {},
     "outputs": [
      {
       "metadata": {},
       "output_type": "pyout",
       "prompt_number": 14,
       "text": [
        "LinearRegression(copy_X=True, fit_intercept=True, normalize=False)"
       ]
      }
     ],
     "prompt_number": 14
    },
    {
     "cell_type": "markdown",
     "metadata": {},
     "source": [
      "### Interpreting model coefficients"
     ]
    },
    {
     "cell_type": "code",
     "collapsed": false,
     "input": [
      "# print the intercept and coefficients\n",
      "print linreg.intercept_\n",
      "print linreg.coef_"
     ],
     "language": "python",
     "metadata": {},
     "outputs": [
      {
       "output_type": "stream",
       "stream": "stdout",
       "text": [
        "2.87696662232\n",
        "[ 0.04656457  0.17915812  0.00345046]\n"
       ]
      }
     ],
     "prompt_number": 15
    },
    {
     "cell_type": "code",
     "collapsed": false,
     "input": [
      "# pair the feature names with the coefficients\n",
      "zip(feature_cols, linreg.coef_)"
     ],
     "language": "python",
     "metadata": {},
     "outputs": [
      {
       "metadata": {},
       "output_type": "pyout",
       "prompt_number": 16,
       "text": [
        "[('TV', 0.046564567874150253),\n",
        " ('Radio', 0.1791581224508885),\n",
        " ('Newspaper', 0.0034504647111804621)]"
       ]
      }
     ],
     "prompt_number": 16
    },
    {
     "cell_type": "markdown",
     "metadata": {},
     "source": [
      "$$y = 2.88 + 0.0466 \\times TV + 0.179 \\times Radio + 0.00345 \\times Newspaper$$\n",
      "\n",
      "How do we interpret the **TV coefficient** (0.0466)?\n",
      "\n",
      "- For a given amount of Radio and Newspaper ad spending, **a \"unit\" increase in TV ad spending** is associated with a **0.0466 \"unit\" increase in Sales**.\n",
      "- Or more clearly: For a given amount of Radio and Newspaper ad spending, **an additional $1,000 spent on TV ads** is associated with an **increase in sales of 46.6 items**.\n",
      "\n",
      "Important notes:\n",
      "\n",
      "- This is a statement of **association**, not **causation**.\n",
      "- If an increase in TV ad spending was associated with a **decrease** in sales, $\\beta_1$ would be **negative**."
     ]
    },
    {
     "cell_type": "markdown",
     "metadata": {},
     "source": [
      "### Making predictions"
     ]
    },
    {
     "cell_type": "code",
     "collapsed": false,
     "input": [
      "# make predictions on the testing set\n",
      "y_pred = linreg.predict(X_test)"
     ],
     "language": "python",
     "metadata": {},
     "outputs": [],
     "prompt_number": 17
    },
    {
     "cell_type": "markdown",
     "metadata": {},
     "source": [
      "We need an **evaluation metric** in order to compare our predictions with the actual values!"
     ]
    },
    {
     "cell_type": "markdown",
     "metadata": {},
     "source": [
      "## Model evaluation metrics for regression\n",
      "\n",
      "Evaluation metrics for classification problems, such as **accuracy**, are not useful for regression problems. Instead, we need evaluation metrics designed for comparing continuous values.\n",
      "\n",
      "Let's create some example numeric predictions, and calculate **three common evaluation metrics** for regression problems:"
     ]
    },
    {
     "cell_type": "code",
     "collapsed": false,
     "input": [
      "# define true and predicted response values\n",
      "true = [100, 50, 30, 20]\n",
      "pred = [90, 50, 50, 30]"
     ],
     "language": "python",
     "metadata": {},
     "outputs": [],
     "prompt_number": 18
    },
    {
     "cell_type": "markdown",
     "metadata": {},
     "source": [
      "**Mean Absolute Error** (MAE) is the mean of the absolute value of the errors:\n",
      "\n",
      "$$\\frac 1n\\sum_{i=1}^n|y_i-\\hat{y}_i|$$"
     ]
    },
    {
     "cell_type": "code",
     "collapsed": false,
     "input": [
      "# calculate MAE by hand\n",
      "print (10 + 0 + 20 + 10)/4.\n",
      "\n",
      "# calculate MAE using scikit-learn\n",
      "from sklearn import metrics\n",
      "print metrics.mean_absolute_error(true, pred)"
     ],
     "language": "python",
     "metadata": {},
     "outputs": [
      {
       "output_type": "stream",
       "stream": "stdout",
       "text": [
        "10.0\n",
        "10.0\n"
       ]
      }
     ],
     "prompt_number": 19
    },
    {
     "cell_type": "markdown",
     "metadata": {},
     "source": [
      "**Mean Squared Error** (MSE) is the mean of the squared errors:\n",
      "\n",
      "$$\\frac 1n\\sum_{i=1}^n(y_i-\\hat{y}_i)^2$$"
     ]
    },
    {
     "cell_type": "code",
     "collapsed": false,
     "input": [
      "# calculate MSE by hand\n",
      "print (10**2 + 0**2 + 20**2 + 10**2)/4.\n",
      "\n",
      "# calculate MSE using scikit-learn\n",
      "print metrics.mean_squared_error(true, pred)"
     ],
     "language": "python",
     "metadata": {},
     "outputs": [
      {
       "output_type": "stream",
       "stream": "stdout",
       "text": [
        "150.0\n",
        "150.0\n"
       ]
      }
     ],
     "prompt_number": 20
    },
    {
     "cell_type": "markdown",
     "metadata": {},
     "source": [
      "**Root Mean Squared Error** (RMSE) is the square root of the mean of the squared errors:\n",
      "\n",
      "$$\\sqrt{\\frac 1n\\sum_{i=1}^n(y_i-\\hat{y}_i)^2}$$"
     ]
    },
    {
     "cell_type": "code",
     "collapsed": false,
     "input": [
      "# calculate RMSE by hand\n",
      "import numpy as np\n",
      "print np.sqrt((10**2 + 0**2 + 20**2 + 10**2)/4.)\n",
      "\n",
      "# calculate RMSE using scikit-learn\n",
      "print np.sqrt(metrics.mean_squared_error(true, pred))"
     ],
     "language": "python",
     "metadata": {},
     "outputs": [
      {
       "output_type": "stream",
       "stream": "stdout",
       "text": [
        "12.2474487139\n",
        "12.2474487139\n"
       ]
      }
     ],
     "prompt_number": 21
    },
    {
     "cell_type": "markdown",
     "metadata": {},
     "source": [
      "Comparing these metrics:\n",
      "\n",
      "- **MAE** is the easiest to understand, because it's the average error.\n",
      "- **MSE** is more popular than MAE, because MSE \"punishes\" larger errors.\n",
      "- **RMSE** is even more popular than MSE, because RMSE is interpretable in the \"y\" units."
     ]
    },
    {
     "cell_type": "markdown",
     "metadata": {},
     "source": [
      "### Computing the RMSE for our Sales predictions"
     ]
    },
    {
     "cell_type": "code",
     "collapsed": false,
     "input": [
      "print np.sqrt(metrics.mean_squared_error(y_test, y_pred))"
     ],
     "language": "python",
     "metadata": {},
     "outputs": [
      {
       "output_type": "stream",
       "stream": "stdout",
       "text": [
        "1.40465142303\n"
       ]
      }
     ],
     "prompt_number": 22
    },
    {
     "cell_type": "markdown",
     "metadata": {},
     "source": [
      "## Feature selection\n",
      "\n",
      "Does **Newspaper** \"belong\" in our model? In other words, does it improve the quality of our predictions?\n",
      "\n",
      "Let's **remove it** from the model and check the RMSE!"
     ]
    },
    {
     "cell_type": "code",
     "collapsed": false,
     "input": [
      "# create a Python list of feature names\n",
      "feature_cols = ['TV', 'Radio']\n",
      "\n",
      "# use the list to select a subset of the original DataFrame\n",
      "X = data[feature_cols]\n",
      "\n",
      "# select a Series from the DataFrame\n",
      "y = data.Sales\n",
      "\n",
      "# split into training and testing sets\n",
      "X_train, X_test, y_train, y_test = train_test_split(X, y, random_state=1)\n",
      "\n",
      "# fit the model to the training data (learn the coefficients)\n",
      "linreg.fit(X_train, y_train)\n",
      "\n",
      "# make predictions on the testing set\n",
      "y_pred = linreg.predict(X_test)\n",
      "\n",
      "# compute the RMSE of our predictions\n",
      "print np.sqrt(metrics.mean_squared_error(y_test, y_pred))"
     ],
     "language": "python",
     "metadata": {},
     "outputs": [
      {
       "output_type": "stream",
       "stream": "stdout",
       "text": [
        "1.38790346994\n"
       ]
      }
     ],
     "prompt_number": 23
    },
    {
     "cell_type": "markdown",
     "metadata": {},
     "source": [
      "The RMSE **decreased** when we removed Newspaper from the model. (Error is something we want to minimize, so **a lower number for RMSE is better**.) Thus, it is unlikely that this feature is useful for predicting Sales, and should be removed from the model."
     ]
    },
    {
     "cell_type": "markdown",
     "metadata": {},
     "source": [
      "## Resources\n",
      "\n",
      "Linear regression:\n",
      "\n",
      "- [Longer notebook on linear regression](https://github.com/justmarkham/DAT5/blob/master/notebooks/09_linear_regression.ipynb) by me\n",
      "- Chapter 3 of [An Introduction to Statistical Learning](http://www-bcf.usc.edu/~gareth/ISL/) and [related videos](http://www.dataschool.io/15-hours-of-expert-machine-learning-videos/) by Hastie and Tibshirani (Stanford)\n",
      "- [Quick reference guide to applying and interpreting linear regression](http://www.dataschool.io/applying-and-interpreting-linear-regression/) by me\n",
      "- [Introduction to linear regression](http://people.duke.edu/~rnau/regintro.htm) by Robert Nau (Duke)\n",
      "\n",
      "Pandas:\n",
      "\n",
      "- [Three-part pandas tutorial](http://www.gregreda.com/2013/10/26/intro-to-pandas-data-structures/) by Greg Reda\n",
      "- [read_csv](http://pandas.pydata.org/pandas-docs/stable/generated/pandas.read_csv.html) and [read_table](http://pandas.pydata.org/pandas-docs/stable/generated/pandas.read_table.html) documentation\n",
      "\n",
      "Seaborn:\n",
      "\n",
      "- [Official seaborn tutorial](http://web.stanford.edu/~mwaskom/software/seaborn/tutorial.html)\n",
      "- [Example gallery](http://web.stanford.edu/~mwaskom/software/seaborn/examples/index.html)"
     ]
    },
    {
     "cell_type": "markdown",
     "metadata": {},
     "source": [
      "## Comments or Questions?\n",
      "\n",
      "- Email: <kevin@dataschool.io>\n",
      "- Website: http://dataschool.io\n",
      "- Twitter: [@justmarkham](https://twitter.com/justmarkham)"
     ]
    },
    {
     "cell_type": "code",
     "collapsed": false,
     "input": [
      "from IPython.core.display import HTML\n",
      "def css_styling():\n",
      "    styles = open(\"styles/custom.css\", \"r\").read()\n",
      "    return HTML(styles)\n",
      "css_styling()"
     ],
     "language": "python",
     "metadata": {},
     "outputs": [
      {
       "html": [
        "<style>\n",
        "    @font-face {\n",
        "        font-family: \"Computer Modern\";\n",
        "        src: url('http://mirrors.ctan.org/fonts/cm-unicode/fonts/otf/cmunss.otf');\n",
        "    }\n",
        "    div.cell{\n",
        "        width: 90%;\n",
        "/*        margin-left:auto;*/\n",
        "/*        margin-right:auto;*/\n",
        "    }\n",
        "    ul {\n",
        "        line-height: 145%;\n",
        "        font-size: 90%;\n",
        "    }\n",
        "    li {\n",
        "        margin-bottom: 1em;\n",
        "    }\n",
        "    h1 {\n",
        "        font-family: Helvetica, serif;\n",
        "    }\n",
        "    h4{\n",
        "        margin-top: 12px;\n",
        "        margin-bottom: 3px;\n",
        "       }\n",
        "    div.text_cell_render{\n",
        "        font-family: Computer Modern, \"Helvetica Neue\", Arial, Helvetica, Geneva, sans-serif;\n",
        "        line-height: 145%;\n",
        "        font-size: 130%;\n",
        "        width: 90%;\n",
        "        margin-left:auto;\n",
        "        margin-right:auto;\n",
        "    }\n",
        "    .CodeMirror{\n",
        "            font-family: \"Source Code Pro\", source-code-pro,Consolas, monospace;\n",
        "    }\n",
        "/*    .prompt{\n",
        "        display: None;\n",
        "    }*/\n",
        "    .text_cell_render h5 {\n",
        "        font-weight: 300;\n",
        "        font-size: 16pt;\n",
        "        color: #4057A1;\n",
        "        font-style: italic;\n",
        "        margin-bottom: 0.5em;\n",
        "        margin-top: 0.5em;\n",
        "        display: block;\n",
        "    }\n",
        "\n",
        "    .warning{\n",
        "        color: rgb( 240, 20, 20 )\n",
        "        }\n",
        "</style>\n",
        "<script>\n",
        "    MathJax.Hub.Config({\n",
        "                        TeX: {\n",
        "                           extensions: [\"AMSmath.js\"]\n",
        "                           },\n",
        "                tex2jax: {\n",
        "                    inlineMath: [ ['$','$'], [\"\\\\(\",\"\\\\)\"] ],\n",
        "                    displayMath: [ ['$$','$$'], [\"\\\\[\",\"\\\\]\"] ]\n",
        "                },\n",
        "                displayAlign: 'center', // Change this to 'center' to center equations.\n",
        "                \"HTML-CSS\": {\n",
        "                    styles: {'.MathJax_Display': {\"margin\": 4}}\n",
        "                }\n",
        "        });\n",
        "</script>"
       ],
       "metadata": {},
       "output_type": "pyout",
       "prompt_number": 1,
       "text": [
        "<IPython.core.display.HTML at 0x3f78208>"
       ]
      }
     ],
     "prompt_number": 1
    }
   ],
   "metadata": {}
  }
 ]
}