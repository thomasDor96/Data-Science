{
 "metadata": {
  "kernelspec": {
   "display_name": "Python 2",
   "language": "python",
   "name": "python2"
  },
  "language_info": {
   "codemirror_mode": {
    "name": "ipython",
    "version": 2
   },
   "file_extension": ".py",
   "mimetype": "text/x-python",
   "name": "python",
   "nbconvert_exporter": "python",
   "pygments_lexer": "ipython2",
   "version": "2.7.6"
  },
  "name": ""
 },
 "nbformat": 3,
 "nbformat_minor": 0,
 "worksheets": [
  {
   "cells": [
    {
     "cell_type": "markdown",
     "metadata": {},
     "source": [
      "# Evaluating a classification model\n",
      "\n",
      "*From the video series: [Introduction to machine learning with scikit-learn](https://github.com/justmarkham/scikit-learn-videos)*"
     ]
    },
    {
     "cell_type": "markdown",
     "metadata": {},
     "source": [
      "## Agenda\n",
      "\n",
      "- What is the purpose of **model evaluation**, and what are some common evaluation procedures?\n",
      "- What is the usage of **classification accuracy**, and what are its limitations?\n",
      "- How does a **confusion matrix** describe the performance of a classifier?\n",
      "- What **metrics** can be computed from a confusion matrix?\n",
      "- How can you adjust classifier performance by **changing the classification threshold**?\n",
      "- What is the purpose of an **ROC curve**?\n",
      "- How does **Area Under the Curve (AUC)** differ from classification accuracy?"
     ]
    },
    {
     "cell_type": "markdown",
     "metadata": {},
     "source": [
      "## Review of model evaluation\n",
      "\n",
      "- Need a way to choose between models: different model types, tuning parameters, and features\n",
      "- Use a **model evaluation procedure** to estimate how well a model will generalize to out-of-sample data\n",
      "- Requires a **model evaluation metric** to quantify the model performance"
     ]
    },
    {
     "cell_type": "markdown",
     "metadata": {},
     "source": [
      "### Model evaluation procedures\n",
      "\n",
      "1. **Training and testing on the same data**\n",
      "    - Rewards overly complex models that \"overfit\" the training data and won't necessarily generalize\n",
      "2. **Train/test split**\n",
      "    - Split the dataset into two pieces, so that the model can be trained and tested on different data\n",
      "    - Better estimate of out-of-sample performance, but still a \"high variance\" estimate\n",
      "    - Useful due to its speed, simplicity, and flexibility\n",
      "3. **K-fold cross-validation**\n",
      "    - Systematically create \"K\" train/test splits and average the results together\n",
      "    - Even better estimate of out-of-sample performance\n",
      "    - Runs \"K\" times slower than train/test split"
     ]
    },
    {
     "cell_type": "markdown",
     "metadata": {},
     "source": [
      "### Model evaluation metrics\n",
      "\n",
      "- **Regression problems:** Mean Absolute Error, Mean Squared Error, Root Mean Squared Error\n",
      "- **Classification problems:** Classification accuracy"
     ]
    },
    {
     "cell_type": "markdown",
     "metadata": {},
     "source": [
      "## Classification accuracy\n",
      "\n",
      "[Pima Indian Diabetes dataset](https://archive.ics.uci.edu/ml/datasets/Pima+Indians+Diabetes) from the UCI Machine Learning Repository"
     ]
    },
    {
     "cell_type": "code",
     "collapsed": true,
     "input": [
      "# read the data into a Pandas DataFrame\n",
      "import pandas as pd\n",
      "url = 'https://archive.ics.uci.edu/ml/machine-learning-databases/pima-indians-diabetes/pima-indians-diabetes.data'\n",
      "col_names = ['pregnant', 'glucose', 'bp', 'skin', 'insulin', 'bmi', 'pedigree', 'age', 'label']\n",
      "pima = pd.read_csv(url, header=None, names=col_names)"
     ],
     "language": "python",
     "metadata": {},
     "outputs": [],
     "prompt_number": 2
    },
    {
     "cell_type": "code",
     "collapsed": false,
     "input": [
      "# print the first 5 rows of data\n",
      "pima.head()"
     ],
     "language": "python",
     "metadata": {},
     "outputs": [
      {
       "html": [
        "<div>\n",
        "<table border=\"1\" class=\"dataframe\">\n",
        "  <thead>\n",
        "    <tr style=\"text-align: right;\">\n",
        "      <th></th>\n",
        "      <th>pregnant</th>\n",
        "      <th>glucose</th>\n",
        "      <th>bp</th>\n",
        "      <th>skin</th>\n",
        "      <th>insulin</th>\n",
        "      <th>bmi</th>\n",
        "      <th>pedigree</th>\n",
        "      <th>age</th>\n",
        "      <th>label</th>\n",
        "    </tr>\n",
        "  </thead>\n",
        "  <tbody>\n",
        "    <tr>\n",
        "      <th>0</th>\n",
        "      <td>6</td>\n",
        "      <td>148</td>\n",
        "      <td>72</td>\n",
        "      <td>35</td>\n",
        "      <td>0</td>\n",
        "      <td>33.6</td>\n",
        "      <td>0.627</td>\n",
        "      <td>50</td>\n",
        "      <td>1</td>\n",
        "    </tr>\n",
        "    <tr>\n",
        "      <th>1</th>\n",
        "      <td>1</td>\n",
        "      <td>85</td>\n",
        "      <td>66</td>\n",
        "      <td>29</td>\n",
        "      <td>0</td>\n",
        "      <td>26.6</td>\n",
        "      <td>0.351</td>\n",
        "      <td>31</td>\n",
        "      <td>0</td>\n",
        "    </tr>\n",
        "    <tr>\n",
        "      <th>2</th>\n",
        "      <td>8</td>\n",
        "      <td>183</td>\n",
        "      <td>64</td>\n",
        "      <td>0</td>\n",
        "      <td>0</td>\n",
        "      <td>23.3</td>\n",
        "      <td>0.672</td>\n",
        "      <td>32</td>\n",
        "      <td>1</td>\n",
        "    </tr>\n",
        "    <tr>\n",
        "      <th>3</th>\n",
        "      <td>1</td>\n",
        "      <td>89</td>\n",
        "      <td>66</td>\n",
        "      <td>23</td>\n",
        "      <td>94</td>\n",
        "      <td>28.1</td>\n",
        "      <td>0.167</td>\n",
        "      <td>21</td>\n",
        "      <td>0</td>\n",
        "    </tr>\n",
        "    <tr>\n",
        "      <th>4</th>\n",
        "      <td>0</td>\n",
        "      <td>137</td>\n",
        "      <td>40</td>\n",
        "      <td>35</td>\n",
        "      <td>168</td>\n",
        "      <td>43.1</td>\n",
        "      <td>2.288</td>\n",
        "      <td>33</td>\n",
        "      <td>1</td>\n",
        "    </tr>\n",
        "  </tbody>\n",
        "</table>\n",
        "</div>"
       ],
       "metadata": {},
       "output_type": "pyout",
       "prompt_number": 3,
       "text": [
        "   pregnant  glucose  bp  skin  insulin   bmi  pedigree  age  label\n",
        "0         6      148  72    35        0  33.6     0.627   50      1\n",
        "1         1       85  66    29        0  26.6     0.351   31      0\n",
        "2         8      183  64     0        0  23.3     0.672   32      1\n",
        "3         1       89  66    23       94  28.1     0.167   21      0\n",
        "4         0      137  40    35      168  43.1     2.288   33      1"
       ]
      }
     ],
     "prompt_number": 3
    },
    {
     "cell_type": "markdown",
     "metadata": {},
     "source": [
      "**Question:** Can we predict the diabetes status of a patient given their health measurements?"
     ]
    },
    {
     "cell_type": "code",
     "collapsed": true,
     "input": [
      "# define X and y\n",
      "feature_cols = ['pregnant', 'insulin', 'bmi', 'age']\n",
      "X = pima[feature_cols]\n",
      "y = pima.label"
     ],
     "language": "python",
     "metadata": {},
     "outputs": [],
     "prompt_number": 4
    },
    {
     "cell_type": "code",
     "collapsed": true,
     "input": [
      "# split X and y into training and testing sets\n",
      "from sklearn.cross_validation import train_test_split\n",
      "X_train, X_test, y_train, y_test = train_test_split(X, y, random_state=0)"
     ],
     "language": "python",
     "metadata": {},
     "outputs": [],
     "prompt_number": 5
    },
    {
     "cell_type": "code",
     "collapsed": false,
     "input": [
      "# train a logistic regression model on the training set\n",
      "from sklearn.linear_model import LogisticRegression\n",
      "logreg = LogisticRegression()\n",
      "logreg.fit(X_train, y_train)"
     ],
     "language": "python",
     "metadata": {},
     "outputs": [
      {
       "metadata": {},
       "output_type": "pyout",
       "prompt_number": 6,
       "text": [
        "LogisticRegression(C=1.0, class_weight=None, dual=False, fit_intercept=True,\n",
        "          intercept_scaling=1, max_iter=100, multi_class='ovr',\n",
        "          penalty='l2', random_state=None, solver='liblinear', tol=0.0001,\n",
        "          verbose=0)"
       ]
      }
     ],
     "prompt_number": 6
    },
    {
     "cell_type": "code",
     "collapsed": true,
     "input": [
      "# make class predictions for the testing set\n",
      "y_pred_class = logreg.predict(X_test)"
     ],
     "language": "python",
     "metadata": {},
     "outputs": [],
     "prompt_number": 7
    },
    {
     "cell_type": "markdown",
     "metadata": {},
     "source": [
      "**Classification accuracy:** percentage of correct predictions"
     ]
    },
    {
     "cell_type": "code",
     "collapsed": false,
     "input": [
      "# calculate accuracy\n",
      "from sklearn import metrics\n",
      "print metrics.accuracy_score(y_test, y_pred_class)"
     ],
     "language": "python",
     "metadata": {},
     "outputs": [
      {
       "output_type": "stream",
       "stream": "stdout",
       "text": [
        "0.692708333333\n"
       ]
      }
     ],
     "prompt_number": 8
    },
    {
     "cell_type": "markdown",
     "metadata": {},
     "source": [
      "**Null accuracy:** accuracy that could be achieved by always predicting the most frequent class"
     ]
    },
    {
     "cell_type": "code",
     "collapsed": false,
     "input": [
      "# examine the class distribution of the testing set (using a Pandas Series method)\n",
      "y_test.value_counts()"
     ],
     "language": "python",
     "metadata": {},
     "outputs": [
      {
       "metadata": {},
       "output_type": "pyout",
       "prompt_number": 9,
       "text": [
        "0    130\n",
        "1     62\n",
        "dtype: int64"
       ]
      }
     ],
     "prompt_number": 9
    },
    {
     "cell_type": "code",
     "collapsed": false,
     "input": [
      "# calculate the percentage of ones\n",
      "y_test.mean()"
     ],
     "language": "python",
     "metadata": {},
     "outputs": [
      {
       "metadata": {},
       "output_type": "pyout",
       "prompt_number": 10,
       "text": [
        "0.3229166666666667"
       ]
      }
     ],
     "prompt_number": 10
    },
    {
     "cell_type": "code",
     "collapsed": false,
     "input": [
      "# calculate the percentage of zeros\n",
      "1 - y_test.mean()"
     ],
     "language": "python",
     "metadata": {},
     "outputs": [
      {
       "metadata": {},
       "output_type": "pyout",
       "prompt_number": 11,
       "text": [
        "0.6770833333333333"
       ]
      }
     ],
     "prompt_number": 11
    },
    {
     "cell_type": "code",
     "collapsed": false,
     "input": [
      "# calculate null accuracy (for binary classification problems coded as 0/1)\n",
      "max(y_test.mean(), 1 - y_test.mean())"
     ],
     "language": "python",
     "metadata": {},
     "outputs": [
      {
       "metadata": {},
       "output_type": "pyout",
       "prompt_number": 12,
       "text": [
        "0.6770833333333333"
       ]
      }
     ],
     "prompt_number": 12
    },
    {
     "cell_type": "code",
     "collapsed": false,
     "input": [
      "# calculate null accuracy (for multi-class classification problems)\n",
      "y_test.value_counts().head(1) / len(y_test)"
     ],
     "language": "python",
     "metadata": {},
     "outputs": [
      {
       "metadata": {},
       "output_type": "pyout",
       "prompt_number": 13,
       "text": [
        "0    0.677083\n",
        "dtype: float64"
       ]
      }
     ],
     "prompt_number": 13
    },
    {
     "cell_type": "markdown",
     "metadata": {},
     "source": [
      "Comparing the **true** and **predicted** response values"
     ]
    },
    {
     "cell_type": "code",
     "collapsed": false,
     "input": [
      "# print the first 25 true and predicted responses\n",
      "print 'True:', y_test.values[0:25]\n",
      "print 'Pred:', y_pred_class[0:25]"
     ],
     "language": "python",
     "metadata": {},
     "outputs": [
      {
       "output_type": "stream",
       "stream": "stdout",
       "text": [
        "True: [1 0 0 1 0 0 1 1 0 0 1 1 0 0 0 0 1 0 0 0 1 1 0 0 0]\n",
        "Pred: [0 0 0 0 0 0 0 1 0 1 0 1 0 0 0 0 0 0 0 0 0 0 0 0 0]\n"
       ]
      }
     ],
     "prompt_number": 14
    },
    {
     "cell_type": "markdown",
     "metadata": {},
     "source": [
      "**Conclusion:**\n",
      "\n",
      "- Classification accuracy is the **easiest classification metric to understand**\n",
      "- But, it does not tell you the **underlying distribution** of response values\n",
      "- And, it does not tell you what **\"types\" of errors** your classifier is making"
     ]
    },
    {
     "cell_type": "markdown",
     "metadata": {},
     "source": [
      "## Confusion matrix\n",
      "\n",
      "Table that describes the performance of a classification model"
     ]
    },
    {
     "cell_type": "code",
     "collapsed": false,
     "input": [
      "# IMPORTANT: first argument is true values, second argument is predicted values\n",
      "print metrics.confusion_matrix(y_test, y_pred_class)"
     ],
     "language": "python",
     "metadata": {},
     "outputs": [
      {
       "output_type": "stream",
       "stream": "stdout",
       "text": [
        "[[118  12]\n",
        " [ 47  15]]\n"
       ]
      }
     ],
     "prompt_number": 15
    },
    {
     "cell_type": "markdown",
     "metadata": {},
     "source": [
      "![Small confusion matrix](images/09_confusion_matrix_1.png)"
     ]
    },
    {
     "cell_type": "markdown",
     "metadata": {},
     "source": [
      "- Every observation in the testing set is represented in **exactly one box**\n",
      "- It's a 2x2 matrix because there are **2 response classes**\n",
      "- The format shown here is **not** universal"
     ]
    },
    {
     "cell_type": "markdown",
     "metadata": {},
     "source": [
      "**Basic terminology**\n",
      "\n",
      "- **True Positives (TP):** we *correctly* predicted that they *do* have diabetes\n",
      "- **True Negatives (TN):** we *correctly* predicted that they *don't* have diabetes\n",
      "- **False Positives (FP):** we *incorrectly* predicted that they *do* have diabetes (a \"Type I error\")\n",
      "- **False Negatives (FN):** we *incorrectly* predicted that they *don't* have diabetes (a \"Type II error\")"
     ]
    },
    {
     "cell_type": "code",
     "collapsed": false,
     "input": [
      "# print the first 25 true and predicted responses\n",
      "print 'True:', y_test.values[0:25]\n",
      "print 'Pred:', y_pred_class[0:25]"
     ],
     "language": "python",
     "metadata": {},
     "outputs": [
      {
       "output_type": "stream",
       "stream": "stdout",
       "text": [
        "True: [1 0 0 1 0 0 1 1 0 0 1 1 0 0 0 0 1 0 0 0 1 1 0 0 0]\n",
        "Pred: [0 0 0 0 0 0 0 1 0 1 0 1 0 0 0 0 0 0 0 0 0 0 0 0 0]\n"
       ]
      }
     ],
     "prompt_number": 16
    },
    {
     "cell_type": "code",
     "collapsed": true,
     "input": [
      "# save confusion matrix and slice into four pieces\n",
      "confusion = metrics.confusion_matrix(y_test, y_pred_class)\n",
      "TP = confusion[1, 1]\n",
      "TN = confusion[0, 0]\n",
      "FP = confusion[0, 1]\n",
      "FN = confusion[1, 0]"
     ],
     "language": "python",
     "metadata": {},
     "outputs": [],
     "prompt_number": 17
    },
    {
     "cell_type": "markdown",
     "metadata": {},
     "source": [
      "![Large confusion matrix](images/09_confusion_matrix_2.png)"
     ]
    },
    {
     "cell_type": "heading",
     "level": 2,
     "metadata": {},
     "source": [
      "Metrics computed from a confusion matrix"
     ]
    },
    {
     "cell_type": "markdown",
     "metadata": {},
     "source": [
      "**Classification Accuracy:** Overall, how often is the classifier correct?"
     ]
    },
    {
     "cell_type": "code",
     "collapsed": false,
     "input": [
      "print (TP + TN) / float(TP + TN + FP + FN)\n",
      "print metrics.accuracy_score(y_test, y_pred_class)"
     ],
     "language": "python",
     "metadata": {},
     "outputs": [
      {
       "output_type": "stream",
       "stream": "stdout",
       "text": [
        "0.692708333333\n",
        "0.692708333333\n"
       ]
      }
     ],
     "prompt_number": 18
    },
    {
     "cell_type": "markdown",
     "metadata": {},
     "source": [
      "**Classification Error:** Overall, how often is the classifier incorrect?\n",
      "\n",
      "- Also known as \"Misclassification Rate\""
     ]
    },
    {
     "cell_type": "code",
     "collapsed": false,
     "input": [
      "print (FP + FN) / float(TP + TN + FP + FN)\n",
      "print 1 - metrics.accuracy_score(y_test, y_pred_class)"
     ],
     "language": "python",
     "metadata": {},
     "outputs": [
      {
       "output_type": "stream",
       "stream": "stdout",
       "text": [
        "0.307291666667\n",
        "0.307291666667\n"
       ]
      }
     ],
     "prompt_number": 19
    },
    {
     "cell_type": "markdown",
     "metadata": {},
     "source": [
      "**Sensitivity:** When the actual value is positive, how often is the prediction correct?\n",
      "\n",
      "- How \"sensitive\" is the classifier to detecting positive instances?\n",
      "- Also known as \"True Positive Rate\" or \"Recall\""
     ]
    },
    {
     "cell_type": "code",
     "collapsed": false,
     "input": [
      "print TP / float(TP + FN)\n",
      "print metrics.recall_score(y_test, y_pred_class)"
     ],
     "language": "python",
     "metadata": {},
     "outputs": [
      {
       "output_type": "stream",
       "stream": "stdout",
       "text": [
        "0.241935483871\n",
        "0.241935483871\n"
       ]
      }
     ],
     "prompt_number": 20
    },
    {
     "cell_type": "markdown",
     "metadata": {},
     "source": [
      "**Specificity:** When the actual value is negative, how often is the prediction correct?\n",
      "\n",
      "- How \"specific\" (or \"selective\") is the classifier in predicting positive instances?"
     ]
    },
    {
     "cell_type": "code",
     "collapsed": false,
     "input": [
      "print TN / float(TN + FP)"
     ],
     "language": "python",
     "metadata": {},
     "outputs": [
      {
       "output_type": "stream",
       "stream": "stdout",
       "text": [
        "0.907692307692\n"
       ]
      }
     ],
     "prompt_number": 21
    },
    {
     "cell_type": "markdown",
     "metadata": {},
     "source": [
      "**False Positive Rate:** When the actual value is negative, how often is the prediction incorrect?"
     ]
    },
    {
     "cell_type": "code",
     "collapsed": false,
     "input": [
      "print FP / float(TN + FP)"
     ],
     "language": "python",
     "metadata": {},
     "outputs": [
      {
       "output_type": "stream",
       "stream": "stdout",
       "text": [
        "0.0923076923077\n"
       ]
      }
     ],
     "prompt_number": 22
    },
    {
     "cell_type": "markdown",
     "metadata": {},
     "source": [
      "**Precision:** When a positive value is predicted, how often is the prediction correct?\n",
      "\n",
      "- How \"precise\" is the classifier when predicting positive instances?"
     ]
    },
    {
     "cell_type": "code",
     "collapsed": false,
     "input": [
      "print TP / float(TP + FP)\n",
      "print metrics.precision_score(y_test, y_pred_class)"
     ],
     "language": "python",
     "metadata": {},
     "outputs": [
      {
       "output_type": "stream",
       "stream": "stdout",
       "text": [
        "0.555555555556\n",
        "0.555555555556\n"
       ]
      }
     ],
     "prompt_number": 23
    },
    {
     "cell_type": "markdown",
     "metadata": {},
     "source": [
      "Many other metrics can be computed: F1 score, Matthews correlation coefficient, etc."
     ]
    },
    {
     "cell_type": "markdown",
     "metadata": {},
     "source": [
      "**Conclusion:**\n",
      "\n",
      "- Confusion matrix gives you a **more complete picture** of how your classifier is performing\n",
      "- Also allows you to compute various **classification metrics**, and these metrics can guide your model selection\n",
      "\n",
      "**Which metrics should you focus on?**\n",
      "\n",
      "- Choice of metric depends on your **business objective**\n",
      "- **Spam filter** (positive class is \"spam\"): Optimize for **precision or specificity** because false negatives (spam goes to the inbox) are more acceptable than false positives (non-spam is caught by the spam filter)\n",
      "- **Fraudulent transaction detector** (positive class is \"fraud\"): Optimize for **sensitivity** because false positives (normal transactions that are flagged as possible fraud) are more acceptable than false negatives (fraudulent transactions that are not detected)"
     ]
    },
    {
     "cell_type": "heading",
     "level": 2,
     "metadata": {},
     "source": [
      "Adjusting the classification threshold"
     ]
    },
    {
     "cell_type": "code",
     "collapsed": false,
     "input": [
      "# print the first 10 predicted responses\n",
      "logreg.predict(X_test)[0:10]"
     ],
     "language": "python",
     "metadata": {},
     "outputs": [
      {
       "metadata": {},
       "output_type": "pyout",
       "prompt_number": 24,
       "text": [
        "array([0, 0, 0, 0, 0, 0, 0, 1, 0, 1], dtype=int64)"
       ]
      }
     ],
     "prompt_number": 24
    },
    {
     "cell_type": "code",
     "collapsed": false,
     "input": [
      "# print the first 10 predicted probabilities of class membership\n",
      "logreg.predict_proba(X_test)[0:10, :]"
     ],
     "language": "python",
     "metadata": {},
     "outputs": [
      {
       "metadata": {},
       "output_type": "pyout",
       "prompt_number": 25,
       "text": [
        "array([[ 0.63247571,  0.36752429],\n",
        "       [ 0.71643656,  0.28356344],\n",
        "       [ 0.71104114,  0.28895886],\n",
        "       [ 0.5858938 ,  0.4141062 ],\n",
        "       [ 0.84103973,  0.15896027],\n",
        "       [ 0.82934844,  0.17065156],\n",
        "       [ 0.50110974,  0.49889026],\n",
        "       [ 0.48658459,  0.51341541],\n",
        "       [ 0.72321388,  0.27678612],\n",
        "       [ 0.32810562,  0.67189438]])"
       ]
      }
     ],
     "prompt_number": 25
    },
    {
     "cell_type": "code",
     "collapsed": false,
     "input": [
      "# print the first 10 predicted probabilities for class 1\n",
      "logreg.predict_proba(X_test)[0:10, 1]"
     ],
     "language": "python",
     "metadata": {},
     "outputs": [
      {
       "metadata": {},
       "output_type": "pyout",
       "prompt_number": 26,
       "text": [
        "array([ 0.36752429,  0.28356344,  0.28895886,  0.4141062 ,  0.15896027,\n",
        "        0.17065156,  0.49889026,  0.51341541,  0.27678612,  0.67189438])"
       ]
      }
     ],
     "prompt_number": 26
    },
    {
     "cell_type": "code",
     "collapsed": true,
     "input": [
      "# store the predicted probabilities for class 1\n",
      "y_pred_prob = logreg.predict_proba(X_test)[:, 1]"
     ],
     "language": "python",
     "metadata": {},
     "outputs": [],
     "prompt_number": 27
    },
    {
     "cell_type": "code",
     "collapsed": true,
     "input": [
      "# allow plots to appear in the notebook\n",
      "%matplotlib inline\n",
      "import matplotlib.pyplot as plt\n",
      "plt.rcParams['font.size'] = 14"
     ],
     "language": "python",
     "metadata": {},
     "outputs": [],
     "prompt_number": 28
    },
    {
     "cell_type": "code",
     "collapsed": false,
     "input": [
      "# histogram of predicted probabilities\n",
      "plt.hist(y_pred_prob, bins=8)\n",
      "plt.xlim(0, 1)\n",
      "plt.title('Histogram of predicted probabilities')\n",
      "plt.xlabel('Predicted probability of diabetes')\n",
      "plt.ylabel('Frequency')"
     ],
     "language": "python",
     "metadata": {},
     "outputs": [
      {
       "metadata": {},
       "output_type": "pyout",
       "prompt_number": 29,
       "text": [
        "<matplotlib.text.Text at 0x18b01dd8>"
       ]
      },
      {
       "metadata": {},
       "output_type": "display_data",
       "png": "[encoded data removed]",
       "text": [
        "<matplotlib.figure.Figure at 0x18a50208>"
       ]
      }
     ],
     "prompt_number": 29
    },
    {
     "cell_type": "markdown",
     "metadata": {},
     "source": [
      "**Decrease the threshold** for predicting diabetes in order to **increase the sensitivity** of the classifier"
     ]
    },
    {
     "cell_type": "code",
     "collapsed": true,
     "input": [
      "# predict diabetes if the predicted probability is greater than 0.3\n",
      "from sklearn.preprocessing import binarize\n",
      "y_pred_class = binarize(y_pred_prob, 0.3)[0]"
     ],
     "language": "python",
     "metadata": {},
     "outputs": [],
     "prompt_number": 30
    },
    {
     "cell_type": "code",
     "collapsed": false,
     "input": [
      "# print the first 10 predicted probabilities\n",
      "y_pred_prob[0:10]"
     ],
     "language": "python",
     "metadata": {},
     "outputs": [
      {
       "metadata": {},
       "output_type": "pyout",
       "prompt_number": 31,
       "text": [
        "array([ 0.36752429,  0.28356344,  0.28895886,  0.4141062 ,  0.15896027,\n",
        "        0.17065156,  0.49889026,  0.51341541,  0.27678612,  0.67189438])"
       ]
      }
     ],
     "prompt_number": 31
    },
    {
     "cell_type": "code",
     "collapsed": false,
     "input": [
      "# print the first 10 predicted classes with the lower threshold\n",
      "y_pred_class[0:10]"
     ],
     "language": "python",
     "metadata": {},
     "outputs": [
      {
       "metadata": {},
       "output_type": "pyout",
       "prompt_number": 32,
       "text": [
        "array([ 1.,  0.,  0.,  1.,  0.,  0.,  1.,  1.,  0.,  1.])"
       ]
      }
     ],
     "prompt_number": 32
    },
    {
     "cell_type": "code",
     "collapsed": false,
     "input": [
      "# previous confusion matrix (default threshold of 0.5)\n",
      "print confusion"
     ],
     "language": "python",
     "metadata": {},
     "outputs": [
      {
       "output_type": "stream",
       "stream": "stdout",
       "text": [
        "[[118  12]\n",
        " [ 47  15]]\n"
       ]
      }
     ],
     "prompt_number": 33
    },
    {
     "cell_type": "code",
     "collapsed": false,
     "input": [
      "# new confusion matrix (threshold of 0.3)\n",
      "print metrics.confusion_matrix(y_test, y_pred_class)"
     ],
     "language": "python",
     "metadata": {},
     "outputs": [
      {
       "output_type": "stream",
       "stream": "stdout",
       "text": [
        "[[80 50]\n",
        " [16 46]]\n"
       ]
      }
     ],
     "prompt_number": 34
    },
    {
     "cell_type": "code",
     "collapsed": false,
     "input": [
      "# sensitivity has increased (used to be 0.24)\n",
      "print 46 / float(46 + 16)"
     ],
     "language": "python",
     "metadata": {},
     "outputs": [
      {
       "output_type": "stream",
       "stream": "stdout",
       "text": [
        "0.741935483871\n"
       ]
      }
     ],
     "prompt_number": 35
    },
    {
     "cell_type": "code",
     "collapsed": false,
     "input": [
      "# specificity has decreased (used to be 0.91)\n",
      "print 80 / float(80 + 50)"
     ],
     "language": "python",
     "metadata": {},
     "outputs": [
      {
       "output_type": "stream",
       "stream": "stdout",
       "text": [
        "0.615384615385\n"
       ]
      }
     ],
     "prompt_number": 36
    },
    {
     "cell_type": "markdown",
     "metadata": {},
     "source": [
      "**Conclusion:**\n",
      "\n",
      "- **Threshold of 0.5** is used by default (for binary problems) to convert predicted probabilities into class predictions\n",
      "- Threshold can be **adjusted** to increase sensitivity or specificity\n",
      "- Sensitivity and specificity have an **inverse relationship**"
     ]
    },
    {
     "cell_type": "markdown",
     "metadata": {},
     "source": [
      "## ROC Curves and Area Under the Curve (AUC)\n",
      "\n",
      "**Question:** Wouldn't it be nice if we could see how sensitivity and specificity are affected by various thresholds, without actually changing the threshold?\n",
      "\n",
      "**Answer:** Plot the ROC curve!"
     ]
    },
    {
     "cell_type": "code",
     "collapsed": false,
     "input": [
      "# IMPORTANT: first argument is true values, second argument is predicted probabilities\n",
      "fpr, tpr, thresholds = metrics.roc_curve(y_test, y_pred_prob)\n",
      "plt.plot(fpr, tpr)\n",
      "plt.xlim([0.0, 1.0])\n",
      "plt.ylim([0.0, 1.0])\n",
      "plt.title('ROC curve for diabetes classifier')\n",
      "plt.xlabel('False Positive Rate (1 - Specificity)')\n",
      "plt.ylabel('True Positive Rate (Sensitivity)')\n",
      "plt.grid(True)"
     ],
     "language": "python",
     "metadata": {},
     "outputs": [
      {
       "metadata": {},
       "output_type": "display_data",
       "png": "[encoded data removed]",
       "text": [
        "<matplotlib.figure.Figure at 0x18b34a90>"
       ]
      }
     ],
     "prompt_number": 37
    },
    {
     "cell_type": "markdown",
     "metadata": {},
     "source": [
      "- ROC curve can help you to **choose a threshold** that balances sensitivity and specificity in a way that makes sense for your particular context\n",
      "- You can't actually **see the thresholds** used to generate the curve on the ROC curve itself"
     ]
    },
    {
     "cell_type": "code",
     "collapsed": true,
     "input": [
      "# define a function that accepts a threshold and prints sensitivity and specificity\n",
      "def evaluate_threshold(threshold):\n",
      "    print 'Sensitivity:', tpr[thresholds > threshold][-1]\n",
      "    print 'Specificity:', 1 - fpr[thresholds > threshold][-1]"
     ],
     "language": "python",
     "metadata": {},
     "outputs": [],
     "prompt_number": 38
    },
    {
     "cell_type": "code",
     "collapsed": false,
     "input": [
      "evaluate_threshold(0.5)"
     ],
     "language": "python",
     "metadata": {},
     "outputs": [
      {
       "output_type": "stream",
       "stream": "stdout",
       "text": [
        "Sensitivity: 0.241935483871\n",
        "Specificity: 0.907692307692\n"
       ]
      }
     ],
     "prompt_number": 39
    },
    {
     "cell_type": "code",
     "collapsed": false,
     "input": [
      "evaluate_threshold(0.3)"
     ],
     "language": "python",
     "metadata": {},
     "outputs": [
      {
       "output_type": "stream",
       "stream": "stdout",
       "text": [
        "Sensitivity: 0.741935483871\n",
        "Specificity: 0.615384615385\n"
       ]
      }
     ],
     "prompt_number": 40
    },
    {
     "cell_type": "markdown",
     "metadata": {},
     "source": [
      "AUC is the **percentage** of the ROC plot that is **underneath the curve**:"
     ]
    },
    {
     "cell_type": "code",
     "collapsed": false,
     "input": [
      "# IMPORTANT: first argument is true values, second argument is predicted probabilities\n",
      "print metrics.roc_auc_score(y_test, y_pred_prob)"
     ],
     "language": "python",
     "metadata": {},
     "outputs": [
      {
       "output_type": "stream",
       "stream": "stdout",
       "text": [
        "0.724565756824\n"
       ]
      }
     ],
     "prompt_number": 41
    },
    {
     "cell_type": "markdown",
     "metadata": {},
     "source": [
      "- AUC is useful as a **single number summary** of classifier performance.\n",
      "- If you randomly chose one positive and one negative observation, AUC represents the likelihood that your classifier will assign a **higher predicted probability** to the positive observation.\n",
      "- AUC is useful even when there is **high class imbalance** (unlike classification accuracy)."
     ]
    },
    {
     "cell_type": "code",
     "collapsed": false,
     "input": [
      "# calculate cross-validated AUC\n",
      "from sklearn.cross_validation import cross_val_score\n",
      "cross_val_score(logreg, X, y, cv=10, scoring='roc_auc').mean()"
     ],
     "language": "python",
     "metadata": {},
     "outputs": [
      {
       "metadata": {},
       "output_type": "pyout",
       "prompt_number": 42,
       "text": [
        "0.73782336182336183"
       ]
      }
     ],
     "prompt_number": 42
    },
    {
     "cell_type": "markdown",
     "metadata": {},
     "source": [
      "**Confusion matrix advantages:**\n",
      "\n",
      "- Allows you to calculate a **variety of metrics**\n",
      "- Useful for **multi-class problems** (more than two response classes)\n",
      "\n",
      "**ROC/AUC advantages:**\n",
      "\n",
      "- Does not require you to **set a classification threshold**\n",
      "- Still useful when there is **high class imbalance**"
     ]
    },
    {
     "cell_type": "markdown",
     "metadata": {},
     "source": [
      "## Confusion Matrix Resources\n",
      "\n",
      "- Blog post: [Simple guide to confusion matrix terminology](http://www.dataschool.io/simple-guide-to-confusion-matrix-terminology/) by me\n",
      "- Videos: [Intuitive sensitivity and specificity](https://www.youtube.com/watch?v=U4_3fditnWg) (9 minutes) and [The tradeoff between sensitivity and specificity](https://www.youtube.com/watch?v=vtYDyGGeQyo) (13 minutes) by Rahul Patwari\n",
      "- Notebook: [How to calculate \"expected value\"](https://github.com/podopie/DAT18NYC/blob/master/classes/13-expected_value_cost_benefit_analysis.ipynb) from a confusion matrix by treating it as a cost-benefit matrix (by Ed Podojil)\n",
      "- Graphic: How [classification threshold](https://media.amazonwebservices.com/blog/2015/ml_adjust_model_1.png) affects different evaluation metrics (from a [blog post](https://aws.amazon.com/blogs/aws/amazon-machine-learning-make-data-driven-decisions-at-scale/) about Amazon Machine Learning)\n",
      "\n",
      "\n",
      "## ROC and AUC Resources\n",
      "\n",
      "- Lesson notes: [ROC Curves](http://ebp.uga.edu/courses/Chapter%204%20-%20Diagnosis%20I/8%20-%20ROC%20curves.html) (from the University of Georgia)\n",
      "- Video: [ROC Curves and Area Under the Curve](https://www.youtube.com/watch?v=OAl6eAyP-yo) (14 minutes) by me, including [transcript and screenshots](http://www.dataschool.io/roc-curves-and-auc-explained/) and a [visualization](http://www.navan.name/roc/)\n",
      "- Video: [ROC Curves](https://www.youtube.com/watch?v=21Igj5Pr6u4) (12 minutes) by Rahul Patwari\n",
      "- Paper: [An introduction to ROC analysis](http://people.inf.elte.hu/kiss/13dwhdm/roc.pdf) by Tom Fawcett\n",
      "- Usage examples: [Comparing different feature sets](http://research.microsoft.com/pubs/205472/aisec10-leontjeva.pdf) for detecting fraudulent Skype users, and [comparing different classifiers](http://www.cse.ust.hk/nevinZhangGroup/readings/yi/Bradley_PR97.pdf) on a number of popular datasets\n",
      "\n",
      "## Other Resources\n",
      "\n",
      "- scikit-learn documentation: [Model evaluation](http://scikit-learn.org/stable/modules/model_evaluation.html)\n",
      "- Guide: [Comparing model evaluation procedures and metrics](https://github.com/justmarkham/DAT8/blob/master/other/model_evaluation_comparison.md) by me\n",
      "- Video: [Counterfactual evaluation of machine learning models](https://www.youtube.com/watch?v=QWCSxAKR-h0) (45 minutes) about how Stripe evaluates its fraud detection model, including [slides](http://www.slideshare.net/MichaelManapat/counterfactual-evaluation-of-machine-learning-models)"
     ]
    },
    {
     "cell_type": "markdown",
     "metadata": {},
     "source": [
      "## Comments or Questions?\n",
      "\n",
      "- Email: <kevin@dataschool.io>\n",
      "- Website: http://dataschool.io\n",
      "- Twitter: [@justmarkham](https://twitter.com/justmarkham)"
     ]
    },
    {
     "cell_type": "code",
     "collapsed": false,
     "input": [
      "from IPython.core.display import HTML\n",
      "def css_styling():\n",
      "    styles = open(\"styles/custom.css\", \"r\").read()\n",
      "    return HTML(styles)\n",
      "css_styling()"
     ],
     "language": "python",
     "metadata": {},
     "outputs": [
      {
       "html": [
        "<style>\n",
        "    @font-face {\n",
        "        font-family: \"Computer Modern\";\n",
        "        src: url('http://mirrors.ctan.org/fonts/cm-unicode/fonts/otf/cmunss.otf');\n",
        "    }\n",
        "    div.cell{\n",
        "        width: 90%;\n",
        "/*        margin-left:auto;*/\n",
        "/*        margin-right:auto;*/\n",
        "    }\n",
        "    ul {\n",
        "        line-height: 145%;\n",
        "        font-size: 90%;\n",
        "    }\n",
        "    li {\n",
        "        margin-bottom: 1em;\n",
        "    }\n",
        "    h1 {\n",
        "        font-family: Helvetica, serif;\n",
        "    }\n",
        "    h4{\n",
        "        margin-top: 12px;\n",
        "        margin-bottom: 3px;\n",
        "       }\n",
        "    div.text_cell_render{\n",
        "        font-family: Computer Modern, \"Helvetica Neue\", Arial, Helvetica, Geneva, sans-serif;\n",
        "        line-height: 145%;\n",
        "        font-size: 130%;\n",
        "        width: 90%;\n",
        "        margin-left:auto;\n",
        "        margin-right:auto;\n",
        "    }\n",
        "    .CodeMirror{\n",
        "            font-family: \"Source Code Pro\", source-code-pro,Consolas, monospace;\n",
        "    }\n",
        "/*    .prompt{\n",
        "        display: None;\n",
        "    }*/\n",
        "    .text_cell_render h5 {\n",
        "        font-weight: 300;\n",
        "        font-size: 16pt;\n",
        "        color: #4057A1;\n",
        "        font-style: italic;\n",
        "        margin-bottom: 0.5em;\n",
        "        margin-top: 0.5em;\n",
        "        display: block;\n",
        "    }\n",
        "\n",
        "    .warning{\n",
        "        color: rgb( 240, 20, 20 )\n",
        "        }\n",
        "</style>\n",
        "<script>\n",
        "    MathJax.Hub.Config({\n",
        "                        TeX: {\n",
        "                           extensions: [\"AMSmath.js\"]\n",
        "                           },\n",
        "                tex2jax: {\n",
        "                    inlineMath: [ ['$','$'], [\"\\\\(\",\"\\\\)\"] ],\n",
        "                    displayMath: [ ['$$','$$'], [\"\\\\[\",\"\\\\]\"] ]\n",
        "                },\n",
        "                displayAlign: 'center', // Change this to 'center' to center equations.\n",
        "                \"HTML-CSS\": {\n",
        "                    styles: {'.MathJax_Display': {\"margin\": 4}}\n",
        "                }\n",
        "        });\n",
        "</script>"
       ],
       "metadata": {},
       "output_type": "pyout",
       "prompt_number": 1,
       "text": [
        "<IPython.core.display.HTML object>"
       ]
      }
     ],
     "prompt_number": 1
    }
   ],
   "metadata": {}
  }
 ]
}