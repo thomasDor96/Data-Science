{
 "cells": [
  {
   "cell_type": "markdown",
   "metadata": {},
   "source": [
    "# Introduction to Machine Learning (ML)"
   ]
  },
  {
   "cell_type": "markdown",
   "metadata": {},
   "source": [
    "## Table of Content\n",
    "\n",
    "1. Overview about ML\n",
    " - Supervised Learning \n",
    " - Unsupervised Learning\n",
    "<br><br>\n",
    "2. Supervised Learning\n",
    "<br>\n",
    "    - Regression\n",
    "    - Logistic Regression\n",
    "    - Support Vector Machines (SVM)\n",
    "<br><br>\n",
    "3. Unsupervised Learning\n",
    "<br>\n",
    "    - k-means (for Clustering)\n",
    "    - Neural Networks"
   ]
  },
  {
   "cell_type": "markdown",
   "metadata": {},
   "source": [
    "### 1. Overview about ML\n",
    "---\n",
    "\n",
    "#### a) Supervised Learning\n",
    "\n",
    "The majority of practical machine learning uses supervised learning.\n",
    "\n",
    "Supervised learning is where you **have input variables (x) and an output variable (Y)** and you use an algorithm to learn the mapping function from the input to the output.\n",
    "\n",
    "**Y = f(X)**\n",
    "\n",
    "The goal is to approximate the mapping function so well that when you have new input data (x) that you can predict the output variables (Y) for that data.\n",
    "\n",
    "It is called supervised learning because the process of an algorithm learning from the training dataset can be thought of as a teacher supervising the learning process. We know the correct answers, the algorithm iteratively makes predictions on the training data and is corrected by the teacher. Learning stops when the algorithm achieves an acceptable level of performance.\n",
    "\n",
    "\n",
    "Supervised learning problems can be further grouped into regression and classification problems.\n",
    "\n",
    "* **Classification:** A classification problem is when the output variable is a _category_, such as “red” or “blue” or “disease” and “no disease”.\n",
    "* **Regression:** A regression problem is when the output variable is a _real value (numeric)_, such as “dollars” or “weight”\n",
    "\n",
    "<br>\n",
    "Some popular examples of supervised machine learning algorithms are:\n",
    "\n",
    "* Linear and logistic regression problems\n",
    "* Classification and Random forest for classification and regression problems\n",
    "* Support vector machines for classification problems\n",
    "* Naive Bayes\n",
    "* Neural network\n",
    "* Gradient boosting"
   ]
  },
  {
   "cell_type": "markdown",
   "metadata": {},
   "source": [
    "#### b) Unsupervised Learning\n"
   ]
  },
  {
   "cell_type": "markdown",
   "metadata": {},
   "source": [
    "Unsupervised learning is where you only have input data (X) and no corresponding output variables.\n",
    "\n",
    "The goal for unsupervised learning is to model the underlying structure or distribution in the data in order to learn more about the data.\n",
    "\n",
    "These are called unsupervised learning because unlike supervised learning above there is no correct answers and there is no teacher. Algorithms are left to their own devises to discover and present the interesting structure in the data.\n",
    "\n",
    "Unsupervised learning problems can be further grouped into clustering and association problems.\n",
    "\n",
    "* **Clustering:** A clustering problem is where you want to discover the inherent groupings in the data, such as grouping customers by purchasing behavior.\n",
    "\n",
    "* **Association:**  An association rule learning problem is where you want to discover rules that describe large portions of your data, such as people that buy X also tend to buy Y.\n",
    "\n",
    "<br>\n",
    "Some popular examples of unsupervised learning algorithms are:\n",
    "\n",
    "- k-means (for Clustering)\n",
    "- Neural Networks"
   ]
  },
  {
   "cell_type": "markdown",
   "metadata": {},
   "source": []
  }
 ],
 "metadata": {
  "kernelspec": {
   "display_name": "Python 3",
   "language": "python",
   "name": "python3"
  },
  "language_info": {
   "codemirror_mode": {
    "name": "ipython",
    "version": 3
   },
   "file_extension": ".py",
   "mimetype": "text/x-python",
   "name": "python",
   "nbconvert_exporter": "python",
   "pygments_lexer": "ipython3",
   "version": "3.6.4"
  }
 },
 "nbformat": 4,
 "nbformat_minor": 2
}
