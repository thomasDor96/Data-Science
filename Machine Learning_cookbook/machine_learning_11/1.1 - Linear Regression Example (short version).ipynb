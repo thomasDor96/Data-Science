{
 "cells": [
  {
   "cell_type": "markdown",
   "metadata": {},
   "source": [
    "\n",
    "# Linear Regression Example (Simplified)"
   ]
  },
  {
   "cell_type": "code",
   "execution_count": 10,
   "metadata": {},
   "outputs": [
    {
     "name": "stdout",
     "output_type": "stream",
     "text": [
      "   Features  Coefficient Estimate\n",
      "0      CRIM             -0.122997\n",
      "1        ZN              0.047103\n",
      "2     INDUS              0.028702\n",
      "3      CHAS              1.475443\n",
      "4       NOX            -18.688069\n",
      "5        RM              3.634476\n",
      "6       AGE             -0.001070\n",
      "7       DIS             -1.633152\n",
      "8       RAD              0.338757\n",
      "9       TAX             -0.012964\n",
      "10  PTRATIO             -1.034120\n",
      "11        B              0.009061\n",
      "12    LSTAT             -0.529999\n",
      "\n",
      "Mean squared error: 16.19\n",
      "Variance score: 0.77\n"
     ]
    }
   ],
   "source": [
    "%matplotlib inline\n",
    "\n",
    "import matplotlib.pyplot as plt\n",
    "import numpy as np\n",
    "import pandas as pd\n",
    "\n",
    "from sklearn.linear_model import LinearRegression\n",
    "from sklearn.metrics import mean_squared_error, r2_score\n",
    "from sklearn.datasets import load_boston\n",
    "from sklearn.model_selection import train_test_split\n",
    "\n",
    "\n",
    "# Load the housing dataset\n",
    "boston = load_boston()\n",
    "\n",
    "# reset data as pandas DataFrame\n",
    "boston_df = pd.DataFrame(boston.data)\n",
    "\n",
    "# label columns\n",
    "boston_df.columns = boston.feature_names\n",
    "\n",
    "\n",
    "# Use all features\n",
    "X = boston_df\n",
    "\n",
    "Y = boston.target\n",
    "\n",
    "# Split the data into training/testing sets\n",
    "X_train, X_test, Y_train, Y_test = train_test_split(X,Y)\n",
    "\n",
    "# Create linear regression object\n",
    "lreg = LinearRegression()\n",
    "\n",
    "# Train the model using the training sets\n",
    "lreg.fit(X_train, Y_train)\n",
    "\n",
    "# Make predictions using the testing set\n",
    "pred_test = lreg.predict(X_test)\n",
    "\n",
    "# Set a DataFrame from the Features\n",
    "coeff_df = pd.DataFrame(boston_df.columns)\n",
    "coeff_df.columns = ['Features']\n",
    "\n",
    "# Set a new column lining up the coefficients from the linear regression\n",
    "coeff_df[\"Coefficient Estimate\"] = pd.Series(lreg.coef_)\n",
    "\n",
    "# Show coefficients\n",
    "print(coeff_df)\n",
    "\n",
    "# The mean squared error\n",
    "print(\"\\nMean squared error: %.2f\"\n",
    "      % mean_squared_error(Y_test, pred_test))\n",
    "\n",
    "# Explained variance score: 1 is perfect prediction\n",
    "print('Variance score: %.2f' % r2_score(Y_test, pred_test))"
   ]
  },
  {
   "cell_type": "code",
   "execution_count": null,
   "metadata": {
    "collapsed": true
   },
   "outputs": [],
   "source": []
  }
 ],
 "metadata": {
  "kernelspec": {
   "display_name": "Python 3",
   "language": "python",
   "name": "python3"
  },
  "language_info": {
   "codemirror_mode": {
    "name": "ipython",
    "version": 3
   },
   "file_extension": ".py",
   "mimetype": "text/x-python",
   "name": "python",
   "nbconvert_exporter": "python",
   "pygments_lexer": "ipython3",
   "version": "3.6.3"
  }
 },
 "nbformat": 4,
 "nbformat_minor": 1
}
