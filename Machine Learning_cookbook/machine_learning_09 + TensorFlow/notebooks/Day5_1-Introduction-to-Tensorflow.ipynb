{
 "cells": [
  {
   "cell_type": "markdown",
   "metadata": {
    "colab_type": "text",
    "id": "EFm_zK7M-q3s"
   },
   "source": [
    "# Introduction to TensorFlow\n",
    "\n",
    "![](https://camo.githubusercontent.com/ee91ac3c9f5ad840ebf70b54284498fe0e6ddb92/68747470733a2f2f7777772e74656e736f72666c6f772e6f72672f696d616765732f74665f6c6f676f5f7472616e73702e706e67)"
   ]
  },
  {
   "cell_type": "markdown",
   "metadata": {},
   "source": [
    "TensorFlow (TF) is an open-source library developed by Google for numerical computation over a **dataflow graph**. It provides a Python interface in the form of specialized functions and classes that allow for a variety of machine learning models to be built from scratch.\n",
    "\n",
    "TF models are highly portable, allowing them to be deployed on a variety of architechtures, from multiple CPUs or GPUs on the desktop, in the cloud, or on mobile devices.\n",
    "\n",
    "The dataflow graph allows computation to be easily parallelized. \n",
    "\n",
    "While TF was originally designed to tackle the training of deep neural networks, its abstractions can be useful for a variety of machine learning applications.\n",
    "\n",
    "TensorFlow is implemented in C++, but features several APIs for high-level languages, including Python.\n",
    "\n",
    "In 2015, Google adopted an open-source license for TF."
   ]
  },
  {
   "cell_type": "markdown",
   "metadata": {},
   "source": [
    "## A quick example\n",
    "\n",
    "The most noticeable difference between TensorFlow and Python libraries such as NumPy is that operations in TensorFlow are symbolic. This allows TensorFlow to perform important machine learning tasks, such as automatic differentiation, but it comes at the expense of forcing us to write code that is a little more difficult to grasp.\n",
    "\n",
    "For example, consider a simple linear algebra operation in NumPy:"
   ]
  },
  {
   "cell_type": "code",
   "execution_count": null,
   "metadata": {},
   "outputs": [],
   "source": [
    "import numpy as np\n",
    "\n",
    "X = np.random.normal(size=[10, 3])\n",
    "w = np.array([-1.5, 3.4, 0.6])\n",
    "y = np.dot(X, w)\n",
    "\n",
    "y"
   ]
  },
  {
   "cell_type": "markdown",
   "metadata": {},
   "source": [
    "The corresponding implementation in TF is as follows:"
   ]
  },
  {
   "cell_type": "code",
   "execution_count": null,
   "metadata": {},
   "outputs": [],
   "source": [
    "import warnings\n",
    "warnings.filterwarnings(\"ignore\", category=RuntimeWarning)\n",
    "\n",
    "import tensorflow as tf\n",
    "\n",
    "X = tf.random_normal([10, 3])\n",
    "w = tf.constant([-1.5, 3.4, 0.6], shape=[3,1])\n",
    "y = tf.matmul(X, w)\n",
    "\n",
    "y"
   ]
  },
  {
   "cell_type": "markdown",
   "metadata": {},
   "source": [
    "Notice that `y` is merely a matrix multiply *operation*, and not the value itself. In fact, no computation has taken place.\n",
    "\n",
    "Evaluation takes place inside of a TensorFlow `Session` that must be created and used to execute the operation."
   ]
  },
  {
   "cell_type": "code",
   "execution_count": null,
   "metadata": {},
   "outputs": [],
   "source": [
    "sess = tf.Session()\n",
    "y_val = sess.run(y)\n",
    "\n",
    "print(y_val)"
   ]
  },
  {
   "cell_type": "markdown",
   "metadata": {},
   "source": [
    "Thus, the call to `run` fetches the value for `y`.\n",
    "\n",
    "This illustrates the two phases of TF programs:\n",
    "\n",
    "- **construction** phase, where a graph is specified\n",
    "- **execution** phase, where operations in the graph are executed"
   ]
  },
  {
   "cell_type": "markdown",
   "metadata": {},
   "source": [
    "## TensorFlow Programming Concepts\n",
    "\n",
    "TensorFlow computation takes place over a **directed graph**, which is comprised of a set of *nodes* and associated *edges*, used to describe operations and tensors.\n",
    "\n",
    "![](images/tf_dag.png)\n",
    "\n",
    "### Tensors\n",
    "\n",
    "A tensor is a generalized (i.e. multidimensional), typed array. TF tensors support a variety of tensor element types:\n",
    "\n",
    "- signed and unsigned integers (8 to 64 bits)\n",
    "- float and double precision float \n",
    "- complex numbers\n",
    "- strings\n",
    "\n",
    "Tensors are the values that \"flow\" through the computational graph.\n",
    "\n",
    "A tensor's rank is its number of dimensions, while its shape is a tuple of integers specifying the array's length along each dimension. \n",
    "\n",
    "### Operations\n",
    "\n",
    "An operation describes an abstract computation that consumes and produces tensors.\n",
    "\n",
    "- **Element-wise mathematical operations**: Add, Sub, Mul, Div, Exp, Log\n",
    "- **Array operations**: Concat, Slice, Split, Constant, Rank, Shape\n",
    "- **Matrix operations**: MatMul, MatrixInverse\n",
    "- **Stateful operations**: Variable, Assign, AssignAdd\n",
    "- **Neural-net building blocks**: SoftMax, Sigmoid, ReLU, Convolution2D\n",
    "- **Checkpointing operations**: Save, Restore\n",
    "- **Control flow operations**: Merge, Switch, Enter, Leave, NextIteration\n",
    "\n",
    "A **kernel** is a particular implementation of an operation that can be run on a particular type of device."
   ]
  },
  {
   "cell_type": "code",
   "execution_count": null,
   "metadata": {},
   "outputs": [],
   "source": [
    "a = tf.constant(3.0, dtype=tf.float32)\n",
    "b = tf.constant(4.0) # also tf.float32 implicitly\n",
    "sum_ab = a + b"
   ]
  },
  {
   "cell_type": "code",
   "execution_count": null,
   "metadata": {},
   "outputs": [],
   "source": [
    "a"
   ]
  },
  {
   "cell_type": "code",
   "execution_count": null,
   "metadata": {},
   "outputs": [],
   "source": [
    "b"
   ]
  },
  {
   "cell_type": "code",
   "execution_count": null,
   "metadata": {},
   "outputs": [],
   "source": [
    "sum_ab"
   ]
  },
  {
   "cell_type": "markdown",
   "metadata": {
    "colab_type": "text",
    "id": "VN3utb5P-q3_"
   },
   "source": [
    "## General TensorFlow Workflow\n",
    "\n",
    "Most applications of TF to machine learning tasks proceed via the following general workflow.\n",
    "\n",
    "1. **Import and transform data.**\n",
    "\n",
    "    Data are often not in the correct dimension, type or scale that Tensorflow algorithms require.  Some algorithms expect normalized data, for exmaple.  Tensorflow includes functions for normalization, or alternatively, scikit-learn can be used for preprocessing.\n",
    "\n",
    "        data = tf.nn.batch_norm_with_global_normalization(...)`\n",
    "\n",
    "2. **Set model hyperparameters.**\n",
    "\n",
    "    ML algorithms usually have a set of parameters that configure their execution.  For example, this can be the number of iterations, the learning rate, or other fixed parameters, as necessary.  \n",
    "    \n",
    "        learning_rate = 0.01\n",
    "        iterations = 1000\n",
    "\n",
    "3. **Initialize variables and placeholders.**\n",
    "\n",
    "    Variables and placeholders for data must be specified.  Tensorflow will modify the variables during optimization, for example, to minimize a loss function. Additionally, we feed in data through placeholders, which may change from run to run, but are held constant during the execution of the algorithm. These are initialized with size and type, so that TF knows what to expect.\n",
    "\n",
    "       a_var = tf.constant(42)\n",
    "       x_input = tf.placeholder(tf.float32, [None, input_size])\n",
    "       y_input = tf.placeholder(tf.fload32, [None, num_classes])\n",
    "\n",
    "4. **Define the model structure.**\n",
    "\n",
    "    Model specification proceeds by building a computational graph, specifically by encoding which operations must be performed on the variables and placeholders. \n",
    "\n",
    "        y_pred = tf.add(tf.mul(x_input, weight_matrix), b_matrix)\n",
    "\n",
    "5. **Specify loss functions.**\n",
    "\n",
    "    After defining the model, it can only be trained if some optimization criterion is defined. The loss function is some measure of distance between predictions and data values.  \n",
    "\n",
    "        loss = tf.reduce_mean(tf.square(y_actual – y_pred))\n",
    "\n",
    "6. **Initialize and train the model.**\n",
    "\n",
    "    Now that we have everything in place, we create an instance or our graph and feed in the data through the placeholders and let Tensorflow change the variables to better predict our training data.  Here is one way to initialize the computational graph.\n",
    "\n",
    "        with tf.Session(graph=graph) as session:\n",
    "            ...\n",
    "            session.run()\n",
    "\n",
    "7. **Test the model.**\n",
    "\n",
    "    Once the model has been trained, it should be evaluated by looking at how well it performs on new data through some specified criteria.\n",
    "\n",
    "8. **Predict new outcomes.**\n",
    "\n",
    "    We often wish to use the model to generate prediction from new inputs, using the trained model."
   ]
  },
  {
   "cell_type": "markdown",
   "metadata": {
    "deletable": true,
    "editable": true
   },
   "source": [
    "## Working with Tensors"
   ]
  },
  {
   "cell_type": "markdown",
   "metadata": {
    "deletable": true,
    "editable": true
   },
   "source": [
    "First we start with loading TensorFlow and reseting the computational graph."
   ]
  },
  {
   "cell_type": "code",
   "execution_count": null,
   "metadata": {
    "collapsed": true,
    "deletable": true,
    "editable": true
   },
   "outputs": [],
   "source": [
    "import tensorflow as tf\n",
    "from tensorflow.python.framework import ops\n",
    "ops.reset_default_graph()"
   ]
  },
  {
   "cell_type": "markdown",
   "metadata": {
    "deletable": true,
    "editable": true
   },
   "source": [
    "### Start a graph session\n",
    "Get graph handle with the tf.Session()"
   ]
  },
  {
   "cell_type": "code",
   "execution_count": null,
   "metadata": {
    "collapsed": false,
    "deletable": true,
    "editable": true
   },
   "outputs": [],
   "source": [
    "sess = tf.Session()"
   ]
  },
  {
   "cell_type": "markdown",
   "metadata": {
    "deletable": true,
    "editable": true
   },
   "source": [
    "### Create Tensors\n",
    "\n",
    "TensorFlow has built in function to create tensors for use in variables.  For example, we can create a zero filled tensor of predefined shape using the `tf.zeros()` function as follows."
   ]
  },
  {
   "cell_type": "code",
   "execution_count": null,
   "metadata": {
    "collapsed": true,
    "deletable": true,
    "editable": true
   },
   "outputs": [],
   "source": [
    "my_tensor = tf.zeros([1,20])"
   ]
  },
  {
   "cell_type": "markdown",
   "metadata": {
    "deletable": true,
    "editable": true
   },
   "source": [
    "We can evaluate tensors with calling a `run()` method on our session."
   ]
  },
  {
   "cell_type": "code",
   "execution_count": null,
   "metadata": {
    "collapsed": false,
    "deletable": true,
    "editable": true
   },
   "outputs": [],
   "source": [
    "sess.run(my_tensor)"
   ]
  },
  {
   "cell_type": "markdown",
   "metadata": {
    "deletable": true,
    "editable": true
   },
   "source": [
    "TensorFlow algorithms need to know which objects are **variables** and which are **constants**. \n",
    "\n",
    "We create a variable using the TensorFlow function `tf.Variable()` as follows."
   ]
  },
  {
   "cell_type": "code",
   "execution_count": null,
   "metadata": {
    "collapsed": true,
    "deletable": true,
    "editable": true
   },
   "outputs": [],
   "source": [
    "my_var = tf.Variable(tf.zeros([1,20]))"
   ]
  },
  {
   "cell_type": "markdown",
   "metadata": {
    "deletable": true,
    "editable": true
   },
   "source": [
    "Note that you can not run `sess.run(my_var)`, this would result in an error.  Because TensorFlow operates with computational graphs, we have to create a variable intialization operation in order to evaluate variables.  We will see more of this later on.  For this script, we can initialize one variable at a time by calling the variable method `my_var.initializer`."
   ]
  },
  {
   "cell_type": "code",
   "execution_count": null,
   "metadata": {
    "collapsed": false,
    "deletable": true,
    "editable": true
   },
   "outputs": [],
   "source": [
    "sess.run(my_var.initializer)\n",
    "sess.run(my_var)"
   ]
  },
  {
   "cell_type": "markdown",
   "metadata": {
    "deletable": true,
    "editable": true
   },
   "source": [
    "Variables of a specific shape can be constructed by declaring the row and column size."
   ]
  },
  {
   "cell_type": "code",
   "execution_count": null,
   "metadata": {
    "collapsed": true,
    "deletable": true,
    "editable": true
   },
   "outputs": [],
   "source": [
    "row_dim = 2\n",
    "col_dim = 3"
   ]
  },
  {
   "cell_type": "markdown",
   "metadata": {
    "deletable": true,
    "editable": true
   },
   "source": [
    "Here are variables initialized to contain all zeros or ones."
   ]
  },
  {
   "cell_type": "code",
   "execution_count": null,
   "metadata": {
    "collapsed": true,
    "deletable": true,
    "editable": true
   },
   "outputs": [],
   "source": [
    "zero_var = tf.Variable(tf.zeros([row_dim, col_dim]))\n",
    "ones_var = tf.Variable(tf.ones([row_dim, col_dim]))"
   ]
  },
  {
   "cell_type": "markdown",
   "metadata": {
    "deletable": true,
    "editable": true
   },
   "source": [
    "Again, we can call the initializer method on our variables and run them to evaluate thier contents."
   ]
  },
  {
   "cell_type": "code",
   "execution_count": null,
   "metadata": {
    "collapsed": false,
    "deletable": true,
    "editable": true
   },
   "outputs": [],
   "source": [
    "sess.run(zero_var.initializer)\n",
    "print(sess.run(zero_var))"
   ]
  },
  {
   "cell_type": "code",
   "execution_count": null,
   "metadata": {},
   "outputs": [],
   "source": [
    "sess.run(ones_var.initializer)\n",
    "print(sess.run(ones_var))"
   ]
  },
  {
   "cell_type": "markdown",
   "metadata": {
    "deletable": true,
    "editable": true
   },
   "source": [
    "### Creating Tensors Based on Other Tensor's Shape\n",
    "If the shape of a tensor depends on the shape of another tensor, then we can use the TensorFlow built-in functions `ones_like()` or `zeros_like()`."
   ]
  },
  {
   "cell_type": "code",
   "execution_count": null,
   "metadata": {
    "collapsed": false,
    "deletable": true,
    "editable": true
   },
   "outputs": [],
   "source": [
    "zero_similar = tf.Variable(tf.zeros_like(zero_var))\n",
    "ones_similar = tf.Variable(tf.ones_like(ones_var))\n",
    "\n",
    "sess.run(ones_similar.initializer)\n",
    "sess.run(zero_similar.initializer)\n",
    "print(sess.run(ones_similar))\n",
    "print(sess.run(zero_similar))"
   ]
  },
  {
   "cell_type": "markdown",
   "metadata": {
    "deletable": true,
    "editable": true
   },
   "source": [
    "### Filling a Tensor with a Constant\n",
    "Here is how we fill a tensor with a constant."
   ]
  },
  {
   "cell_type": "code",
   "execution_count": null,
   "metadata": {
    "collapsed": false,
    "deletable": true,
    "editable": true
   },
   "outputs": [],
   "source": [
    "fill_var = tf.Variable(tf.fill([row_dim, col_dim], -1))\n",
    "sess.run(fill_var.initializer)\n",
    "print(sess.run(fill_var))"
   ]
  },
  {
   "cell_type": "markdown",
   "metadata": {
    "deletable": true,
    "editable": true
   },
   "source": [
    "We can also create a variable from an array or list of constants."
   ]
  },
  {
   "cell_type": "code",
   "execution_count": null,
   "metadata": {
    "collapsed": false,
    "deletable": true,
    "editable": true
   },
   "outputs": [],
   "source": [
    "# Create a variable from a constant\n",
    "const_var = tf.Variable(tf.constant([8, 6, 7, 5, 3, 0, 9]))\n",
    "# This can also be used to fill an array:\n",
    "const_fill_var = tf.Variable(tf.constant(-1, shape=[row_dim, col_dim]))\n",
    "\n",
    "sess.run(const_var.initializer)\n",
    "sess.run(const_fill_var.initializer)\n",
    "\n",
    "print(sess.run(const_var))\n",
    "print(sess.run(const_fill_var))"
   ]
  },
  {
   "cell_type": "markdown",
   "metadata": {
    "deletable": true,
    "editable": true
   },
   "source": [
    "### Creating Tensors Based on Sequences and Ranges\n",
    "We can also create tensors from sequence generation functions in TensorFlow.  The TensorFlow function `linspace()` and `range()` operate very similar to the python/numpy equivalents."
   ]
  },
  {
   "cell_type": "code",
   "execution_count": null,
   "metadata": {
    "collapsed": false,
    "deletable": true,
    "editable": true
   },
   "outputs": [],
   "source": [
    "# Linspace in TensorFlow\n",
    "linear_var = tf.Variable(tf.linspace(start=0.0, stop=1.0, num=3)) # Generates [0.0, 0.5, 1.0] includes the end\n",
    "\n",
    "# Range in TensorFlow\n",
    "sequence_var = tf.Variable(tf.range(start=6, limit=15, delta=3)) # Generates [6, 9, 12] doesn't include the end\n",
    "\n",
    "sess.run(linear_var.initializer)\n",
    "sess.run(sequence_var.initializer)\n",
    "\n",
    "print(sess.run(linear_var))\n",
    "print(sess.run(sequence_var))"
   ]
  },
  {
   "cell_type": "markdown",
   "metadata": {
    "deletable": true,
    "editable": true
   },
   "source": [
    "### Random Number Tensors\n",
    "We can also initialize tensors that come from random numbers like the following."
   ]
  },
  {
   "cell_type": "code",
   "execution_count": null,
   "metadata": {
    "collapsed": false,
    "deletable": true,
    "editable": true
   },
   "outputs": [],
   "source": [
    "rnorm_var = tf.random_normal([row_dim, col_dim], mean=0.0, stddev=1.0)\n",
    "runif_var = tf.random_uniform([row_dim, col_dim], minval=0, maxval=4)\n",
    "\n",
    "print(sess.run(rnorm_var))\n",
    "print(sess.run(runif_var))"
   ]
  },
  {
   "cell_type": "markdown",
   "metadata": {
    "deletable": true,
    "editable": true
   },
   "source": [
    "## Working with Placeholders\n",
    "\n",
    "Because of TensorFlow's lazy evaluation model, **placeholder** nodes play an important role. They don’t actually perform any computation, but simply output the data you tell them to output at runtime. They are typically used to pass the training data to TensorFlow during training. If you don’t specify a value at runtime for a placeholder, you get an exception.\n",
    "\n",
    "First let's reset the graph session."
   ]
  },
  {
   "cell_type": "code",
   "execution_count": null,
   "metadata": {
    "collapsed": false,
    "deletable": true,
    "editable": true
   },
   "outputs": [],
   "source": [
    "tf.reset_default_graph()"
   ]
  },
  {
   "cell_type": "markdown",
   "metadata": {
    "deletable": true,
    "editable": true
   },
   "source": [
    "Start graph session"
   ]
  },
  {
   "cell_type": "code",
   "execution_count": null,
   "metadata": {
    "collapsed": true,
    "deletable": true,
    "editable": true
   },
   "outputs": [],
   "source": [
    "sess = tf.Session()"
   ]
  },
  {
   "cell_type": "markdown",
   "metadata": {
    "deletable": true,
    "editable": true
   },
   "source": [
    "### Declare a placeholder\n",
    "\n",
    "We declare a placeholder by using TensorFlow's function, `tf.placeholder()`, which accepts a data-type argument (`tf.float32`) and a shape argument, `(4,4)`.  Note that the shape can be a tuple or a list, `[4,4]`."
   ]
  },
  {
   "cell_type": "code",
   "execution_count": null,
   "metadata": {
    "collapsed": true,
    "deletable": true,
    "editable": true
   },
   "outputs": [],
   "source": [
    "x = tf.placeholder(tf.float32, shape=(4, 4))"
   ]
  },
  {
   "cell_type": "markdown",
   "metadata": {
    "deletable": true,
    "editable": true
   },
   "source": [
    "When the session is run, the `feed_dict` argument is used to feed in the value of x into the computational graph, via the placeholders."
   ]
  },
  {
   "cell_type": "code",
   "execution_count": null,
   "metadata": {
    "collapsed": false,
    "deletable": true,
    "editable": true
   },
   "outputs": [],
   "source": [
    "# Input data to placeholder, note that 'rand_array' and 'x' are the same shape.\n",
    "rand_array = np.random.rand(4, 4)\n",
    "\n",
    "# Create a Tensor to perform an operation (here, y will be equal to x, a 4x4 matrix)\n",
    "y = tf.identity(x)\n",
    "\n",
    "# Print the output, feeding the value of x into the computational graph\n",
    "print(sess.run(y, feed_dict={x: rand_array}))"
   ]
  },
  {
   "cell_type": "markdown",
   "metadata": {},
   "source": [
    "# Matrices and Matrix Operations\n",
    "\n",
    "There are various ways to create matrices and manipulate them in TensorFlow"
   ]
  },
  {
   "cell_type": "code",
   "execution_count": null,
   "metadata": {
    "collapsed": true
   },
   "outputs": [],
   "source": [
    "tf.reset_default_graph()\n",
    "sess = tf.Session()"
   ]
  },
  {
   "cell_type": "markdown",
   "metadata": {},
   "source": [
    "### Declaring matrices\n",
    "\n",
    "Identity Matrix:"
   ]
  },
  {
   "cell_type": "code",
   "execution_count": null,
   "metadata": {
    "collapsed": false
   },
   "outputs": [],
   "source": [
    "identity_matrix = tf.diag([1.0,1.0,1.0])\n",
    "print(sess.run(identity_matrix))"
   ]
  },
  {
   "cell_type": "markdown",
   "metadata": {},
   "source": [
    "2x3 random norm matrix:"
   ]
  },
  {
   "cell_type": "code",
   "execution_count": null,
   "metadata": {
    "collapsed": false
   },
   "outputs": [],
   "source": [
    "A = tf.truncated_normal([2,3])\n",
    "print(sess.run(A))"
   ]
  },
  {
   "cell_type": "markdown",
   "metadata": {},
   "source": [
    "2x3 constant matrix:"
   ]
  },
  {
   "cell_type": "code",
   "execution_count": null,
   "metadata": {
    "collapsed": false
   },
   "outputs": [],
   "source": [
    "B = tf.fill([2,3], 5.0)\n",
    "print(sess.run(B))"
   ]
  },
  {
   "cell_type": "markdown",
   "metadata": {},
   "source": [
    "3x2 random uniform matrix:"
   ]
  },
  {
   "cell_type": "code",
   "execution_count": null,
   "metadata": {
    "collapsed": false
   },
   "outputs": [],
   "source": [
    "C = tf.random_uniform([3,2])\n",
    "print(sess.run(C))"
   ]
  },
  {
   "cell_type": "markdown",
   "metadata": {},
   "source": [
    "Create matrix from np array:"
   ]
  },
  {
   "cell_type": "code",
   "execution_count": null,
   "metadata": {
    "collapsed": false
   },
   "outputs": [],
   "source": [
    "D = tf.convert_to_tensor(np.array([[1., 2., 3.], \n",
    "                                   [-3., -7., -1.], \n",
    "                                   [0., 5., -2.]]))\n",
    "print(sess.run(D))"
   ]
  },
  {
   "cell_type": "markdown",
   "metadata": {},
   "source": [
    "### Matrix Operations\n",
    "\n",
    "Matrix addition/subtraction:"
   ]
  },
  {
   "cell_type": "code",
   "execution_count": null,
   "metadata": {
    "collapsed": false
   },
   "outputs": [],
   "source": [
    "print(sess.run(A+B))"
   ]
  },
  {
   "cell_type": "code",
   "execution_count": null,
   "metadata": {},
   "outputs": [],
   "source": [
    "print(sess.run(B-B))"
   ]
  },
  {
   "cell_type": "markdown",
   "metadata": {},
   "source": [
    "Matrix Multiplication:"
   ]
  },
  {
   "cell_type": "code",
   "execution_count": null,
   "metadata": {
    "collapsed": false
   },
   "outputs": [],
   "source": [
    "print(sess.run(tf.matmul(B, identity_matrix)))"
   ]
  },
  {
   "cell_type": "markdown",
   "metadata": {},
   "source": [
    "Matrix Transpose:"
   ]
  },
  {
   "cell_type": "code",
   "execution_count": null,
   "metadata": {
    "collapsed": false
   },
   "outputs": [],
   "source": [
    "print(sess.run(tf.transpose(C)))"
   ]
  },
  {
   "cell_type": "markdown",
   "metadata": {},
   "source": [
    "Matrix Determinant:"
   ]
  },
  {
   "cell_type": "code",
   "execution_count": null,
   "metadata": {
    "collapsed": false
   },
   "outputs": [],
   "source": [
    "print(sess.run(tf.matrix_determinant(D)))"
   ]
  },
  {
   "cell_type": "markdown",
   "metadata": {},
   "source": [
    "Matrix Inverse:"
   ]
  },
  {
   "cell_type": "code",
   "execution_count": null,
   "metadata": {
    "collapsed": false
   },
   "outputs": [],
   "source": [
    "print(sess.run(tf.matrix_inverse(D)))"
   ]
  },
  {
   "cell_type": "markdown",
   "metadata": {},
   "source": [
    "Cholesky Decomposition:"
   ]
  },
  {
   "cell_type": "code",
   "execution_count": null,
   "metadata": {
    "collapsed": false
   },
   "outputs": [],
   "source": [
    "print(sess.run(tf.cholesky(identity_matrix)))"
   ]
  },
  {
   "cell_type": "markdown",
   "metadata": {},
   "source": [
    "Eigenvalues and Eigenvectors:  We use `tf.self_adjoint_eig()` function, which returns two objects, first one is an array of eigenvalues, the second is a matrix of the eigenvectors."
   ]
  },
  {
   "cell_type": "code",
   "execution_count": null,
   "metadata": {
    "collapsed": false
   },
   "outputs": [],
   "source": [
    "eigenvalues, eigenvectors = sess.run(tf.self_adjoint_eig(D))\n",
    "print(eigenvalues)"
   ]
  },
  {
   "cell_type": "code",
   "execution_count": null,
   "metadata": {},
   "outputs": [],
   "source": [
    "print(eigenvectors)"
   ]
  },
  {
   "cell_type": "markdown",
   "metadata": {},
   "source": [
    "# Operations"
   ]
  },
  {
   "cell_type": "markdown",
   "metadata": {},
   "source": [
    "### Arithmetic Operations\n",
    "TensorFlow has multiple types of arithmetic functions.  Here we illustrate the differences between `div()`, `truediv()` and `floordiv()`.\n",
    "\n",
    "`div()` : integer of division (similar to base python `//`\n",
    "\n",
    "`truediv()` : will convert integer to floats.\n",
    "\n",
    "`floordiv()` : float of `div()`"
   ]
  },
  {
   "cell_type": "code",
   "execution_count": null,
   "metadata": {
    "collapsed": false
   },
   "outputs": [],
   "source": [
    "print(sess.run(tf.div(3,4)))\n",
    "print(sess.run(tf.truediv(3,4)))\n",
    "print(sess.run(tf.floordiv(3.0,4.0)))"
   ]
  },
  {
   "cell_type": "markdown",
   "metadata": {},
   "source": [
    "Mod function:"
   ]
  },
  {
   "cell_type": "code",
   "execution_count": null,
   "metadata": {
    "collapsed": false
   },
   "outputs": [],
   "source": [
    "print(sess.run(tf.mod(22.0,5.0)))"
   ]
  },
  {
   "cell_type": "markdown",
   "metadata": {},
   "source": [
    "Cross Product:"
   ]
  },
  {
   "cell_type": "code",
   "execution_count": null,
   "metadata": {
    "collapsed": false
   },
   "outputs": [],
   "source": [
    "print(sess.run(tf.cross([1.,0.,0.],[0.,1.,0.])))"
   ]
  },
  {
   "cell_type": "markdown",
   "metadata": {},
   "source": [
    "### Trigonometric functions\n",
    "\n",
    "Sine, Cosine, and Tangent:"
   ]
  },
  {
   "cell_type": "code",
   "execution_count": null,
   "metadata": {
    "collapsed": false
   },
   "outputs": [],
   "source": [
    "print(sess.run(tf.sin(3.1416)))\n",
    "print(sess.run(tf.cos(3.1416)))\n",
    "print(sess.run(tf.div(tf.sin(3.1416/4.), tf.cos(3.1416/4.))))"
   ]
  },
  {
   "cell_type": "markdown",
   "metadata": {},
   "source": [
    "### Custom operations\n",
    "\n",
    "Custom operations can be created with Python functions:\n",
    "\n",
    "`f(x) = 3 * x^2 - x + 10`"
   ]
  },
  {
   "cell_type": "code",
   "execution_count": null,
   "metadata": {
    "collapsed": false
   },
   "outputs": [],
   "source": [
    "test_nums = range(15)\n",
    "\n",
    "def custom_polynomial(x_val):\n",
    "    # Return 3x^2 - x + 10\n",
    "    return(tf.sub(3 * tf.square(x_val), x_val) + 10)\n",
    "\n",
    "print(sess.run(custom_polynomial(11)))"
   ]
  },
  {
   "cell_type": "markdown",
   "metadata": {},
   "source": [
    "# Activation Functions\n",
    "\n",
    "The activation operators provide different types of nonlinearities for use in neural networks. These include smooth nonlinearities (`sigmoid`, `tanh`, `elu`, `selu`, `softplus`, and `softsign`), continuous but not everywhere differentiable functions (`relu`, `relu6`, `crelu` and `relu_x`), and random regularization (dropout).\n",
    "\n",
    "All activation ops apply componentwise, and produce a tensor of the same shape as the input tensor."
   ]
  },
  {
   "cell_type": "code",
   "execution_count": null,
   "metadata": {
    "collapsed": true
   },
   "outputs": [],
   "source": [
    "tf.reset_default_graph()\n",
    "sess = tf.Session()"
   ]
  },
  {
   "cell_type": "code",
   "execution_count": null,
   "metadata": {
    "collapsed": true
   },
   "outputs": [],
   "source": [
    "import matplotlib.pyplot as plt\n",
    "x_vals = np.linspace(start=-10., stop=10., num=100)"
   ]
  },
  {
   "cell_type": "markdown",
   "metadata": {},
   "source": [
    "### Activation Functions:\n",
    "\n",
    "ReLU activation"
   ]
  },
  {
   "cell_type": "code",
   "execution_count": null,
   "metadata": {
    "collapsed": false
   },
   "outputs": [],
   "source": [
    "print(sess.run(tf.nn.relu([-3., 3., 10.])))\n",
    "y_relu = sess.run(tf.nn.relu(x_vals))"
   ]
  },
  {
   "cell_type": "code",
   "execution_count": null,
   "metadata": {},
   "outputs": [],
   "source": [
    "plt.plot(x_vals, y_relu, 'b:', label='ReLU', linewidth=2)"
   ]
  },
  {
   "cell_type": "markdown",
   "metadata": {},
   "source": [
    "ReLU-6 activation"
   ]
  },
  {
   "cell_type": "code",
   "execution_count": null,
   "metadata": {
    "collapsed": false
   },
   "outputs": [],
   "source": [
    "print(sess.run(tf.nn.relu6([-3., 3., 10.])))\n",
    "y_relu6 = sess.run(tf.nn.relu6(x_vals))"
   ]
  },
  {
   "cell_type": "code",
   "execution_count": null,
   "metadata": {},
   "outputs": [],
   "source": [
    "plt.plot(x_vals, y_relu6, 'g-.', label='ReLU6', linewidth=2)"
   ]
  },
  {
   "cell_type": "markdown",
   "metadata": {},
   "source": [
    "Sigmoid activation"
   ]
  },
  {
   "cell_type": "code",
   "execution_count": null,
   "metadata": {
    "collapsed": false
   },
   "outputs": [],
   "source": [
    "print(sess.run(tf.nn.sigmoid([-1., 0., 1.])))\n",
    "y_sigmoid = sess.run(tf.nn.sigmoid(x_vals))"
   ]
  },
  {
   "cell_type": "code",
   "execution_count": null,
   "metadata": {},
   "outputs": [],
   "source": [
    "plt.plot(x_vals, y_sigmoid, 'r--', label='Sigmoid', linewidth=2)"
   ]
  },
  {
   "cell_type": "markdown",
   "metadata": {},
   "source": [
    "Hyper Tangent activation"
   ]
  },
  {
   "cell_type": "code",
   "execution_count": null,
   "metadata": {
    "collapsed": false
   },
   "outputs": [],
   "source": [
    "print(sess.run(tf.nn.tanh([-1., 0., 1.])))\n",
    "y_tanh = sess.run(tf.nn.tanh(x_vals))"
   ]
  },
  {
   "cell_type": "code",
   "execution_count": null,
   "metadata": {},
   "outputs": [],
   "source": [
    "plt.plot(x_vals, y_tanh, 'b:', label='Tanh', linewidth=2)"
   ]
  },
  {
   "cell_type": "markdown",
   "metadata": {},
   "source": [
    "Softsign activation"
   ]
  },
  {
   "cell_type": "code",
   "execution_count": null,
   "metadata": {
    "collapsed": false
   },
   "outputs": [],
   "source": [
    "print(sess.run(tf.nn.softsign([-1., 0., 1.])))\n",
    "y_softsign = sess.run(tf.nn.softsign(x_vals))"
   ]
  },
  {
   "cell_type": "code",
   "execution_count": null,
   "metadata": {},
   "outputs": [],
   "source": [
    "plt.plot(x_vals, y_softsign, 'g-.', label='Softsign', linewidth=2)"
   ]
  },
  {
   "cell_type": "markdown",
   "metadata": {},
   "source": [
    "Softplus activation"
   ]
  },
  {
   "cell_type": "code",
   "execution_count": null,
   "metadata": {
    "collapsed": false
   },
   "outputs": [],
   "source": [
    "print(sess.run(tf.nn.softplus([-1., 0., 1.])))\n",
    "y_softplus = sess.run(tf.nn.softplus(x_vals))"
   ]
  },
  {
   "cell_type": "code",
   "execution_count": null,
   "metadata": {},
   "outputs": [],
   "source": [
    "plt.plot(x_vals, y_softplus, 'r--', label='Softplus', linewidth=2)"
   ]
  },
  {
   "cell_type": "markdown",
   "metadata": {},
   "source": [
    "Exponential linear activation"
   ]
  },
  {
   "cell_type": "code",
   "execution_count": null,
   "metadata": {
    "collapsed": false
   },
   "outputs": [],
   "source": [
    "print(sess.run(tf.nn.elu([-1., 0., 1.])))\n",
    "y_elu = sess.run(tf.nn.elu(x_vals))"
   ]
  },
  {
   "cell_type": "code",
   "execution_count": null,
   "metadata": {},
   "outputs": [],
   "source": [
    "plt.plot(x_vals, y_elu, 'k-', label='ExpLU', linewidth=0.5)"
   ]
  },
  {
   "cell_type": "markdown",
   "metadata": {},
   "source": [
    "## Feeding data to TensorFlow\n",
    "<a name=\"data\"></a>\n",
    "\n",
    "TensorFlow is designed to work efficiently with large amount of data. So it's important not to starve your TensorFlow model in order to maximize its performance. There are various ways that you can feed your data to TensorFlow.\n",
    "\n",
    "### Constants\n",
    "The simplest approach is to embed the data in your graph as a constant:"
   ]
  },
  {
   "cell_type": "code",
   "execution_count": null,
   "metadata": {},
   "outputs": [],
   "source": [
    "import tensorflow as tf\n",
    "import numpy as np\n",
    "\n",
    "actual_data = np.random.normal(size=[100])\n",
    "\n",
    "data = tf.constant(actual_data)"
   ]
  },
  {
   "cell_type": "markdown",
   "metadata": {},
   "source": [
    "This approach can be very efficient, but it's not very flexible. One problem with this approach is that, in order to use your model with another dataset you have to rewrite the graph. Also, you have to load all of your data at once and keep it in memory which would only work with small datasets.\n",
    "\n",
    "### Placeholders\n",
    "Using placeholders solves both of these problems:"
   ]
  },
  {
   "cell_type": "code",
   "execution_count": null,
   "metadata": {},
   "outputs": [],
   "source": [
    "import tensorflow as tf\n",
    "import numpy as np\n",
    "\n",
    "data = tf.placeholder(tf.float32)\n",
    "\n",
    "prediction = tf.square(data) + 1\n",
    "\n",
    "actual_data = np.random.normal(size=[100])\n",
    "\n",
    "tf.Session().run(prediction, feed_dict={data: actual_data})"
   ]
  },
  {
   "cell_type": "markdown",
   "metadata": {},
   "source": [
    "Placeholder operator returns a tensor whose value is fetched through the feed_dict argument in `Session.run` function. Note that running `Session.run` without feeding the value of data in this case will result in an error.\n",
    "\n",
    "### Python ops\n",
    "Another approach to feed the data to TensorFlow is by using Python ops:"
   ]
  },
  {
   "cell_type": "code",
   "execution_count": null,
   "metadata": {},
   "outputs": [],
   "source": [
    "def py_input_fn():\n",
    "    actual_data = np.random.normal(size=[100])\n",
    "    return actual_data\n",
    "\n",
    "data = tf.py_func(py_input_fn, [], (tf.float32))"
   ]
  },
  {
   "cell_type": "markdown",
   "metadata": {},
   "source": [
    "Python ops allow you to convert a regular Python function to a TensorFlow operation.\n",
    "\n",
    "### Dataset API\n",
    "The recommended way of reading the data in TensorFlow however is through the dataset API:"
   ]
  },
  {
   "cell_type": "code",
   "execution_count": null,
   "metadata": {},
   "outputs": [],
   "source": [
    "actual_data = np.random.normal(size=[100])\n",
    "dataset = tf.data.Dataset.from_tensor_slices(actual_data)\n",
    "data = dataset.make_one_shot_iterator().get_next()"
   ]
  },
  {
   "cell_type": "markdown",
   "metadata": {},
   "source": [
    "If you need to read your data from file, it may be more efficient to write it in TFrecord format and use TFRecordDataset to read it:\n",
    "\n",
    "```python\n",
    "dataset = tf.data.TFRecordDataset(path_to_data)\n",
    "```"
   ]
  },
  {
   "cell_type": "markdown",
   "metadata": {},
   "source": [
    "## Control flow operations: conditionals and loops\n",
    "<a name=\"control_flow\"></a>\n",
    "When building complex models such as recurrent neural networks you may need to control the flow of operations through conditionals and loops. In this section we introduce a number of commonly used control flow ops.\n",
    "\n",
    "Let's assume you want to decide whether to multiply to or add two given tensors based on a predicate. This can be simply implemented with `tf.cond` which acts as a python `if` function:"
   ]
  },
  {
   "cell_type": "code",
   "execution_count": null,
   "metadata": {},
   "outputs": [],
   "source": [
    "a = tf.constant(1)\n",
    "b = tf.constant(2)\n",
    "\n",
    "p = tf.constant(True)\n",
    "\n",
    "x = tf.cond(p, lambda: a + b, lambda: a * b)\n",
    "\n",
    "print(tf.Session().run(x))"
   ]
  },
  {
   "cell_type": "markdown",
   "metadata": {},
   "source": [
    "Since the predicate is `True` in this case, the output would be the result of the addition, which is 3.\n",
    "\n",
    "Most of the times when using TensorFlow you are using large tensors and want to perform operations in batch. A related conditional operation is tf.where, which like tf.cond takes a predicate, but selects the output based on the condition in batch."
   ]
  },
  {
   "cell_type": "code",
   "execution_count": null,
   "metadata": {},
   "outputs": [],
   "source": [
    "a = tf.constant([1, 1])\n",
    "b = tf.constant([2, 2])\n",
    "\n",
    "p = tf.constant([True, False])\n",
    "\n",
    "x = tf.where(p, a + b, a * b)\n",
    "\n",
    "print(tf.Session().run(x))"
   ]
  },
  {
   "cell_type": "markdown",
   "metadata": {},
   "source": [
    "This will return [3, 2].\n",
    "\n",
    "Another widely used control flow operation is `tf.while_loop`. It allows building dynamic loops in TensorFlow that operate on sequences of variable length. Let's see how we can generate Fibonacci sequence with `tf.while_loops`:"
   ]
  },
  {
   "cell_type": "code",
   "execution_count": null,
   "metadata": {},
   "outputs": [],
   "source": [
    "n = tf.constant(5)\n",
    "\n",
    "def cond(i, a, b):\n",
    "    return i < n\n",
    "\n",
    "def body(i, a, b):\n",
    "    return i + 1, b, a + b\n",
    "\n",
    "i, a, b = tf.while_loop(cond, body, (2, 1, 1))\n",
    "\n",
    "print(tf.Session().run(b))"
   ]
  },
  {
   "cell_type": "markdown",
   "metadata": {},
   "source": [
    "`tf.while_loops` takes a `condition` function, and a loop `body` function, in addition to initial values for loop variables. These loop variables are then updated by multiple calls to the body function until the condition returns `False`.\n",
    "\n",
    "Now imagine we want to keep the whole series of Fibonacci sequence. We may update our body to keep a record of the history of current values:"
   ]
  },
  {
   "cell_type": "code",
   "execution_count": null,
   "metadata": {},
   "outputs": [],
   "source": [
    "n = tf.constant(5)\n",
    "\n",
    "def cond(i, a, b, c):\n",
    "    return i < n\n",
    "\n",
    "def body(i, a, b, c):\n",
    "    return i + 1, b, a + b, tf.concat([c, [a + b]], 0)\n",
    "\n",
    "i, a, b, c = tf.while_loop(cond, body, (2, 1, 1, tf.constant([1, 1])))\n",
    "\n",
    "print(tf.Session().run(c))"
   ]
  },
  {
   "cell_type": "markdown",
   "metadata": {},
   "source": [
    "Now if you try running this, TensorFlow will complain that the shape of the the fourth loop variable is changing. So you must make that explicit that it's intentional:"
   ]
  },
  {
   "cell_type": "code",
   "execution_count": null,
   "metadata": {},
   "outputs": [],
   "source": [
    "i, a, b, c = tf.while_loop(\n",
    "    cond, body, (2, 1, 1, tf.constant([1, 1])),\n",
    "    shape_invariants=(tf.TensorShape([]),\n",
    "                      tf.TensorShape([]),\n",
    "                      tf.TensorShape([]),\n",
    "                      tf.TensorShape([None])))"
   ]
  },
  {
   "cell_type": "markdown",
   "metadata": {},
   "source": [
    "This is not only getting ugly, but is also somewhat inefficient. Note that we are building a lot of intermediary tensors that we don't use. TensorFlow has a better solution for this kind of growing arrays. \n",
    "\n",
    "Meet `tf.TensorArray`. Let's do the same thing this time with tensor arrays:"
   ]
  },
  {
   "cell_type": "code",
   "execution_count": null,
   "metadata": {},
   "outputs": [],
   "source": [
    "n = tf.constant(5)\n",
    "\n",
    "c = tf.TensorArray(tf.int32, n)\n",
    "c = c.write(0, 1)\n",
    "c = c.write(1, 1)\n",
    "\n",
    "def cond(i, a, b, c):\n",
    "    return i < n\n",
    "\n",
    "def body(i, a, b, c):\n",
    "    c = c.write(i, a + b)\n",
    "    return i + 1, b, a + b, c\n",
    "\n",
    "i, a, b, c = tf.while_loop(cond, body, (2, 1, 1, c))\n",
    "\n",
    "c = c.stack()\n",
    "\n",
    "print(tf.Session().run(c))"
   ]
  },
  {
   "cell_type": "markdown",
   "metadata": {},
   "source": [
    "TensorFlow while loops and tensor arrays are essential tools for building complex recurrent neural networks. "
   ]
  },
  {
   "cell_type": "markdown",
   "metadata": {},
   "source": [
    "---\n",
    "## References\n",
    "\n",
    "- Martín Abadi, Ashish Agarwal, Paul Barham, Eugene Brevdo,\n",
    "Zhifeng Chen, Craig Citro, Greg S. Corrado, Andy Davis,\n",
    "Jeffrey Dean, Matthieu Devin, Sanjay Ghemawat, Ian Goodfellow,\n",
    "Andrew Harp, Geoffrey Irving, Michael Isard, Rafal Jozefowicz, Yangqing Jia,\n",
    "Lukasz Kaiser, Manjunath Kudlur, Josh Levenberg, Dan Mané, Mike Schuster,\n",
    "Rajat Monga, Sherry Moore, Derek Murray, Chris Olah, Jonathon Shlens,\n",
    "Benoit Steiner, Ilya Sutskever, Kunal Talwar, Paul Tucker,\n",
    "Vincent Vanhoucke, Vijay Vasudevan, Fernanda Viégas,\n",
    "Oriol Vinyals, Pete Warden, Martin Wattenberg, Martin Wicke,\n",
    "Yuan Yu, and Xiaoqiang Zheng.\n",
    "TensorFlow: Large-scale machine learning on heterogeneous systems, 2015. Software available from tensorflow.org."
   ]
  }
 ],
 "metadata": {
  "colab": {
   "default_view": {},
   "name": "01_How_TensorFlow_Works.ipynb",
   "provenance": [],
   "version": "0.3.2",
   "views": {}
  },
  "kernelspec": {
   "display_name": "Python 3",
   "language": "python",
   "name": "python3"
  },
  "language_info": {
   "codemirror_mode": {
    "name": "ipython",
    "version": 3
   },
   "file_extension": ".py",
   "mimetype": "text/x-python",
   "name": "python",
   "nbconvert_exporter": "python",
   "pygments_lexer": "ipython3",
   "version": "3.6.6"
  }
 },
 "nbformat": 4,
 "nbformat_minor": 2
}
