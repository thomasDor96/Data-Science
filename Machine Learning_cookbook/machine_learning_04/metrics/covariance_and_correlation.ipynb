{
 "cells": [
  {
   "cell_type": "code",
   "execution_count": 3,
   "metadata": {
    "collapsed": true
   },
   "outputs": [],
   "source": [
    "import numpy as np"
   ]
  },
  {
   "cell_type": "code",
   "execution_count": 4,
   "metadata": {
    "collapsed": true
   },
   "outputs": [],
   "source": [
    "# generate a random sample dataset\n",
    "X = np.array([np.random.normal(size=10),\n",
    "             np.random.normal(size=10),\n",
    "             np.random.normal(size=10)])"
   ]
  },
  {
   "cell_type": "markdown",
   "metadata": {},
   "source": [
    "<pre>\n",
    "standard deviation: Sigma(( x_i - x_bar)*(x_i - x_bar))/(len(x) - 1)\n",
    "covariance        : Sigma(( x_i - x_bar)*(y_i - y_bar))/(len(x) - 1)\n",
    "corelation        : covariance(x, y)/(standard_deviation(x) * standard_deviation(y))\n",
    "#(len(x) - 1) cos it's not pupulation but a sample\n",
    "</pre>"
   ]
  },
  {
   "cell_type": "code",
   "execution_count": 5,
   "metadata": {
    "collapsed": true
   },
   "outputs": [],
   "source": [
    "def get_standard_deviation(x):\n",
    "    temp = (x - np.mean(x))\n",
    "    temp *= temp\n",
    "    return np.sqrt(np.sum(temp)/(len(x) - 1))"
   ]
  },
  {
   "cell_type": "code",
   "execution_count": 6,
   "metadata": {
    "collapsed": true
   },
   "outputs": [],
   "source": [
    "def get_covariance(x, y):\n",
    "    return np.sum(((x - np.mean(x)) * (y - np.mean(y))))/(len(y) - 1)"
   ]
  },
  {
   "cell_type": "code",
   "execution_count": 7,
   "metadata": {
    "collapsed": true
   },
   "outputs": [],
   "source": [
    "def covariance(x):\n",
    "    res = []\n",
    "    for idx in range(x.shape[0]):\n",
    "        res_inner = []\n",
    "        for idy in range(x.shape[0]):\n",
    "            res_inner.append(get_covariance(X[idx,:], X[idy,:]))\n",
    "        res.append(res_inner)\n",
    "    return res"
   ]
  },
  {
   "cell_type": "code",
   "execution_count": 8,
   "metadata": {},
   "outputs": [
    {
     "data": {
      "text/plain": [
       "[[0.6499113209354055, 0.03123212599782273, -0.2011037434618827],\n",
       " [0.03123212599782273, 0.16206931416075704, 0.007650011975096651],\n",
       " [-0.2011037434618827, 0.007650011975096651, 0.826458413349378]]"
      ]
     },
     "execution_count": 8,
     "metadata": {},
     "output_type": "execute_result"
    }
   ],
   "source": [
    "covariance(X)"
   ]
  },
  {
   "cell_type": "code",
   "execution_count": 9,
   "metadata": {
    "collapsed": true
   },
   "outputs": [],
   "source": [
    "def corelation(x):\n",
    "    res = []\n",
    "    for idx in range(x.shape[0]):\n",
    "        res_inner = []\n",
    "        for idy in range(x.shape[0]):\n",
    "            numerator = get_covariance(X[idx,:], X[idy,:])\n",
    "            denominator = get_standard_deviation(X[idx,:]) * get_standard_deviation(X[idy,:])\n",
    "            cor = numerator/denominator\n",
    "            res_inner.append(cor)\n",
    "        res.append(res_inner)\n",
    "    return res"
   ]
  },
  {
   "cell_type": "code",
   "execution_count": 10,
   "metadata": {},
   "outputs": [
    {
     "data": {
      "text/plain": [
       "[[0.9999999999999998, 0.09623301661790974, -0.27439904860957703],\n",
       " [0.09623301661790974, 1.0, 0.02090264357941308],\n",
       " [-0.27439904860957703, 0.02090264357941308, 1.0]]"
      ]
     },
     "execution_count": 10,
     "metadata": {},
     "output_type": "execute_result"
    }
   ],
   "source": [
    "corelation(X)"
   ]
  },
  {
   "cell_type": "markdown",
   "metadata": {},
   "source": [
    "### Validate our results"
   ]
  },
  {
   "cell_type": "code",
   "execution_count": 11,
   "metadata": {
    "collapsed": true
   },
   "outputs": [],
   "source": [
    "covariance_x = np.cov(X)"
   ]
  },
  {
   "cell_type": "code",
   "execution_count": 12,
   "metadata": {},
   "outputs": [
    {
     "data": {
      "text/plain": [
       "array([[ 0.64991132,  0.03123213, -0.20110374],\n",
       "       [ 0.03123213,  0.16206931,  0.00765001],\n",
       "       [-0.20110374,  0.00765001,  0.82645841]])"
      ]
     },
     "execution_count": 12,
     "metadata": {},
     "output_type": "execute_result"
    }
   ],
   "source": [
    "covariance_x"
   ]
  },
  {
   "cell_type": "code",
   "execution_count": 13,
   "metadata": {
    "collapsed": true
   },
   "outputs": [],
   "source": [
    "correlation_x = np.corrcoef(X)"
   ]
  },
  {
   "cell_type": "code",
   "execution_count": 14,
   "metadata": {},
   "outputs": [
    {
     "data": {
      "text/plain": [
       "array([[ 1.        ,  0.09623302, -0.27439905],\n",
       "       [ 0.09623302,  1.        ,  0.02090264],\n",
       "       [-0.27439905,  0.02090264,  1.        ]])"
      ]
     },
     "execution_count": 14,
     "metadata": {},
     "output_type": "execute_result"
    }
   ],
   "source": [
    "correlation_x"
   ]
  }
 ],
 "metadata": {
  "kernelspec": {
   "display_name": "Python [conda root]",
   "language": "python",
   "name": "conda-root-py"
  },
  "language_info": {
   "codemirror_mode": {
    "name": "ipython",
    "version": 3
   },
   "file_extension": ".py",
   "mimetype": "text/x-python",
   "name": "python",
   "nbconvert_exporter": "python",
   "pygments_lexer": "ipython3",
   "version": "3.5.4"
  }
 },
 "nbformat": 4,
 "nbformat_minor": 2
}
