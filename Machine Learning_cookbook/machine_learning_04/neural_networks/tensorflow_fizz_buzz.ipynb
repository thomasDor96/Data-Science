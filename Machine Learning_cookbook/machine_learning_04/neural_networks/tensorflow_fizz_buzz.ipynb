{
 "cells": [
  {
   "cell_type": "raw",
   "metadata": {},
   "source": [
    "Doing the same thing with Tensorflow. Cos we can, also cos it's fun :)"
   ]
  },
  {
   "cell_type": "code",
   "execution_count": 1,
   "metadata": {},
   "outputs": [
    {
     "name": "stderr",
     "output_type": "stream",
     "text": [
      "/Users/viki/anaconda3/lib/python3.5/site-packages/h5py/__init__.py:34: FutureWarning: Conversion of the second argument of issubdtype from `float` to `np.floating` is deprecated. In future, it will be treated as `np.float64 == np.dtype(float).type`.\n",
      "  from ._conv import register_converters as _register_converters\n",
      "Using TensorFlow backend.\n",
      "/Users/viki/anaconda3/lib/python3.5/importlib/_bootstrap.py:222: RuntimeWarning: compiletime version 3.6 of module 'tensorflow.python.framework.fast_tensor_util' does not match runtime version 3.5\n",
      "  return f(*args, **kwds)\n"
     ]
    }
   ],
   "source": [
    "import keras\n",
    "import numpy as np\n",
    "import tensorflow as tf\n",
    "from sklearn.model_selection import train_test_split"
   ]
  },
  {
   "cell_type": "code",
   "execution_count": 2,
   "metadata": {
    "collapsed": true
   },
   "outputs": [],
   "source": [
    "# lets limit input to 16 digits\n",
    "INPUT_DIGITS = 16\n",
    "number_of_numbers = 2 ** INPUT_DIGITS - 1\n",
    "input_number = []\n",
    "output_label = []\n",
    "for i in range(1, number_of_numbers):\n",
    "    input_number.append(i)\n",
    "    if i % 3 == 0 and i % 5 == 0:\n",
    "        output_label.append(0) # fizzbuzz\n",
    "    elif i % 3 == 0:\n",
    "        output_label.append(1) # fizz\n",
    "    elif i % 5 == 0:\n",
    "        output_label.append(2) # buzz\n",
    "    else:\n",
    "        output_label.append(3) # Same"
   ]
  },
  {
   "cell_type": "code",
   "execution_count": 3,
   "metadata": {
    "collapsed": true
   },
   "outputs": [],
   "source": [
    "y = keras.utils.to_categorical(output_label)"
   ]
  },
  {
   "cell_type": "code",
   "execution_count": 4,
   "metadata": {
    "collapsed": true
   },
   "outputs": [],
   "source": [
    "def map_input_numer_to_binary(num):\n",
    "    binary_rep = list(\"{0:b}\".format(num))\n",
    "    final_res = ['0' for _ in range(INPUT_DIGITS)]\n",
    "    for idx, v in enumerate(reversed(binary_rep)):\n",
    "        final_res[idx] = v\n",
    "    return list(reversed(final_res))"
   ]
  },
  {
   "cell_type": "code",
   "execution_count": 5,
   "metadata": {
    "collapsed": true
   },
   "outputs": [],
   "source": [
    "def reverse_map_binary_to_number(binary):\n",
    "    return int(''.join(binary), 2)"
   ]
  },
  {
   "cell_type": "code",
   "execution_count": 6,
   "metadata": {},
   "outputs": [
    {
     "name": "stdout",
     "output_type": "stream",
     "text": [
      "['0', '0', '0', '0', '0', '0', '0', '0', '0', '0', '0', '0', '1', '1', '1', '1'] 15\n"
     ]
    }
   ],
   "source": [
    "print(map_input_numer_to_binary(15), reverse_map_binary_to_number(map_input_numer_to_binary(15)))"
   ]
  },
  {
   "cell_type": "code",
   "execution_count": 7,
   "metadata": {
    "collapsed": true
   },
   "outputs": [],
   "source": [
    "x = np.array([map_input_numer_to_binary(v) for v in input_number])"
   ]
  },
  {
   "cell_type": "code",
   "execution_count": 8,
   "metadata": {
    "collapsed": true
   },
   "outputs": [],
   "source": [
    "x_train, x_val, y_train, y_val = train_test_split(x, y, random_state = 3,)"
   ]
  },
  {
   "cell_type": "code",
   "execution_count": 9,
   "metadata": {},
   "outputs": [
    {
     "data": {
      "text/plain": [
       "((49150, 16), (16384, 16), (49150, 4), (16384, 4))"
      ]
     },
     "execution_count": 9,
     "metadata": {},
     "output_type": "execute_result"
    }
   ],
   "source": [
    "x_train.shape, x_val.shape, y_train.shape, y_val.shape"
   ]
  },
  {
   "cell_type": "code",
   "execution_count": 10,
   "metadata": {
    "collapsed": true
   },
   "outputs": [],
   "source": [
    "#### define the tensorflow model"
   ]
  },
  {
   "cell_type": "code",
   "execution_count": 11,
   "metadata": {
    "collapsed": true
   },
   "outputs": [],
   "source": [
    "def init_weights(shape):\n",
    "    return tf.Variable(tf.random_normal(shape, stddev=0.01))"
   ]
  },
  {
   "cell_type": "code",
   "execution_count": 12,
   "metadata": {
    "collapsed": true
   },
   "outputs": [],
   "source": [
    "def model(X, w_h, w_o):\n",
    "    h = tf.nn.relu(tf.matmul(X, w_h))\n",
    "    return tf.matmul(h, w_o)"
   ]
  },
  {
   "cell_type": "code",
   "execution_count": 13,
   "metadata": {},
   "outputs": [],
   "source": [
    "X = tf.placeholder(\"float\", [None, INPUT_DIGITS])\n",
    "Y = tf.placeholder(\"float\", [None, 4])\n",
    "\n",
    "NUM_HIDDEN = 100\n",
    "\n",
    "w_h = init_weights([INPUT_DIGITS, NUM_HIDDEN]) # weight for hidden layer\n",
    "w_o = init_weights([NUM_HIDDEN, 4]) # weight for output layer\n",
    "\n",
    "py_x = model(X, w_h, w_o)\n",
    "\n",
    "cost = tf.reduce_mean(tf.nn.softmax_cross_entropy_with_logits_v2(logits=py_x, labels=Y))\n",
    "train_op = tf.train.GradientDescentOptimizer(0.05).minimize(cost)\n",
    "\n",
    "predict_op = tf.argmax(py_x, 1)\n",
    "\n",
    "BATCH_SIZE = 128\n",
    "\n",
    "LOG_EVERY_N_EPOCHS = 100\n",
    "\n",
    "NUMBER_OF_EPOCHS = 200"
   ]
  },
  {
   "cell_type": "code",
   "execution_count": 14,
   "metadata": {
    "scrolled": false
   },
   "outputs": [
    {
     "name": "stdout",
     "output_type": "stream",
     "text": [
      "0 0.5331637843336724\n",
      "100 0.7466327568667345\n",
      "200 0.9378026449643947\n"
     ]
    }
   ],
   "source": [
    "with tf.Session() as sess:\n",
    "    sess.run(tf.global_variables_initializer())\n",
    "\n",
    "    for epoch in range(NUMBER_OF_EPOCHS + 1):\n",
    "        permuted_indexes = np.random.permutation(range(len(x_train)))\n",
    "        train_x, train_y = x_train[permuted_indexes], y_train[permuted_indexes]\n",
    "\n",
    "        for start in range(0, len(train_x), BATCH_SIZE):\n",
    "            end = start + BATCH_SIZE\n",
    "            sess.run(train_op, feed_dict={X: train_x[start:end], Y: train_y[start:end]})\n",
    "\n",
    "        if epoch % LOG_EVERY_N_EPOCHS == 0:\n",
    "            print(epoch, np.mean(np.argmax(train_y, axis=1) ==\n",
    "                                 sess.run(predict_op, feed_dict={X: train_x, Y: train_y})))\n",
    "\n",
    "    predictions = sess.run(predict_op, feed_dict={X: x_val})"
   ]
  },
  {
   "cell_type": "code",
   "execution_count": 15,
   "metadata": {
    "collapsed": true
   },
   "outputs": [],
   "source": [
    "def print_sample(input_value, output_prediction, expected_ouput, no_of_sampels=5, print_values=False):\n",
    "    correct = 0\n",
    "    count = 0\n",
    "    for value, pred, expected in zip(input_value, output_prediction, expected_ouput):\n",
    "        val = reverse_map_binary_to_number(value)\n",
    "        pred_val = pred # np.argmax(pred)\n",
    "        expected_val = np.argmax(expected)\n",
    "        if print_values: print(val, pred_val, expected_val) # To prevent printing all values\n",
    "        if expected_val == pred_val:\n",
    "            correct += 1\n",
    "        count += 1\n",
    "        if no_of_sampels and count >= no_of_sampels:\n",
    "            break\n",
    "    print('correct', correct/count)"
   ]
  },
  {
   "cell_type": "code",
   "execution_count": 16,
   "metadata": {},
   "outputs": [
    {
     "name": "stdout",
     "output_type": "stream",
     "text": [
      "correct 0.939\n"
     ]
    }
   ],
   "source": [
    "print_sample(x_val, predictions, y_val, 1000)"
   ]
  },
  {
   "cell_type": "code",
   "execution_count": null,
   "metadata": {
    "collapsed": true
   },
   "outputs": [],
   "source": []
  }
 ],
 "metadata": {
  "kernelspec": {
   "display_name": "Python [conda root]",
   "language": "python",
   "name": "conda-root-py"
  },
  "language_info": {
   "codemirror_mode": {
    "name": "ipython",
    "version": 3
   },
   "file_extension": ".py",
   "mimetype": "text/x-python",
   "name": "python",
   "nbconvert_exporter": "python",
   "pygments_lexer": "ipython3",
   "version": "3.5.4"
  }
 },
 "nbformat": 4,
 "nbformat_minor": 2
}
