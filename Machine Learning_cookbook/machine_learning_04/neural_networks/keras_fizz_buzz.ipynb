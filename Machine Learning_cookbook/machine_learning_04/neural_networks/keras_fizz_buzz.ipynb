{
 "cells": [
  {
   "cell_type": "code",
   "execution_count": 49,
   "metadata": {},
   "outputs": [],
   "source": [
    "import keras\n",
    "import numpy as np\n",
    "from keras.layers import Dense, Activation\n",
    "from sklearn.model_selection import train_test_split\n",
    "from keras.models import Sequential\n",
    "from keras.optimizers import RMSprop"
   ]
  },
  {
   "cell_type": "code",
   "execution_count": 88,
   "metadata": {
    "collapsed": true
   },
   "outputs": [],
   "source": [
    "# lets limit input to 16 digits\n",
    "INPUT_DIGITS = 16\n",
    "number_of_numbers = 2 ** INPUT_DIGITS - 1\n",
    "input_number = []\n",
    "output_label = []\n",
    "for i in range(1, number_of_numbers):\n",
    "    input_number.append(i)\n",
    "    if i % 3 == 0 and i % 5 == 0:\n",
    "        output_label.append(0) # fizzbuzz\n",
    "    elif i % 3 == 0:\n",
    "        output_label.append(1) # fizz\n",
    "    elif i % 5 == 0:\n",
    "        output_label.append(2) # buzz\n",
    "    else:\n",
    "        output_label.append(3) # Same"
   ]
  },
  {
   "cell_type": "code",
   "execution_count": 89,
   "metadata": {
    "collapsed": true
   },
   "outputs": [],
   "source": [
    "y = keras.utils.to_categorical(output_label)"
   ]
  },
  {
   "cell_type": "code",
   "execution_count": 90,
   "metadata": {
    "collapsed": true
   },
   "outputs": [],
   "source": [
    "def map_input_numer_to_binary(num):\n",
    "    binary_rep = list(\"{0:b}\".format(num))\n",
    "    final_res = ['0' for _ in range(INPUT_DIGITS)]\n",
    "    for idx, v in enumerate(reversed(binary_rep)):\n",
    "        final_res[idx] = v\n",
    "    return list(reversed(final_res))"
   ]
  },
  {
   "cell_type": "code",
   "execution_count": 91,
   "metadata": {
    "collapsed": true
   },
   "outputs": [],
   "source": [
    "def reverse_map_binary_to_number(binary):\n",
    "    return int(''.join(binary), 2)"
   ]
  },
  {
   "cell_type": "code",
   "execution_count": 118,
   "metadata": {},
   "outputs": [
    {
     "name": "stdout",
     "output_type": "stream",
     "text": [
      "['0', '0', '0', '0', '0', '0', '0', '0', '0', '0', '0', '0', '0', '0', '1', '0'] 2\n"
     ]
    }
   ],
   "source": [
    "print(map_input_numer_to_binary(2), reverse_map_binary_to_number(map_input_numer_to_binary(2)))"
   ]
  },
  {
   "cell_type": "code",
   "execution_count": 93,
   "metadata": {
    "collapsed": true
   },
   "outputs": [],
   "source": [
    "x = np.array([map_input_numer_to_binary(v) for v in input_number])"
   ]
  },
  {
   "cell_type": "code",
   "execution_count": 94,
   "metadata": {
    "collapsed": true
   },
   "outputs": [],
   "source": [
    "x_train, x_val, y_train, y_val = train_test_split(x, y, random_state = 3)"
   ]
  },
  {
   "cell_type": "code",
   "execution_count": 95,
   "metadata": {},
   "outputs": [
    {
     "data": {
      "text/plain": [
       "((49150, 16), (16384, 16), (49150, 4), (16384, 4))"
      ]
     },
     "execution_count": 95,
     "metadata": {},
     "output_type": "execute_result"
    }
   ],
   "source": [
    "x_train.shape, x_val.shape, y_train.shape, y_val.shape"
   ]
  },
  {
   "cell_type": "code",
   "execution_count": 96,
   "metadata": {},
   "outputs": [
    {
     "name": "stdout",
     "output_type": "stream",
     "text": [
      "Epoch 1/20\n",
      "49150/49150 [==============================] - 1s 29us/step - loss: 1.1477 - acc: 0.5312\n",
      "Epoch 2/20\n",
      "49150/49150 [==============================] - 1s 22us/step - loss: 1.1408 - acc: 0.5332\n",
      "Epoch 3/20\n",
      "49150/49150 [==============================] - 1s 21us/step - loss: 1.1369 - acc: 0.5332\n",
      "Epoch 4/20\n",
      "49150/49150 [==============================] - 1s 21us/step - loss: 1.1310 - acc: 0.5332\n",
      "Epoch 5/20\n",
      "49150/49150 [==============================] - 1s 20us/step - loss: 1.1183 - acc: 0.5334\n",
      "Epoch 6/20\n",
      "49150/49150 [==============================] - 1s 21us/step - loss: 1.0953 - acc: 0.5405\n",
      "Epoch 7/20\n",
      "49150/49150 [==============================] - 1s 21us/step - loss: 1.0635 - acc: 0.5796\n",
      "Epoch 8/20\n",
      "49150/49150 [==============================] - 1s 22us/step - loss: 1.0144 - acc: 0.6151\n",
      "Epoch 9/20\n",
      "49150/49150 [==============================] - 1s 20us/step - loss: 0.9439 - acc: 0.6467\n",
      "Epoch 10/20\n",
      "49150/49150 [==============================] - 1s 22us/step - loss: 0.8667 - acc: 0.6814\n",
      "Epoch 11/20\n",
      "49150/49150 [==============================] - 1s 22us/step - loss: 0.7942 - acc: 0.7074\n",
      "Epoch 12/20\n",
      "49150/49150 [==============================] - 1s 22us/step - loss: 0.7246 - acc: 0.7366\n",
      "Epoch 13/20\n",
      "49150/49150 [==============================] - 1s 21us/step - loss: 0.6582 - acc: 0.7646\n",
      "Epoch 14/20\n",
      "49150/49150 [==============================] - 1s 21us/step - loss: 0.5975 - acc: 0.7865\n",
      "Epoch 15/20\n",
      "49150/49150 [==============================] - 1s 23us/step - loss: 0.5363 - acc: 0.8102\n",
      "Epoch 16/20\n",
      "49150/49150 [==============================] - 1s 22us/step - loss: 0.4802 - acc: 0.8324\n",
      "Epoch 17/20\n",
      "49150/49150 [==============================] - 1s 21us/step - loss: 0.4271 - acc: 0.8526\n",
      "Epoch 18/20\n",
      "49150/49150 [==============================] - 1s 22us/step - loss: 0.3859 - acc: 0.8667\n",
      "Epoch 19/20\n",
      "49150/49150 [==============================] - 1s 25us/step - loss: 0.3504 - acc: 0.8789\n",
      "Epoch 20/20\n",
      "49150/49150 [==============================] - 1s 22us/step - loss: 0.3225 - acc: 0.8870\n"
     ]
    },
    {
     "data": {
      "text/plain": [
       "<keras.callbacks.History at 0x10b39bba8>"
      ]
     },
     "execution_count": 96,
     "metadata": {},
     "output_type": "execute_result"
    }
   ],
   "source": [
    "model = Sequential()\n",
    "\n",
    "model.add(Dense(64, input_shape=(16,)))\n",
    "model.add(Activation('relu'))\n",
    "model.add(Dense(100))\n",
    "model.add(Activation('relu'))\n",
    "model.add(Dense(4))\n",
    "model.add(Activation('softmax'))\n",
    "\n",
    "model.compile(loss='categorical_crossentropy', optimizer=RMSprop(), metrics=['accuracy'])\n",
    "model.fit(x_train, y_train, epochs=20, batch_size=128)"
   ]
  },
  {
   "cell_type": "code",
   "execution_count": 97,
   "metadata": {
    "collapsed": true
   },
   "outputs": [],
   "source": [
    "predictions = model.predict(x_val)"
   ]
  },
  {
   "cell_type": "code",
   "execution_count": 98,
   "metadata": {
    "collapsed": true
   },
   "outputs": [],
   "source": [
    "from sklearn.metrics import accuracy_score"
   ]
  },
  {
   "cell_type": "code",
   "execution_count": 99,
   "metadata": {},
   "outputs": [
    {
     "data": {
      "text/plain": [
       "0.8892822265625"
      ]
     },
     "execution_count": 99,
     "metadata": {},
     "output_type": "execute_result"
    }
   ],
   "source": [
    "accuracy_score(np.argmax(predictions, axis=1), np.argmax(y_val, axis=1))"
   ]
  },
  {
   "cell_type": "code",
   "execution_count": 120,
   "metadata": {
    "collapsed": true
   },
   "outputs": [],
   "source": [
    "def print_sample(input_value, output_prediction, expected_ouput, no_of_sampels=5, print_values=False):\n",
    "    correct = 0\n",
    "    count = 0\n",
    "    for value, pred, expected in zip(input_value, output_prediction, expected_ouput):\n",
    "        val = reverse_map_binary_to_number(value)\n",
    "        pred_val = np.argmax(pred)\n",
    "        expected_val = np.argmax(expected)\n",
    "        if print_values: print(val, pred_val, expected_val) # To prevent printing all values\n",
    "        if expected_val == pred_val:\n",
    "            correct += 1\n",
    "        count += 1\n",
    "        if no_of_sampels and count >= no_of_sampels:\n",
    "            break\n",
    "    print('correct', correct/count)"
   ]
  },
  {
   "cell_type": "code",
   "execution_count": 121,
   "metadata": {},
   "outputs": [
    {
     "name": "stdout",
     "output_type": "stream",
     "text": [
      "correct 0.89\n"
     ]
    }
   ],
   "source": [
    "print_sample(x_val, predictions, y_val, 1000)"
   ]
  },
  {
   "cell_type": "code",
   "execution_count": null,
   "metadata": {
    "collapsed": true
   },
   "outputs": [],
   "source": []
  }
 ],
 "metadata": {
  "kernelspec": {
   "display_name": "Python [conda root]",
   "language": "python",
   "name": "conda-root-py"
  },
  "language_info": {
   "codemirror_mode": {
    "name": "ipython",
    "version": 3
   },
   "file_extension": ".py",
   "mimetype": "text/x-python",
   "name": "python",
   "nbconvert_exporter": "python",
   "pygments_lexer": "ipython3",
   "version": "3.5.4"
  }
 },
 "nbformat": 4,
 "nbformat_minor": 2
}
