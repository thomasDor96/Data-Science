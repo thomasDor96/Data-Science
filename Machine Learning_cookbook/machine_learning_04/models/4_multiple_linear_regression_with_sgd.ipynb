{
 "cells": [
  {
   "cell_type": "code",
   "execution_count": 1,
   "metadata": {
    "collapsed": true
   },
   "outputs": [],
   "source": [
    "import matplotlib.pyplot as plt\n",
    "import numpy as np\n",
    "from sklearn import datasets, linear_model\n",
    "from sklearn.metrics import mean_squared_error, r2_score\n",
    "% matplotlib inline"
   ]
  },
  {
   "cell_type": "code",
   "execution_count": 2,
   "metadata": {
    "collapsed": true
   },
   "outputs": [],
   "source": [
    "# Load the diabetes dataset\n",
    "diabetes = datasets.load_diabetes()"
   ]
  },
  {
   "cell_type": "code",
   "execution_count": 3,
   "metadata": {},
   "outputs": [
    {
     "data": {
      "text/plain": [
       "(442, 10)"
      ]
     },
     "execution_count": 3,
     "metadata": {},
     "output_type": "execute_result"
    }
   ],
   "source": [
    "diabetes.data.shape"
   ]
  },
  {
   "cell_type": "code",
   "execution_count": 4,
   "metadata": {},
   "outputs": [
    {
     "data": {
      "text/plain": [
       "(442,)"
      ]
     },
     "execution_count": 4,
     "metadata": {},
     "output_type": "execute_result"
    }
   ],
   "source": [
    "diabetes.target.shape"
   ]
  },
  {
   "cell_type": "code",
   "execution_count": 5,
   "metadata": {
    "collapsed": true
   },
   "outputs": [],
   "source": [
    "# Use only one feature\n",
    "diabetes_X = diabetes.data"
   ]
  },
  {
   "cell_type": "code",
   "execution_count": 6,
   "metadata": {
    "collapsed": true
   },
   "outputs": [],
   "source": [
    "test_set_size = int(0.3 * diabetes_X.shape[0])"
   ]
  },
  {
   "cell_type": "code",
   "execution_count": 7,
   "metadata": {},
   "outputs": [
    {
     "data": {
      "text/plain": [
       "132"
      ]
     },
     "execution_count": 7,
     "metadata": {},
     "output_type": "execute_result"
    }
   ],
   "source": [
    "test_set_size"
   ]
  },
  {
   "cell_type": "code",
   "execution_count": 8,
   "metadata": {
    "collapsed": true
   },
   "outputs": [],
   "source": [
    "# Split the data into training/testing sets\n",
    "diabetes_X_train = diabetes_X[:-test_set_size]\n",
    "diabetes_X_test = diabetes_X[-test_set_size:]"
   ]
  },
  {
   "cell_type": "code",
   "execution_count": 9,
   "metadata": {
    "collapsed": true
   },
   "outputs": [],
   "source": [
    "# Split the targets into training/testing sets\n",
    "diabetes_y_train = diabetes.target[:-test_set_size]\n",
    "diabetes_y_test = diabetes.target[-test_set_size:]"
   ]
  },
  {
   "cell_type": "markdown",
   "metadata": {},
   "source": [
    "### multiple regression"
   ]
  },
  {
   "cell_type": "markdown",
   "metadata": {},
   "source": [
    "<pre>\n",
    "y = X B\n",
    "where:\n",
    "    y = output (dependent)\n",
    "    X = input (independent)\n",
    "    B = beeta values\n",
    "    \n",
    "Y_hat = B' * X\n",
    "error = Y_hat - y\n",
    "B = B + learning_rate * error * X\n",
    "</pre>"
   ]
  },
  {
   "cell_type": "code",
   "execution_count": 10,
   "metadata": {
    "collapsed": true
   },
   "outputs": [],
   "source": [
    "X = np.ones((diabetes_X_train.shape[0], diabetes_X_train.shape[1]+1))\n",
    "X[:,1:] = diabetes_X_train"
   ]
  },
  {
   "cell_type": "code",
   "execution_count": 11,
   "metadata": {},
   "outputs": [
    {
     "data": {
      "text/plain": [
       "(310, 11)"
      ]
     },
     "execution_count": 11,
     "metadata": {},
     "output_type": "execute_result"
    }
   ],
   "source": [
    "X.shape"
   ]
  },
  {
   "cell_type": "code",
   "execution_count": 12,
   "metadata": {},
   "outputs": [
    {
     "name": "stdout",
     "output_type": "stream",
     "text": [
      "0 coefs: 39.98, 0.13, 0.02, 0.56, 0.42, 0.16, 0.14, -0.36, 0.36, 0.53, 0.34 error:22666.61\n",
      "1000 coefs: 152.19, 37.92, -86.10, 323.58, 204.60, 25.36, -17.65, -169.67, 145.08, 298.22, 149.97 error:3287.39\n",
      "2000 coefs: 152.61, 18.82, -174.93, 432.33, 252.36, -12.24, -85.29, -193.25, 140.78, 390.40, 153.39 error:3033.77\n",
      "3000 coefs: 152.78, 7.13, -224.10, 485.34, 270.82, -31.12, -120.85, -197.97, 134.75, 437.45, 144.41 error:2968.88\n",
      "4000 coefs: 152.86, 1.32, -249.22, 513.14, 278.38, -39.78, -138.26, -198.05, 132.19, 464.23, 135.20 error:2950.94\n",
      "5000 coefs: 152.90, -1.41, -261.47, 528.10, 281.15, -44.11, -146.84, -196.65, 131.53, 480.19, 127.63 error:2945.62\n",
      "6000 coefs: 152.92, -2.63, -267.08, 536.33, 281.82, -46.67, -151.08, -194.78, 131.78, 490.11, 121.89 error:2943.88\n",
      "7000 coefs: 152.93, -3.12, -269.37, 540.98, 281.64, -48.52, -153.11, -192.79, 132.44, 496.55, 117.70 error:2943.22\n",
      "8000 coefs: 152.94, -3.28, -270.07, 543.69, 281.15, -50.11, -153.96, -190.85, 133.28, 500.91, 114.70 error:2942.93\n",
      "9000 coefs: 152.94, -3.30, -270.06, 545.31, 280.60, -51.63, -154.16, -188.99, 134.20, 503.99, 112.58 error:2942.77\n"
     ]
    }
   ],
   "source": [
    "NO_OF_EPOCHS = 10000\n",
    "coefs = [0.0 for i in range(X.shape[1])]\n",
    "LEARNING_RATE = 0.001\n",
    "\n",
    "for epoch in range(NO_OF_EPOCHS):\n",
    "    epoch_error = 0\n",
    "    for i in range(X.shape[0]):\n",
    "        row = X[i,:]\n",
    "        y = diabetes_y_train[i]\n",
    "        y_hat = np.dot(row, coefs)\n",
    "        error = y - y_hat\n",
    "        coefs = coefs + np.dot(LEARNING_RATE * error, row)\n",
    "        epoch_error += error** 2\n",
    "    if epoch % 1000 == 0:\n",
    "        print(epoch, 'coefs:', ', '.join(['%.2f'%(c) for c in coefs]), 'error:%.2f' %(epoch_error/X.shape[0]))"
   ]
  },
  {
   "cell_type": "code",
   "execution_count": 13,
   "metadata": {
    "collapsed": true
   },
   "outputs": [],
   "source": [
    "X_test = np.ones((diabetes_X_test.shape[0], diabetes_X_test.shape[1]+1))\n",
    "X_test[:,1:] = diabetes_X_test"
   ]
  },
  {
   "cell_type": "code",
   "execution_count": 14,
   "metadata": {
    "collapsed": true
   },
   "outputs": [],
   "source": [
    "y_pred = np.matmul(X_test, coefs)"
   ]
  },
  {
   "cell_type": "code",
   "execution_count": 15,
   "metadata": {},
   "outputs": [
    {
     "name": "stdout",
     "output_type": "stream",
     "text": [
      "Coefficients: [  -3.2709719  -269.75783061  546.31909144  280.09496185  -53.1351474\n",
      " -153.97261265 -187.2469581   135.14928933  506.24658244  111.09683613]\n",
      "Intercept: 152.94377997888603\n",
      "Mean squared error: 2788.5432\n",
      "Variance score: 0.5090\n"
     ]
    }
   ],
   "source": [
    "# The coefficients\n",
    "print('Coefficients:', coefs[1:])\n",
    "# The intercept \n",
    "print('Intercept:', coefs[0])\n",
    "# The mean squared error\n",
    "print(\"Mean squared error: %.4f\"\n",
    "      % mean_squared_error(diabetes_y_test, y_pred))\n",
    "# Explained variance score: 1 is perfect prediction\n",
    "print('Variance score: %.4f' % r2_score(diabetes_y_test, y_pred))"
   ]
  },
  {
   "cell_type": "markdown",
   "metadata": {
    "collapsed": true
   },
   "source": [
    "## Validate our model with the sklearn package."
   ]
  },
  {
   "cell_type": "code",
   "execution_count": 16,
   "metadata": {},
   "outputs": [
    {
     "name": "stderr",
     "output_type": "stream",
     "text": [
      "/Users/viki/anaconda3/lib/python3.5/site-packages/scipy/linalg/basic.py:1226: RuntimeWarning: internal gelsd driver lwork query error, required iwork dimension not returned. This is likely the result of LAPACK bug 0038, fixed in LAPACK 3.2.2 (released July 21, 2010). Falling back to 'gelss' driver.\n",
      "  warnings.warn(mesg, RuntimeWarning)\n"
     ]
    }
   ],
   "source": [
    "# Create linear regression object\n",
    "regr = linear_model.LinearRegression()\n",
    "\n",
    "# Train the model using the training sets\n",
    "regr.fit(diabetes_X_train, diabetes_y_train)\n",
    "\n",
    "# Make predictions using the testing set\n",
    "diabetes_y_pred = regr.predict(diabetes_X_test)"
   ]
  },
  {
   "cell_type": "code",
   "execution_count": 17,
   "metadata": {},
   "outputs": [
    {
     "name": "stdout",
     "output_type": "stream",
     "text": [
      "Coefficients: [  -4.06035767 -266.98169237  547.20535959  279.52632656 -394.10840711\n",
      "  115.92175016  -28.24786192  182.52226293  627.99560396  106.18549789]\n",
      "Intercept: 152.6883674111717\n",
      "Mean squared error: 2742.7850\n",
      "Variance score: 0.5171\n"
     ]
    }
   ],
   "source": [
    "# The coefficients\n",
    "print('Coefficients:', regr.coef_)\n",
    "# The intercept \n",
    "print('Intercept:', regr.intercept_)\n",
    "# The mean squared error\n",
    "print(\"Mean squared error: %.4f\"\n",
    "      % mean_squared_error(diabetes_y_test, diabetes_y_pred))\n",
    "# Explained variance score: 1 is perfect prediction\n",
    "print('Variance score: %.4f' % r2_score(diabetes_y_test, diabetes_y_pred))"
   ]
  },
  {
   "cell_type": "code",
   "execution_count": null,
   "metadata": {
    "collapsed": true
   },
   "outputs": [],
   "source": []
  }
 ],
 "metadata": {
  "kernelspec": {
   "display_name": "Python [conda root]",
   "language": "python",
   "name": "conda-root-py"
  },
  "language_info": {
   "codemirror_mode": {
    "name": "ipython",
    "version": 3
   },
   "file_extension": ".py",
   "mimetype": "text/x-python",
   "name": "python",
   "nbconvert_exporter": "python",
   "pygments_lexer": "ipython3",
   "version": "3.5.4"
  }
 },
 "nbformat": 4,
 "nbformat_minor": 2
}
