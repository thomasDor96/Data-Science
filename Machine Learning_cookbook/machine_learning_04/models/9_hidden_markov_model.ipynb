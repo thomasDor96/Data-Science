{
 "cells": [
  {
   "cell_type": "markdown",
   "metadata": {},
   "source": [
    "<pre>\n",
    "We will be build a observation scorer to measure the probsbility of a sequence of observation\n",
    "We will then build a predictor for optimul path (sequence of states) for a given observation to happen\n",
    "We will then cross check the predictions against hmmlearn standard library.\n",
    "</pre>"
   ]
  },
  {
   "cell_type": "code",
   "execution_count": 1,
   "metadata": {
    "collapsed": true
   },
   "outputs": [],
   "source": [
    "import numpy as np\n",
    "from hmmlearn import hmm\n",
    "import operator"
   ]
  },
  {
   "cell_type": "code",
   "execution_count": 2,
   "metadata": {
    "collapsed": true
   },
   "outputs": [],
   "source": [
    "np.random.seed(777)"
   ]
  },
  {
   "cell_type": "code",
   "execution_count": 3,
   "metadata": {
    "collapsed": true
   },
   "outputs": [],
   "source": [
    "states = [\"Rainy\", \"Sunny\"]\n",
    "n_states = len(states)\n",
    "\n",
    "observations = [\"walk\", \"shop\", \"clean\"]\n",
    "n_observations = len(observations)\n",
    "\n",
    "start_probability = np.array([0.2, 0.8]) # started observation on a sunny day\n",
    "\n",
    "transition_probability = np.array([\n",
    "  [0.7, 0.3],\n",
    "  [0.4, 0.6]\n",
    "])\n",
    "\n",
    "emission_probability = np.array([\n",
    "  [0.1, 0.4, 0.5],\n",
    "  [0.6, 0.3, 0.1]\n",
    "])"
   ]
  },
  {
   "cell_type": "code",
   "execution_count": 4,
   "metadata": {
    "collapsed": true
   },
   "outputs": [],
   "source": [
    "# predict a sequence of hidden states based on visible states\n",
    "# Bob says: walk, clean, shop, shop, clean, walk\n",
    "bob_says = np.array([[0, 2, 1, 1, 2, 0]]).T"
   ]
  },
  {
   "cell_type": "markdown",
   "metadata": {},
   "source": [
    "### Custom implementation of HMM"
   ]
  },
  {
   "cell_type": "code",
   "execution_count": 5,
   "metadata": {
    "collapsed": true
   },
   "outputs": [],
   "source": [
    "def get_obs_prob_for_hidden_state(observation, hidden_state):\n",
    "    # observation cound be 0, 1, 2\n",
    "    # hidden_state could be 0, 1\n",
    "    return emission_probability[hidden_state][observation]"
   ]
  },
  {
   "cell_type": "code",
   "execution_count": 6,
   "metadata": {
    "collapsed": true
   },
   "outputs": [],
   "source": [
    "def get_hidden_state_prob_given_prev_state(hidden_state, prev_hidden_state=None):\n",
    "    if prev_hidden_state is None:\n",
    "        return start_probability[hidden_state]\n",
    "    return transition_probability[prev_hidden_state][hidden_state]"
   ]
  },
  {
   "cell_type": "code",
   "execution_count": 7,
   "metadata": {
    "collapsed": true
   },
   "outputs": [],
   "source": [
    "def get_hidden_state_prob(hidden_state, observation_step):\n",
    "    if observation_step == 0:\n",
    "        return start_probability[hidden_state]\n",
    "    prob_score = 0\n",
    "    for state_id in range(n_states):\n",
    "        prob_score += get_hidden_state_prob_given_prev_state(hidden_state, state_id) * \\\n",
    "                          get_hidden_state_prob(state_id, observation_step - 1)\n",
    "    return prob_score"
   ]
  },
  {
   "cell_type": "code",
   "execution_count": 8,
   "metadata": {
    "collapsed": true
   },
   "outputs": [],
   "source": [
    "def get_observation_prob(observation, observation_step):\n",
    "    prob_score = 0\n",
    "    for state_id in range(n_states):\n",
    "        prob_score += get_obs_prob_for_hidden_state(observation, state_id) *\\\n",
    "                          get_hidden_state_prob(state_id, observation_step)\n",
    "    return prob_score"
   ]
  },
  {
   "cell_type": "code",
   "execution_count": 9,
   "metadata": {
    "collapsed": true
   },
   "outputs": [],
   "source": [
    "def get_hidden_state_prob_by_observation(observation, state_id, observation_step):\n",
    "    obs_prob_for_state = get_obs_prob_for_hidden_state(observation, state_id)\n",
    "    state_prob = get_hidden_state_prob(state_id, observation_step)\n",
    "    obs_prob = get_observation_prob(observation, observation_step)\n",
    "    return obs_prob_for_state * state_prob/ obs_prob"
   ]
  },
  {
   "cell_type": "code",
   "execution_count": 10,
   "metadata": {},
   "outputs": [
    {
     "data": {
      "text/plain": [
       "0.1625377643504532"
      ]
     },
     "execution_count": 10,
     "metadata": {},
     "output_type": "execute_result"
    }
   ],
   "source": [
    "get_hidden_state_prob_by_observation(0, 0, 2)"
   ]
  },
  {
   "cell_type": "markdown",
   "metadata": {},
   "source": [
    "### Get observation score"
   ]
  },
  {
   "cell_type": "code",
   "execution_count": 11,
   "metadata": {
    "collapsed": true
   },
   "outputs": [],
   "source": [
    "def get_path_score_by_states(observed_values, debug=False):\n",
    "    state_probs = [0 for s_id, state in enumerate(states)]\n",
    "    if len(observed_values) == 1:\n",
    "        prev_scores = [1]\n",
    "    else:\n",
    "        prev_scores = get_path_score_by_states(observed_values[:-1], debug)\n",
    "    curr_observation = observed_values[-1]\n",
    "    for s_id_prev, prev_score in enumerate(prev_scores):\n",
    "        score = 0\n",
    "        if len(observed_values) == 1:\n",
    "            s_id_prev = None \n",
    "        for s_id, state in enumerate(states):\n",
    "            state_prob = get_hidden_state_prob_given_prev_state(s_id, s_id_prev)\n",
    "            obs_prob = get_obs_prob_for_hidden_state(curr_observation, s_id)\n",
    "            if debug: print('s_id_prev, s_id, prev_score, state_prob, obs_prob', s_id_prev, s_id, prev_score, state_prob, obs_prob)\n",
    "            score = state_prob * obs_prob * prev_score\n",
    "            state_probs[s_id] += score\n",
    "    if debug: print('state_probs', observed_values, ':', state_probs)\n",
    "    return state_probs"
   ]
  },
  {
   "cell_type": "code",
   "execution_count": 12,
   "metadata": {
    "collapsed": true
   },
   "outputs": [],
   "source": [
    "def get_path_score(observed_values, debug=False):\n",
    "    return np.log(sum(get_path_score_by_states(observed_values, debug)))"
   ]
  },
  {
   "cell_type": "code",
   "execution_count": 13,
   "metadata": {},
   "outputs": [
    {
     "name": "stdout",
     "output_type": "stream",
     "text": [
      "0 [0] -0.6931471805599453\n",
      "1 [0 2] -2.021927635479229\n",
      "2 [0 2 1] -3.034348369525084\n",
      "3 [0 2 1 1] -4.053450634289115\n",
      "4 [0 2 1 1 2] -5.129269787139621\n",
      "5 [0 2 1 1 2 0] -6.447971343364465\n"
     ]
    }
   ],
   "source": [
    "# just observation scores\n",
    "for v in range(len(bob_says.T[0])):\n",
    "    print(v, bob_says.T[0][:v+1], get_path_score(bob_says.T[0][:v+1]))"
   ]
  },
  {
   "cell_type": "code",
   "execution_count": 14,
   "metadata": {},
   "outputs": [
    {
     "data": {
      "text/plain": [
       "-6.447971343364465"
      ]
     },
     "execution_count": 14,
     "metadata": {},
     "output_type": "execute_result"
    }
   ],
   "source": [
    "get_path_score(bob_says.T[0])"
   ]
  },
  {
   "cell_type": "markdown",
   "metadata": {},
   "source": [
    "### Get most probable sequence of state to generate a given observation"
   ]
  },
  {
   "cell_type": "code",
   "execution_count": 15,
   "metadata": {
    "collapsed": true
   },
   "outputs": [],
   "source": [
    "import itertools"
   ]
  },
  {
   "cell_type": "code",
   "execution_count": 16,
   "metadata": {
    "collapsed": true
   },
   "outputs": [],
   "source": [
    "# observed_values = bob_says.T[0]"
   ]
  },
  {
   "cell_type": "code",
   "execution_count": 17,
   "metadata": {
    "collapsed": true
   },
   "outputs": [],
   "source": [
    "def get_all_possible_path_score_by_states(observed_values, debug=False):\n",
    "    path_state_probs = {}\n",
    "    if len(observed_values) == 1:\n",
    "        prev_path_state_probs = {'': 0}\n",
    "    else:\n",
    "        prev_path_state_probs = get_all_possible_path_score_by_states(observed_values[:-1], debug)\n",
    "    curr_observation = observed_values[-1]\n",
    "    for prev_path, prev_score in prev_path_state_probs.items():\n",
    "        score = 0\n",
    "        if len(prev_path) == 0:\n",
    "            s_id_prev = None \n",
    "        else:\n",
    "            s_id_prev = int(prev_path[-1])\n",
    "        for s_id, state in enumerate(states):\n",
    "            new_path = prev_path + str(s_id)\n",
    "            state_prob = get_hidden_state_prob_given_prev_state(s_id, s_id_prev)\n",
    "            obs_prob = get_obs_prob_for_hidden_state(curr_observation, s_id)\n",
    "            if debug: print('s_id_prev, s_id, prev_score, state_prob, obs_prob', s_id_prev, s_id, prev_score, state_prob, obs_prob)\n",
    "            score = np.log(state_prob) + np.log(obs_prob) + prev_score\n",
    "#             if debug: print('score', score, np.log(score))\n",
    "#             new_score = np.log(score)\n",
    "            path_state_probs[new_path] = score\n",
    "    if debug: print('path_state_probs', path_state_probs)\n",
    "    return path_state_probs"
   ]
  },
  {
   "cell_type": "code",
   "execution_count": 18,
   "metadata": {
    "collapsed": true
   },
   "outputs": [],
   "source": [
    "def get_best_path(observed_values, debug=False):\n",
    "    res = get_all_possible_path_score_by_states(observed_values, debug)\n",
    "    prob_states, prob_score = sorted(res.items(), key=lambda val: val[1], reverse=True)[0]\n",
    "    return prob_states, prob_score"
   ]
  },
  {
   "cell_type": "code",
   "execution_count": 19,
   "metadata": {
    "collapsed": true
   },
   "outputs": [],
   "source": [
    "prob_states, prob_score = get_best_path(bob_says.T[0])"
   ]
  },
  {
   "cell_type": "code",
   "execution_count": 20,
   "metadata": {},
   "outputs": [
    {
     "data": {
      "text/plain": [
       "('100001', -7.653958991730681)"
      ]
     },
     "execution_count": 20,
     "metadata": {},
     "output_type": "execute_result"
    }
   ],
   "source": [
    "prob_states, prob_score"
   ]
  },
  {
   "cell_type": "code",
   "execution_count": 21,
   "metadata": {},
   "outputs": [
    {
     "name": "stdout",
     "output_type": "stream",
     "text": [
      "Bob says: walk, clean, shop, shop, clean, walk\n",
      "Alice hears: Sunny, Rainy, Rainy, Rainy, Rainy, Sunny\n"
     ]
    }
   ],
   "source": [
    "print(\"Bob says:\", \", \".join(list(map(lambda x: observations[x], bob_says.T[0]))))\n",
    "print(\"Alice hears:\", \", \".join(list(map(lambda x: states[int(x)], list(prob_states)))))"
   ]
  },
  {
   "cell_type": "markdown",
   "metadata": {},
   "source": [
    "### The Viterbi Algorithm"
   ]
  },
  {
   "cell_type": "code",
   "execution_count": 22,
   "metadata": {
    "collapsed": true
   },
   "outputs": [],
   "source": [
    "from collections import defaultdict"
   ]
  },
  {
   "cell_type": "code",
   "execution_count": 23,
   "metadata": {
    "collapsed": true
   },
   "outputs": [],
   "source": [
    "def get_optimul_viterbi_path(observed_values, debug=False):\n",
    "    state_path_prob = defaultdict(list)\n",
    "    for s_id, state in enumerate(states):\n",
    "        obs_prob = get_obs_prob_for_hidden_state(observed_values[0], s_id)\n",
    "        state_path_prob[0].append({\n",
    "            's_id': s_id,\n",
    "            'score': np.log(get_hidden_state_prob_given_prev_state(s_id, None)) + np.log(obs_prob),\n",
    "            'path': str(s_id)\n",
    "        })\n",
    "    for idx, obs_val in enumerate(observed_values[1:]):\n",
    "        for s_id, state in enumerate(states):\n",
    "            new_state_id = None\n",
    "            new_state_score = None\n",
    "            path_so_far = None\n",
    "            obs_prob = get_obs_prob_for_hidden_state(obs_val, s_id)\n",
    "            \n",
    "            for s_id_prev, _ in enumerate(states):\n",
    "                prev_score = state_path_prob[idx][s_id_prev]['score']\n",
    "                state_prob = get_hidden_state_prob_given_prev_state(s_id, s_id_prev)\n",
    "                score = np.log(state_prob) + np.log(obs_prob) + prev_score\n",
    "                if debug: print('s_id_prev, s_id, prev_score, state_prob, obs_prob, score', s_id_prev, s_id, prev_score, state_prob, obs_prob, score)\n",
    "                if new_state_id is None or score > new_state_score:\n",
    "                    new_state_id = s_id\n",
    "                    new_state_score = score\n",
    "                    path_so_far = state_path_prob[idx][s_id_prev]['path']\n",
    "            state_path_prob[idx+1].append({\n",
    "                's_id': new_state_id,\n",
    "                'score': new_state_score,\n",
    "                'path': path_so_far + str(new_state_id)\n",
    "            })\n",
    "            if debug: print('idx, s_id, score, path', idx, new_state_id, new_state_score, path_so_far + str(new_state_id))\n",
    "        if debug: print(\"--\")\n",
    "    return state_path_prob"
   ]
  },
  {
   "cell_type": "code",
   "execution_count": 24,
   "metadata": {
    "collapsed": true
   },
   "outputs": [],
   "source": [
    "def get_viterbi_path(observed_values, debug=False):\n",
    "    res = get_optimul_viterbi_path(observed_values, debug)\n",
    "    final_res = sorted(res[max(res)], key=lambda val: val['score'], reverse=True)[0]\n",
    "    return final_res['path'], final_res['score']"
   ]
  },
  {
   "cell_type": "code",
   "execution_count": 25,
   "metadata": {
    "collapsed": true
   },
   "outputs": [],
   "source": [
    "path, score = get_viterbi_path(bob_says.T[0])"
   ]
  },
  {
   "cell_type": "code",
   "execution_count": 26,
   "metadata": {},
   "outputs": [
    {
     "data": {
      "text/plain": [
       "('100001', -7.653958991730681)"
      ]
     },
     "execution_count": 26,
     "metadata": {},
     "output_type": "execute_result"
    }
   ],
   "source": [
    "path, score"
   ]
  },
  {
   "cell_type": "code",
   "execution_count": 27,
   "metadata": {
    "collapsed": true
   },
   "outputs": [],
   "source": [
    "# Most probable state transition for the given observations\n",
    "res = get_optimul_viterbi_path(bob_says.T[0])\n",
    "final_res = sorted(res[max(res)], key=lambda val: val['score'], reverse=True)[0]"
   ]
  },
  {
   "cell_type": "code",
   "execution_count": 28,
   "metadata": {},
   "outputs": [
    {
     "name": "stdout",
     "output_type": "stream",
     "text": [
      "0 [] 1 -0.7339691750802004\n",
      "1 [0] 10 -2.3434070875143007\n",
      "2 [0 2] 100 -3.6163727633271883\n",
      "3 [0 2 1] 1000 -4.889338439140076\n",
      "4 [0 2 1 1] 10000 -5.939160563638754\n",
      "5 [0 2 1 1 2] 100001 -7.653958991730681\n"
     ]
    }
   ],
   "source": [
    "for idx, state in enumerate(final_res['path']):\n",
    "    for path_vals in res[idx]:\n",
    "        if list(path_vals['path'])[-1] == state:\n",
    "            print(idx, bob_says.T[0][0:idx], path_vals['path'], path_vals['score'])\n",
    "            break"
   ]
  },
  {
   "cell_type": "code",
   "execution_count": 29,
   "metadata": {},
   "outputs": [
    {
     "name": "stdout",
     "output_type": "stream",
     "text": [
      "Bob says: walk, clean, shop, shop, clean, walk\n",
      "Alice hears: Sunny, Rainy, Rainy, Rainy, Rainy, Sunny\n"
     ]
    }
   ],
   "source": [
    "print(\"Bob says:\", \", \".join(list(map(lambda x: observations[x], bob_says.T[0]))))\n",
    "print(\"Alice hears:\", \", \".join(list(map(lambda x: states[int(x)], list(path)))))"
   ]
  },
  {
   "cell_type": "markdown",
   "metadata": {},
   "source": [
    "### Using hmmlearn MultinomialHMM"
   ]
  },
  {
   "cell_type": "code",
   "execution_count": 30,
   "metadata": {
    "collapsed": true
   },
   "outputs": [],
   "source": [
    "model = hmm.MultinomialHMM(n_components=n_states, random_state=777)"
   ]
  },
  {
   "cell_type": "code",
   "execution_count": 31,
   "metadata": {
    "collapsed": true
   },
   "outputs": [],
   "source": [
    "model.startprob_ = start_probability\n",
    "model.transmat_ = transition_probability\n",
    "model.emissionprob_ = emission_probability"
   ]
  },
  {
   "cell_type": "code",
   "execution_count": 32,
   "metadata": {
    "collapsed": true
   },
   "outputs": [],
   "source": [
    "model._check()"
   ]
  },
  {
   "cell_type": "code",
   "execution_count": 33,
   "metadata": {
    "collapsed": true
   },
   "outputs": [],
   "source": [
    "logprob, alice_hears = model.decode(bob_says, algorithm=\"viterbi\")"
   ]
  },
  {
   "cell_type": "code",
   "execution_count": 34,
   "metadata": {},
   "outputs": [
    {
     "data": {
      "text/plain": [
       "(-7.65395899173068, array([1, 0, 0, 0, 0, 1]))"
      ]
     },
     "execution_count": 34,
     "metadata": {},
     "output_type": "execute_result"
    }
   ],
   "source": [
    "logprob, alice_hears"
   ]
  },
  {
   "cell_type": "code",
   "execution_count": 35,
   "metadata": {},
   "outputs": [
    {
     "name": "stdout",
     "output_type": "stream",
     "text": [
      "Bob says: walk, clean, shop, shop, clean, walk\n",
      "Alice hears: Sunny, Rainy, Rainy, Rainy, Rainy, Sunny\n"
     ]
    }
   ],
   "source": [
    "print(\"Bob says:\", \", \".join(list(map(lambda x: observations[x], bob_says.T[0]))))\n",
    "print(\"Alice hears:\", \", \".join(map(lambda x: states[x], alice_hears)))"
   ]
  },
  {
   "cell_type": "code",
   "execution_count": 36,
   "metadata": {},
   "outputs": [
    {
     "name": "stdout",
     "output_type": "stream",
     "text": [
      "0 [0] -0.7339691750802004 [1]\n",
      "1 [0 2] -2.3434070875143007 [1 0]\n",
      "2 [0 2 1] -3.6163727633271883 [1 0 0]\n",
      "3 [0 2 1 1] -4.889338439140076 [1 0 0 0]\n",
      "4 [0 2 1 1 2] -5.939160563638754 [1 0 0 0 0]\n",
      "5 [0 2 1 1 2 0] -7.65395899173068 [1 0 0 0 0 1]\n"
     ]
    }
   ],
   "source": [
    "# Most probable state transition for the given observations\n",
    "for v in range(len(bob_says.T[0])):\n",
    "    logprob, alice_hears = model.decode(bob_says[:v+1], algorithm=\"viterbi\")\n",
    "    print(v, bob_says.T[0][:v+1], logprob, alice_hears)"
   ]
  },
  {
   "cell_type": "code",
   "execution_count": 37,
   "metadata": {},
   "outputs": [
    {
     "name": "stdout",
     "output_type": "stream",
     "text": [
      "0 [0] -0.6931471805599452\n",
      "1 [0 2] -2.021927635479229\n",
      "2 [0 2 1] -3.034348369525084\n",
      "3 [0 2 1 1] -4.053450634289115\n",
      "4 [0 2 1 1 2] -5.12926978713962\n",
      "5 [0 2 1 1 2 0] -6.447971343364464\n"
     ]
    }
   ],
   "source": [
    "# just observation scores\n",
    "for v in range(len(bob_says.T[0])):\n",
    "    print(v, bob_says.T[0][:v+1], model.score([bob_says.T[0][:v+1]]))"
   ]
  },
  {
   "cell_type": "code",
   "execution_count": 38,
   "metadata": {},
   "outputs": [
    {
     "data": {
      "text/plain": [
       "-6.447971343364464"
      ]
     },
     "execution_count": 38,
     "metadata": {},
     "output_type": "execute_result"
    }
   ],
   "source": [
    "model.score([bob_says.T[0]])"
   ]
  },
  {
   "cell_type": "code",
   "execution_count": null,
   "metadata": {
    "collapsed": true
   },
   "outputs": [],
   "source": []
  }
 ],
 "metadata": {
  "kernelspec": {
   "display_name": "Python [conda root]",
   "language": "python",
   "name": "conda-root-py"
  },
  "language_info": {
   "codemirror_mode": {
    "name": "ipython",
    "version": 3
   },
   "file_extension": ".py",
   "mimetype": "text/x-python",
   "name": "python",
   "nbconvert_exporter": "python",
   "pygments_lexer": "ipython3",
   "version": "3.5.4"
  }
 },
 "nbformat": 4,
 "nbformat_minor": 2
}
