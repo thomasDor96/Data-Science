{
 "cells": [
  {
   "cell_type": "markdown",
   "metadata": {},
   "source": [
    "# Connect Intensive - Machine Learning Nanodegree\n",
    "\n",
    "## Week 1. Python Crash Course  \n",
    "\n",
    "## Objectives    \n",
    "\n",
    "- Jupyter notebook \n",
    "- Basic Python programming  \n",
    "- Numpy\n",
    "- Pandas \n",
    "- Data visualization with Matplotlib and Seaborn \n",
    "\n",
    "## Prerequisites   \n",
    "\n",
    " - You should have **Python 2.7** installed (if not, please [download and install Python 2.7](https://www.python.org/downloads/))\n",
    " - You should also install (and perhaps upgrade) the following packages, if you haven't already:\n",
    "    - [numpy](http://www.numpy.org/)\n",
    "    - [pandas](http://pandas.pydata.org/)\n",
    "    - [matplotlib](http://matplotlib.org/)  \n",
    "    - [seaborn](http://seaborn.pydata.org)  "
   ]
  },
  {
   "cell_type": "markdown",
   "metadata": {},
   "source": [
    "---"
   ]
  },
  {
   "cell_type": "markdown",
   "metadata": {},
   "source": [
    "## 3 | Pandas\n",
    "\n",
    "One of the major skills you can bring to the table as a machine learnist is the ability to explore and understand a data set. The library **`pandas`** is a Python package developed by Wes McKinney that machine learnists use to quickly and efficiently navigate data sets. From [the pandas documentation](http://pandas.pydata.org/pandas-docs/stable/index.html):\n",
    "\n",
    "> \"**`pandas`** is a Python package providing fast, flexible, and expressive data structures designed to make working with “relational” or “labeled” data both easy and intuitive.\"\n",
    "\n",
    "\n",
    "Some basic topics we cover here include:\n",
    "- Input data into DataFrame \n",
    "- Get summary information of the data\n",
    "- Selection and indexing  \n",
    "- Conditional selection   \n",
    "- Others, e.g., creating a new column, drop columns \n",
    "\n",
    "> **Fun fact:** the name \"`pandas`\" derives from **pan**el **da**ta, a term for multi-dimensional data sets! [(source)](http://www.dlr.de/sc/Portaldata/15/Resources/dokumente/pyhpc2011/submissions/pyhpc2011_submission_9.pdf)  \n",
    "\n",
    "> **Adtional reference:** Check out a Pandas cheat sheet [here](http://www.kdnuggets.com/2017/01/pandas-cheat-sheet.html). "
   ]
  },
  {
   "cell_type": "code",
   "execution_count": null,
   "metadata": {
    "collapsed": true
   },
   "outputs": [],
   "source": [
    "# import numpy and pandas \n",
    "import numpy as np\n",
    "import pandas as pd"
   ]
  },
  {
   "cell_type": "code",
   "execution_count": null,
   "metadata": {
    "collapsed": true
   },
   "outputs": [],
   "source": [
    "# set maximum rows to display\n",
    "pd.options.display.max_rows = 10 # default is 60"
   ]
  },
  {
   "cell_type": "markdown",
   "metadata": {},
   "source": [
    "### Read Data Into DataFrame\n",
    "\n",
    "- pd.read_csv('data.csv')\n",
    "- pd.read_excel('data.xlsx',sheetname='Sheet1')\n",
    "- pd.read_table() - It reads general delimited file into DataFrame and also supports optionally iterating or breaking of the file into chunks.  \n",
    "\n",
    "**Run** the cell below to read the iris dataset. "
   ]
  },
  {
   "cell_type": "code",
   "execution_count": null,
   "metadata": {
    "collapsed": true
   },
   "outputs": [],
   "source": [
    "# read data\n",
    "data = pd.read_table('./data/iris.txt', delimiter=',')"
   ]
  },
  {
   "cell_type": "markdown",
   "metadata": {},
   "source": [
    "### Information of Data  \n",
    "\n",
    "After reading the datafile into a DataFrame, we can use built-in pandas dataframe methods to get some information of the data. \n",
    "\n",
    "**Run** the cells below to view the first 5 rows of the dataframe, the information of the dataframe, and summary statistics of the data. "
   ]
  },
  {
   "cell_type": "code",
   "execution_count": null,
   "metadata": {},
   "outputs": [],
   "source": [
    "# View first 5 rows\n",
    "# Note: use data.tail() to view the last 5 rows\n",
    "# You can pass into an integer to specify the number of rows to show, e.g., data.head(20)\n",
    "data.head() "
   ]
  },
  {
   "cell_type": "code",
   "execution_count": null,
   "metadata": {},
   "outputs": [],
   "source": [
    "# Get a concise summary of data\n",
    "data.info()"
   ]
  },
  {
   "cell_type": "code",
   "execution_count": null,
   "metadata": {},
   "outputs": [],
   "source": [
    "# Generates descriptive statistics that summarize the central tendency, dispersion \n",
    "# and shape of a dataset's distribution, excluding missing values\n",
    "data.describe()"
   ]
  },
  {
   "cell_type": "markdown",
   "metadata": {},
   "source": [
    "### Selection and Indexing   \n",
    "\n",
    "There are various ways to grab data from a dataframe. "
   ]
  },
  {
   "cell_type": "markdown",
   "metadata": {},
   "source": [
    "**Grab by columns**"
   ]
  },
  {
   "cell_type": "code",
   "execution_count": null,
   "metadata": {},
   "outputs": [],
   "source": [
    "data['sepal_l']"
   ]
  },
  {
   "cell_type": "markdown",
   "metadata": {},
   "source": [
    "Note, the result doesn't look like a DataFrame! That's because one-dimensional objects in `pandas` are `Series` objects. \n",
    "\n",
    "**Run** the cell below to check out. "
   ]
  },
  {
   "cell_type": "code",
   "execution_count": null,
   "metadata": {},
   "outputs": [],
   "source": [
    "type(data['sepal_l'])"
   ]
  },
  {
   "cell_type": "markdown",
   "metadata": {},
   "source": [
    "`Series` objects are displayed as columns, with the indices shown on the left and the values shown on the right. Below the `Series` object, we see the name of the `Series` object and the `dtype` or data type of the `Series` object. The `dtype` of a `Series` object is chosen to accomodate all data within the `Series`."
   ]
  },
  {
   "cell_type": "code",
   "execution_count": null,
   "metadata": {},
   "outputs": [],
   "source": [
    "# Not recommended; problem with certain column names\n",
    "data.sepal_l"
   ]
  },
  {
   "cell_type": "code",
   "execution_count": null,
   "metadata": {},
   "outputs": [],
   "source": [
    "# Pass a list of column names\n",
    "data[['sepal_l', 'sepal_w']]"
   ]
  },
  {
   "cell_type": "markdown",
   "metadata": {},
   "source": [
    "**Grab by rows**"
   ]
  },
  {
   "cell_type": "markdown",
   "metadata": {},
   "source": [
    "On the leftmost edge of the `DataFrame`, we can see the index. Each row (instance, input) in the `DataFrame` has an index. To access a specific row based on the index, we can use `loc` or `iloc`. Label-based indexing is done with `loc`, while integer-position based indexing is done with `iloc`. For example, looking above, we can see that the first row in the `DataFrame` contains the iris type 'Iris-setosa'. Let's get the first row (index 0) using `loc`!\n",
    "\n",
    "**Run** the cell below to get the first row of the `DataFrame` using `df.loc[0]`. "
   ]
  },
  {
   "cell_type": "code",
   "execution_count": null,
   "metadata": {},
   "outputs": [],
   "source": [
    "data.loc[0]"
   ]
  },
  {
   "cell_type": "code",
   "execution_count": null,
   "metadata": {},
   "outputs": [],
   "source": [
    "type(data.loc[0])"
   ]
  },
  {
   "cell_type": "markdown",
   "metadata": {},
   "source": [
    "You will see that again, we get a `Series` object.  \n",
    "\n",
    "Sometimes, we do not want to grab the entire row. For example, if we want to get the sepal width `sepal_w` of the iris flower in the first row. \n",
    "\n",
    "**Run** the cell below to see one way to get the `sepal_w` from the first row:"
   ]
  },
  {
   "cell_type": "code",
   "execution_count": null,
   "metadata": {},
   "outputs": [],
   "source": [
    "data.loc[0, 'sepal_w']"
   ]
  },
  {
   "cell_type": "markdown",
   "metadata": {},
   "source": [
    "There are other ways to get the same thing. **Run** the cells below."
   ]
  },
  {
   "cell_type": "code",
   "execution_count": null,
   "metadata": {},
   "outputs": [],
   "source": [
    "data.iloc[0, 1]"
   ]
  },
  {
   "cell_type": "code",
   "execution_count": null,
   "metadata": {},
   "outputs": [],
   "source": [
    "data.loc[0].loc['sepal_w']"
   ]
  },
  {
   "cell_type": "code",
   "execution_count": null,
   "metadata": {},
   "outputs": [],
   "source": [
    "data.iloc[0].iloc[1]"
   ]
  },
  {
   "cell_type": "code",
   "execution_count": null,
   "metadata": {},
   "outputs": [],
   "source": [
    "data['sepal_w'][0]"
   ]
  },
  {
   "cell_type": "code",
   "execution_count": null,
   "metadata": {
    "scrolled": true
   },
   "outputs": [],
   "source": [
    "data['sepal_w'].loc[0]"
   ]
  },
  {
   "cell_type": "markdown",
   "metadata": {},
   "source": [
    "We can also get multiple rows from the `DataFrame` by doing `numpy`-like slicing: `df.iloc[lower:upper]` will take a slice of the `DataFrame` object from the lower bound `lower` up to (but not including) the upper bound `upper`. Be careful! We get different results by slicing the `DataFrame` with `loc` and with `iloc`.\n",
    "\n",
    "When slicing a `DataFrame` using `iloc` (the *integer-based* position indexing) the lower bound is included, while the upper bound is excluded.\n",
    "\n",
    "**Run** the cell below to get the first three rows of the `DataFrame` using `data.iloc[0:3]`"
   ]
  },
  {
   "cell_type": "code",
   "execution_count": null,
   "metadata": {},
   "outputs": [],
   "source": [
    "data.iloc[0:3]"
   ]
  },
  {
   "cell_type": "markdown",
   "metadata": {},
   "source": [
    "### Conditional Selection  \n",
    "\n",
    "An important feature of pandas is conditional selection using bracket notation, very similar to numpy. For example, **run** the cell below to select rows with sepal length `sepal_l` greater than 7. "
   ]
  },
  {
   "cell_type": "code",
   "execution_count": null,
   "metadata": {},
   "outputs": [],
   "source": [
    "data[data['sepal_l'] > 7]"
   ]
  },
  {
   "cell_type": "markdown",
   "metadata": {},
   "source": [
    "What if we just want to see the `type` for those rows with `sepal_l` greater than 7? **Run** the following cell: "
   ]
  },
  {
   "cell_type": "code",
   "execution_count": null,
   "metadata": {},
   "outputs": [],
   "source": [
    "data[data['sepal_l'] > 7]['type']"
   ]
  },
  {
   "cell_type": "markdown",
   "metadata": {},
   "source": [
    "We can also use multiple conditions to do selection. For two conditions you can use | and & with parenthesis. **Run** the cell below to find out flowers with `sepal_l` greater than 7 and `sepal_w` smaller than 3.  "
   ]
  },
  {
   "cell_type": "code",
   "execution_count": null,
   "metadata": {},
   "outputs": [],
   "source": [
    "data[(data['sepal_l'] > 7) & (data['sepal_w'] < 3)]"
   ]
  },
  {
   "cell_type": "markdown",
   "metadata": {},
   "source": [
    "### Others"
   ]
  },
  {
   "cell_type": "markdown",
   "metadata": {},
   "source": [
    "**Create new columns**"
   ]
  },
  {
   "cell_type": "code",
   "execution_count": null,
   "metadata": {},
   "outputs": [],
   "source": [
    "# create a new column called 'delta_sepal' which is the difference between sepal_l and sepal_w\n",
    "data['delta_sepal'] = data['sepal_l'] - data['sepal_w']\n",
    "data.head()"
   ]
  },
  {
   "cell_type": "markdown",
   "metadata": {},
   "source": [
    "**Removing columns** "
   ]
  },
  {
   "cell_type": "code",
   "execution_count": null,
   "metadata": {},
   "outputs": [],
   "source": [
    "data.drop('delta_sepal', axis=1).head()"
   ]
  },
  {
   "cell_type": "markdown",
   "metadata": {},
   "source": [
    "Note that this operation is not inplace, meaning that it only creates a view with the specified column removed. Use `inplace=True` for the change to be inplace."
   ]
  },
  {
   "cell_type": "code",
   "execution_count": null,
   "metadata": {},
   "outputs": [],
   "source": [
    "data.head() # delta_sepal should still be there"
   ]
  },
  {
   "cell_type": "code",
   "execution_count": null,
   "metadata": {
    "collapsed": true
   },
   "outputs": [],
   "source": [
    "data.drop('delta_sepal', axis=1, inplace=True)"
   ]
  },
  {
   "cell_type": "code",
   "execution_count": null,
   "metadata": {},
   "outputs": [],
   "source": [
    "data.head() # delta_sepal should be gone"
   ]
  },
  {
   "cell_type": "code",
   "execution_count": null,
   "metadata": {
    "collapsed": true
   },
   "outputs": [],
   "source": []
  }
 ],
 "metadata": {
  "anaconda-cloud": {},
  "kernelspec": {
   "display_name": "Python 2",
   "language": "python",
   "name": "python2"
  },
  "language_info": {
   "codemirror_mode": {
    "name": "ipython",
    "version": 3
   },
   "file_extension": ".py",
   "mimetype": "text/x-python",
   "name": "python",
   "nbconvert_exporter": "python",
   "pygments_lexer": "ipython3",
   "version": "3.5.2"
  }
 },
 "nbformat": 4,
 "nbformat_minor": 2
}
