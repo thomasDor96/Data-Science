{
 "cells": [
  {
   "cell_type": "markdown",
   "metadata": {},
   "source": [
    "# Connect Intensive - Machine Learning Nanodegree\n",
    "\n",
    "## Week 1. Python Crash Course  \n",
    "\n",
    "## Objectives    \n",
    "\n",
    "- Jupyter notebook \n",
    "- Basic Python programming  \n",
    "- Numpy\n",
    "- Pandas \n",
    "- Data visualization with Matplotlib and Seaborn \n",
    "\n",
    "## Prerequisites   \n",
    "\n",
    " - You should have **Python 2.7** installed (if not, please [download and install Python 2.7](https://www.python.org/downloads/))\n",
    " - You should also install (and perhaps upgrade) the following packages, if you haven't already:\n",
    "    - [numpy](http://www.numpy.org/)\n",
    "    - [pandas](http://pandas.pydata.org/)\n",
    "    - [matplotlib](http://matplotlib.org/)  \n",
    "    - [seaborn](http://seaborn.pydata.org)  "
   ]
  },
  {
   "cell_type": "markdown",
   "metadata": {},
   "source": [
    "---"
   ]
  },
  {
   "cell_type": "markdown",
   "metadata": {},
   "source": [
    "## 4 | Data Visualization\n",
    "\n",
    "In this notebook, we will do some visualization on the Iris dataset. We will learn about **pandas built-in plotting** capabilities for data visualization, which is a built-off of matplotlib, and it is built into the `.plot` method for pandas `DataFrame` and `Series`. It is used for easily create decent looking plots. We will also create some visualization with **seaborn**. Seaborn is also based on matplotlib but with much more visually appealing default aesthetics. It is also easy to use and supports a variety of plot types. \n",
    "\n",
    "We are going to cover some common plot types with pandas built-in plotting and seaborn, including:\n",
    "- Histogram\n",
    "- Scatter plot\n",
    "- Bar plot   \n",
    "\n",
    "We will also mention briefly about how to style your plots. \n",
    "\n",
    "*Note*: This notebook is not intended to serve as a comprehensive overview of data visualization with Python. There are a lot more topics not covered in this notebook. You are encouraged to explore them on your own. Luckily, there are many resources available.  \n",
    "\n",
    "> **Adtional reference:**   \n",
    "> - Check out a Matplotlib cheat sheet [here](http://www.datasciencecentral.com/profiles/blogs/matplotlib-cheat-sheet)  \n",
    "> - Check out a Pandas built-in visualization tutorial [here](https://pandas.pydata.org/pandas-docs/stable/visualization.html).  \n",
    "> - Check out a Seaborn tutorial [here](https://seaborn.pydata.org/tutorial.html) \n",
    "> - Check out a Seaborn cheatsheet [here](https://www.datacamp.com/community/blog/seaborn-cheat-sheet-python#gs.hd6oyO8).  "
   ]
  },
  {
   "cell_type": "code",
   "execution_count": null,
   "metadata": {
    "collapsed": true
   },
   "outputs": [],
   "source": [
    "# import the libraries \n",
    "import numpy as np\n",
    "import pandas as pd\n",
    "import matplotlib.pyplot as plt\n",
    "import seaborn as sns\n",
    "%matplotlib inline"
   ]
  },
  {
   "cell_type": "code",
   "execution_count": null,
   "metadata": {},
   "outputs": [],
   "source": [
    "# read the iris data\n",
    "data = pd.read_table('./data/iris.txt', delimiter=',')\n",
    "data.head()"
   ]
  },
  {
   "cell_type": "markdown",
   "metadata": {},
   "source": [
    "### Pandas Built-in Plot"
   ]
  },
  {
   "cell_type": "markdown",
   "metadata": {},
   "source": [
    "There are many available plot types in pandas visualization, as listed below: \n",
    "* data.plot.area     \n",
    "* data.plot.barh     \n",
    "* data.plot.density  \n",
    "* data.plot.hist     \n",
    "* data.plot.line     \n",
    "* data.plot.scatter\n",
    "* data.plot.bar      \n",
    "* data.plot.box      \n",
    "* data.plot.hexbin   \n",
    "* data.plot.kde      \n",
    "* data.plot.pie\n",
    "\n",
    "You can also just call data.plot(kind='hist') ('hist' can be replaced with other terms, e.g., 'box','barh', etc..)"
   ]
  },
  {
   "cell_type": "markdown",
   "metadata": {},
   "source": [
    "**hist()**"
   ]
  },
  {
   "cell_type": "code",
   "execution_count": null,
   "metadata": {},
   "outputs": [],
   "source": [
    "data['sepal_w'].plot.hist()"
   ]
  },
  {
   "cell_type": "code",
   "execution_count": null,
   "metadata": {},
   "outputs": [],
   "source": [
    "# add axis label, title\n",
    "data['sepal_w'].plot.hist() # can specify number of bins\n",
    "plt.xlabel('Sepal Width (cm)')\n",
    "plt.ylabel('Frequency')\n",
    "plt.title('Histogram of Sepal Width')"
   ]
  },
  {
   "cell_type": "markdown",
   "metadata": {},
   "source": [
    "**scatter()**"
   ]
  },
  {
   "cell_type": "code",
   "execution_count": null,
   "metadata": {},
   "outputs": [],
   "source": [
    "data.plot.scatter(x='sepal_l', y='sepal_w')"
   ]
  },
  {
   "cell_type": "markdown",
   "metadata": {},
   "source": [
    "You can use `c` to color based on another column value. Use `cmap` to indicate colormap. The available colormaps can be find [here](http://matplotlib.org/users/colormaps.html). **Run** the cell below to plot a scatter plot using `x = sepal_l`,  `y = sepal_w`, and `c = petal_w`. "
   ]
  },
  {
   "cell_type": "code",
   "execution_count": null,
   "metadata": {},
   "outputs": [],
   "source": [
    "data.plot.scatter(x='sepal_l', y='sepal_w', c='petal_w', cmap='coolwarm')"
   ]
  },
  {
   "cell_type": "markdown",
   "metadata": {},
   "source": [
    "Clearly, you've encoded more information to this plot than the simple scatter plot above. "
   ]
  },
  {
   "cell_type": "markdown",
   "metadata": {},
   "source": [
    "**Style Sheets**\n",
    "\n",
    "Matplotlib has [style sheets](http://matplotlib.org/gallery.html#style_sheets) you can use to make your plots look a little nicer. These style sheets include '`bmh`', '`fivethirtyeight`', '`ggplot`' and more. They basically create a set of style rules that your plots follow. "
   ]
  },
  {
   "cell_type": "code",
   "execution_count": null,
   "metadata": {},
   "outputs": [],
   "source": [
    "# Before setting style\n",
    "data['sepal_l'].plot.hist()"
   ]
  },
  {
   "cell_type": "code",
   "execution_count": null,
   "metadata": {},
   "outputs": [],
   "source": [
    "# setting the style as fivethirtyeight\n",
    "plt.style.use('fivethirtyeight')\n",
    "data['sepal_l'].plot.hist()"
   ]
  },
  {
   "cell_type": "code",
   "execution_count": null,
   "metadata": {},
   "outputs": [],
   "source": [
    "# setting the style as ggplot\n",
    "plt.style.use('ggplot')\n",
    "data['sepal_l'].plot.hist()"
   ]
  },
  {
   "cell_type": "markdown",
   "metadata": {
    "collapsed": true
   },
   "source": [
    "### Seaborn  \n",
    "\n",
    "Seaborn is a Python visualization library based on matplotlib. It provides a high-level interface for drawing attractive statistical graphics.\n",
    "\n",
    "Seaborn aims to make visualization a central part of exploring and understanding data. The plotting functions operate on dataframes and arrays containing a whole dataset and internally perform the necessary aggregation and statistical model-fitting to produce informative plots. \n",
    "\n",
    "> If matplotlib **“tries to make easy things easy and hard things possible”**, seaborn tries to **make a well-defined set of hard things easy** too."
   ]
  },
  {
   "cell_type": "markdown",
   "metadata": {},
   "source": [
    "**distplot()**  \n",
    "distplot() provides the most convenient way to take a quick look at a univariate distribution."
   ]
  },
  {
   "cell_type": "code",
   "execution_count": null,
   "metadata": {},
   "outputs": [],
   "source": [
    "sns.distplot(data['sepal_l'])"
   ]
  },
  {
   "cell_type": "markdown",
   "metadata": {},
   "source": [
    "Note that the matplot style set above also affects the seaborn style."
   ]
  },
  {
   "cell_type": "code",
   "execution_count": null,
   "metadata": {
    "scrolled": true
   },
   "outputs": [],
   "source": [
    "# try a different style\n",
    "plt.style.use('bmh')\n",
    "sns.distplot(data['sepal_l'])"
   ]
  },
  {
   "cell_type": "code",
   "execution_count": null,
   "metadata": {},
   "outputs": [],
   "source": [
    "# we can remove the kde layer and just have the histogram \n",
    "sns.distplot(data['sepal_l'], kde=False)"
   ]
  },
  {
   "cell_type": "markdown",
   "metadata": {},
   "source": [
    "**joinplot()**\n",
    "\n",
    "jointplot() allows you to match up two distplots for bivariate data. With your choice of what **kind** parameter to compare with: \n",
    "* “scatter” \n",
    "* “reg” \n",
    "* “resid” \n",
    "* “kde” \n",
    "* “hex”"
   ]
  },
  {
   "cell_type": "code",
   "execution_count": null,
   "metadata": {},
   "outputs": [],
   "source": [
    "sns.jointplot(x='sepal_l', y='sepal_w', data=data, kind='scatter')"
   ]
  },
  {
   "cell_type": "markdown",
   "metadata": {},
   "source": [
    "**barplot & countplot**"
   ]
  },
  {
   "cell_type": "markdown",
   "metadata": {},
   "source": [
    "Seaborn has the capability to plot categorical data with different plot types, and some main plot types include: \n",
    "\n",
    "* factorplot\n",
    "* boxplot\n",
    "* violinplot\n",
    "* stripplot\n",
    "* swarmplot\n",
    "* barplot\n",
    "* countplot \n",
    "\n",
    "**barplot()** and **countplot()** are two simple kinds of plots. You are encouraged to explore other plots by yourself, especially boxplot and violinplot. "
   ]
  },
  {
   "cell_type": "code",
   "execution_count": null,
   "metadata": {},
   "outputs": [],
   "source": [
    "# barplot allows you to aggregate the categorical data based on some function, default is mean\n",
    "sns.barplot(x='type', y='sepal_l', data=data)"
   ]
  },
  {
   "cell_type": "code",
   "execution_count": null,
   "metadata": {},
   "outputs": [],
   "source": [
    "# countplot to count the number of occurrences of categorical data\n",
    "sns.countplot(x='type', data=data)"
   ]
  },
  {
   "cell_type": "markdown",
   "metadata": {},
   "source": [
    "**Styles**  \n",
    "\n",
    "You can set the styles for seaborn plot using `sns.set_style()`. The available options are '`white`', '`whitegrid`', '`dark`', '`darkgrid`', and '`tick`'."
   ]
  },
  {
   "cell_type": "code",
   "execution_count": null,
   "metadata": {},
   "outputs": [],
   "source": [
    "sns.set_style('whitegrid')\n",
    "sns.distplot(data['sepal_l'])"
   ]
  },
  {
   "cell_type": "code",
   "execution_count": null,
   "metadata": {
    "collapsed": true
   },
   "outputs": [],
   "source": []
  }
 ],
 "metadata": {
  "anaconda-cloud": {},
  "kernelspec": {
   "display_name": "Python 2",
   "language": "python",
   "name": "python2"
  },
  "language_info": {
   "codemirror_mode": {
    "name": "ipython",
    "version": 3
   },
   "file_extension": ".py",
   "mimetype": "text/x-python",
   "name": "python",
   "nbconvert_exporter": "python",
   "pygments_lexer": "ipython3",
   "version": "3.5.2"
  }
 },
 "nbformat": 4,
 "nbformat_minor": 2
}
